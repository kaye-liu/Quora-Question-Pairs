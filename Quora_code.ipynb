{
 "cells": [
  {
   "cell_type": "markdown",
   "metadata": {},
   "source": [
    "# 句子相似度匹配"
   ]
  },
  {
   "cell_type": "markdown",
   "metadata": {},
   "source": [
    "## 1.问题理解（问题定义）"
   ]
  },
  {
   "cell_type": "markdown",
   "metadata": {},
   "source": [
    "Quora Querstion Pairs数据集是Quora于2017年公开的句子匹配数据集，其通过给定两个句子的一致性标签标注，从而来判断句子是否一致。"
   ]
  },
  {
   "cell_type": "markdown",
   "metadata": {},
   "source": [
    "- 数据集下载地址：https://www.kaggle.com/c/quora-question-pairs/data。\n",
    "- GoogleNews-vectors-negative300.bin下载地址：https://s3.amazonaws.com/dl4j-distribution/GoogleNews-vectors-negative300.bin.gz。\n"
   ]
  },
  {
   "cell_type": "markdown",
   "metadata": {},
   "source": [
    "**变量命名：**\n",
    "\n",
    "- 训练数据：kaggle提供train.csv数据集，在notebook中加载，并命名为data。\n",
    "- 测试数据：kaggle提供的test.csv数据集\n",
    "- 训 练 集：完成特征工程的数据集的80%，用于训练模型。（x_train, y_train）\n",
    "- 验 证 集：完成特征工程的数据集的20%，用于验证模型。（x_val, y_val）\n"
   ]
  },
  {
   "cell_type": "markdown",
   "metadata": {},
   "source": [
    "## 2.数据准备"
   ]
  },
  {
   "cell_type": "code",
   "execution_count": 1,
   "metadata": {},
   "outputs": [],
   "source": [
    "import warnings\n",
    "warnings.filterwarnings(\"ignore\")"
   ]
  },
  {
   "cell_type": "code",
   "execution_count": 139,
   "metadata": {},
   "outputs": [],
   "source": [
    "import os\n",
    "import gc\n",
    "import matplotlib.pyplot as plt\n",
    "import seaborn as sns\n",
    "%matplotlib inline"
   ]
  },
  {
   "cell_type": "code",
   "execution_count": 2,
   "metadata": {},
   "outputs": [],
   "source": [
    "# 导入所需包\n",
    "import numpy as np\n",
    "import time\n",
    "import pandas as pd\n",
    "import sklearn"
   ]
  },
  {
   "cell_type": "code",
   "execution_count": 3,
   "metadata": {},
   "outputs": [],
   "source": [
    "# 解决matplotlib显示中文问题\n",
    "# 仅适用于Windows\n",
    "plt.rcParams['font.sans-serif'] = ['SimHei']  # 指定默认字体\n",
    "plt.rcParams['axes.unicode_minus'] = False  # 解决保存图像是负号'-'显示为方块的问题"
   ]
  },
  {
   "cell_type": "code",
   "execution_count": 4,
   "metadata": {},
   "outputs": [],
   "source": [
    "# 读取数据\n",
    "# data = pd.read_table('./quora-dataset/quora_duplicate_questions.tsv')\n",
    "sample_submission_data = pd.read_csv('./quora-dataset/sample_submission.csv')\n",
    "train_data = pd.read_csv('./quora-dataset/train.csv')\n",
    "test_data = pd.read_csv('./quora-dataset/test.csv')"
   ]
  },
  {
   "cell_type": "code",
   "execution_count": 5,
   "metadata": {},
   "outputs": [
    {
     "data": {
      "text/plain": [
       "(404290, 6)"
      ]
     },
     "execution_count": 5,
     "metadata": {},
     "output_type": "execute_result"
    }
   ],
   "source": [
    "train_data.shape"
   ]
  },
  {
   "cell_type": "markdown",
   "metadata": {},
   "source": [
    "## 3.EDA"
   ]
  },
  {
   "cell_type": "markdown",
   "metadata": {},
   "source": [
    "### 3.1 数据集描述"
   ]
  },
  {
   "cell_type": "markdown",
   "metadata": {},
   "source": [
    "#### 3.1.1 sample_submission数据集"
   ]
  },
  {
   "cell_type": "code",
   "execution_count": 127,
   "metadata": {},
   "outputs": [
    {
     "data": {
      "text/plain": [
       "(2345796, 2)"
      ]
     },
     "execution_count": 127,
     "metadata": {},
     "output_type": "execute_result"
    }
   ],
   "source": [
    "sample_submission_data.shape"
   ]
  },
  {
   "cell_type": "code",
   "execution_count": 128,
   "metadata": {},
   "outputs": [
    {
     "name": "stdout",
     "output_type": "stream",
     "text": [
      "<class 'pandas.core.frame.DataFrame'>\n",
      "RangeIndex: 2345796 entries, 0 to 2345795\n",
      "Data columns (total 2 columns):\n",
      "test_id         int64\n",
      "is_duplicate    int64\n",
      "dtypes: int64(2)\n",
      "memory usage: 35.8 MB\n"
     ]
    }
   ],
   "source": [
    "sample_submission_data.info()"
   ]
  },
  {
   "cell_type": "code",
   "execution_count": 129,
   "metadata": {},
   "outputs": [
    {
     "data": {
      "text/html": [
       "<div>\n",
       "<style scoped>\n",
       "    .dataframe tbody tr th:only-of-type {\n",
       "        vertical-align: middle;\n",
       "    }\n",
       "\n",
       "    .dataframe tbody tr th {\n",
       "        vertical-align: top;\n",
       "    }\n",
       "\n",
       "    .dataframe thead th {\n",
       "        text-align: right;\n",
       "    }\n",
       "</style>\n",
       "<table border=\"1\" class=\"dataframe\">\n",
       "  <thead>\n",
       "    <tr style=\"text-align: right;\">\n",
       "      <th></th>\n",
       "      <th>test_id</th>\n",
       "      <th>is_duplicate</th>\n",
       "    </tr>\n",
       "  </thead>\n",
       "  <tbody>\n",
       "    <tr>\n",
       "      <th>0</th>\n",
       "      <td>0</td>\n",
       "      <td>1</td>\n",
       "    </tr>\n",
       "    <tr>\n",
       "      <th>1</th>\n",
       "      <td>1</td>\n",
       "      <td>1</td>\n",
       "    </tr>\n",
       "  </tbody>\n",
       "</table>\n",
       "</div>"
      ],
      "text/plain": [
       "   test_id  is_duplicate\n",
       "0        0             1\n",
       "1        1             1"
      ]
     },
     "execution_count": 129,
     "metadata": {},
     "output_type": "execute_result"
    }
   ],
   "source": [
    "sample_submission_data.head(2)"
   ]
  },
  {
   "cell_type": "markdown",
   "metadata": {},
   "source": [
    "#### 3.1.2 train数据集"
   ]
  },
  {
   "cell_type": "code",
   "execution_count": 130,
   "metadata": {},
   "outputs": [
    {
     "data": {
      "text/plain": [
       "(404287, 6)"
      ]
     },
     "execution_count": 130,
     "metadata": {},
     "output_type": "execute_result"
    }
   ],
   "source": [
    "train_data.shape"
   ]
  },
  {
   "cell_type": "code",
   "execution_count": 131,
   "metadata": {},
   "outputs": [
    {
     "name": "stdout",
     "output_type": "stream",
     "text": [
      "<class 'pandas.core.frame.DataFrame'>\n",
      "Int64Index: 404287 entries, 0 to 404289\n",
      "Data columns (total 6 columns):\n",
      "id              404287 non-null int64\n",
      "qid1            404287 non-null int64\n",
      "qid2            404287 non-null int64\n",
      "question1       404287 non-null object\n",
      "question2       404287 non-null object\n",
      "is_duplicate    404287 non-null int64\n",
      "dtypes: int64(4), object(2)\n",
      "memory usage: 21.6+ MB\n"
     ]
    }
   ],
   "source": [
    "train_data.info()"
   ]
  },
  {
   "cell_type": "code",
   "execution_count": 132,
   "metadata": {},
   "outputs": [
    {
     "data": {
      "text/html": [
       "<div>\n",
       "<style scoped>\n",
       "    .dataframe tbody tr th:only-of-type {\n",
       "        vertical-align: middle;\n",
       "    }\n",
       "\n",
       "    .dataframe tbody tr th {\n",
       "        vertical-align: top;\n",
       "    }\n",
       "\n",
       "    .dataframe thead th {\n",
       "        text-align: right;\n",
       "    }\n",
       "</style>\n",
       "<table border=\"1\" class=\"dataframe\">\n",
       "  <thead>\n",
       "    <tr style=\"text-align: right;\">\n",
       "      <th></th>\n",
       "      <th>id</th>\n",
       "      <th>qid1</th>\n",
       "      <th>qid2</th>\n",
       "      <th>question1</th>\n",
       "      <th>question2</th>\n",
       "      <th>is_duplicate</th>\n",
       "    </tr>\n",
       "  </thead>\n",
       "  <tbody>\n",
       "    <tr>\n",
       "      <th>0</th>\n",
       "      <td>0</td>\n",
       "      <td>1</td>\n",
       "      <td>2</td>\n",
       "      <td>What is the step by step guide to invest in sh...</td>\n",
       "      <td>What is the step by step guide to invest in sh...</td>\n",
       "      <td>0</td>\n",
       "    </tr>\n",
       "    <tr>\n",
       "      <th>1</th>\n",
       "      <td>1</td>\n",
       "      <td>3</td>\n",
       "      <td>4</td>\n",
       "      <td>What is the story of Kohinoor (Koh-i-Noor) Dia...</td>\n",
       "      <td>What would happen if the Indian government sto...</td>\n",
       "      <td>0</td>\n",
       "    </tr>\n",
       "  </tbody>\n",
       "</table>\n",
       "</div>"
      ],
      "text/plain": [
       "   id  qid1  qid2                                          question1  \\\n",
       "0   0     1     2  What is the step by step guide to invest in sh...   \n",
       "1   1     3     4  What is the story of Kohinoor (Koh-i-Noor) Dia...   \n",
       "\n",
       "                                           question2  is_duplicate  \n",
       "0  What is the step by step guide to invest in sh...             0  \n",
       "1  What would happen if the Indian government sto...             0  "
      ]
     },
     "execution_count": 132,
     "metadata": {},
     "output_type": "execute_result"
    }
   ],
   "source": [
    "train_data.head(2)"
   ]
  },
  {
   "cell_type": "code",
   "execution_count": 133,
   "metadata": {},
   "outputs": [
    {
     "name": "stdout",
     "output_type": "stream",
     "text": [
      "训练集中，question1和question2含义不同（不重复）的观测数量:255024\n",
      "训练集中，question1和question2含义相同（重复）的观测数量:149263\n"
     ]
    }
   ],
   "source": [
    "# 训练集中，question1和question2含义不同的观测数量\n",
    "number_is_duplicate_negative = train_data.loc[train_data['is_duplicate'] == 0].shape[0]\n",
    "print(\"训练集中，question1和question2含义不同（不重复）的观测数量:{}\" .format(number_is_duplicate_negative))\n",
    "print(\"训练集中，question1和question2含义相同（重复）的观测数量:{}\" .format(train_data.shape[0]-number_is_duplicate_negative))"
   ]
  },
  {
   "cell_type": "markdown",
   "metadata": {},
   "source": [
    "#### 3.1.3 test数据集"
   ]
  },
  {
   "cell_type": "code",
   "execution_count": 134,
   "metadata": {},
   "outputs": [
    {
     "data": {
      "text/plain": [
       "(3563475, 3)"
      ]
     },
     "execution_count": 134,
     "metadata": {},
     "output_type": "execute_result"
    }
   ],
   "source": [
    "test_data.shape"
   ]
  },
  {
   "cell_type": "code",
   "execution_count": 135,
   "metadata": {},
   "outputs": [
    {
     "name": "stdout",
     "output_type": "stream",
     "text": [
      "<class 'pandas.core.frame.DataFrame'>\n",
      "RangeIndex: 3563475 entries, 0 to 3563474\n",
      "Data columns (total 3 columns):\n",
      "test_id      object\n",
      "question1    object\n",
      "question2    object\n",
      "dtypes: object(3)\n",
      "memory usage: 81.6+ MB\n"
     ]
    }
   ],
   "source": [
    "test_data.info()"
   ]
  },
  {
   "cell_type": "code",
   "execution_count": 137,
   "metadata": {},
   "outputs": [
    {
     "data": {
      "text/html": [
       "<div>\n",
       "<style scoped>\n",
       "    .dataframe tbody tr th:only-of-type {\n",
       "        vertical-align: middle;\n",
       "    }\n",
       "\n",
       "    .dataframe tbody tr th {\n",
       "        vertical-align: top;\n",
       "    }\n",
       "\n",
       "    .dataframe thead th {\n",
       "        text-align: right;\n",
       "    }\n",
       "</style>\n",
       "<table border=\"1\" class=\"dataframe\">\n",
       "  <thead>\n",
       "    <tr style=\"text-align: right;\">\n",
       "      <th></th>\n",
       "      <th>test_id</th>\n",
       "      <th>question1</th>\n",
       "      <th>question2</th>\n",
       "    </tr>\n",
       "  </thead>\n",
       "  <tbody>\n",
       "    <tr>\n",
       "      <th>0</th>\n",
       "      <td>0</td>\n",
       "      <td>How does the Surface Pro himself 4 compare wit...</td>\n",
       "      <td>Why did Microsoft choose core m3 and not core ...</td>\n",
       "    </tr>\n",
       "    <tr>\n",
       "      <th>1</th>\n",
       "      <td>1</td>\n",
       "      <td>Should I have a hair transplant at age 24? How...</td>\n",
       "      <td>How much cost does hair transplant require?</td>\n",
       "    </tr>\n",
       "  </tbody>\n",
       "</table>\n",
       "</div>"
      ],
      "text/plain": [
       "  test_id                                          question1  \\\n",
       "0       0  How does the Surface Pro himself 4 compare wit...   \n",
       "1       1  Should I have a hair transplant at age 24? How...   \n",
       "\n",
       "                                           question2  \n",
       "0  Why did Microsoft choose core m3 and not core ...  \n",
       "1        How much cost does hair transplant require?  "
      ]
     },
     "execution_count": 137,
     "metadata": {},
     "output_type": "execute_result"
    }
   ],
   "source": [
    "test_data.head(2)"
   ]
  },
  {
   "cell_type": "markdown",
   "metadata": {},
   "source": [
    "#### 3.1.4 train和test数据集size区别"
   ]
  },
  {
   "cell_type": "code",
   "execution_count": 141,
   "metadata": {},
   "outputs": [
    {
     "name": "stdout",
     "output_type": "stream",
     "text": [
      "test.csv                      477.59MB\n",
      "train.csv                     63.4MB\n",
      "quora_duplicate_questions.tsv 58.18MB\n",
      "sample_submission.csv         22.35MB\n"
     ]
    }
   ],
   "source": [
    "pal = sns.color_palette()\n",
    "for f in os.listdir('./quora-dataset'):\n",
    "    if 'zip' not in f:\n",
    "        print(f.ljust(30) + str(round(os.path.getsize('./quora-dataset/' + f) / 1000000, 2)) + 'MB')"
   ]
  },
  {
   "cell_type": "markdown",
   "metadata": {},
   "source": [
    "### 3.2 数据集可视化"
   ]
  },
  {
   "cell_type": "code",
   "execution_count": 144,
   "metadata": {},
   "outputs": [],
   "source": [
    "plt.rcParams['font.sans-serif']=['SimHei']\n",
    "plt.rcParams['axes.unicode_minus']=False\n",
    "plt.rc('font',family='Microsoft YaHei') # 解决中文乱码或者不显示的问题"
   ]
  },
  {
   "cell_type": "markdown",
   "metadata": {},
   "source": [
    "#### 3.2.1 train数据集问题对重复与不重复分布"
   ]
  },
  {
   "cell_type": "code",
   "execution_count": 142,
   "metadata": {},
   "outputs": [
    {
     "data": {
      "text/plain": [
       "<matplotlib.axes._subplots.AxesSubplot at 0xa6aabb0f0>"
      ]
     },
     "execution_count": 142,
     "metadata": {},
     "output_type": "execute_result"
    },
    {
     "name": "stderr",
     "output_type": "stream",
     "text": [
      "/Users/liukaiyue/anaconda3/lib/python3.6/site-packages/matplotlib/font_manager.py:1328: UserWarning: findfont: Font family ['sans-serif'] not found. Falling back to DejaVu Sans\n",
      "  (prop.get_family(), self.defaultFamily[fontext]))\n",
      "/Users/liukaiyue/anaconda3/lib/python3.6/site-packages/matplotlib/font_manager.py:1328: UserWarning: findfont: Font family ['sans-serif'] not found. Falling back to DejaVu Sans\n",
      "  (prop.get_family(), self.defaultFamily[fontext]))\n",
      "/Users/liukaiyue/anaconda3/lib/python3.6/site-packages/matplotlib/font_manager.py:1328: UserWarning: findfont: Font family ['sans-serif'] not found. Falling back to DejaVu Sans\n",
      "  (prop.get_family(), self.defaultFamily[fontext]))\n",
      "/Users/liukaiyue/anaconda3/lib/python3.6/site-packages/matplotlib/font_manager.py:1328: UserWarning: findfont: Font family ['sans-serif'] not found. Falling back to DejaVu Sans\n",
      "  (prop.get_family(), self.defaultFamily[fontext]))\n",
      "/Users/liukaiyue/anaconda3/lib/python3.6/site-packages/matplotlib/font_manager.py:1328: UserWarning: findfont: Font family ['sans-serif'] not found. Falling back to DejaVu Sans\n",
      "  (prop.get_family(), self.defaultFamily[fontext]))\n",
      "/Users/liukaiyue/anaconda3/lib/python3.6/site-packages/matplotlib/font_manager.py:1328: UserWarning: findfont: Font family ['sans-serif'] not found. Falling back to DejaVu Sans\n",
      "  (prop.get_family(), self.defaultFamily[fontext]))\n",
      "/Users/liukaiyue/anaconda3/lib/python3.6/site-packages/matplotlib/font_manager.py:1328: UserWarning: findfont: Font family ['sans-serif'] not found. Falling back to DejaVu Sans\n",
      "  (prop.get_family(), self.defaultFamily[fontext]))\n",
      "/Users/liukaiyue/anaconda3/lib/python3.6/site-packages/matplotlib/font_manager.py:1328: UserWarning: findfont: Font family ['sans-serif'] not found. Falling back to DejaVu Sans\n",
      "  (prop.get_family(), self.defaultFamily[fontext]))\n",
      "/Users/liukaiyue/anaconda3/lib/python3.6/site-packages/matplotlib/font_manager.py:1328: UserWarning: findfont: Font family ['sans-serif'] not found. Falling back to DejaVu Sans\n",
      "  (prop.get_family(), self.defaultFamily[fontext]))\n",
      "/Users/liukaiyue/anaconda3/lib/python3.6/site-packages/matplotlib/font_manager.py:1328: UserWarning: findfont: Font family ['sans-serif'] not found. Falling back to DejaVu Sans\n",
      "  (prop.get_family(), self.defaultFamily[fontext]))\n",
      "/Users/liukaiyue/anaconda3/lib/python3.6/site-packages/matplotlib/font_manager.py:1328: UserWarning: findfont: Font family ['sans-serif'] not found. Falling back to DejaVu Sans\n",
      "  (prop.get_family(), self.defaultFamily[fontext]))\n",
      "/Users/liukaiyue/anaconda3/lib/python3.6/site-packages/matplotlib/font_manager.py:1328: UserWarning: findfont: Font family ['sans-serif'] not found. Falling back to DejaVu Sans\n",
      "  (prop.get_family(), self.defaultFamily[fontext]))\n",
      "/Users/liukaiyue/anaconda3/lib/python3.6/site-packages/matplotlib/font_manager.py:1328: UserWarning: findfont: Font family ['sans-serif'] not found. Falling back to DejaVu Sans\n",
      "  (prop.get_family(), self.defaultFamily[fontext]))\n",
      "/Users/liukaiyue/anaconda3/lib/python3.6/site-packages/matplotlib/font_manager.py:1328: UserWarning: findfont: Font family ['sans-serif'] not found. Falling back to DejaVu Sans\n",
      "  (prop.get_family(), self.defaultFamily[fontext]))\n",
      "/Users/liukaiyue/anaconda3/lib/python3.6/site-packages/matplotlib/font_manager.py:1328: UserWarning: findfont: Font family ['sans-serif'] not found. Falling back to DejaVu Sans\n",
      "  (prop.get_family(), self.defaultFamily[fontext]))\n",
      "/Users/liukaiyue/anaconda3/lib/python3.6/site-packages/matplotlib/font_manager.py:1328: UserWarning: findfont: Font family ['sans-serif'] not found. Falling back to DejaVu Sans\n",
      "  (prop.get_family(), self.defaultFamily[fontext]))\n",
      "/Users/liukaiyue/anaconda3/lib/python3.6/site-packages/matplotlib/font_manager.py:1328: UserWarning: findfont: Font family ['sans-serif'] not found. Falling back to DejaVu Sans\n",
      "  (prop.get_family(), self.defaultFamily[fontext]))\n",
      "/Users/liukaiyue/anaconda3/lib/python3.6/site-packages/matplotlib/font_manager.py:1328: UserWarning: findfont: Font family ['sans-serif'] not found. Falling back to DejaVu Sans\n",
      "  (prop.get_family(), self.defaultFamily[fontext]))\n",
      "/Users/liukaiyue/anaconda3/lib/python3.6/site-packages/matplotlib/font_manager.py:1328: UserWarning: findfont: Font family ['sans-serif'] not found. Falling back to DejaVu Sans\n",
      "  (prop.get_family(), self.defaultFamily[fontext]))\n",
      "/Users/liukaiyue/anaconda3/lib/python3.6/site-packages/matplotlib/font_manager.py:1328: UserWarning: findfont: Font family ['sans-serif'] not found. Falling back to DejaVu Sans\n",
      "  (prop.get_family(), self.defaultFamily[fontext]))\n",
      "/Users/liukaiyue/anaconda3/lib/python3.6/site-packages/matplotlib/font_manager.py:1328: UserWarning: findfont: Font family ['sans-serif'] not found. Falling back to DejaVu Sans\n",
      "  (prop.get_family(), self.defaultFamily[fontext]))\n",
      "/Users/liukaiyue/anaconda3/lib/python3.6/site-packages/matplotlib/font_manager.py:1328: UserWarning: findfont: Font family ['sans-serif'] not found. Falling back to DejaVu Sans\n",
      "  (prop.get_family(), self.defaultFamily[fontext]))\n",
      "/Users/liukaiyue/anaconda3/lib/python3.6/site-packages/matplotlib/font_manager.py:1328: UserWarning: findfont: Font family ['sans-serif'] not found. Falling back to DejaVu Sans\n",
      "  (prop.get_family(), self.defaultFamily[fontext]))\n",
      "/Users/liukaiyue/anaconda3/lib/python3.6/site-packages/matplotlib/font_manager.py:1328: UserWarning: findfont: Font family ['sans-serif'] not found. Falling back to DejaVu Sans\n",
      "  (prop.get_family(), self.defaultFamily[fontext]))\n",
      "/Users/liukaiyue/anaconda3/lib/python3.6/site-packages/matplotlib/font_manager.py:1328: UserWarning: findfont: Font family ['sans-serif'] not found. Falling back to DejaVu Sans\n",
      "  (prop.get_family(), self.defaultFamily[fontext]))\n",
      "/Users/liukaiyue/anaconda3/lib/python3.6/site-packages/matplotlib/font_manager.py:1328: UserWarning: findfont: Font family ['sans-serif'] not found. Falling back to DejaVu Sans\n",
      "  (prop.get_family(), self.defaultFamily[fontext]))\n",
      "/Users/liukaiyue/anaconda3/lib/python3.6/site-packages/matplotlib/font_manager.py:1328: UserWarning: findfont: Font family ['sans-serif'] not found. Falling back to DejaVu Sans\n",
      "  (prop.get_family(), self.defaultFamily[fontext]))\n",
      "/Users/liukaiyue/anaconda3/lib/python3.6/site-packages/matplotlib/font_manager.py:1328: UserWarning: findfont: Font family ['sans-serif'] not found. Falling back to DejaVu Sans\n",
      "  (prop.get_family(), self.defaultFamily[fontext]))\n",
      "/Users/liukaiyue/anaconda3/lib/python3.6/site-packages/matplotlib/font_manager.py:1328: UserWarning: findfont: Font family ['sans-serif'] not found. Falling back to DejaVu Sans\n",
      "  (prop.get_family(), self.defaultFamily[fontext]))\n",
      "/Users/liukaiyue/anaconda3/lib/python3.6/site-packages/matplotlib/font_manager.py:1328: UserWarning: findfont: Font family ['sans-serif'] not found. Falling back to DejaVu Sans\n",
      "  (prop.get_family(), self.defaultFamily[fontext]))\n",
      "/Users/liukaiyue/anaconda3/lib/python3.6/site-packages/matplotlib/font_manager.py:1328: UserWarning: findfont: Font family ['sans-serif'] not found. Falling back to DejaVu Sans\n",
      "  (prop.get_family(), self.defaultFamily[fontext]))\n",
      "/Users/liukaiyue/anaconda3/lib/python3.6/site-packages/matplotlib/font_manager.py:1328: UserWarning: findfont: Font family ['sans-serif'] not found. Falling back to DejaVu Sans\n",
      "  (prop.get_family(), self.defaultFamily[fontext]))\n",
      "/Users/liukaiyue/anaconda3/lib/python3.6/site-packages/matplotlib/font_manager.py:1328: UserWarning: findfont: Font family ['sans-serif'] not found. Falling back to DejaVu Sans\n",
      "  (prop.get_family(), self.defaultFamily[fontext]))\n",
      "/Users/liukaiyue/anaconda3/lib/python3.6/site-packages/matplotlib/font_manager.py:1328: UserWarning: findfont: Font family ['sans-serif'] not found. Falling back to DejaVu Sans\n",
      "  (prop.get_family(), self.defaultFamily[fontext]))\n",
      "/Users/liukaiyue/anaconda3/lib/python3.6/site-packages/matplotlib/font_manager.py:1328: UserWarning: findfont: Font family ['sans-serif'] not found. Falling back to DejaVu Sans\n",
      "  (prop.get_family(), self.defaultFamily[fontext]))\n",
      "/Users/liukaiyue/anaconda3/lib/python3.6/site-packages/matplotlib/font_manager.py:1328: UserWarning: findfont: Font family ['sans-serif'] not found. Falling back to DejaVu Sans\n",
      "  (prop.get_family(), self.defaultFamily[fontext]))\n",
      "/Users/liukaiyue/anaconda3/lib/python3.6/site-packages/matplotlib/font_manager.py:1328: UserWarning: findfont: Font family ['sans-serif'] not found. Falling back to DejaVu Sans\n",
      "  (prop.get_family(), self.defaultFamily[fontext]))\n",
      "/Users/liukaiyue/anaconda3/lib/python3.6/site-packages/matplotlib/font_manager.py:1328: UserWarning: findfont: Font family ['sans-serif'] not found. Falling back to DejaVu Sans\n",
      "  (prop.get_family(), self.defaultFamily[fontext]))\n",
      "/Users/liukaiyue/anaconda3/lib/python3.6/site-packages/matplotlib/font_manager.py:1328: UserWarning: findfont: Font family ['sans-serif'] not found. Falling back to DejaVu Sans\n",
      "  (prop.get_family(), self.defaultFamily[fontext]))\n",
      "/Users/liukaiyue/anaconda3/lib/python3.6/site-packages/matplotlib/font_manager.py:1328: UserWarning: findfont: Font family ['sans-serif'] not found. Falling back to DejaVu Sans\n",
      "  (prop.get_family(), self.defaultFamily[fontext]))\n",
      "/Users/liukaiyue/anaconda3/lib/python3.6/site-packages/matplotlib/font_manager.py:1328: UserWarning: findfont: Font family ['sans-serif'] not found. Falling back to DejaVu Sans\n",
      "  (prop.get_family(), self.defaultFamily[fontext]))\n",
      "/Users/liukaiyue/anaconda3/lib/python3.6/site-packages/matplotlib/font_manager.py:1328: UserWarning: findfont: Font family ['sans-serif'] not found. Falling back to DejaVu Sans\n",
      "  (prop.get_family(), self.defaultFamily[fontext]))\n",
      "/Users/liukaiyue/anaconda3/lib/python3.6/site-packages/matplotlib/font_manager.py:1328: UserWarning: findfont: Font family ['sans-serif'] not found. Falling back to DejaVu Sans\n",
      "  (prop.get_family(), self.defaultFamily[fontext]))\n",
      "/Users/liukaiyue/anaconda3/lib/python3.6/site-packages/matplotlib/font_manager.py:1328: UserWarning: findfont: Font family ['sans-serif'] not found. Falling back to DejaVu Sans\n",
      "  (prop.get_family(), self.defaultFamily[fontext]))\n",
      "/Users/liukaiyue/anaconda3/lib/python3.6/site-packages/matplotlib/font_manager.py:1328: UserWarning: findfont: Font family ['sans-serif'] not found. Falling back to DejaVu Sans\n",
      "  (prop.get_family(), self.defaultFamily[fontext]))\n",
      "/Users/liukaiyue/anaconda3/lib/python3.6/site-packages/matplotlib/font_manager.py:1328: UserWarning: findfont: Font family ['sans-serif'] not found. Falling back to DejaVu Sans\n",
      "  (prop.get_family(), self.defaultFamily[fontext]))\n",
      "/Users/liukaiyue/anaconda3/lib/python3.6/site-packages/matplotlib/font_manager.py:1328: UserWarning: findfont: Font family ['sans-serif'] not found. Falling back to DejaVu Sans\n",
      "  (prop.get_family(), self.defaultFamily[fontext]))\n",
      "/Users/liukaiyue/anaconda3/lib/python3.6/site-packages/matplotlib/font_manager.py:1328: UserWarning: findfont: Font family ['sans-serif'] not found. Falling back to DejaVu Sans\n",
      "  (prop.get_family(), self.defaultFamily[fontext]))\n",
      "/Users/liukaiyue/anaconda3/lib/python3.6/site-packages/matplotlib/font_manager.py:1328: UserWarning: findfont: Font family ['sans-serif'] not found. Falling back to DejaVu Sans\n",
      "  (prop.get_family(), self.defaultFamily[fontext]))\n",
      "/Users/liukaiyue/anaconda3/lib/python3.6/site-packages/matplotlib/font_manager.py:1328: UserWarning: findfont: Font family ['sans-serif'] not found. Falling back to DejaVu Sans\n",
      "  (prop.get_family(), self.defaultFamily[fontext]))\n",
      "/Users/liukaiyue/anaconda3/lib/python3.6/site-packages/matplotlib/font_manager.py:1328: UserWarning: findfont: Font family ['sans-serif'] not found. Falling back to DejaVu Sans\n",
      "  (prop.get_family(), self.defaultFamily[fontext]))\n",
      "/Users/liukaiyue/anaconda3/lib/python3.6/site-packages/matplotlib/font_manager.py:1328: UserWarning: findfont: Font family ['sans-serif'] not found. Falling back to DejaVu Sans\n",
      "  (prop.get_family(), self.defaultFamily[fontext]))\n",
      "/Users/liukaiyue/anaconda3/lib/python3.6/site-packages/matplotlib/font_manager.py:1328: UserWarning: findfont: Font family ['sans-serif'] not found. Falling back to DejaVu Sans\n",
      "  (prop.get_family(), self.defaultFamily[fontext]))\n",
      "/Users/liukaiyue/anaconda3/lib/python3.6/site-packages/matplotlib/font_manager.py:1328: UserWarning: findfont: Font family ['sans-serif'] not found. Falling back to DejaVu Sans\n",
      "  (prop.get_family(), self.defaultFamily[fontext]))\n",
      "/Users/liukaiyue/anaconda3/lib/python3.6/site-packages/matplotlib/font_manager.py:1328: UserWarning: findfont: Font family ['sans-serif'] not found. Falling back to DejaVu Sans\n",
      "  (prop.get_family(), self.defaultFamily[fontext]))\n",
      "/Users/liukaiyue/anaconda3/lib/python3.6/site-packages/matplotlib/font_manager.py:1328: UserWarning: findfont: Font family ['sans-serif'] not found. Falling back to DejaVu Sans\n",
      "  (prop.get_family(), self.defaultFamily[fontext]))\n",
      "/Users/liukaiyue/anaconda3/lib/python3.6/site-packages/matplotlib/font_manager.py:1328: UserWarning: findfont: Font family ['sans-serif'] not found. Falling back to DejaVu Sans\n",
      "  (prop.get_family(), self.defaultFamily[fontext]))\n",
      "/Users/liukaiyue/anaconda3/lib/python3.6/site-packages/matplotlib/font_manager.py:1328: UserWarning: findfont: Font family ['sans-serif'] not found. Falling back to DejaVu Sans\n",
      "  (prop.get_family(), self.defaultFamily[fontext]))\n",
      "/Users/liukaiyue/anaconda3/lib/python3.6/site-packages/matplotlib/font_manager.py:1328: UserWarning: findfont: Font family ['sans-serif'] not found. Falling back to DejaVu Sans\n",
      "  (prop.get_family(), self.defaultFamily[fontext]))\n",
      "/Users/liukaiyue/anaconda3/lib/python3.6/site-packages/matplotlib/font_manager.py:1328: UserWarning: findfont: Font family ['sans-serif'] not found. Falling back to DejaVu Sans\n",
      "  (prop.get_family(), self.defaultFamily[fontext]))\n",
      "/Users/liukaiyue/anaconda3/lib/python3.6/site-packages/matplotlib/font_manager.py:1328: UserWarning: findfont: Font family ['sans-serif'] not found. Falling back to DejaVu Sans\n",
      "  (prop.get_family(), self.defaultFamily[fontext]))\n",
      "/Users/liukaiyue/anaconda3/lib/python3.6/site-packages/matplotlib/font_manager.py:1328: UserWarning: findfont: Font family ['sans-serif'] not found. Falling back to DejaVu Sans\n",
      "  (prop.get_family(), self.defaultFamily[fontext]))\n",
      "/Users/liukaiyue/anaconda3/lib/python3.6/site-packages/matplotlib/font_manager.py:1328: UserWarning: findfont: Font family ['sans-serif'] not found. Falling back to DejaVu Sans\n",
      "  (prop.get_family(), self.defaultFamily[fontext]))\n"
     ]
    },
    {
     "data": {
      "image/png": "[encoded data removed]",
      "text/plain": [
       "<Figure size 432x288 with 1 Axes>"
      ]
     },
     "metadata": {},
     "output_type": "display_data"
    }
   ],
   "source": [
    "# 分布\n",
    "# 内嵌绘图，这是ipython的魔法函数\n",
    "%matplotlib inline\n",
    "train_data.groupby(\"is_duplicate\")['id'].count().plot.bar()\n",
    "#plt.show() # 有了%matplotlib inline 就可以省掉plt.show()了"
   ]
  },
  {
   "cell_type": "markdown",
   "metadata": {},
   "source": [
    "#### 3.2.2 train数据集句子出现频次"
   ]
  },
  {
   "cell_type": "code",
   "execution_count": 145,
   "metadata": {},
   "outputs": [
    {
     "name": "stdout",
     "output_type": "stream",
     "text": [
      "训练数据中的问题总数: 537929\n",
      "出现多次的问题的数量: 111778\n",
      "\n"
     ]
    },
    {
     "data": {
      "image/png": "[encoded data removed]",
      "text/plain": [
       "<Figure size 864x360 with 1 Axes>"
      ]
     },
     "metadata": {},
     "output_type": "display_data"
    }
   ],
   "source": [
    "qids = pd.Series(train_data['qid1'].tolist() + train_data['qid2'].tolist())\n",
    "print('训练数据中的问题总数: {}'.format(len(np.unique(qids))))\n",
    "print('出现多次的问题的数量: {}'.format(np.sum(qids.value_counts() > 1)))\n",
    "plt.figure(figsize=(12, 5))\n",
    "plt.hist(qids.value_counts(), bins=50)\n",
    "plt.yscale('log', nonposy='clip')\n",
    "plt.title('问题出现次数的对数直方图')\n",
    "plt.xlabel('问题出现次数')\n",
    "plt.ylabel('问题数量')\n",
    "print()"
   ]
  },
  {
   "cell_type": "markdown",
   "metadata": {},
   "source": [
    "#### 3.2.3 train数据集，问题中单词的分布情况"
   ]
  },
  {
   "cell_type": "code",
   "execution_count": 148,
   "metadata": {
    "scrolled": true
   },
   "outputs": [
    {
     "data": {
      "image/png": "[encoded data removed]",
      "text/plain": [
       "<Figure size 864x432 with 1 Axes>"
      ]
     },
     "metadata": {},
     "output_type": "display_data"
    }
   ],
   "source": [
    "all_ques_df = pd.DataFrame(pd.concat([train_data['question1'], train_data['question2']]))\n",
    "all_ques_df.columns = [\"questions\"]\n",
    "all_ques_df[\"num_of_words\"] = all_ques_df[\"questions\"].apply(lambda x : len(str(x).split()))\n",
    "cnt_srs = all_ques_df['num_of_words'].value_counts()\n",
    "\n",
    "plt.figure(figsize=(12,6))\n",
    "sns.barplot(cnt_srs.index, cnt_srs.values, alpha=0.8)\n",
    "plt.title('问题中单词出现次数分布')\n",
    "plt.ylabel('出现次数', fontsize=12)\n",
    "plt.xlabel('问题中的单词数量', fontsize=12)\n",
    "plt.xticks(rotation='vertical')\n",
    "plt.show()"
   ]
  },
  {
   "cell_type": "markdown",
   "metadata": {},
   "source": [
    "#### 3.2.4 问题出现频率与问题对相同部分和是否重复之间的关系（构造q1->q2）"
   ]
  },
  {
   "cell_type": "code",
   "execution_count": 149,
   "metadata": {},
   "outputs": [],
   "source": [
    "train_df = train_data\n",
    "test_df = test_data"
   ]
  },
  {
   "cell_type": "code",
   "execution_count": 150,
   "metadata": {},
   "outputs": [],
   "source": [
    "from collections import defaultdict\n",
    "q_dict = defaultdict(set)\n",
    "ques = pd.concat([train_df[['question1', 'question2']],\n",
    "                  test_df[['question1', 'question2']]], axis=0).reset_index(drop='index')\n",
    "\n",
    "for i in range(ques.shape[0]):\n",
    "    q_dict[ques.question1[i]].add(ques.question2[i])\n",
    "    q_dict[ques.question2[i]].add(ques.question1[i])\n",
    "\n",
    "def q1_freq(row):\n",
    "    return(len(q_dict[row['question1']]))\n",
    "    \n",
    "def q2_freq(row):\n",
    "    return(len(q_dict[row['question2']]))\n",
    "    \n",
    "def q1_q2_intersect(row):\n",
    "    return(len(set(q_dict[row['question1']]).intersection(set(q_dict[row['question2']]))))\n",
    "\n",
    "train_df['q1_q2_intersect'] = train_df.apply(q1_q2_intersect, axis=1, raw=True)\n",
    "train_df['q1_freq'] = train_df.apply(q1_freq, axis=1, raw=True)\n",
    "train_df['q2_freq'] = train_df.apply(q2_freq, axis=1, raw=True)"
   ]
  },
  {
   "cell_type": "code",
   "execution_count": 208,
   "metadata": {},
   "outputs": [
    {
     "data": {
      "image/png": "[encoded data removed]",
      "text/plain": [
       "<Figure size 864x432 with 1 Axes>"
      ]
     },
     "metadata": {},
     "output_type": "display_data"
    }
   ],
   "source": [
    "# Q1-Q2 neighbor intersection count\n",
    "cnt_srs = train_df['q1_q2_intersect'].value_counts()\n",
    "\n",
    "plt.figure(figsize=(12,6))\n",
    "sns.barplot(cnt_srs.index, np.log1p(cnt_srs.values), alpha=0.8)\n",
    "plt.xlabel('Q1-Q2 相邻交叉计数', fontsize=12)\n",
    "plt.ylabel('出现次数记录', fontsize=12)\n",
    "plt.xticks(rotation='vertical')\n",
    "plt.show()"
   ]
  },
  {
   "cell_type": "code",
   "execution_count": 207,
   "metadata": {},
   "outputs": [
    {
     "data": {
      "image/png": "[encoded data removed]",
      "text/plain": [
       "<Figure size 1080x432 with 1 Axes>"
      ]
     },
     "metadata": {},
     "output_type": "display_data"
    }
   ],
   "source": [
    "grouped_df = train_df.groupby('q1_q2_intersect')['is_duplicate'].aggregate(np.mean).reset_index()\n",
    "plt.figure(figsize=(15,6))\n",
    "sns.pointplot(grouped_df[\"q1_q2_intersect\"].values, grouped_df[\"is_duplicate\"].values, alpha=0.8)\n",
    "plt.ylabel('Mean is_duplicate', fontsize=12)\n",
    "plt.xlabel('Q1-Q2相邻交叉部分计数', fontsize=12)\n",
    "plt.xticks(rotation='vertical')\n",
    "plt.show()"
   ]
  },
  {
   "cell_type": "code",
   "execution_count": 152,
   "metadata": {},
   "outputs": [
    {
     "data": {
      "image/png": "[encoded data removed]",
      "text/plain": [
       "<Figure size 864x576 with 1 Axes>"
      ]
     },
     "metadata": {},
     "output_type": "display_data"
    }
   ],
   "source": [
    "#Question1 Frequency\n",
    "cnt_srs = train_df['q1_freq'].value_counts()\n",
    "\n",
    "plt.figure(figsize=(12,8))\n",
    "sns.barplot(cnt_srs.index, cnt_srs.values, alpha=0.8)\n",
    "plt.xlabel('Q1 frequency', fontsize=12)\n",
    "plt.ylabel('Number of Occurrences', fontsize=12)\n",
    "plt.xticks(rotation='vertical')\n",
    "plt.show()"
   ]
  },
  {
   "cell_type": "code",
   "execution_count": 154,
   "metadata": {},
   "outputs": [
    {
     "data": {
      "image/png": "[encoded data removed]",
      "text/plain": [
       "<Figure size 864x576 with 1 Axes>"
      ]
     },
     "metadata": {},
     "output_type": "display_data"
    }
   ],
   "source": [
    "#Question1 Frequency and the target variable distribution\n",
    "plt.figure(figsize=(12,8))\n",
    "grouped_df = train_df.groupby('q1_freq')['is_duplicate'].aggregate(np.mean).reset_index()\n",
    "sns.barplot(grouped_df[\"q1_freq\"].values, grouped_df[\"is_duplicate\"].values, alpha=0.8)\n",
    "plt.ylabel('Mean is_duplicate', fontsize=12)\n",
    "plt.xlabel('Q1 frequency', fontsize=12)\n",
    "plt.xticks(rotation='vertical')\n",
    "plt.show()"
   ]
  },
  {
   "cell_type": "code",
   "execution_count": 158,
   "metadata": {},
   "outputs": [
    {
     "data": {
      "image/png": "[encoded data removed]",
      "text/plain": [
       "<Figure size 1080x864 with 2 Axes>"
      ]
     },
     "metadata": {},
     "output_type": "display_data"
    }
   ],
   "source": [
    "#heat map between q1_freq and q2_freq to see the target variable distribution\n",
    "pvt_df = train_df.pivot_table(index=\"q1_freq\", columns=\"q2_freq\", values=\"is_duplicate\")\n",
    "plt.figure(figsize=(15,12))\n",
    "sns.heatmap(pvt_df)\n",
    "plt.title(\"Mean is_duplicate value distribution across q1 and q2 frequency\")\n",
    "plt.show()"
   ]
  },
  {
   "cell_type": "code",
   "execution_count": 156,
   "metadata": {},
   "outputs": [
    {
     "data": {
      "image/png": "[encoded data removed]",
      "text/plain": [
       "<Figure size 576x576 with 2 Axes>"
      ]
     },
     "metadata": {},
     "output_type": "display_data"
    }
   ],
   "source": [
    "#check the correlation between the q1_freq、q2_freq and q1_q2_intersect\n",
    "cols_to_use = ['q1_q2_intersect', 'q1_freq', 'q2_freq']\n",
    "temp_df = train_df[cols_to_use]\n",
    "corrmat = temp_df.corr(method='spearman')\n",
    "f, ax = plt.subplots(figsize=(8, 8))\n",
    "\n",
    "# Draw the heatmap using seaborn\n",
    "sns.heatmap(corrmat, vmax=1., square=True)\n",
    "plt.title(\"Leaky variables correlation map\", fontsize=15)\n",
    "plt.show()"
   ]
  },
  {
   "cell_type": "markdown",
   "metadata": {},
   "source": [
    "#### 3.2.5 训练集、测试集的字符和词表"
   ]
  },
  {
   "cell_type": "markdown",
   "metadata": {},
   "source": [
    "训练集、测试集各自的词表大小，以及测试集里面的未在训练集里面出现过的词的比例是多少；"
   ]
  },
  {
   "cell_type": "code",
   "execution_count": 160,
   "metadata": {},
   "outputs": [
    {
     "name": "stderr",
     "output_type": "stream",
     "text": [
      "/Users/liukaiyue/anaconda3/lib/python3.6/site-packages/matplotlib/axes/_axes.py:6462: UserWarning: The 'normed' kwarg is deprecated, and has been replaced by the 'density' kwarg.\n",
      "  warnings.warn(\"The 'normed' kwarg is deprecated, and has been \"\n",
      "/Users/liukaiyue/anaconda3/lib/python3.6/site-packages/matplotlib/axes/_axes.py:6462: UserWarning: The 'normed' kwarg is deprecated, and has been replaced by the 'density' kwarg.\n",
      "  warnings.warn(\"The 'normed' kwarg is deprecated, and has been \"\n"
     ]
    },
    {
     "name": "stdout",
     "output_type": "stream",
     "text": [
      "mean-train 59.82 std-train 31.96 mean-test 60.07 std-test 31.63 max-train 1169.00 max-test 1176.00\n"
     ]
    },
    {
     "data": {
      "image/png": "[encoded data removed]",
      "text/plain": [
       "<Figure size 1080x720 with 1 Axes>"
      ]
     },
     "metadata": {},
     "output_type": "display_data"
    }
   ],
   "source": [
    "train_qs = pd.Series(train_data['question1'].tolist() + train_data['question2'].tolist()).astype(str)\n",
    "test_qs = pd.Series(test_data['question1'].tolist() + test_data['question2'].tolist()).astype(str)\n",
    "\n",
    "# 训练集和测试集字符数量特征\n",
    "dist_train = train_qs.apply(len)\n",
    "dist_test = test_qs.apply(len)\n",
    "\n",
    "plt.figure(figsize=(15, 10))\n",
    "plt.hist(dist_train, bins=200, range=[0, 200], color=pal[2], normed=True, label='train')\n",
    "plt.hist(dist_test, bins=200, range=[0, 200], color=pal[1], normed=True, alpha=0.5, label='test')\n",
    "plt.title('数据集中问题的字符数量的标准化直方图', fontsize=15)\n",
    "plt.legend()\n",
    "plt.xlabel('字符数', fontsize=15)\n",
    "plt.ylabel('概率', fontsize=15)\n",
    "\n",
    "print('mean-train {:.2f} std-train {:.2f} mean-test {:.2f} std-test {:.2f} max-train {:.2f} max-test {:.2f}'\\\n",
    "      .format(dist_train.mean(),dist_train.std(),dist_test.mean(),dist_test.std(),dist_train.max(), dist_test.max()))"
   ]
  },
  {
   "cell_type": "code",
   "execution_count": 161,
   "metadata": {},
   "outputs": [
    {
     "name": "stderr",
     "output_type": "stream",
     "text": [
      "/Users/liukaiyue/anaconda3/lib/python3.6/site-packages/matplotlib/axes/_axes.py:6462: UserWarning: The 'normed' kwarg is deprecated, and has been replaced by the 'density' kwarg.\n",
      "  warnings.warn(\"The 'normed' kwarg is deprecated, and has been \"\n",
      "/Users/liukaiyue/anaconda3/lib/python3.6/site-packages/matplotlib/axes/_axes.py:6462: UserWarning: The 'normed' kwarg is deprecated, and has been replaced by the 'density' kwarg.\n",
      "  warnings.warn(\"The 'normed' kwarg is deprecated, and has been \"\n"
     ]
    },
    {
     "name": "stdout",
     "output_type": "stream",
     "text": [
      "mean-train 11.06 std-train 5.89 mean-test 11.02 std-test 5.84 max-train 237.00 max-test 238.00\n"
     ]
    },
    {
     "data": {
      "image/png": "[encoded data removed]",
      "text/plain": [
       "<Figure size 1080x720 with 1 Axes>"
      ]
     },
     "metadata": {},
     "output_type": "display_data"
    }
   ],
   "source": [
    "# 训练集和测试集单词数量特征（词表特征）\n",
    "dist_train = train_qs.apply(lambda x: len(x.split(' ')))\n",
    "dist_test = test_qs.apply(lambda x: len(x.split(' ')))\n",
    "\n",
    "plt.figure(figsize=(15, 10))\n",
    "plt.hist(dist_train, bins=50, range=[0, 50], color=pal[2], normed=True, label='train')\n",
    "plt.hist(dist_test, bins=50, range=[0, 50], color=pal[1], normed=True, alpha=0.5, label='test')\n",
    "plt.title('数据集中问题的单词数量的标准化直方图', fontsize=15)\n",
    "plt.legend()\n",
    "plt.xlabel('词的数量', fontsize=15)\n",
    "plt.ylabel('概率', fontsize=15)\n",
    "\n",
    "print('mean-train {:.2f} std-train {:.2f} mean-test {:.2f} std-test {:.2f} max-train {:.2f} max-test {:.2f}'\\\n",
    "      .format(dist_train.mean(),dist_train.std(),dist_test.mean(),dist_test.std(),dist_train.max(),dist_test.max()))"
   ]
  },
  {
   "cell_type": "code",
   "execution_count": 186,
   "metadata": {},
   "outputs": [
    {
     "name": "stdout",
     "output_type": "stream",
     "text": [
      "训练集的词表大小:8946784\n",
      "测试集的词表大小:78568963\n"
     ]
    }
   ],
   "source": [
    "print(\"训练集的词表大小:{}\" .format(dist_train.sum()))\n",
    "print(\"测试集的词表大小:{}\" .format(dist_test.sum()))"
   ]
  },
  {
   "cell_type": "markdown",
   "metadata": {},
   "source": [
    "## 4. 数据预处理"
   ]
  },
  {
   "cell_type": "markdown",
   "metadata": {},
   "source": [
    "本节产生的数据仅做展示和测试使用，数据清洗和特征工程会在第5节一起操作和执行"
   ]
  },
  {
   "cell_type": "markdown",
   "metadata": {},
   "source": [
    "#### 4.1 缺失值处理"
   ]
  },
  {
   "cell_type": "code",
   "execution_count": 372,
   "metadata": {},
   "outputs": [],
   "source": [
    "# 去除空值（如果有的话）\n",
    "cln_data = train_data.dropna().copy()"
   ]
  },
  {
   "cell_type": "markdown",
   "metadata": {},
   "source": [
    "#### 4.2 全部变成小写"
   ]
  },
  {
   "cell_type": "code",
   "execution_count": 373,
   "metadata": {},
   "outputs": [],
   "source": [
    "cln_data['question1'] = cln_data['question1'].str.lower()\n",
    "cln_data['question2'] = cln_data['question2'].str.lower()"
   ]
  },
  {
   "cell_type": "code",
   "execution_count": 374,
   "metadata": {},
   "outputs": [
    {
     "data": {
      "text/html": [
       "<div>\n",
       "<style scoped>\n",
       "    .dataframe tbody tr th:only-of-type {\n",
       "        vertical-align: middle;\n",
       "    }\n",
       "\n",
       "    .dataframe tbody tr th {\n",
       "        vertical-align: top;\n",
       "    }\n",
       "\n",
       "    .dataframe thead th {\n",
       "        text-align: right;\n",
       "    }\n",
       "</style>\n",
       "<table border=\"1\" class=\"dataframe\">\n",
       "  <thead>\n",
       "    <tr style=\"text-align: right;\">\n",
       "      <th></th>\n",
       "      <th>id</th>\n",
       "      <th>qid1</th>\n",
       "      <th>qid2</th>\n",
       "      <th>question1</th>\n",
       "      <th>question2</th>\n",
       "      <th>is_duplicate</th>\n",
       "    </tr>\n",
       "  </thead>\n",
       "  <tbody>\n",
       "    <tr>\n",
       "      <th>0</th>\n",
       "      <td>0</td>\n",
       "      <td>1</td>\n",
       "      <td>2</td>\n",
       "      <td>what is the step by step guide to invest in sh...</td>\n",
       "      <td>what is the step by step guide to invest in sh...</td>\n",
       "      <td>0</td>\n",
       "    </tr>\n",
       "    <tr>\n",
       "      <th>1</th>\n",
       "      <td>1</td>\n",
       "      <td>3</td>\n",
       "      <td>4</td>\n",
       "      <td>what is the story of kohinoor (koh-i-noor) dia...</td>\n",
       "      <td>what would happen if the indian government sto...</td>\n",
       "      <td>0</td>\n",
       "    </tr>\n",
       "    <tr>\n",
       "      <th>2</th>\n",
       "      <td>2</td>\n",
       "      <td>5</td>\n",
       "      <td>6</td>\n",
       "      <td>how can i increase the speed of my internet co...</td>\n",
       "      <td>how can internet speed be increased by hacking...</td>\n",
       "      <td>0</td>\n",
       "    </tr>\n",
       "  </tbody>\n",
       "</table>\n",
       "</div>"
      ],
      "text/plain": [
       "   id  qid1  qid2                                          question1  \\\n",
       "0   0     1     2  what is the step by step guide to invest in sh...   \n",
       "1   1     3     4  what is the story of kohinoor (koh-i-noor) dia...   \n",
       "2   2     5     6  how can i increase the speed of my internet co...   \n",
       "\n",
       "                                           question2  is_duplicate  \n",
       "0  what is the step by step guide to invest in sh...             0  \n",
       "1  what would happen if the indian government sto...             0  \n",
       "2  how can internet speed be increased by hacking...             0  "
      ]
     },
     "execution_count": 374,
     "metadata": {},
     "output_type": "execute_result"
    }
   ],
   "source": [
    "cln_data.head(3)"
   ]
  },
  {
   "cell_type": "markdown",
   "metadata": {},
   "source": [
    "#### 4.3 去掉标点符号"
   ]
  },
  {
   "cell_type": "code",
   "execution_count": 375,
   "metadata": {},
   "outputs": [],
   "source": [
    "import string"
   ]
  },
  {
   "cell_type": "code",
   "execution_count": 376,
   "metadata": {},
   "outputs": [],
   "source": [
    "def remove_punctuation(s):\n",
    "    # 去除标点符号\n",
    "    punctuation = set(string.punctuation)\n",
    "    out = ''.join(ch for ch in s if ch not in punctuation)\n",
    "    return out"
   ]
  },
  {
   "cell_type": "code",
   "execution_count": 377,
   "metadata": {},
   "outputs": [],
   "source": [
    "# 去除标点符号\n",
    "cln_data['question1'] = cln_data.apply(lambda x: remove_punctuation(x['question1'],), axis=1)\n",
    "cln_data['question2'] = cln_data.apply(lambda x: remove_punctuation(x['question1'],), axis=1)"
   ]
  },
  {
   "cell_type": "markdown",
   "metadata": {},
   "source": [
    "#### 4.4 分词处理"
   ]
  },
  {
   "cell_type": "markdown",
   "metadata": {},
   "source": [
    "使用nltk的tokenize进行分词处理"
   ]
  },
  {
   "cell_type": "code",
   "execution_count": 378,
   "metadata": {},
   "outputs": [],
   "source": [
    "import nltk\n",
    "from nltk import word_tokenize"
   ]
  },
  {
   "cell_type": "code",
   "execution_count": 379,
   "metadata": {},
   "outputs": [],
   "source": [
    "def spilt_word(s):\n",
    "    #words = str(s).lower().decode('utf-8')\n",
    "    words = word_tokenize(s)\n",
    "    return words"
   ]
  },
  {
   "cell_type": "code",
   "execution_count": 380,
   "metadata": {},
   "outputs": [
    {
     "name": "stdout",
     "output_type": "stream",
     "text": [
      "[nltk_data] Downloading package punkt to /Users/liukaiyue/nltk_data...\n",
      "[nltk_data]   Package punkt is already up-to-date!\n"
     ]
    },
    {
     "data": {
      "text/plain": [
       "True"
      ]
     },
     "execution_count": 380,
     "metadata": {},
     "output_type": "execute_result"
    }
   ],
   "source": [
    "nltk.download('punkt')"
   ]
  },
  {
   "cell_type": "code",
   "execution_count": 381,
   "metadata": {},
   "outputs": [],
   "source": [
    "# 对question1进行分词处理，并赋值到新列\n",
    "cln_data['question1_spilt'] = cln_data.apply(lambda x: spilt_word(x['question1'],), axis=1)"
   ]
  },
  {
   "cell_type": "code",
   "execution_count": 382,
   "metadata": {},
   "outputs": [],
   "source": [
    "# 对question1进行分词处理，并赋值到新列\n",
    "cln_data['question2_spilt'] = cln_data.apply(lambda x: spilt_word(x['question2'],), axis=1)"
   ]
  },
  {
   "cell_type": "code",
   "execution_count": 383,
   "metadata": {},
   "outputs": [
    {
     "data": {
      "text/html": [
       "<div>\n",
       "<style scoped>\n",
       "    .dataframe tbody tr th:only-of-type {\n",
       "        vertical-align: middle;\n",
       "    }\n",
       "\n",
       "    .dataframe tbody tr th {\n",
       "        vertical-align: top;\n",
       "    }\n",
       "\n",
       "    .dataframe thead th {\n",
       "        text-align: right;\n",
       "    }\n",
       "</style>\n",
       "<table border=\"1\" class=\"dataframe\">\n",
       "  <thead>\n",
       "    <tr style=\"text-align: right;\">\n",
       "      <th></th>\n",
       "      <th>id</th>\n",
       "      <th>qid1</th>\n",
       "      <th>qid2</th>\n",
       "      <th>question1</th>\n",
       "      <th>question2</th>\n",
       "      <th>is_duplicate</th>\n",
       "      <th>question1_spilt</th>\n",
       "      <th>question2_spilt</th>\n",
       "    </tr>\n",
       "  </thead>\n",
       "  <tbody>\n",
       "    <tr>\n",
       "      <th>0</th>\n",
       "      <td>0</td>\n",
       "      <td>1</td>\n",
       "      <td>2</td>\n",
       "      <td>what is the step by step guide to invest in sh...</td>\n",
       "      <td>what is the step by step guide to invest in sh...</td>\n",
       "      <td>0</td>\n",
       "      <td>[what, is, the, step, by, step, guide, to, inv...</td>\n",
       "      <td>[what, is, the, step, by, step, guide, to, inv...</td>\n",
       "    </tr>\n",
       "    <tr>\n",
       "      <th>1</th>\n",
       "      <td>1</td>\n",
       "      <td>3</td>\n",
       "      <td>4</td>\n",
       "      <td>what is the story of kohinoor kohinoor diamond</td>\n",
       "      <td>what is the story of kohinoor kohinoor diamond</td>\n",
       "      <td>0</td>\n",
       "      <td>[what, is, the, story, of, kohinoor, kohinoor,...</td>\n",
       "      <td>[what, is, the, story, of, kohinoor, kohinoor,...</td>\n",
       "    </tr>\n",
       "  </tbody>\n",
       "</table>\n",
       "</div>"
      ],
      "text/plain": [
       "   id  qid1  qid2                                          question1  \\\n",
       "0   0     1     2  what is the step by step guide to invest in sh...   \n",
       "1   1     3     4     what is the story of kohinoor kohinoor diamond   \n",
       "\n",
       "                                           question2  is_duplicate  \\\n",
       "0  what is the step by step guide to invest in sh...             0   \n",
       "1     what is the story of kohinoor kohinoor diamond             0   \n",
       "\n",
       "                                     question1_spilt  \\\n",
       "0  [what, is, the, step, by, step, guide, to, inv...   \n",
       "1  [what, is, the, story, of, kohinoor, kohinoor,...   \n",
       "\n",
       "                                     question2_spilt  \n",
       "0  [what, is, the, step, by, step, guide, to, inv...  \n",
       "1  [what, is, the, story, of, kohinoor, kohinoor,...  "
      ]
     },
     "execution_count": 383,
     "metadata": {},
     "output_type": "execute_result"
    }
   ],
   "source": [
    "cln_data.head(2)"
   ]
  },
  {
   "cell_type": "markdown",
   "metadata": {},
   "source": [
    "#### 4.5 去除停用词"
   ]
  },
  {
   "cell_type": "code",
   "execution_count": 384,
   "metadata": {},
   "outputs": [
    {
     "name": "stdout",
     "output_type": "stream",
     "text": [
      "停用词的个数179\n",
      "显示停用词['i', 'me', 'my', 'myself', 'we', 'our', 'ours', 'ourselves', 'you', \"you're\", \"you've\", \"you'll\", \"you'd\", 'your', 'yours', 'yourself', 'yourselves', 'he', 'him', 'his', 'himself', 'she', \"she's\", 'her', 'hers', 'herself', 'it', \"it's\", 'its', 'itself', 'they', 'them', 'their', 'theirs', 'themselves', 'what', 'which', 'who', 'whom', 'this', 'that', \"that'll\", 'these', 'those', 'am', 'is', 'are', 'was', 'were', 'be', 'been', 'being', 'have', 'has', 'had', 'having', 'do', 'does', 'did', 'doing', 'a', 'an', 'the', 'and', 'but', 'if', 'or', 'because', 'as', 'until', 'while', 'of', 'at', 'by', 'for', 'with', 'about', 'against', 'between', 'into', 'through', 'during', 'before', 'after', 'above', 'below', 'to', 'from', 'up', 'down', 'in', 'out', 'on', 'off', 'over', 'under', 'again', 'further', 'then', 'once', 'here', 'there', 'when', 'where', 'why', 'how', 'all', 'any', 'both', 'each', 'few', 'more', 'most', 'other', 'some', 'such', 'no', 'nor', 'not', 'only', 'own', 'same', 'so', 'than', 'too', 'very', 's', 't', 'can', 'will', 'just', 'don', \"don't\", 'should', \"should've\", 'now', 'd', 'll', 'm', 'o', 're', 've', 'y', 'ain', 'aren', \"aren't\", 'couldn', \"couldn't\", 'didn', \"didn't\", 'doesn', \"doesn't\", 'hadn', \"hadn't\", 'hasn', \"hasn't\", 'haven', \"haven't\", 'isn', \"isn't\", 'ma', 'mightn', \"mightn't\", 'mustn', \"mustn't\", 'needn', \"needn't\", 'shan', \"shan't\", 'shouldn', \"shouldn't\", 'wasn', \"wasn't\", 'weren', \"weren't\", 'won', \"won't\", 'wouldn', \"wouldn't\"]\n"
     ]
    }
   ],
   "source": [
    "# 英语停用词，停用词是用来去除的，因为停用词在NLP时没有实际意义\n",
    "from nltk.corpus import stopwords\n",
    "stop_words = stopwords.words('english') # 加载停用词\n",
    "print(\"停用词的个数{}\".format(len(stop_words)))\n",
    "print(\"显示停用词{}\".format(stop_words))"
   ]
  },
  {
   "cell_type": "code",
   "execution_count": 385,
   "metadata": {},
   "outputs": [],
   "source": [
    "# 文本预处理函数\n",
    "def preprocess_text(q):\n",
    "    stop_words = stopwords.words('english')\n",
    "    pre_q = [w for w in q if w not in stop_words]\n",
    "    return pre_q"
   ]
  },
  {
   "cell_type": "code",
   "execution_count": 386,
   "metadata": {},
   "outputs": [],
   "source": [
    "# 去除停用词，并赋值到新列\n",
    "cln_data['question1_remove_swords'] = cln_data.apply(lambda x: preprocess_text(x['question1_spilt'],), axis=1)"
   ]
  },
  {
   "cell_type": "code",
   "execution_count": 387,
   "metadata": {},
   "outputs": [],
   "source": [
    "# 去除停用词，并赋值到新列\n",
    "cln_data['question2_remove_swords'] = cln_data.apply(lambda x: preprocess_text(x['question2_spilt'],), axis=1)"
   ]
  },
  {
   "cell_type": "code",
   "execution_count": 388,
   "metadata": {},
   "outputs": [
    {
     "data": {
      "text/html": [
       "<div>\n",
       "<style scoped>\n",
       "    .dataframe tbody tr th:only-of-type {\n",
       "        vertical-align: middle;\n",
       "    }\n",
       "\n",
       "    .dataframe tbody tr th {\n",
       "        vertical-align: top;\n",
       "    }\n",
       "\n",
       "    .dataframe thead th {\n",
       "        text-align: right;\n",
       "    }\n",
       "</style>\n",
       "<table border=\"1\" class=\"dataframe\">\n",
       "  <thead>\n",
       "    <tr style=\"text-align: right;\">\n",
       "      <th></th>\n",
       "      <th>id</th>\n",
       "      <th>qid1</th>\n",
       "      <th>qid2</th>\n",
       "      <th>question1</th>\n",
       "      <th>question2</th>\n",
       "      <th>is_duplicate</th>\n",
       "      <th>question1_spilt</th>\n",
       "      <th>question2_spilt</th>\n",
       "      <th>question1_remove_swords</th>\n",
       "      <th>question2_remove_swords</th>\n",
       "    </tr>\n",
       "  </thead>\n",
       "  <tbody>\n",
       "    <tr>\n",
       "      <th>0</th>\n",
       "      <td>0</td>\n",
       "      <td>1</td>\n",
       "      <td>2</td>\n",
       "      <td>what is the step by step guide to invest in sh...</td>\n",
       "      <td>what is the step by step guide to invest in sh...</td>\n",
       "      <td>0</td>\n",
       "      <td>[what, is, the, step, by, step, guide, to, inv...</td>\n",
       "      <td>[what, is, the, step, by, step, guide, to, inv...</td>\n",
       "      <td>[step, step, guide, invest, share, market, india]</td>\n",
       "      <td>[step, step, guide, invest, share, market, india]</td>\n",
       "    </tr>\n",
       "    <tr>\n",
       "      <th>1</th>\n",
       "      <td>1</td>\n",
       "      <td>3</td>\n",
       "      <td>4</td>\n",
       "      <td>what is the story of kohinoor kohinoor diamond</td>\n",
       "      <td>what is the story of kohinoor kohinoor diamond</td>\n",
       "      <td>0</td>\n",
       "      <td>[what, is, the, story, of, kohinoor, kohinoor,...</td>\n",
       "      <td>[what, is, the, story, of, kohinoor, kohinoor,...</td>\n",
       "      <td>[story, kohinoor, kohinoor, diamond]</td>\n",
       "      <td>[story, kohinoor, kohinoor, diamond]</td>\n",
       "    </tr>\n",
       "  </tbody>\n",
       "</table>\n",
       "</div>"
      ],
      "text/plain": [
       "   id  qid1  qid2                                          question1  \\\n",
       "0   0     1     2  what is the step by step guide to invest in sh...   \n",
       "1   1     3     4     what is the story of kohinoor kohinoor diamond   \n",
       "\n",
       "                                           question2  is_duplicate  \\\n",
       "0  what is the step by step guide to invest in sh...             0   \n",
       "1     what is the story of kohinoor kohinoor diamond             0   \n",
       "\n",
       "                                     question1_spilt  \\\n",
       "0  [what, is, the, step, by, step, guide, to, inv...   \n",
       "1  [what, is, the, story, of, kohinoor, kohinoor,...   \n",
       "\n",
       "                                     question2_spilt  \\\n",
       "0  [what, is, the, step, by, step, guide, to, inv...   \n",
       "1  [what, is, the, story, of, kohinoor, kohinoor,...   \n",
       "\n",
       "                             question1_remove_swords  \\\n",
       "0  [step, step, guide, invest, share, market, india]   \n",
       "1               [story, kohinoor, kohinoor, diamond]   \n",
       "\n",
       "                             question2_remove_swords  \n",
       "0  [step, step, guide, invest, share, market, india]  \n",
       "1               [story, kohinoor, kohinoor, diamond]  "
      ]
     },
     "execution_count": 388,
     "metadata": {},
     "output_type": "execute_result"
    }
   ],
   "source": [
    "cln_data.head(2)"
   ]
  },
  {
   "cell_type": "markdown",
   "metadata": {},
   "source": [
    "## 5. 特征工程"
   ]
  },
  {
   "cell_type": "markdown",
   "metadata": {},
   "source": [
    "实际上特征工程也是在准备数据集，只是在原有数据集上进行加工了。原数据是文本数据不能作为训练模型的数据，因此必须通过特征工程提取特征，成为可以训练的定量数据"
   ]
  },
  {
   "cell_type": "code",
   "execution_count": 6,
   "metadata": {},
   "outputs": [],
   "source": [
    "# 数据准备，将cln_data数据集，该名称为data\n",
    "# data = cln_data\n",
    "data = train_data.dropna().copy()"
   ]
  },
  {
   "cell_type": "code",
   "execution_count": 7,
   "metadata": {},
   "outputs": [
    {
     "data": {
      "text/plain": [
       "(404287, 6)"
      ]
     },
     "execution_count": 7,
     "metadata": {},
     "output_type": "execute_result"
    }
   ],
   "source": [
    "data.shape"
   ]
  },
  {
   "cell_type": "markdown",
   "metadata": {},
   "source": [
    "### 5.1 基础特征工程（f1）"
   ]
  },
  {
   "cell_type": "code",
   "execution_count": 8,
   "metadata": {},
   "outputs": [],
   "source": [
    "# feature1：Length of question1\n",
    "data['len_q1'] = data.question1.apply(lambda x: len(str(x)))\n",
    "# feature2：Length of question2\n",
    "data['len_q2'] = data.question2.apply(lambda x: len(str(x)))\n",
    "# feature3：Difference in the two lengths\n",
    "data['diff_len'] = data.len_q1 - data.len_q2\n",
    "# feature4：Character length of question1 without spaces\n",
    "data['len_char_q1'] = data.question1.apply(lambda x: len(''.join(set(str(x).replace(' ', '')))))\n",
    "# feature5：Character length of question2 without spaces\n",
    "data['len_char_q2'] = data.question2.apply(lambda x: len(''.join(set(str(x).replace(' ', '')))))\n",
    "# feature6：Number of words in question1\n",
    "data['q1_n_words'] = data.question1.apply(lambda x: len(str(x).split()))\n",
    "# feature7：Number of words in question2\n",
    "data['q2_n_words'] = data.question2.apply(lambda x: len(str(x).split()))\n",
    "# feature8\n",
    "data['q_n_words_avg'] = np.round((data['q1_n_words'] + data['q2_n_words'])/2.0).astype(int)\n",
    "# feature9：Number of common words in question1 and question2\n",
    "data['common_words'] = data.apply(lambda x: len(set(str(x['question1']).lower().split()).intersection(set(str(x['question2']).lower().split()))), axis=1)"
   ]
  },
  {
   "cell_type": "code",
   "execution_count": 9,
   "metadata": {},
   "outputs": [],
   "source": [
    "# feature10(需要去除缺失值)\n",
    "def normalized_word_share(row):\n",
    "    w1 = set(map(lambda word: word.lower().strip(), row['question1'].split(\" \")))\n",
    "    w2 = set(map(lambda word: word.lower().strip(), row['question2'].split(\" \")))    \n",
    "    return 1.0 * len(w1 & w2)/(len(w1) + len(w2))\n",
    "# 写入特征\n",
    "data['word_share'] = data.apply(normalized_word_share, axis=1)"
   ]
  },
  {
   "cell_type": "code",
   "execution_count": 10,
   "metadata": {},
   "outputs": [],
   "source": [
    "f1 = ['len_q1', 'len_q2', 'diff_len', 'len_char_q1', 'len_char_q2', 'q1_n_words', 'q2_n_words', 'q_n_words_avg', 'common_words', 'word_share']"
   ]
  },
  {
   "cell_type": "code",
   "execution_count": 11,
   "metadata": {},
   "outputs": [
    {
     "data": {
      "text/plain": [
       "((404287, 16), (404287, 10))"
      ]
     },
     "execution_count": 11,
     "metadata": {},
     "output_type": "execute_result"
    }
   ],
   "source": [
    "data.shape, data[f1].shape"
   ]
  },
  {
   "cell_type": "markdown",
   "metadata": {},
   "source": [
    "### 5.2 fuzzy特征（f2）"
   ]
  },
  {
   "cell_type": "code",
   "execution_count": 83,
   "metadata": {},
   "outputs": [],
   "source": [
    "from fuzzywuzzy import fuzz\n",
    "from tqdm import tqdm\n",
    "from scipy.stats import skew, kurtosis\n",
    "from scipy.spatial.distance import cosine, cityblock, jaccard, canberra, euclidean, minkowski, braycurtis"
   ]
  },
  {
   "cell_type": "code",
   "execution_count": 84,
   "metadata": {},
   "outputs": [
    {
     "name": "stdout",
     "output_type": "stream",
     "text": [
      "程序运行时间137.25356602668762秒\n"
     ]
    }
   ],
   "source": [
    "start_time_fuzz_qratio = time.time()\n",
    "# feature\n",
    "data['fuzz_qratio'] = data.apply(lambda x: fuzz.QRatio(str(x['question1']), str(x['question2'])), axis=1)\n",
    "end_time_fuzz_qratio = time.time()\n",
    "print(\"程序运行时间{}秒\".format(end_time_fuzz_qratio-start_time_fuzz_qratio))"
   ]
  },
  {
   "cell_type": "code",
   "execution_count": 85,
   "metadata": {},
   "outputs": [
    {
     "name": "stdout",
     "output_type": "stream",
     "text": [
      "程序运行时间1118.1576180458069秒\n"
     ]
    }
   ],
   "source": [
    "start_time_fuzz_WRatio = time.time()\n",
    "# feature\n",
    "data['fuzz_WRatio'] = data.apply(lambda x: fuzz.WRatio(str(x['question1']), str(x['question2'])), axis=1)\n",
    "end_time_fuzz_WRatio = time.time()\n",
    "print(\"程序运行时间{}秒\".format(end_time_fuzz_WRatio-start_time_fuzz_WRatio))"
   ]
  },
  {
   "cell_type": "code",
   "execution_count": 86,
   "metadata": {},
   "outputs": [
    {
     "name": "stdout",
     "output_type": "stream",
     "text": [
      "程序运行时间867.0104179382324秒\n"
     ]
    }
   ],
   "source": [
    "start_time_fuzz_partial_ratio = time.time()\n",
    "# feature\n",
    "data['fuzz_partial_ratio'] = data.apply(lambda x: fuzz.partial_ratio(str(x['question1']), str(x['question2'])), axis=1)\n",
    "end_time_fuzz_partial_ratio = time.time()\n",
    "print(\"程序运行时间{}秒\".format(end_time_fuzz_partial_ratio-start_time_fuzz_partial_ratio))"
   ]
  },
  {
   "cell_type": "code",
   "execution_count": 87,
   "metadata": {},
   "outputs": [
    {
     "name": "stdout",
     "output_type": "stream",
     "text": [
      "程序运行时间881.5385100841522秒\n"
     ]
    }
   ],
   "source": [
    "start_time_fuzz_partial_token_set_ratio = time.time()\n",
    "# feature\n",
    "data['fuzz_partial_token_set_ratio'] = data.apply(lambda x: fuzz.partial_token_set_ratio(str(x['question1']), str(x['question2'])), axis=1)\n",
    "end_time_fuzz_partial_token_set_ratio = time.time()\n",
    "print(\"程序运行时间{}秒\".format(end_time_fuzz_partial_token_set_ratio-start_time_fuzz_partial_token_set_ratio))"
   ]
  },
  {
   "cell_type": "code",
   "execution_count": 88,
   "metadata": {},
   "outputs": [
    {
     "name": "stdout",
     "output_type": "stream",
     "text": [
      "程序运行时间986.1695880889893秒\n"
     ]
    }
   ],
   "source": [
    "start_time_fuzz_partial_token_sort_ratio = time.time()\n",
    "# feature\n",
    "data['fuzz_partial_token_sort_ratio'] = data.apply(lambda x: fuzz.partial_token_sort_ratio(str(x['question1']), str(x['question2'])), axis=1)\n",
    "end_time_fuzz_partial_token_sort_ratio = time.time()\n",
    "print(\"程序运行时间{}秒\".format(end_time_fuzz_partial_token_sort_ratio-start_time_fuzz_partial_token_sort_ratio))"
   ]
  },
  {
   "cell_type": "code",
   "execution_count": 89,
   "metadata": {},
   "outputs": [
    {
     "name": "stdout",
     "output_type": "stream",
     "text": [
      "程序运行时间192.46035599708557秒\n"
     ]
    }
   ],
   "source": [
    "start_time_fuzz_token_set_ratio = time.time()\n",
    "# feature\n",
    "data['fuzz_token_set_ratio'] = data.apply(lambda x: fuzz.token_set_ratio(str(x['question1']), str(x['question2'])), axis=1)\n",
    "end_time_fuzz_token_set_ratio = time.time()\n",
    "print(\"程序运行时间{}秒\".format(end_time_fuzz_token_set_ratio-start_time_fuzz_token_set_ratio))"
   ]
  },
  {
   "cell_type": "code",
   "execution_count": 90,
   "metadata": {},
   "outputs": [
    {
     "name": "stdout",
     "output_type": "stream",
     "text": [
      "程序运行时间140.31804633140564秒\n"
     ]
    }
   ],
   "source": [
    "start_time_fuzz_token_sort_ratio = time.time()\n",
    "# feature\n",
    "data['fuzz_token_sort_ratio'] = data.apply(lambda x: fuzz.token_sort_ratio(str(x['question1']), str(x['question2'])), axis=1)\n",
    "end_time_fuzz_token_sort_ratio = time.time()\n",
    "print(\"程序运行时间{}秒\".format(end_time_fuzz_token_sort_ratio-start_time_fuzz_token_sort_ratio))"
   ]
  },
  {
   "cell_type": "code",
   "execution_count": 91,
   "metadata": {},
   "outputs": [],
   "source": [
    "f2 = ['fuzz_qratio','fuzz_WRatio','fuzz_partial_ratio','fuzz_partial_token_set_ratio','fuzz_partial_token_sort_ratio','fuzz_token_set_ratio','fuzz_token_sort_ratio']"
   ]
  },
  {
   "cell_type": "markdown",
   "metadata": {},
   "source": [
    "### 5.3 TF-IDF和SVD特征（F3）"
   ]
  },
  {
   "cell_type": "markdown",
   "metadata": {},
   "source": [
    "##### 5.3.1 执行TF-IDF"
   ]
  },
  {
   "cell_type": "code",
   "execution_count": 74,
   "metadata": {},
   "outputs": [],
   "source": [
    "# ID-IDF,SVD特征FS3\n",
    "from sklearn.feature_extraction.text import TfidfVectorizer\n",
    "from copy import deepcopy\n",
    "tfv_q1 = TfidfVectorizer(min_df=3,\n",
    "                         max_features=None, \n",
    "                         strip_accents='unicode', \n",
    "                         analyzer='word', \n",
    "                         token_pattern=r'w{1,}', \n",
    "                         ngram_range=(1, 2), \n",
    "                         use_idf=1, smooth_idf=1, \n",
    "                         sublinear_tf=1, \n",
    "                         stop_words='english')\n",
    "tfv_q2 = deepcopy(tfv_q1)\n",
    "q1_tfidf = tfv_q1.fit_transform(data.question1.fillna(\"\"))\n",
    "q2_tfidf = tfv_q2.fit_transform(data.question2.fillna(\"\"))"
   ]
  },
  {
   "cell_type": "markdown",
   "metadata": {},
   "source": [
    "##### 5.3.2执行SVD"
   ]
  },
  {
   "cell_type": "markdown",
   "metadata": {},
   "source": [
    "About n_components Desired dimensionality of output data. Must be strictly less than the number of features. The default value is useful for visualisation. For LSA, a value of 100 is recommended."
   ]
  },
  {
   "cell_type": "code",
   "execution_count": 75,
   "metadata": {},
   "outputs": [],
   "source": [
    "# 创建SVD特征(我们选择了2个分量进行SVD分解，这些特征在TF-IDF矩阵上进行计算)\n",
    "from sklearn.decomposition import TruncatedSVD\n",
    "svd_q1 = TruncatedSVD(n_components=2, random_state=42)\n",
    "svd_q2 = TruncatedSVD(n_components=2, random_state=42)\n",
    "question1_vectors = svd_q1.fit_transform(q1_tfidf)\n",
    "question2_vectors = svd_q2.fit_transform(q2_tfidf)"
   ]
  },
  {
   "cell_type": "markdown",
   "metadata": {},
   "source": [
    "##### 5.3.3 F3_1"
   ]
  },
  {
   "cell_type": "code",
   "execution_count": 76,
   "metadata": {},
   "outputs": [],
   "source": [
    "# F3_1特征（qustion1和question2分别进行TF-IDF，再形成model）\n",
    "from scipy import sparse\n",
    "# obtain features by stacking the sparse matrices together\n",
    "f3_1 = sparse.hstack((q1_tfidf, q2_tfidf))\n"
   ]
  },
  {
   "cell_type": "markdown",
   "metadata": {},
   "source": [
    "##### 5.3.4 F3_2"
   ]
  },
  {
   "cell_type": "code",
   "execution_count": 77,
   "metadata": {},
   "outputs": [],
   "source": [
    "# F3_2特征（qustion1和question2合并进行TF-IDF形成model）\n",
    "tfv = TfidfVectorizer(min_df=3, \n",
    "                      max_features=None, \n",
    "                      strip_accents='unicode', \n",
    "                      analyzer='word', \n",
    "                      token_pattern=r'w{1,}',\n",
    "                      ngram_range=(1, 2), \n",
    "                      use_idf=1, \n",
    "                      smooth_idf=1, \n",
    "                      sublinear_tf=1,\n",
    "                      stop_words='english')\n",
    "# combine questions and calculate tf-idf\n",
    "q1q2 = data.question1.fillna(\"\") \n",
    "q1q2 += \" \" + data.question2.fillna(\"\")\n",
    "f3_2 = tfv.fit_transform(q1q2)\n"
   ]
  },
  {
   "cell_type": "markdown",
   "metadata": {},
   "source": [
    "##### 5.3.5 F3_3"
   ]
  },
  {
   "cell_type": "code",
   "execution_count": 78,
   "metadata": {},
   "outputs": [],
   "source": [
    "# FS3_3特征（qustion1和question2分别进行TF-IDF和SVD，再形成model）\n",
    "# obtain features by stacking the matrices together\n",
    "f3_3 = np.hstack((question1_vectors, question2_vectors))"
   ]
  },
  {
   "cell_type": "markdown",
   "metadata": {},
   "source": [
    "##### 5.3.6 F3_4"
   ]
  },
  {
   "cell_type": "code",
   "execution_count": 79,
   "metadata": {},
   "outputs": [],
   "source": [
    "svd_q1q2 = TruncatedSVD(n_components=3)\n",
    "f3_4 = svd_q1q2.fit_transform(f3_1)"
   ]
  },
  {
   "cell_type": "markdown",
   "metadata": {},
   "source": [
    "##### 5.3.7 F3_5"
   ]
  },
  {
   "cell_type": "code",
   "execution_count": 80,
   "metadata": {},
   "outputs": [],
   "source": [
    "f3_5 = svd_q1.fit_transform(f3_2)"
   ]
  },
  {
   "cell_type": "code",
   "execution_count": 81,
   "metadata": {},
   "outputs": [
    {
     "data": {
      "text/plain": [
       "(404287, 35)"
      ]
     },
     "execution_count": 81,
     "metadata": {},
     "output_type": "execute_result"
    }
   ],
   "source": [
    "data.shape"
   ]
  },
  {
   "cell_type": "markdown",
   "metadata": {},
   "source": [
    "### 5.4 距离特征（F4_1）"
   ]
  },
  {
   "cell_type": "code",
   "execution_count": 39,
   "metadata": {},
   "outputs": [],
   "source": [
    "import nltk\n",
    "from tqdm import tqdm\n",
    "from scipy.stats import skew, kurtosis\n",
    "from scipy.spatial.distance import cosine, cityblock, jaccard, canberra, euclidean, minkowski, braycurtis\n",
    "from nltk import word_tokenize\n",
    "# 英语停用词，停用词是用来去除的，因为停用词在NLP时没有实际意义\n",
    "from nltk.corpus import stopwords\n",
    "stop_words = stopwords.words('english') # 加载停用词"
   ]
  },
  {
   "cell_type": "code",
   "execution_count": 42,
   "metadata": {},
   "outputs": [
    {
     "name": "stderr",
     "output_type": "stream",
     "text": [
      "404287it [02:03, 3280.88it/s]\n",
      "404287it [01:40, 4025.54it/s]\n"
     ]
    },
    {
     "name": "stdout",
     "output_type": "stream",
     "text": [
      "程序运行时间609.6521821022034秒\n"
     ]
    }
   ],
   "source": [
    "start_time_sent2vec = time.time()\n",
    "# # F4特征 Word2vec =========\n",
    "def sent2vec(s):\n",
    "    words = str(s).lower()\n",
    "    words = word_tokenize(words)\n",
    "    words = [w for w in words if not w in stop_words]\n",
    "    words = [w for w in words if w.isalpha()]\n",
    "    M = []\n",
    "    for w in words:\n",
    "        try:\n",
    "            M.append(model[w])\n",
    "        except:\n",
    "            continue\n",
    "    M = np.array(M)\n",
    "    v = M.sum(axis=0)\n",
    "    return v / np.sqrt((v ** 2).sum())\n",
    "\n",
    "question1_vectors = np.zeros((data.shape[0], 300))\n",
    "error_count = 0\n",
    "for i, q in tqdm(enumerate(data.question1.values)):\n",
    "    question1_vectors[i, :] = sent2vec(q)\n",
    "\n",
    "question2_vectors  = np.zeros((data.shape[0], 300))\n",
    "for i, q in tqdm(enumerate(data.question2.values)):\n",
    "    question2_vectors[i, :] = sent2vec(q)\n",
    "\n",
    "data['cosine_distance'] = [cosine(x, y) for (x, y) in zip(np.nan_to_num(question1_vectors), np.nan_to_num(question2_vectors))]\n",
    "data['cityblock_distance'] = [cityblock(x, y) for (x, y) in zip(np.nan_to_num(question1_vectors), np.nan_to_num(question2_vectors))]\n",
    "data['jaccard_distance'] = [jaccard(x, y) for (x, y) in zip(np.nan_to_num(question1_vectors), np.nan_to_num(question2_vectors))]\n",
    "data['canberra_distance'] = [canberra(x, y) for (x, y) in zip(np.nan_to_num(question1_vectors), np.nan_to_num(question2_vectors))]\n",
    "data['euclidean_distance'] = [euclidean(x, y) for (x, y) in zip(np.nan_to_num(question1_vectors), np.nan_to_num(question2_vectors))]\n",
    "data['minkowski_distance'] = [minkowski(x, y, 3) for (x, y) in zip(np.nan_to_num(question1_vectors), np.nan_to_num(question2_vectors))]\n",
    "data['braycurtis_distance'] = [braycurtis(x, y) for (x, y) in zip(np.nan_to_num(question1_vectors), np.nan_to_num(question2_vectors))]\n",
    "data['skew_q1vec'] = [skew(x) for x in np.nan_to_num(question1_vectors)]\n",
    "data['skew_q2vec'] = [skew(x) for x in np.nan_to_num(question2_vectors)]\n",
    "data['kur_q1vec'] = [kurtosis(x) for x in np.nan_to_num(question1_vectors)]\n",
    "data['kur_q2vec'] = [kurtosis(x) for x in np.nan_to_num(question2_vectors)]\n",
    "end_time_sent2vec = time.time()\n",
    "print(\"程序运行时间{}秒\".format(end_time_sent2vec-start_time_sent2vec))"
   ]
  },
  {
   "cell_type": "code",
   "execution_count": 43,
   "metadata": {},
   "outputs": [],
   "source": [
    "f4_1 = ['cosine_distance', 'cityblock_distance', 'jaccard_distance', 'canberra_distance', 'euclidean_distance', 'minkowski_distance','braycurtis_distance']"
   ]
  },
  {
   "cell_type": "markdown",
   "metadata": {},
   "source": [
    "### 5.4 wmd特征（F4_2）"
   ]
  },
  {
   "cell_type": "markdown",
   "metadata": {},
   "source": [
    "#### 5.4.1 wmd"
   ]
  },
  {
   "cell_type": "code",
   "execution_count": 58,
   "metadata": {},
   "outputs": [],
   "source": [
    "import gensim"
   ]
  },
  {
   "cell_type": "code",
   "execution_count": 59,
   "metadata": {},
   "outputs": [],
   "source": [
    "# =========\n",
    "def wmd(s1, s2):\n",
    "    s1 = str(s1).lower().split()\n",
    "    s2 = str(s2).lower().split()\n",
    "    stop_words = stopwords.words('english')\n",
    "    s1 = [w for w in s1 if w not in stop_words]\n",
    "    s2 = [w for w in s2 if w not in stop_words]\n",
    "    return model.wmdistance(s1, s2)\n",
    "\n",
    "model = gensim.models.KeyedVectors.load_word2vec_format('./词向量_for_toxic/GoogleNews-vectors-negative300.bin.gz', binary=True)\n",
    "data['wmd'] = data.apply(lambda x: wmd(x['question1'], x['question2']), axis=1)\n"
   ]
  },
  {
   "cell_type": "markdown",
   "metadata": {},
   "source": [
    "#### 5.4.2 norm_wmd"
   ]
  },
  {
   "cell_type": "code",
   "execution_count": 60,
   "metadata": {},
   "outputs": [],
   "source": [
    "# =========\n",
    "def norm_wmd(s1, s2):\n",
    "    s1 = str(s1).lower().split()\n",
    "    s2 = str(s2).lower().split()\n",
    "    stop_words = stopwords.words('english')\n",
    "    s1 = [w for w in s1 if w not in stop_words]\n",
    "    s2 = [w for w in s2 if w not in stop_words]\n",
    "    return norm_model.wmdistance(s1, s2)\n",
    "\n",
    "norm_model = gensim.models.KeyedVectors.load_word2vec_format('./词向量_for_toxic/GoogleNews-vectors-negative300.bin.gz', binary=True)\n",
    "norm_model.init_sims(replace=True)\n",
    "data['norm_wmd'] = data.apply(lambda x: norm_wmd(x['question1'], x['question2']), axis=1)\n"
   ]
  },
  {
   "cell_type": "code",
   "execution_count": 61,
   "metadata": {},
   "outputs": [],
   "source": [
    "f4_2 = ['wmd', 'norm_wmd']"
   ]
  },
  {
   "cell_type": "markdown",
   "metadata": {},
   "source": [
    "### 5.5 散列特征（F5）"
   ]
  },
  {
   "cell_type": "markdown",
   "metadata": {},
   "source": [
    "在原来代码的基础上删掉test部分，只留下train部分"
   ]
  },
  {
   "cell_type": "code",
   "execution_count": 25,
   "metadata": {},
   "outputs": [],
   "source": [
    "train_data = train_data.dropna().copy()"
   ]
  },
  {
   "cell_type": "code",
   "execution_count": 26,
   "metadata": {},
   "outputs": [],
   "source": [
    "df1 = train_data[['question1']].copy()  # df1赋值，是训练集的question1列\n",
    "df2 = train_data[['question2']].copy()  # df2赋值，是训练集的question2列\n",
    "df1_test = test_data[['question1']].copy()  # df1_test赋值，是训练集的question1列\n",
    "df2_test = test_data[['question2']].copy()  # df2_test赋值，是训练集的question2列\n",
    "df2.rename(columns = {'question2':'question1'},inplace=True)  # 将df2列名修改为question1\n",
    "df2_test.rename(columns = {'question2':'question1'},inplace=True)  # 将df2_test列名修改为question1\n",
    "train_questions = df1.append(df2)  # train_questions是df1+df2(这也解释了前面为什么修改列名)\n",
    "train_questions = train_questions.append(df1_test)\n",
    "train_questions = train_questions.append(df2_test)  # 构造出一个全新的问题集，将训练集和测试集的所有问题全部追加成成一列\n",
    "#train_questions.drop_duplicates(subset = ['qid1'],inplace=True)\n",
    "train_questions.drop_duplicates(subset = ['question1'],inplace=True)  # drop_duplicates去除question列的重复\n",
    "train_questions.reset_index(inplace=True,drop=True) # reset_index去除question列的重复\n",
    "questions_dict = pd.Series(train_questions.index.values,index=train_questions.question1.values).to_dict()\n",
    "# questions_dict是构造好的能够被映射的dict字典\n",
    "train_cp = train_data.copy()\n",
    "test_cp = test_data.copy()\n",
    "train_cp.drop(['qid1','qid2'],axis=1,inplace=True)\n",
    "test_cp['is_duplicate'] = -1\n",
    "test_cp.rename(columns={'test_id':'id'},inplace=True)\n",
    "train_cp['q1_hash'] = train_cp['question1'].map(questions_dict)\n",
    "train_cp['q2_hash'] = train_cp['question2'].map(questions_dict)"
   ]
  },
  {
   "cell_type": "code",
   "execution_count": 27,
   "metadata": {},
   "outputs": [],
   "source": [
    "q1_vc = train_cp.q1_hash.value_counts().to_dict()\n",
    "q2_vc = train_cp.q2_hash.value_counts().to_dict()\n",
    "\n",
    "def try_apply_dict(x,dict_to_apply):\n",
    "    try:\n",
    "        return dict_to_apply[x]\n",
    "    except KeyError:\n",
    "        return 0\n",
    "#map to frequency space\n",
    "train_cp['q1_freq'] = train_cp['q1_hash'].map(lambda x: try_apply_dict(x,q1_vc) + try_apply_dict(x,q2_vc))\n",
    "train_cp['q2_freq'] = train_cp['q2_hash'].map(lambda x: try_apply_dict(x,q1_vc) + try_apply_dict(x,q2_vc))"
   ]
  },
  {
   "cell_type": "code",
   "execution_count": 28,
   "metadata": {},
   "outputs": [],
   "source": [
    "data['q1_hash'] = train_cp['q1_hash']\n",
    "data['q2_hash'] = train_cp['q2_hash']\n",
    "data['q1_freq'] = train_cp['q1_freq']\n",
    "data['q2_freq'] = train_cp['q2_freq']"
   ]
  },
  {
   "cell_type": "code",
   "execution_count": 29,
   "metadata": {},
   "outputs": [],
   "source": [
    "f5 = ['q1_hash', 'q2_hash', 'q1_freq', 'q2_freq']"
   ]
  },
  {
   "cell_type": "code",
   "execution_count": 30,
   "metadata": {},
   "outputs": [
    {
     "data": {
      "text/plain": [
       "(404287, 22)"
      ]
     },
     "execution_count": 30,
     "metadata": {},
     "output_type": "execute_result"
    }
   ],
   "source": [
    "data.shape"
   ]
  },
  {
   "cell_type": "markdown",
   "metadata": {},
   "source": [
    "### 5.6 word_match特征（f6）"
   ]
  },
  {
   "cell_type": "code",
   "execution_count": 12,
   "metadata": {},
   "outputs": [],
   "source": [
    "import numpy as np # linear algebra\n",
    "import pandas as pd # data processing, CSV file I/O (e.g. pd.read_csv)\n",
    "import os\n",
    "import gc\n",
    "import matplotlib.pyplot as plt\n",
    "import seaborn as sns\n",
    "df_train = train_data.dropna().copy()"
   ]
  },
  {
   "cell_type": "markdown",
   "metadata": {},
   "source": [
    "##### 5.6.1 word_match特征"
   ]
  },
  {
   "cell_type": "code",
   "execution_count": 13,
   "metadata": {},
   "outputs": [],
   "source": [
    "# First we create our training and testing data\n",
    "x_train = pd.DataFrame()\n",
    "# 特征word_match\n",
    "from nltk.corpus import stopwords\n",
    "stops = set(stopwords.words(\"english\"))\n",
    "def word_match_share(row):\n",
    "    q1words = {}\n",
    "    q2words = {}\n",
    "    for word in str(row['question1']).lower().split():\n",
    "        if word not in stops:\n",
    "            q1words[word] = 1\n",
    "    for word in str(row['question2']).lower().split():\n",
    "        if word not in stops:\n",
    "            q2words[word] = 1\n",
    "    if len(q1words) == 0 or len(q2words) == 0:\n",
    "        # The computer-generated chaff includes a few questions that are nothing but stopwords\n",
    "        return 0\n",
    "    shared_words_in_q1 = [w for w in q1words.keys() if w in q2words]\n",
    "    shared_words_in_q2 = [w for w in q2words.keys() if w in q1words]\n",
    "    R = (len(shared_words_in_q1) + len(shared_words_in_q2))/(len(q1words) + len(q2words))\n",
    "    return R\n",
    "\n",
    "train_word_match = df_train.apply(word_match_share, axis=1, raw=True)\n",
    "x_train['word_match'] = train_word_match"
   ]
  },
  {
   "cell_type": "markdown",
   "metadata": {},
   "source": [
    "##### 5.6.2 tfidf_word_match特征"
   ]
  },
  {
   "cell_type": "code",
   "execution_count": 14,
   "metadata": {},
   "outputs": [],
   "source": [
    "train_qs = pd.Series(df_train['question1'].tolist() + df_train['question2'].tolist()).astype(str)\n",
    "# 特征tfidf_word_match\n",
    "from collections import Counter\n",
    "# If a word appears only once, we ignore it completely (likely a typo)\n",
    "# Epsilon defines a smoothing constant, which makes the effect of extremely rare words smaller\n",
    "def get_weight(count, eps=10000, min_count=2):\n",
    "    if count < min_count:\n",
    "        return 0\n",
    "    else:\n",
    "        return 1 / (count + eps)\n",
    "\n",
    "eps = 5000 \n",
    "words = (\" \".join(train_qs)).lower().split()\n",
    "counts = Counter(words)\n",
    "weights = {word: get_weight(count) for word, count in counts.items()}\n",
    "\n",
    "def tfidf_word_match_share(row):\n",
    "    q1words = {}\n",
    "    q2words = {}\n",
    "    for word in str(row['question1']).lower().split():\n",
    "        if word not in stops:\n",
    "            q1words[word] = 1\n",
    "    for word in str(row['question2']).lower().split():\n",
    "        if word not in stops:\n",
    "            q2words[word] = 1\n",
    "    if len(q1words) == 0 or len(q2words) == 0:\n",
    "        # The computer-generated chaff includes a few questions that are nothing but stopwords\n",
    "        return 0\n",
    "    \n",
    "    shared_weights = [weights.get(w, 0) for w in q1words.keys() if w in q2words] + [weights.get(w, 0) for w in q2words.keys() if w in q1words]\n",
    "    total_weights = [weights.get(w, 0) for w in q1words] + [weights.get(w, 0) for w in q2words]\n",
    "    \n",
    "    R = np.sum(shared_weights) / np.sum(total_weights)\n",
    "    return R\n",
    "\n",
    "tfidf_train_word_match = df_train.apply(tfidf_word_match_share, axis=1, raw=True)\n",
    "x_train['tfidf_word_match'] = tfidf_train_word_match"
   ]
  },
  {
   "cell_type": "code",
   "execution_count": 15,
   "metadata": {},
   "outputs": [],
   "source": [
    "data['word_match'] = x_train['word_match']\n",
    "data['tfidf_word_match'] = x_train['tfidf_word_match']"
   ]
  },
  {
   "cell_type": "code",
   "execution_count": 16,
   "metadata": {},
   "outputs": [],
   "source": [
    "f6 = ['word_match','tfidf_word_match']"
   ]
  },
  {
   "cell_type": "code",
   "execution_count": 17,
   "metadata": {},
   "outputs": [
    {
     "data": {
      "text/plain": [
       "((404287, 18), (404287, 2))"
      ]
     },
     "execution_count": 17,
     "metadata": {},
     "output_type": "execute_result"
    }
   ],
   "source": [
    "data.shape, data[f6].shape"
   ]
  },
  {
   "cell_type": "markdown",
   "metadata": {},
   "source": [
    "### 5.7 特征q1_q2_intersect（f7）"
   ]
  },
  {
   "cell_type": "code",
   "execution_count": 99,
   "metadata": {},
   "outputs": [],
   "source": [
    "# f7特征q1_q2_intersect\n",
    "ques = pd.concat([train_data[['question1', 'question2']],test_data[['question1', 'question2']]], axis=0).reset_index(drop='index')\n",
    "from collections import defaultdict\n",
    "q_dict = defaultdict(set)\n",
    "for i in range(ques.shape[0]):\n",
    "    q_dict[ques.question1[i]].add(ques.question2[i])\n",
    "    q_dict[ques.question2[i]].add(ques.question1[i])\n",
    "\n",
    "def q1_q2_intersect(row):\n",
    "    return(len(set(q_dict[row['question1']]).intersection(set(q_dict[row['question2']]))))\n",
    "\n",
    "data['q1_q2_intersect'] = train_data.apply(q1_q2_intersect, axis=1, raw=True)"
   ]
  },
  {
   "cell_type": "code",
   "execution_count": 100,
   "metadata": {},
   "outputs": [],
   "source": [
    "f7 = ['q1_q2_intersect']"
   ]
  },
  {
   "cell_type": "markdown",
   "metadata": {},
   "source": [
    "### 5.8 特征（f8）"
   ]
  },
  {
   "cell_type": "code",
   "execution_count": 247,
   "metadata": {},
   "outputs": [],
   "source": [
    "from collections import defaultdict\n",
    "from nltk.corpus import stopwords\n",
    "stops = set(stopwords.words(\"english\"))\n",
    "# 加载数据\n",
    "train_orig =  train_data\n",
    "test_orig =  test_data\n",
    "question = pd.concat([train_orig[['question1', 'question2']],test_orig[['question1', 'question2']]], axis=0).reset_index(drop='index')\n",
    "\n",
    "def word_match_share(q1, q2, stops=None):\n",
    "    q1 = str(q1).lower().split()\n",
    "    q2 = str(q2).lower().split()\n",
    "    q1words = {}\n",
    "    q2words = {}\n",
    "    for word in q1:\n",
    "        if word not in stops:\n",
    "            q1words[word] = 1\n",
    "    for word in q2:\n",
    "        if word not in stops:\n",
    "            q2words[word] = 1\n",
    "    if len(q1words) == 0 or len(q2words) == 0:\n",
    "        # The computer-generated chaff includes a few questions that are nothing but stopwords\n",
    "        return 0.\n",
    "    shared_words_in_q1 = [w for w in q1words.keys() if w in q2words]\n",
    "    shared_words_in_q2 = [w for w in q2words.keys() if w in q1words]\n",
    "    R = (len(shared_words_in_q1) + len(shared_words_in_q2))/(len(q1words) + len(q2words))\n",
    "    return R\n",
    "\n",
    "q_dict = defaultdict(dict)\n",
    "for i in range(question.shape[0]):\n",
    "    wm = word_match_share(question.question1[i], question.question2[i], stops=stops)\n",
    "    q_dict[question.question1[i]][question.question2[i]] = wm\n",
    "    q_dict[question.question2[i]][question.question1[i]] = wm\n",
    "\n",
    "# def q1_q2_intersect(row):\n",
    "#     return(len(set(q_dict[row['question1']]).intersection(set(q_dict[row['question2']]))))\n",
    "def q1_q2_wm_ratio(row):\n",
    "    q1 = q_dict[row['question1']]\n",
    "    q2 = q_dict[row['question2']]\n",
    "    inter_keys = set(q1.keys()).intersection(set(q2.keys()))\n",
    "    if(len(inter_keys) == 0): return 0.\n",
    "    inter_wm = 0.\n",
    "    total_wm = 0.\n",
    "    for q,wm in q1.items():\n",
    "        if q in inter_keys:\n",
    "            inter_wm += wm\n",
    "        total_wm += wm\n",
    "    for q,wm in q2.items():\n",
    "        if q in inter_keys:\n",
    "            inter_wm += wm\n",
    "        total_wm += wm\n",
    "    if(total_wm == 0.): return 0.\n",
    "    return inter_wm/total_wm\n",
    "\n",
    "train_orig['q1_q2_wm_ratio'] = train_orig.apply(q1_q2_wm_ratio, axis=1, raw=True)"
   ]
  },
  {
   "cell_type": "code",
   "execution_count": 251,
   "metadata": {},
   "outputs": [],
   "source": [
    "data['q1_q2_wm_ratio'] = train_orig['q1_q2_wm_ratio']"
   ]
  },
  {
   "cell_type": "code",
   "execution_count": 271,
   "metadata": {},
   "outputs": [],
   "source": [
    "f8 = ['q1_q2_wm_ratio']"
   ]
  },
  {
   "cell_type": "markdown",
   "metadata": {},
   "source": [
    "### 5.9 特征（f9）"
   ]
  },
  {
   "cell_type": "code",
   "execution_count": 263,
   "metadata": {},
   "outputs": [],
   "source": [
    "import networkx as nx\n",
    "from itertools import combinations\n",
    "\n",
    "G = nx.Graph()\n",
    "df = train_data.fillna(\"\")\n",
    "\n",
    "edges = [tuple(x) for x in df[['question1', 'question2']].values]\n",
    "G.add_edges_from(edges)\n",
    "\n",
    "map_label = dict(((x[0], x[1]), x[2]) for x in df[['question1', 'question2', 'is_duplicate']].values)\n",
    "map_clique_size = {}\n",
    "cliques = sorted(list(nx.find_cliques(G)), key=lambda x: len(x))\n",
    "for cli in cliques:\n",
    "    for q1, q2 in combinations(cli, 2):\n",
    "        if (q1, q2) in map_label:\n",
    "            map_clique_size[q1, q2] = len(cli)\n",
    "        elif (q2, q1) in map_label:\n",
    "            map_clique_size[q2, q1] = len(cli)\n",
    "df['clique_size'] = df.apply(lambda row: map_clique_size.get((row['question1'], row['question2']), -1), axis=1)"
   ]
  },
  {
   "cell_type": "code",
   "execution_count": 269,
   "metadata": {},
   "outputs": [],
   "source": [
    "data['clique_size'] = df['clique_size']"
   ]
  },
  {
   "cell_type": "code",
   "execution_count": 272,
   "metadata": {},
   "outputs": [],
   "source": [
    "f9 = ['clique_size']"
   ]
  },
  {
   "cell_type": "markdown",
   "metadata": {},
   "source": [
    "### 5.10 特征（f10）"
   ]
  },
  {
   "cell_type": "code",
   "execution_count": 284,
   "metadata": {
    "scrolled": true
   },
   "outputs": [],
   "source": [
    "train_data = train_data.drop(['q1_q2_intersect', 'q1_freq', 'q2_freq', 'q1_q2_wm_ratio'], axis=1)"
   ]
  },
  {
   "cell_type": "code",
   "execution_count": 285,
   "metadata": {},
   "outputs": [],
   "source": [
    "import pandas as pd               \n",
    "df_train10 = train_data.fillna(\"\")\n",
    "\n",
    "#Generating a graph of Questions and their neighbors\n",
    "def generate_qid_graph_table(row):\n",
    "    hash_key1 = row[\"qid1\"]\n",
    "    hash_key2 = row[\"qid2\"]\n",
    "    # Python 字典 setdefault()函数和get()方法类似, 如果键不存在于字典中，将会添加键并将值设为默认值。   \n",
    "    qid_graph.setdefault(hash_key1, []).append(hash_key2)\n",
    "    qid_graph.setdefault(hash_key2, []).append(hash_key1)\n",
    "\n",
    "qid_graph = {}\n",
    "df_train10.apply(generate_qid_graph_table, axis = 1)\n",
    "\n",
    "def pagerank():\n",
    "    MAX_ITER = 20 # 迭代次数\n",
    "    d = 0.85\n",
    "    # 初始化：使每个节点都有一个统一的值\n",
    "    pagerank_dict = {i:1/len(qid_graph) for i in qid_graph}\n",
    "    num_nodes = len(pagerank_dict)    \n",
    "    for iter in range(0, MAX_ITER):        \n",
    "        for node in qid_graph:    \n",
    "            local_pr = 0           \n",
    "            for neighbor in qid_graph[node]:\n",
    "                local_pr += pagerank_dict[neighbor]/len(qid_graph[neighbor])\n",
    "            pagerank_dict[node] = (1-d)/num_nodes + d*local_pr\n",
    "    return pagerank_dict\n",
    "\n",
    "pagerank_dict = pagerank()\n",
    "\n",
    "def get_pagerank_value(row):\n",
    "    return pd.Series({\n",
    "        \"q1_pr\": pagerank_dict[row[\"qid1\"]],\n",
    "        \"q2_pr\": pagerank_dict[row[\"qid2\"]]\n",
    "    })\n",
    "\n",
    "pagerank_feats_train = df_train10.apply(get_pagerank_value, axis = 1);"
   ]
  },
  {
   "cell_type": "code",
   "execution_count": 289,
   "metadata": {},
   "outputs": [],
   "source": [
    "data['q1_pr'] = pagerank_feats_train['q1_pr']\n",
    "data['q2_pr'] = pagerank_feats_train['q2_pr']"
   ]
  },
  {
   "cell_type": "code",
   "execution_count": 290,
   "metadata": {},
   "outputs": [],
   "source": [
    "f10 = ['q1_pr', 'q2_pr']"
   ]
  },
  {
   "cell_type": "markdown",
   "metadata": {},
   "source": [
    "### 5.10 存储特征工程"
   ]
  },
  {
   "cell_type": "code",
   "execution_count": 108,
   "metadata": {},
   "outputs": [
    {
     "data": {
      "text/html": [
       "<div>\n",
       "<style scoped>\n",
       "    .dataframe tbody tr th:only-of-type {\n",
       "        vertical-align: middle;\n",
       "    }\n",
       "\n",
       "    .dataframe tbody tr th {\n",
       "        vertical-align: top;\n",
       "    }\n",
       "\n",
       "    .dataframe thead th {\n",
       "        text-align: right;\n",
       "    }\n",
       "</style>\n",
       "<table border=\"1\" class=\"dataframe\">\n",
       "  <thead>\n",
       "    <tr style=\"text-align: right;\">\n",
       "      <th></th>\n",
       "      <th>id</th>\n",
       "      <th>qid1</th>\n",
       "      <th>qid2</th>\n",
       "      <th>question1</th>\n",
       "      <th>question2</th>\n",
       "      <th>is_duplicate</th>\n",
       "      <th>len_q1</th>\n",
       "      <th>len_q2</th>\n",
       "      <th>diff_len</th>\n",
       "      <th>len_char_q1</th>\n",
       "      <th>...</th>\n",
       "      <th>wmd</th>\n",
       "      <th>norm_wmd</th>\n",
       "      <th>fuzz_qratio</th>\n",
       "      <th>fuzz_WRatio</th>\n",
       "      <th>fuzz_partial_ratio</th>\n",
       "      <th>fuzz_partial_token_set_ratio</th>\n",
       "      <th>fuzz_partial_token_sort_ratio</th>\n",
       "      <th>fuzz_token_set_ratio</th>\n",
       "      <th>fuzz_token_sort_ratio</th>\n",
       "      <th>q1_q2_intersect</th>\n",
       "    </tr>\n",
       "  </thead>\n",
       "  <tbody>\n",
       "    <tr>\n",
       "      <th>0</th>\n",
       "      <td>0</td>\n",
       "      <td>1</td>\n",
       "      <td>2</td>\n",
       "      <td>What is the step by step guide to invest in sh...</td>\n",
       "      <td>What is the step by step guide to invest in sh...</td>\n",
       "      <td>0</td>\n",
       "      <td>66</td>\n",
       "      <td>57</td>\n",
       "      <td>9</td>\n",
       "      <td>20</td>\n",
       "      <td>...</td>\n",
       "      <td>0.564615</td>\n",
       "      <td>0.217555</td>\n",
       "      <td>93</td>\n",
       "      <td>95</td>\n",
       "      <td>98</td>\n",
       "      <td>100</td>\n",
       "      <td>88</td>\n",
       "      <td>100</td>\n",
       "      <td>93</td>\n",
       "      <td>0</td>\n",
       "    </tr>\n",
       "    <tr>\n",
       "      <th>1</th>\n",
       "      <td>1</td>\n",
       "      <td>3</td>\n",
       "      <td>4</td>\n",
       "      <td>What is the story of Kohinoor (Koh-i-Noor) Dia...</td>\n",
       "      <td>What would happen if the Indian government sto...</td>\n",
       "      <td>0</td>\n",
       "      <td>51</td>\n",
       "      <td>88</td>\n",
       "      <td>-37</td>\n",
       "      <td>21</td>\n",
       "      <td>...</td>\n",
       "      <td>3.772346</td>\n",
       "      <td>1.368796</td>\n",
       "      <td>66</td>\n",
       "      <td>86</td>\n",
       "      <td>73</td>\n",
       "      <td>100</td>\n",
       "      <td>73</td>\n",
       "      <td>86</td>\n",
       "      <td>63</td>\n",
       "      <td>0</td>\n",
       "    </tr>\n",
       "  </tbody>\n",
       "</table>\n",
       "<p>2 rows × 43 columns</p>\n",
       "</div>"
      ],
      "text/plain": [
       "   id  qid1  qid2                                          question1  \\\n",
       "0   0     1     2  What is the step by step guide to invest in sh...   \n",
       "1   1     3     4  What is the story of Kohinoor (Koh-i-Noor) Dia...   \n",
       "\n",
       "                                           question2  is_duplicate  len_q1  \\\n",
       "0  What is the step by step guide to invest in sh...             0      66   \n",
       "1  What would happen if the Indian government sto...             0      51   \n",
       "\n",
       "   len_q2  diff_len  len_char_q1       ...              wmd  norm_wmd  \\\n",
       "0      57         9           20       ...         0.564615  0.217555   \n",
       "1      88       -37           21       ...         3.772346  1.368796   \n",
       "\n",
       "   fuzz_qratio  fuzz_WRatio  fuzz_partial_ratio  fuzz_partial_token_set_ratio  \\\n",
       "0           93           95                  98                           100   \n",
       "1           66           86                  73                           100   \n",
       "\n",
       "   fuzz_partial_token_sort_ratio  fuzz_token_set_ratio  fuzz_token_sort_ratio  \\\n",
       "0                             88                   100                     93   \n",
       "1                             73                    86                     63   \n",
       "\n",
       "   q1_q2_intersect  \n",
       "0                0  \n",
       "1                0  \n",
       "\n",
       "[2 rows x 43 columns]"
      ]
     },
     "execution_count": 108,
     "metadata": {},
     "output_type": "execute_result"
    }
   ],
   "source": [
    "# 将完成的特征写入新的CSV文件存储\n",
    "import csv\n",
    "data.to_csv('./features_file/quora_features.csv', index=False)\n",
    "data.head(2)  # 查看存储是否成功，如成功则打印出前三行数据"
   ]
  },
  {
   "cell_type": "markdown",
   "metadata": {},
   "source": [
    "## 6. logistic回归"
   ]
  },
  {
   "cell_type": "markdown",
   "metadata": {},
   "source": [
    "### 6.1 构造训练集和验证集"
   ]
  },
  {
   "cell_type": "code",
   "execution_count": 109,
   "metadata": {},
   "outputs": [],
   "source": [
    "# 导入包和机器学习模型\n",
    "from sklearn import linear_model\n",
    "from sklearn.preprocessing import StandardScaler"
   ]
  },
  {
   "cell_type": "code",
   "execution_count": 110,
   "metadata": {},
   "outputs": [],
   "source": [
    "# 构建测试数据\n",
    "scaler = StandardScaler()\n",
    "y = data.is_duplicate.values\n",
    "y = y.astype('float32').reshape(-1, 1)\n",
    "X = data[f1+f2+f4_1+f4_2+f5]\n",
    "X = X.replace([np.inf, -np.inf], np.nan).fillna(0).values\n",
    "X = scaler.fit_transform(X)\n",
    "X = np.hstack((X, f3_3))\n",
    "X = np.hstack((X, f3_4))\n",
    "X = np.hstack((X, f3_5))\n",
    "# 我们还选择了训练数据用于通过滤波该第一F1，F2，F4_1，和F4_2设置的变量，并且随后堆叠这些F3_3稀疏矩阵SVD数据。"
   ]
  },
  {
   "cell_type": "code",
   "execution_count": 111,
   "metadata": {},
   "outputs": [],
   "source": [
    "# 准备训练数据集合验证数据集\n",
    "# 我们还提供随机裂片分离1/10的数据用于验证目的(为了有效评估产生的模型)：\n",
    "np.random.seed(42)\n",
    "n_all, _ = y.shape\n",
    "idx = np.arange(n_all)\n",
    "np.random.shuffle(idx)\n",
    "n_split = n_all // 10\n",
    "idx_val = idx[:n_split]\n",
    "idx_train = idx[n_split:]\n",
    "# 构造训练集验证集\n",
    "x_train_set = X[idx_train]  # 训练数据特征\n",
    "y_train_set = np.ravel(y[idx_train]) # 训练数据标签\n",
    "x_val_set = X[idx_val]  # 验证数据特征\n",
    "y_val_set = np.ravel(y[idx_val])  # 验证数据标签"
   ]
  },
  {
   "cell_type": "code",
   "execution_count": 112,
   "metadata": {},
   "outputs": [
    {
     "data": {
      "text/plain": [
       "((363859, 39), (363859,), (40428, 39), (40428,))"
      ]
     },
     "execution_count": 112,
     "metadata": {},
     "output_type": "execute_result"
    }
   ],
   "source": [
    "x_train_set.shape, y_train_set.shape, x_val_set.shape, y_val_set.shape"
   ]
  },
  {
   "cell_type": "markdown",
   "metadata": {},
   "source": [
    "### 6.2 logistic回归模型训练"
   ]
  },
  {
   "cell_type": "code",
   "execution_count": 114,
   "metadata": {},
   "outputs": [
    {
     "name": "stdout",
     "output_type": "stream",
     "text": [
      "Logistic regr accuracy: 0.754\n"
     ]
    }
   ],
   "source": [
    "# 训练模型\n",
    "# 作为第一模型，逻辑回归、L2正则化参数设定为0.1C(适度调整)。一旦模型已就绪，我们测试其功效的验证集(X_VAL培训矩阵，Y_VAL)为正确答案。\n",
    "# 对结果进行评估的精度，是精确比例的猜测对验证集合：\n",
    "# 执行logistic回归模型\n",
    "logres = linear_model.LogisticRegression(C=0.1, solver='sag', max_iter=1000)\n",
    "logres.fit(x_train_set, y_train_set)\n",
    "lr_preds = logres.predict(x_val_set)\n",
    "log_res_accuracy = np.sum(lr_preds == y_val_set) / len(y_val_set)\n",
    "print(\"Logistic regr accuracy: %0.3f\" % log_res_accuracy)"
   ]
  },
  {
   "cell_type": "code",
   "execution_count": 115,
   "metadata": {},
   "outputs": [
    {
     "name": "stdout",
     "output_type": "stream",
     "text": [
      "对数损失函数值： 0.462675968762\n"
     ]
    }
   ],
   "source": [
    "# 查看logloss\n",
    "from sklearn.metrics import log_loss\n",
    "y_pred_logistic_log = logres.predict_proba(x_val_set)\n",
    "score_logistic = log_loss(y_val_set, y_pred_logistic_log)\n",
    "print(\"对数损失函数值：\",score_logistic)"
   ]
  },
  {
   "cell_type": "markdown",
   "metadata": {},
   "source": [
    "### 6.3 随机森林"
   ]
  },
  {
   "cell_type": "code",
   "execution_count": 209,
   "metadata": {},
   "outputs": [
    {
     "data": {
      "text/plain": [
       "RandomForestClassifier(bootstrap=True, class_weight=None, criterion='gini',\n",
       "            max_depth=20, max_features='auto', max_leaf_nodes=None,\n",
       "            min_impurity_decrease=0.0, min_impurity_split=None,\n",
       "            min_samples_leaf=1, min_samples_split=2,\n",
       "            min_weight_fraction_leaf=0.0, n_estimators=100, n_jobs=1,\n",
       "            oob_score=False, random_state=0, verbose=0, warm_start=False)"
      ]
     },
     "execution_count": 209,
     "metadata": {},
     "output_type": "execute_result"
    }
   ],
   "source": [
    "from sklearn.ensemble import RandomForestClassifier\n",
    "model_randomforest = RandomForestClassifier(n_estimators=100, max_depth=20, random_state=0)\n",
    "model_randomforest.fit(x_train_set, y_train_set)"
   ]
  },
  {
   "cell_type": "code",
   "execution_count": 210,
   "metadata": {},
   "outputs": [
    {
     "name": "stdout",
     "output_type": "stream",
     "text": [
      "准确率： 0.847630355199\n"
     ]
    }
   ],
   "source": [
    "from sklearn.metrics import accuracy_score\n",
    "y_val_pres = model_randomforest.predict(x_val_set)\n",
    "print('准确率：', accuracy_score(y_val_set, y_val_pres))"
   ]
  },
  {
   "cell_type": "code",
   "execution_count": 212,
   "metadata": {},
   "outputs": [
    {
     "name": "stdout",
     "output_type": "stream",
     "text": [
      "对数损失函数值： 0.32563975926\n"
     ]
    }
   ],
   "source": [
    "# from sklearn.metrics import log_loss\n",
    "y_val_pre = model_randomforest.predict_proba(x_val_set)\n",
    "\n",
    "score_logistic = log_loss(y_val_set, y_val_pre)\n",
    "print(\"对数损失函数值：\",score_logistic)"
   ]
  },
  {
   "cell_type": "markdown",
   "metadata": {},
   "source": [
    "## 7. XGboost"
   ]
  },
  {
   "cell_type": "markdown",
   "metadata": {},
   "source": [
    "### 7.1 构造训练集和验证集"
   ]
  },
  {
   "cell_type": "code",
   "execution_count": 18,
   "metadata": {},
   "outputs": [
    {
     "name": "stdout",
     "output_type": "stream",
     "text": [
      "0.1912434159697727\n"
     ]
    }
   ],
   "source": [
    "# First we create our training and testing data\n",
    "x_train = pd.DataFrame()\n",
    "x_train['word_match'] = data['word_match']\n",
    "x_train['tfidf_word_match'] = data['tfidf_word_match']\n",
    "y_train = data['is_duplicate'].values\n",
    "\n",
    "pos_train = x_train[y_train == 1]\n",
    "neg_train = x_train[y_train == 0]\n",
    "\n",
    "# Now we oversample the negative class\n",
    "# There is likely a much more elegant way to do this...\n",
    "p = 0.165\n",
    "scale = ((len(pos_train) / (len(pos_train) + len(neg_train))) / p) - 1\n",
    "while scale > 1:\n",
    "    neg_train = pd.concat([neg_train, neg_train])\n",
    "    scale -=1\n",
    "neg_train = pd.concat([neg_train, neg_train[:int(scale * len(neg_train))]])\n",
    "print(len(pos_train) / (len(pos_train) + len(neg_train)))\n",
    "\n",
    "x_train = pd.concat([pos_train, neg_train])\n",
    "y_train = (np.zeros(len(pos_train)) + 1).tolist() + np.zeros(len(neg_train)).tolist()\n",
    "del pos_train, neg_train"
   ]
  },
  {
   "cell_type": "code",
   "execution_count": 19,
   "metadata": {},
   "outputs": [],
   "source": [
    "x_train[f1] = data[f1]"
   ]
  },
  {
   "cell_type": "code",
   "execution_count": 31,
   "metadata": {},
   "outputs": [],
   "source": [
    "x_train[f5] = data[f5]"
   ]
  },
  {
   "cell_type": "code",
   "execution_count": 68,
   "metadata": {},
   "outputs": [],
   "source": [
    "x_train[f4_1] = data[f4_1]"
   ]
  },
  {
   "cell_type": "code",
   "execution_count": 62,
   "metadata": {},
   "outputs": [],
   "source": [
    "x_train[f4_2] = data[f4_2]"
   ]
  },
  {
   "cell_type": "code",
   "execution_count": 92,
   "metadata": {},
   "outputs": [],
   "source": [
    "x_train[f2] = data[f2]"
   ]
  },
  {
   "cell_type": "code",
   "execution_count": 101,
   "metadata": {},
   "outputs": [],
   "source": [
    "x_train[f7] = data[f7]"
   ]
  },
  {
   "cell_type": "code",
   "execution_count": 253,
   "metadata": {},
   "outputs": [],
   "source": [
    "x_train[f8] = data[f8]"
   ]
  },
  {
   "cell_type": "code",
   "execution_count": 273,
   "metadata": {},
   "outputs": [],
   "source": [
    "x_train[f9] = data[f9]"
   ]
  },
  {
   "cell_type": "code",
   "execution_count": 291,
   "metadata": {},
   "outputs": [],
   "source": [
    "x_train[f10] = data[f10]"
   ]
  },
  {
   "cell_type": "code",
   "execution_count": 292,
   "metadata": {},
   "outputs": [],
   "source": [
    "# Finally, we split some of the data off for validation\n",
    "from sklearn.cross_validation import train_test_split\n",
    "x_train, x_valid, y_train, y_valid = train_test_split(x_train, y_train, test_size=0.2, random_state=4242)"
   ]
  },
  {
   "cell_type": "code",
   "execution_count": 293,
   "metadata": {},
   "outputs": [
    {
     "data": {
      "text/plain": [
       "((83802, 37), (20951, 37))"
      ]
     },
     "execution_count": 293,
     "metadata": {},
     "output_type": "execute_result"
    }
   ],
   "source": [
    "x_train.shape, x_valid.shape"
   ]
  },
  {
   "cell_type": "markdown",
   "metadata": {},
   "source": [
    "### 7.2 XGBoost"
   ]
  },
  {
   "cell_type": "markdown",
   "metadata": {},
   "source": [
    "#### 7.2.1 XGBoost随机测试参数"
   ]
  },
  {
   "cell_type": "code",
   "execution_count": 338,
   "metadata": {
    "scrolled": true
   },
   "outputs": [
    {
     "name": "stdout",
     "output_type": "stream",
     "text": [
      "[18:15:35] src/tree/updater_prune.cc:74: tree pruning end, 1 roots, 30 extra nodes, 0 pruned nodes, max_depth=4\n",
      "[0]\ttrain-logloss:0.678647\tvalid-logloss:0.678678\n",
      "Multiple eval metrics have been passed: 'valid-logloss' will be used for early stopping.\n",
      "\n",
      "Will train until valid-logloss hasn't improved in 50 rounds.\n",
      "[18:15:35] src/tree/updater_prune.cc:74: tree pruning end, 1 roots, 28 extra nodes, 0 pruned nodes, max_depth=4\n",
      "[18:15:35] src/tree/updater_prune.cc:74: tree pruning end, 1 roots, 28 extra nodes, 0 pruned nodes, max_depth=4\n",
      "[18:15:36] src/tree/updater_prune.cc:74: tree pruning end, 1 roots, 30 extra nodes, 0 pruned nodes, max_depth=4\n",
      "[18:15:36] src/tree/updater_prune.cc:74: tree pruning end, 1 roots, 28 extra nodes, 0 pruned nodes, max_depth=4\n",
      "[18:15:36] src/tree/updater_prune.cc:74: tree pruning end, 1 roots, 28 extra nodes, 0 pruned nodes, max_depth=4\n",
      "[18:15:36] src/tree/updater_prune.cc:74: tree pruning end, 1 roots, 28 extra nodes, 0 pruned nodes, max_depth=4\n",
      "[18:15:37] src/tree/updater_prune.cc:74: tree pruning end, 1 roots, 28 extra nodes, 0 pruned nodes, max_depth=4\n",
      "[18:15:37] src/tree/updater_prune.cc:74: tree pruning end, 1 roots, 30 extra nodes, 0 pruned nodes, max_depth=4\n",
      "[18:15:37] src/tree/updater_prune.cc:74: tree pruning end, 1 roots, 28 extra nodes, 0 pruned nodes, max_depth=4\n",
      "[18:15:38] src/tree/updater_prune.cc:74: tree pruning end, 1 roots, 28 extra nodes, 0 pruned nodes, max_depth=4\n",
      "[10]\ttrain-logloss:0.560434\tvalid-logloss:0.560683\n",
      "[18:15:38] src/tree/updater_prune.cc:74: tree pruning end, 1 roots, 28 extra nodes, 0 pruned nodes, max_depth=4\n",
      "[18:15:38] src/tree/updater_prune.cc:74: tree pruning end, 1 roots, 30 extra nodes, 0 pruned nodes, max_depth=4\n",
      "[18:15:38] src/tree/updater_prune.cc:74: tree pruning end, 1 roots, 28 extra nodes, 0 pruned nodes, max_depth=4\n",
      "[18:15:39] src/tree/updater_prune.cc:74: tree pruning end, 1 roots, 30 extra nodes, 0 pruned nodes, max_depth=4\n",
      "[18:15:39] src/tree/updater_prune.cc:74: tree pruning end, 1 roots, 30 extra nodes, 0 pruned nodes, max_depth=4\n",
      "[18:15:39] src/tree/updater_prune.cc:74: tree pruning end, 1 roots, 30 extra nodes, 0 pruned nodes, max_depth=4\n",
      "[18:15:40] src/tree/updater_prune.cc:74: tree pruning end, 1 roots, 28 extra nodes, 0 pruned nodes, max_depth=4\n",
      "[18:15:40] src/tree/updater_prune.cc:74: tree pruning end, 1 roots, 30 extra nodes, 0 pruned nodes, max_depth=4\n",
      "[18:15:40] src/tree/updater_prune.cc:74: tree pruning end, 1 roots, 28 extra nodes, 0 pruned nodes, max_depth=4\n",
      "[18:15:40] src/tree/updater_prune.cc:74: tree pruning end, 1 roots, 30 extra nodes, 0 pruned nodes, max_depth=4\n",
      "[20]\ttrain-logloss:0.47706\tvalid-logloss:0.477419\n",
      "[18:15:41] src/tree/updater_prune.cc:74: tree pruning end, 1 roots, 30 extra nodes, 0 pruned nodes, max_depth=4\n",
      "[18:15:41] src/tree/updater_prune.cc:74: tree pruning end, 1 roots, 30 extra nodes, 0 pruned nodes, max_depth=4\n",
      "[18:15:41] src/tree/updater_prune.cc:74: tree pruning end, 1 roots, 30 extra nodes, 0 pruned nodes, max_depth=4\n",
      "[18:15:41] src/tree/updater_prune.cc:74: tree pruning end, 1 roots, 28 extra nodes, 0 pruned nodes, max_depth=4\n",
      "[18:15:42] src/tree/updater_prune.cc:74: tree pruning end, 1 roots, 30 extra nodes, 0 pruned nodes, max_depth=4\n",
      "[18:15:42] src/tree/updater_prune.cc:74: tree pruning end, 1 roots, 28 extra nodes, 0 pruned nodes, max_depth=4\n",
      "[18:15:42] src/tree/updater_prune.cc:74: tree pruning end, 1 roots, 30 extra nodes, 0 pruned nodes, max_depth=4\n",
      "[18:15:43] src/tree/updater_prune.cc:74: tree pruning end, 1 roots, 30 extra nodes, 0 pruned nodes, max_depth=4\n",
      "[18:15:43] src/tree/updater_prune.cc:74: tree pruning end, 1 roots, 28 extra nodes, 0 pruned nodes, max_depth=4\n",
      "[18:15:43] src/tree/updater_prune.cc:74: tree pruning end, 1 roots, 30 extra nodes, 0 pruned nodes, max_depth=4\n",
      "[30]\ttrain-logloss:0.416144\tvalid-logloss:0.416492\n",
      "[18:15:43] src/tree/updater_prune.cc:74: tree pruning end, 1 roots, 30 extra nodes, 0 pruned nodes, max_depth=4\n",
      "[18:15:44] src/tree/updater_prune.cc:74: tree pruning end, 1 roots, 28 extra nodes, 0 pruned nodes, max_depth=4\n",
      "[18:15:44] src/tree/updater_prune.cc:74: tree pruning end, 1 roots, 30 extra nodes, 0 pruned nodes, max_depth=4\n",
      "[18:15:44] src/tree/updater_prune.cc:74: tree pruning end, 1 roots, 30 extra nodes, 0 pruned nodes, max_depth=4\n",
      "[18:15:44] src/tree/updater_prune.cc:74: tree pruning end, 1 roots, 30 extra nodes, 0 pruned nodes, max_depth=4\n",
      "[18:15:45] src/tree/updater_prune.cc:74: tree pruning end, 1 roots, 28 extra nodes, 0 pruned nodes, max_depth=4\n",
      "[18:15:45] src/tree/updater_prune.cc:74: tree pruning end, 1 roots, 30 extra nodes, 0 pruned nodes, max_depth=4\n",
      "[18:15:45] src/tree/updater_prune.cc:74: tree pruning end, 1 roots, 28 extra nodes, 0 pruned nodes, max_depth=4\n",
      "[18:15:45] src/tree/updater_prune.cc:74: tree pruning end, 1 roots, 30 extra nodes, 0 pruned nodes, max_depth=4\n",
      "[18:15:46] src/tree/updater_prune.cc:74: tree pruning end, 1 roots, 30 extra nodes, 0 pruned nodes, max_depth=4\n",
      "[40]\ttrain-logloss:0.370572\tvalid-logloss:0.370865\n",
      "[18:15:46] src/tree/updater_prune.cc:74: tree pruning end, 1 roots, 28 extra nodes, 0 pruned nodes, max_depth=4\n",
      "[18:15:46] src/tree/updater_prune.cc:74: tree pruning end, 1 roots, 30 extra nodes, 0 pruned nodes, max_depth=4\n",
      "[18:15:46] src/tree/updater_prune.cc:74: tree pruning end, 1 roots, 30 extra nodes, 0 pruned nodes, max_depth=4\n",
      "[18:15:47] src/tree/updater_prune.cc:74: tree pruning end, 1 roots, 28 extra nodes, 0 pruned nodes, max_depth=4\n",
      "[18:15:47] src/tree/updater_prune.cc:74: tree pruning end, 1 roots, 30 extra nodes, 0 pruned nodes, max_depth=4\n",
      "[18:15:47] src/tree/updater_prune.cc:74: tree pruning end, 1 roots, 30 extra nodes, 0 pruned nodes, max_depth=4\n",
      "[18:15:47] src/tree/updater_prune.cc:74: tree pruning end, 1 roots, 28 extra nodes, 0 pruned nodes, max_depth=4\n",
      "[18:15:48] src/tree/updater_prune.cc:74: tree pruning end, 1 roots, 30 extra nodes, 0 pruned nodes, max_depth=4\n",
      "[18:15:48] src/tree/updater_prune.cc:74: tree pruning end, 1 roots, 30 extra nodes, 0 pruned nodes, max_depth=4\n",
      "[18:15:48] src/tree/updater_prune.cc:74: tree pruning end, 1 roots, 30 extra nodes, 0 pruned nodes, max_depth=4\n",
      "[50]\ttrain-logloss:0.335517\tvalid-logloss:0.335744\n",
      "[18:15:49] src/tree/updater_prune.cc:74: tree pruning end, 1 roots, 30 extra nodes, 0 pruned nodes, max_depth=4\n",
      "[18:15:49] src/tree/updater_prune.cc:74: tree pruning end, 1 roots, 28 extra nodes, 0 pruned nodes, max_depth=4\n",
      "[18:15:49] src/tree/updater_prune.cc:74: tree pruning end, 1 roots, 30 extra nodes, 0 pruned nodes, max_depth=4\n",
      "[18:15:49] src/tree/updater_prune.cc:74: tree pruning end, 1 roots, 28 extra nodes, 0 pruned nodes, max_depth=4\n",
      "[18:15:50] src/tree/updater_prune.cc:74: tree pruning end, 1 roots, 30 extra nodes, 0 pruned nodes, max_depth=4\n",
      "[18:15:50] src/tree/updater_prune.cc:74: tree pruning end, 1 roots, 30 extra nodes, 0 pruned nodes, max_depth=4\n",
      "[18:15:50] src/tree/updater_prune.cc:74: tree pruning end, 1 roots, 30 extra nodes, 0 pruned nodes, max_depth=4\n",
      "[18:15:50] src/tree/updater_prune.cc:74: tree pruning end, 1 roots, 30 extra nodes, 0 pruned nodes, max_depth=4\n",
      "[18:15:51] src/tree/updater_prune.cc:74: tree pruning end, 1 roots, 30 extra nodes, 0 pruned nodes, max_depth=4\n",
      "[18:15:51] src/tree/updater_prune.cc:74: tree pruning end, 1 roots, 30 extra nodes, 0 pruned nodes, max_depth=4\n",
      "[60]\ttrain-logloss:0.308287\tvalid-logloss:0.30852\n",
      "[18:15:51] src/tree/updater_prune.cc:74: tree pruning end, 1 roots, 30 extra nodes, 0 pruned nodes, max_depth=4\n",
      "[18:15:51] src/tree/updater_prune.cc:74: tree pruning end, 1 roots, 30 extra nodes, 0 pruned nodes, max_depth=4\n",
      "[18:15:52] src/tree/updater_prune.cc:74: tree pruning end, 1 roots, 30 extra nodes, 0 pruned nodes, max_depth=4\n",
      "[18:15:52] src/tree/updater_prune.cc:74: tree pruning end, 1 roots, 30 extra nodes, 0 pruned nodes, max_depth=4\n",
      "[18:15:52] src/tree/updater_prune.cc:74: tree pruning end, 1 roots, 30 extra nodes, 0 pruned nodes, max_depth=4\n",
      "[18:15:52] src/tree/updater_prune.cc:74: tree pruning end, 1 roots, 30 extra nodes, 0 pruned nodes, max_depth=4\n",
      "[18:15:53] src/tree/updater_prune.cc:74: tree pruning end, 1 roots, 30 extra nodes, 0 pruned nodes, max_depth=4\n",
      "[18:15:53] src/tree/updater_prune.cc:74: tree pruning end, 1 roots, 30 extra nodes, 0 pruned nodes, max_depth=4\n"
     ]
    },
    {
     "name": "stdout",
     "output_type": "stream",
     "text": [
      "[18:15:53] src/tree/updater_prune.cc:74: tree pruning end, 1 roots, 30 extra nodes, 0 pruned nodes, max_depth=4\n",
      "[18:15:53] src/tree/updater_prune.cc:74: tree pruning end, 1 roots, 30 extra nodes, 0 pruned nodes, max_depth=4\n",
      "[70]\ttrain-logloss:0.286828\tvalid-logloss:0.287069\n",
      "[18:15:54] src/tree/updater_prune.cc:74: tree pruning end, 1 roots, 30 extra nodes, 0 pruned nodes, max_depth=4\n",
      "[18:15:54] src/tree/updater_prune.cc:74: tree pruning end, 1 roots, 30 extra nodes, 0 pruned nodes, max_depth=4\n",
      "[18:15:54] src/tree/updater_prune.cc:74: tree pruning end, 1 roots, 30 extra nodes, 0 pruned nodes, max_depth=4\n",
      "[18:15:54] src/tree/updater_prune.cc:74: tree pruning end, 1 roots, 30 extra nodes, 0 pruned nodes, max_depth=4\n",
      "[18:15:55] src/tree/updater_prune.cc:74: tree pruning end, 1 roots, 30 extra nodes, 0 pruned nodes, max_depth=4\n",
      "[18:15:55] src/tree/updater_prune.cc:74: tree pruning end, 1 roots, 30 extra nodes, 0 pruned nodes, max_depth=4\n",
      "[18:15:55] src/tree/updater_prune.cc:74: tree pruning end, 1 roots, 30 extra nodes, 0 pruned nodes, max_depth=4\n",
      "[18:15:55] src/tree/updater_prune.cc:74: tree pruning end, 1 roots, 30 extra nodes, 0 pruned nodes, max_depth=4\n",
      "[18:15:56] src/tree/updater_prune.cc:74: tree pruning end, 1 roots, 30 extra nodes, 0 pruned nodes, max_depth=4\n",
      "[18:15:56] src/tree/updater_prune.cc:74: tree pruning end, 1 roots, 30 extra nodes, 0 pruned nodes, max_depth=4\n",
      "[80]\ttrain-logloss:0.269956\tvalid-logloss:0.270205\n",
      "[18:15:56] src/tree/updater_prune.cc:74: tree pruning end, 1 roots, 26 extra nodes, 0 pruned nodes, max_depth=4\n",
      "[18:15:57] src/tree/updater_prune.cc:74: tree pruning end, 1 roots, 26 extra nodes, 0 pruned nodes, max_depth=4\n",
      "[18:15:57] src/tree/updater_prune.cc:74: tree pruning end, 1 roots, 26 extra nodes, 0 pruned nodes, max_depth=4\n",
      "[18:15:57] src/tree/updater_prune.cc:74: tree pruning end, 1 roots, 26 extra nodes, 0 pruned nodes, max_depth=4\n",
      "[18:15:57] src/tree/updater_prune.cc:74: tree pruning end, 1 roots, 26 extra nodes, 0 pruned nodes, max_depth=4\n",
      "[18:15:58] src/tree/updater_prune.cc:74: tree pruning end, 1 roots, 26 extra nodes, 0 pruned nodes, max_depth=4\n",
      "[18:15:58] src/tree/updater_prune.cc:74: tree pruning end, 1 roots, 26 extra nodes, 0 pruned nodes, max_depth=4\n",
      "[18:15:58] src/tree/updater_prune.cc:74: tree pruning end, 1 roots, 26 extra nodes, 0 pruned nodes, max_depth=4\n",
      "[18:15:58] src/tree/updater_prune.cc:74: tree pruning end, 1 roots, 26 extra nodes, 0 pruned nodes, max_depth=4\n",
      "[18:15:59] src/tree/updater_prune.cc:74: tree pruning end, 1 roots, 26 extra nodes, 0 pruned nodes, max_depth=4\n",
      "[90]\ttrain-logloss:0.256833\tvalid-logloss:0.257063\n",
      "[18:15:59] src/tree/updater_prune.cc:74: tree pruning end, 1 roots, 26 extra nodes, 0 pruned nodes, max_depth=4\n",
      "[18:15:59] src/tree/updater_prune.cc:74: tree pruning end, 1 roots, 26 extra nodes, 0 pruned nodes, max_depth=4\n",
      "[18:15:59] src/tree/updater_prune.cc:74: tree pruning end, 1 roots, 26 extra nodes, 0 pruned nodes, max_depth=4\n",
      "[18:16:00] src/tree/updater_prune.cc:74: tree pruning end, 1 roots, 26 extra nodes, 0 pruned nodes, max_depth=4\n",
      "[18:16:00] src/tree/updater_prune.cc:74: tree pruning end, 1 roots, 26 extra nodes, 0 pruned nodes, max_depth=4\n",
      "[18:16:00] src/tree/updater_prune.cc:74: tree pruning end, 1 roots, 30 extra nodes, 0 pruned nodes, max_depth=4\n",
      "[18:16:00] src/tree/updater_prune.cc:74: tree pruning end, 1 roots, 30 extra nodes, 0 pruned nodes, max_depth=4\n",
      "[18:16:01] src/tree/updater_prune.cc:74: tree pruning end, 1 roots, 30 extra nodes, 0 pruned nodes, max_depth=4\n",
      "[18:16:01] src/tree/updater_prune.cc:74: tree pruning end, 1 roots, 30 extra nodes, 0 pruned nodes, max_depth=4\n",
      "[18:16:01] src/tree/updater_prune.cc:74: tree pruning end, 1 roots, 30 extra nodes, 0 pruned nodes, max_depth=4\n",
      "[100]\ttrain-logloss:0.246227\tvalid-logloss:0.246455\n",
      "[18:16:01] src/tree/updater_prune.cc:74: tree pruning end, 1 roots, 30 extra nodes, 0 pruned nodes, max_depth=4\n",
      "[18:16:02] src/tree/updater_prune.cc:74: tree pruning end, 1 roots, 30 extra nodes, 0 pruned nodes, max_depth=4\n",
      "[18:16:02] src/tree/updater_prune.cc:74: tree pruning end, 1 roots, 30 extra nodes, 0 pruned nodes, max_depth=4\n",
      "[18:16:02] src/tree/updater_prune.cc:74: tree pruning end, 1 roots, 30 extra nodes, 0 pruned nodes, max_depth=4\n",
      "[18:16:02] src/tree/updater_prune.cc:74: tree pruning end, 1 roots, 30 extra nodes, 0 pruned nodes, max_depth=4\n",
      "[18:16:03] src/tree/updater_prune.cc:74: tree pruning end, 1 roots, 30 extra nodes, 0 pruned nodes, max_depth=4\n",
      "[18:16:03] src/tree/updater_prune.cc:74: tree pruning end, 1 roots, 30 extra nodes, 0 pruned nodes, max_depth=4\n",
      "[18:16:03] src/tree/updater_prune.cc:74: tree pruning end, 1 roots, 30 extra nodes, 0 pruned nodes, max_depth=4\n",
      "[18:16:03] src/tree/updater_prune.cc:74: tree pruning end, 1 roots, 30 extra nodes, 0 pruned nodes, max_depth=4\n",
      "[18:16:04] src/tree/updater_prune.cc:74: tree pruning end, 1 roots, 30 extra nodes, 0 pruned nodes, max_depth=4\n",
      "[110]\ttrain-logloss:0.237688\tvalid-logloss:0.237956\n",
      "[18:16:04] src/tree/updater_prune.cc:74: tree pruning end, 1 roots, 30 extra nodes, 0 pruned nodes, max_depth=4\n",
      "[18:16:04] src/tree/updater_prune.cc:74: tree pruning end, 1 roots, 30 extra nodes, 0 pruned nodes, max_depth=4\n",
      "[18:16:04] src/tree/updater_prune.cc:74: tree pruning end, 1 roots, 30 extra nodes, 0 pruned nodes, max_depth=4\n",
      "[18:16:05] src/tree/updater_prune.cc:74: tree pruning end, 1 roots, 30 extra nodes, 0 pruned nodes, max_depth=4\n",
      "[18:16:05] src/tree/updater_prune.cc:74: tree pruning end, 1 roots, 30 extra nodes, 0 pruned nodes, max_depth=4\n",
      "[18:16:05] src/tree/updater_prune.cc:74: tree pruning end, 1 roots, 30 extra nodes, 0 pruned nodes, max_depth=4\n",
      "[18:16:05] src/tree/updater_prune.cc:74: tree pruning end, 1 roots, 30 extra nodes, 0 pruned nodes, max_depth=4\n",
      "[18:16:06] src/tree/updater_prune.cc:74: tree pruning end, 1 roots, 30 extra nodes, 0 pruned nodes, max_depth=4\n",
      "[18:16:06] src/tree/updater_prune.cc:74: tree pruning end, 1 roots, 30 extra nodes, 0 pruned nodes, max_depth=4\n",
      "[18:16:06] src/tree/updater_prune.cc:74: tree pruning end, 1 roots, 30 extra nodes, 0 pruned nodes, max_depth=4\n",
      "[120]\ttrain-logloss:0.230817\tvalid-logloss:0.23112\n",
      "[18:16:06] src/tree/updater_prune.cc:74: tree pruning end, 1 roots, 30 extra nodes, 0 pruned nodes, max_depth=4\n",
      "[18:16:07] src/tree/updater_prune.cc:74: tree pruning end, 1 roots, 30 extra nodes, 0 pruned nodes, max_depth=4\n",
      "[18:16:07] src/tree/updater_prune.cc:74: tree pruning end, 1 roots, 30 extra nodes, 0 pruned nodes, max_depth=4\n",
      "[18:16:07] src/tree/updater_prune.cc:74: tree pruning end, 1 roots, 30 extra nodes, 0 pruned nodes, max_depth=4\n",
      "[18:16:07] src/tree/updater_prune.cc:74: tree pruning end, 1 roots, 26 extra nodes, 0 pruned nodes, max_depth=4\n",
      "[18:16:08] src/tree/updater_prune.cc:74: tree pruning end, 1 roots, 26 extra nodes, 0 pruned nodes, max_depth=4\n",
      "[18:16:08] src/tree/updater_prune.cc:74: tree pruning end, 1 roots, 26 extra nodes, 0 pruned nodes, max_depth=4\n",
      "[18:16:08] src/tree/updater_prune.cc:74: tree pruning end, 1 roots, 26 extra nodes, 0 pruned nodes, max_depth=4\n",
      "[18:16:08] src/tree/updater_prune.cc:74: tree pruning end, 1 roots, 26 extra nodes, 0 pruned nodes, max_depth=4\n",
      "[18:16:09] src/tree/updater_prune.cc:74: tree pruning end, 1 roots, 26 extra nodes, 0 pruned nodes, max_depth=4\n",
      "[130]\ttrain-logloss:0.225178\tvalid-logloss:0.225487\n",
      "[18:16:09] src/tree/updater_prune.cc:74: tree pruning end, 1 roots, 26 extra nodes, 0 pruned nodes, max_depth=4\n",
      "[18:16:09] src/tree/updater_prune.cc:74: tree pruning end, 1 roots, 26 extra nodes, 0 pruned nodes, max_depth=4\n",
      "[18:16:09] src/tree/updater_prune.cc:74: tree pruning end, 1 roots, 26 extra nodes, 0 pruned nodes, max_depth=4\n",
      "[18:16:10] src/tree/updater_prune.cc:74: tree pruning end, 1 roots, 30 extra nodes, 0 pruned nodes, max_depth=4\n",
      "[18:16:10] src/tree/updater_prune.cc:74: tree pruning end, 1 roots, 28 extra nodes, 0 pruned nodes, max_depth=4\n",
      "[18:16:10] src/tree/updater_prune.cc:74: tree pruning end, 1 roots, 28 extra nodes, 0 pruned nodes, max_depth=4\n",
      "[18:16:10] src/tree/updater_prune.cc:74: tree pruning end, 1 roots, 28 extra nodes, 0 pruned nodes, max_depth=4\n",
      "[18:16:11] src/tree/updater_prune.cc:74: tree pruning end, 1 roots, 28 extra nodes, 0 pruned nodes, max_depth=4\n"
     ]
    },
    {
     "name": "stdout",
     "output_type": "stream",
     "text": [
      "[18:16:11] src/tree/updater_prune.cc:74: tree pruning end, 1 roots, 28 extra nodes, 0 pruned nodes, max_depth=4\n",
      "[18:16:11] src/tree/updater_prune.cc:74: tree pruning end, 1 roots, 30 extra nodes, 0 pruned nodes, max_depth=4\n",
      "[140]\ttrain-logloss:0.220586\tvalid-logloss:0.220915\n",
      "[18:16:11] src/tree/updater_prune.cc:74: tree pruning end, 1 roots, 30 extra nodes, 0 pruned nodes, max_depth=4\n",
      "[18:16:12] src/tree/updater_prune.cc:74: tree pruning end, 1 roots, 28 extra nodes, 0 pruned nodes, max_depth=4\n",
      "[18:16:12] src/tree/updater_prune.cc:74: tree pruning end, 1 roots, 30 extra nodes, 0 pruned nodes, max_depth=4\n",
      "[18:16:12] src/tree/updater_prune.cc:74: tree pruning end, 1 roots, 30 extra nodes, 0 pruned nodes, max_depth=4\n",
      "[18:16:12] src/tree/updater_prune.cc:74: tree pruning end, 1 roots, 30 extra nodes, 0 pruned nodes, max_depth=4\n",
      "[18:16:13] src/tree/updater_prune.cc:74: tree pruning end, 1 roots, 30 extra nodes, 0 pruned nodes, max_depth=4\n",
      "[18:16:13] src/tree/updater_prune.cc:74: tree pruning end, 1 roots, 30 extra nodes, 0 pruned nodes, max_depth=4\n",
      "[18:16:13] src/tree/updater_prune.cc:74: tree pruning end, 1 roots, 28 extra nodes, 0 pruned nodes, max_depth=4\n",
      "[18:16:13] src/tree/updater_prune.cc:74: tree pruning end, 1 roots, 30 extra nodes, 0 pruned nodes, max_depth=4\n",
      "[18:16:14] src/tree/updater_prune.cc:74: tree pruning end, 1 roots, 30 extra nodes, 0 pruned nodes, max_depth=4\n",
      "[150]\ttrain-logloss:0.21669\tvalid-logloss:0.217086\n",
      "[18:16:14] src/tree/updater_prune.cc:74: tree pruning end, 1 roots, 30 extra nodes, 0 pruned nodes, max_depth=4\n",
      "[18:16:14] src/tree/updater_prune.cc:74: tree pruning end, 1 roots, 30 extra nodes, 0 pruned nodes, max_depth=4\n",
      "[18:16:14] src/tree/updater_prune.cc:74: tree pruning end, 1 roots, 30 extra nodes, 0 pruned nodes, max_depth=4\n",
      "[18:16:15] src/tree/updater_prune.cc:74: tree pruning end, 1 roots, 30 extra nodes, 0 pruned nodes, max_depth=4\n",
      "[18:16:15] src/tree/updater_prune.cc:74: tree pruning end, 1 roots, 30 extra nodes, 0 pruned nodes, max_depth=4\n",
      "[18:16:15] src/tree/updater_prune.cc:74: tree pruning end, 1 roots, 30 extra nodes, 0 pruned nodes, max_depth=4\n",
      "[18:16:15] src/tree/updater_prune.cc:74: tree pruning end, 1 roots, 30 extra nodes, 0 pruned nodes, max_depth=4\n",
      "[18:16:16] src/tree/updater_prune.cc:74: tree pruning end, 1 roots, 28 extra nodes, 0 pruned nodes, max_depth=4\n",
      "[18:16:16] src/tree/updater_prune.cc:74: tree pruning end, 1 roots, 30 extra nodes, 0 pruned nodes, max_depth=4\n",
      "[18:16:16] src/tree/updater_prune.cc:74: tree pruning end, 1 roots, 28 extra nodes, 0 pruned nodes, max_depth=4\n",
      "[160]\ttrain-logloss:0.21353\tvalid-logloss:0.213984\n",
      "[18:16:16] src/tree/updater_prune.cc:74: tree pruning end, 1 roots, 30 extra nodes, 0 pruned nodes, max_depth=4\n",
      "[18:16:17] src/tree/updater_prune.cc:74: tree pruning end, 1 roots, 30 extra nodes, 0 pruned nodes, max_depth=4\n",
      "[18:16:17] src/tree/updater_prune.cc:74: tree pruning end, 1 roots, 30 extra nodes, 0 pruned nodes, max_depth=4\n",
      "[18:16:17] src/tree/updater_prune.cc:74: tree pruning end, 1 roots, 30 extra nodes, 0 pruned nodes, max_depth=4\n",
      "[18:16:18] src/tree/updater_prune.cc:74: tree pruning end, 1 roots, 30 extra nodes, 0 pruned nodes, max_depth=4\n",
      "[18:16:18] src/tree/updater_prune.cc:74: tree pruning end, 1 roots, 30 extra nodes, 0 pruned nodes, max_depth=4\n",
      "[18:16:18] src/tree/updater_prune.cc:74: tree pruning end, 1 roots, 30 extra nodes, 0 pruned nodes, max_depth=4\n",
      "[18:16:18] src/tree/updater_prune.cc:74: tree pruning end, 1 roots, 30 extra nodes, 0 pruned nodes, max_depth=4\n",
      "[18:16:19] src/tree/updater_prune.cc:74: tree pruning end, 1 roots, 28 extra nodes, 0 pruned nodes, max_depth=4\n",
      "[18:16:19] src/tree/updater_prune.cc:74: tree pruning end, 1 roots, 30 extra nodes, 0 pruned nodes, max_depth=4\n",
      "[170]\ttrain-logloss:0.21087\tvalid-logloss:0.211407\n",
      "[18:16:19] src/tree/updater_prune.cc:74: tree pruning end, 1 roots, 30 extra nodes, 0 pruned nodes, max_depth=4\n",
      "[18:16:19] src/tree/updater_prune.cc:74: tree pruning end, 1 roots, 30 extra nodes, 0 pruned nodes, max_depth=4\n",
      "[18:16:20] src/tree/updater_prune.cc:74: tree pruning end, 1 roots, 30 extra nodes, 0 pruned nodes, max_depth=4\n",
      "[18:16:20] src/tree/updater_prune.cc:74: tree pruning end, 1 roots, 30 extra nodes, 0 pruned nodes, max_depth=4\n",
      "[18:16:20] src/tree/updater_prune.cc:74: tree pruning end, 1 roots, 30 extra nodes, 0 pruned nodes, max_depth=4\n",
      "[18:16:20] src/tree/updater_prune.cc:74: tree pruning end, 1 roots, 30 extra nodes, 0 pruned nodes, max_depth=4\n",
      "[18:16:21] src/tree/updater_prune.cc:74: tree pruning end, 1 roots, 30 extra nodes, 0 pruned nodes, max_depth=4\n",
      "[18:16:21] src/tree/updater_prune.cc:74: tree pruning end, 1 roots, 30 extra nodes, 0 pruned nodes, max_depth=4\n",
      "[18:16:21] src/tree/updater_prune.cc:74: tree pruning end, 1 roots, 30 extra nodes, 0 pruned nodes, max_depth=4\n",
      "[18:16:21] src/tree/updater_prune.cc:74: tree pruning end, 1 roots, 30 extra nodes, 0 pruned nodes, max_depth=4\n",
      "[180]\ttrain-logloss:0.208581\tvalid-logloss:0.209177\n",
      "[18:16:22] src/tree/updater_prune.cc:74: tree pruning end, 1 roots, 28 extra nodes, 0 pruned nodes, max_depth=4\n",
      "[18:16:22] src/tree/updater_prune.cc:74: tree pruning end, 1 roots, 30 extra nodes, 0 pruned nodes, max_depth=4\n",
      "[18:16:22] src/tree/updater_prune.cc:74: tree pruning end, 1 roots, 30 extra nodes, 0 pruned nodes, max_depth=4\n",
      "[18:16:22] src/tree/updater_prune.cc:74: tree pruning end, 1 roots, 30 extra nodes, 0 pruned nodes, max_depth=4\n",
      "[18:16:23] src/tree/updater_prune.cc:74: tree pruning end, 1 roots, 30 extra nodes, 0 pruned nodes, max_depth=4\n",
      "[18:16:23] src/tree/updater_prune.cc:74: tree pruning end, 1 roots, 30 extra nodes, 0 pruned nodes, max_depth=4\n",
      "[18:16:23] src/tree/updater_prune.cc:74: tree pruning end, 1 roots, 28 extra nodes, 0 pruned nodes, max_depth=4\n",
      "[18:16:23] src/tree/updater_prune.cc:74: tree pruning end, 1 roots, 28 extra nodes, 0 pruned nodes, max_depth=4\n",
      "[18:16:24] src/tree/updater_prune.cc:74: tree pruning end, 1 roots, 28 extra nodes, 0 pruned nodes, max_depth=4\n",
      "[18:16:24] src/tree/updater_prune.cc:74: tree pruning end, 1 roots, 28 extra nodes, 0 pruned nodes, max_depth=4\n",
      "[190]\ttrain-logloss:0.206601\tvalid-logloss:0.207309\n",
      "[18:16:24] src/tree/updater_prune.cc:74: tree pruning end, 1 roots, 28 extra nodes, 0 pruned nodes, max_depth=4\n",
      "[18:16:24] src/tree/updater_prune.cc:74: tree pruning end, 1 roots, 28 extra nodes, 0 pruned nodes, max_depth=4\n",
      "[18:16:25] src/tree/updater_prune.cc:74: tree pruning end, 1 roots, 30 extra nodes, 0 pruned nodes, max_depth=4\n",
      "[18:16:25] src/tree/updater_prune.cc:74: tree pruning end, 1 roots, 26 extra nodes, 0 pruned nodes, max_depth=4\n",
      "[18:16:25] src/tree/updater_prune.cc:74: tree pruning end, 1 roots, 30 extra nodes, 0 pruned nodes, max_depth=4\n",
      "[18:16:25] src/tree/updater_prune.cc:74: tree pruning end, 1 roots, 30 extra nodes, 0 pruned nodes, max_depth=4\n",
      "[18:16:26] src/tree/updater_prune.cc:74: tree pruning end, 1 roots, 26 extra nodes, 0 pruned nodes, max_depth=4\n",
      "[18:16:26] src/tree/updater_prune.cc:74: tree pruning end, 1 roots, 30 extra nodes, 0 pruned nodes, max_depth=4\n",
      "[18:16:26] src/tree/updater_prune.cc:74: tree pruning end, 1 roots, 28 extra nodes, 0 pruned nodes, max_depth=4\n",
      "[18:16:26] src/tree/updater_prune.cc:74: tree pruning end, 1 roots, 30 extra nodes, 0 pruned nodes, max_depth=4\n",
      "[200]\ttrain-logloss:0.204904\tvalid-logloss:0.205711\n",
      "[18:16:27] src/tree/updater_prune.cc:74: tree pruning end, 1 roots, 30 extra nodes, 0 pruned nodes, max_depth=4\n",
      "[18:16:27] src/tree/updater_prune.cc:74: tree pruning end, 1 roots, 26 extra nodes, 0 pruned nodes, max_depth=4\n",
      "[18:16:27] src/tree/updater_prune.cc:74: tree pruning end, 1 roots, 30 extra nodes, 0 pruned nodes, max_depth=4\n",
      "[18:16:27] src/tree/updater_prune.cc:74: tree pruning end, 1 roots, 26 extra nodes, 0 pruned nodes, max_depth=4\n",
      "[18:16:28] src/tree/updater_prune.cc:74: tree pruning end, 1 roots, 26 extra nodes, 0 pruned nodes, max_depth=4\n",
      "[18:16:28] src/tree/updater_prune.cc:74: tree pruning end, 1 roots, 26 extra nodes, 0 pruned nodes, max_depth=4\n",
      "[18:16:28] src/tree/updater_prune.cc:74: tree pruning end, 1 roots, 28 extra nodes, 0 pruned nodes, max_depth=4\n",
      "[18:16:28] src/tree/updater_prune.cc:74: tree pruning end, 1 roots, 26 extra nodes, 0 pruned nodes, max_depth=4\n"
     ]
    },
    {
     "name": "stdout",
     "output_type": "stream",
     "text": [
      "[18:16:29] src/tree/updater_prune.cc:74: tree pruning end, 1 roots, 26 extra nodes, 0 pruned nodes, max_depth=4\n",
      "[18:16:29] src/tree/updater_prune.cc:74: tree pruning end, 1 roots, 26 extra nodes, 0 pruned nodes, max_depth=4\n",
      "[210]\ttrain-logloss:0.203361\tvalid-logloss:0.20432\n",
      "[18:16:29] src/tree/updater_prune.cc:74: tree pruning end, 1 roots, 26 extra nodes, 0 pruned nodes, max_depth=4\n",
      "[18:16:29] src/tree/updater_prune.cc:74: tree pruning end, 1 roots, 26 extra nodes, 0 pruned nodes, max_depth=4\n",
      "[18:16:30] src/tree/updater_prune.cc:74: tree pruning end, 1 roots, 26 extra nodes, 0 pruned nodes, max_depth=4\n",
      "[18:16:30] src/tree/updater_prune.cc:74: tree pruning end, 1 roots, 26 extra nodes, 0 pruned nodes, max_depth=4\n",
      "[18:16:30] src/tree/updater_prune.cc:74: tree pruning end, 1 roots, 30 extra nodes, 0 pruned nodes, max_depth=4\n",
      "[18:16:30] src/tree/updater_prune.cc:74: tree pruning end, 1 roots, 26 extra nodes, 0 pruned nodes, max_depth=4\n",
      "[18:16:31] src/tree/updater_prune.cc:74: tree pruning end, 1 roots, 26 extra nodes, 0 pruned nodes, max_depth=4\n",
      "[18:16:31] src/tree/updater_prune.cc:74: tree pruning end, 1 roots, 24 extra nodes, 0 pruned nodes, max_depth=4\n",
      "[18:16:31] src/tree/updater_prune.cc:74: tree pruning end, 1 roots, 26 extra nodes, 0 pruned nodes, max_depth=4\n",
      "[18:16:31] src/tree/updater_prune.cc:74: tree pruning end, 1 roots, 30 extra nodes, 0 pruned nodes, max_depth=4\n",
      "[220]\ttrain-logloss:0.202071\tvalid-logloss:0.20312\n",
      "[18:16:32] src/tree/updater_prune.cc:74: tree pruning end, 1 roots, 26 extra nodes, 0 pruned nodes, max_depth=4\n",
      "[18:16:32] src/tree/updater_prune.cc:74: tree pruning end, 1 roots, 28 extra nodes, 0 pruned nodes, max_depth=4\n",
      "[18:16:32] src/tree/updater_prune.cc:74: tree pruning end, 1 roots, 26 extra nodes, 0 pruned nodes, max_depth=4\n",
      "[18:16:32] src/tree/updater_prune.cc:74: tree pruning end, 1 roots, 26 extra nodes, 0 pruned nodes, max_depth=4\n",
      "[18:16:33] src/tree/updater_prune.cc:74: tree pruning end, 1 roots, 26 extra nodes, 0 pruned nodes, max_depth=4\n",
      "[18:16:33] src/tree/updater_prune.cc:74: tree pruning end, 1 roots, 26 extra nodes, 0 pruned nodes, max_depth=4\n",
      "[18:16:33] src/tree/updater_prune.cc:74: tree pruning end, 1 roots, 30 extra nodes, 0 pruned nodes, max_depth=4\n",
      "[18:16:33] src/tree/updater_prune.cc:74: tree pruning end, 1 roots, 24 extra nodes, 0 pruned nodes, max_depth=4\n",
      "[18:16:34] src/tree/updater_prune.cc:74: tree pruning end, 1 roots, 30 extra nodes, 0 pruned nodes, max_depth=4\n",
      "[18:16:34] src/tree/updater_prune.cc:74: tree pruning end, 1 roots, 26 extra nodes, 0 pruned nodes, max_depth=4\n",
      "[230]\ttrain-logloss:0.200864\tvalid-logloss:0.201992\n",
      "[18:16:34] src/tree/updater_prune.cc:74: tree pruning end, 1 roots, 26 extra nodes, 0 pruned nodes, max_depth=4\n",
      "[18:16:34] src/tree/updater_prune.cc:74: tree pruning end, 1 roots, 30 extra nodes, 0 pruned nodes, max_depth=4\n",
      "[18:16:35] src/tree/updater_prune.cc:74: tree pruning end, 1 roots, 26 extra nodes, 0 pruned nodes, max_depth=4\n",
      "[18:16:35] src/tree/updater_prune.cc:74: tree pruning end, 1 roots, 26 extra nodes, 0 pruned nodes, max_depth=4\n",
      "[18:16:35] src/tree/updater_prune.cc:74: tree pruning end, 1 roots, 30 extra nodes, 0 pruned nodes, max_depth=4\n",
      "[18:16:35] src/tree/updater_prune.cc:74: tree pruning end, 1 roots, 24 extra nodes, 0 pruned nodes, max_depth=4\n",
      "[18:16:36] src/tree/updater_prune.cc:74: tree pruning end, 1 roots, 26 extra nodes, 0 pruned nodes, max_depth=4\n",
      "[18:16:36] src/tree/updater_prune.cc:74: tree pruning end, 1 roots, 30 extra nodes, 0 pruned nodes, max_depth=4\n",
      "[18:16:36] src/tree/updater_prune.cc:74: tree pruning end, 1 roots, 26 extra nodes, 0 pruned nodes, max_depth=4\n",
      "[18:16:36] src/tree/updater_prune.cc:74: tree pruning end, 1 roots, 26 extra nodes, 0 pruned nodes, max_depth=4\n",
      "[240]\ttrain-logloss:0.199814\tvalid-logloss:0.201062\n",
      "[18:16:37] src/tree/updater_prune.cc:74: tree pruning end, 1 roots, 30 extra nodes, 0 pruned nodes, max_depth=4\n",
      "[18:16:37] src/tree/updater_prune.cc:74: tree pruning end, 1 roots, 24 extra nodes, 0 pruned nodes, max_depth=4\n",
      "[18:16:37] src/tree/updater_prune.cc:74: tree pruning end, 1 roots, 30 extra nodes, 0 pruned nodes, max_depth=4\n",
      "[18:16:37] src/tree/updater_prune.cc:74: tree pruning end, 1 roots, 26 extra nodes, 0 pruned nodes, max_depth=4\n",
      "[18:16:38] src/tree/updater_prune.cc:74: tree pruning end, 1 roots, 26 extra nodes, 0 pruned nodes, max_depth=4\n",
      "[18:16:38] src/tree/updater_prune.cc:74: tree pruning end, 1 roots, 30 extra nodes, 0 pruned nodes, max_depth=4\n",
      "[18:16:38] src/tree/updater_prune.cc:74: tree pruning end, 1 roots, 30 extra nodes, 0 pruned nodes, max_depth=4\n",
      "[18:16:38] src/tree/updater_prune.cc:74: tree pruning end, 1 roots, 24 extra nodes, 0 pruned nodes, max_depth=4\n",
      "[18:16:39] src/tree/updater_prune.cc:74: tree pruning end, 1 roots, 30 extra nodes, 0 pruned nodes, max_depth=4\n",
      "[18:16:39] src/tree/updater_prune.cc:74: tree pruning end, 1 roots, 26 extra nodes, 0 pruned nodes, max_depth=4\n",
      "[250]\ttrain-logloss:0.198726\tvalid-logloss:0.200066\n",
      "[18:16:39] src/tree/updater_prune.cc:74: tree pruning end, 1 roots, 30 extra nodes, 0 pruned nodes, max_depth=4\n",
      "[18:16:39] src/tree/updater_prune.cc:74: tree pruning end, 1 roots, 26 extra nodes, 0 pruned nodes, max_depth=4\n",
      "[18:16:40] src/tree/updater_prune.cc:74: tree pruning end, 1 roots, 24 extra nodes, 0 pruned nodes, max_depth=4\n",
      "[18:16:40] src/tree/updater_prune.cc:74: tree pruning end, 1 roots, 24 extra nodes, 0 pruned nodes, max_depth=4\n",
      "[18:16:40] src/tree/updater_prune.cc:74: tree pruning end, 1 roots, 30 extra nodes, 0 pruned nodes, max_depth=4\n",
      "[18:16:41] src/tree/updater_prune.cc:74: tree pruning end, 1 roots, 26 extra nodes, 0 pruned nodes, max_depth=4\n",
      "[18:16:41] src/tree/updater_prune.cc:74: tree pruning end, 1 roots, 30 extra nodes, 0 pruned nodes, max_depth=4\n",
      "[18:16:41] src/tree/updater_prune.cc:74: tree pruning end, 1 roots, 26 extra nodes, 0 pruned nodes, max_depth=4\n",
      "[18:16:41] src/tree/updater_prune.cc:74: tree pruning end, 1 roots, 30 extra nodes, 0 pruned nodes, max_depth=4\n",
      "[18:16:42] src/tree/updater_prune.cc:74: tree pruning end, 1 roots, 24 extra nodes, 0 pruned nodes, max_depth=4\n",
      "[260]\ttrain-logloss:0.197761\tvalid-logloss:0.199193\n",
      "[18:16:42] src/tree/updater_prune.cc:74: tree pruning end, 1 roots, 30 extra nodes, 0 pruned nodes, max_depth=4\n",
      "[18:16:42] src/tree/updater_prune.cc:74: tree pruning end, 1 roots, 26 extra nodes, 0 pruned nodes, max_depth=4\n",
      "[18:16:42] src/tree/updater_prune.cc:74: tree pruning end, 1 roots, 30 extra nodes, 0 pruned nodes, max_depth=4\n",
      "[18:16:43] src/tree/updater_prune.cc:74: tree pruning end, 1 roots, 30 extra nodes, 0 pruned nodes, max_depth=4\n",
      "[18:16:43] src/tree/updater_prune.cc:74: tree pruning end, 1 roots, 30 extra nodes, 0 pruned nodes, max_depth=4\n",
      "[18:16:43] src/tree/updater_prune.cc:74: tree pruning end, 1 roots, 24 extra nodes, 0 pruned nodes, max_depth=4\n",
      "[18:16:43] src/tree/updater_prune.cc:74: tree pruning end, 1 roots, 26 extra nodes, 0 pruned nodes, max_depth=4\n",
      "[18:16:44] src/tree/updater_prune.cc:74: tree pruning end, 1 roots, 30 extra nodes, 0 pruned nodes, max_depth=4\n",
      "[18:16:44] src/tree/updater_prune.cc:74: tree pruning end, 1 roots, 24 extra nodes, 0 pruned nodes, max_depth=4\n",
      "[18:16:44] src/tree/updater_prune.cc:74: tree pruning end, 1 roots, 30 extra nodes, 0 pruned nodes, max_depth=4\n",
      "[270]\ttrain-logloss:0.196815\tvalid-logloss:0.198354\n",
      "[18:16:44] src/tree/updater_prune.cc:74: tree pruning end, 1 roots, 30 extra nodes, 0 pruned nodes, max_depth=4\n",
      "[18:16:45] src/tree/updater_prune.cc:74: tree pruning end, 1 roots, 30 extra nodes, 0 pruned nodes, max_depth=4\n",
      "[18:16:45] src/tree/updater_prune.cc:74: tree pruning end, 1 roots, 26 extra nodes, 0 pruned nodes, max_depth=4\n",
      "[18:16:45] src/tree/updater_prune.cc:74: tree pruning end, 1 roots, 30 extra nodes, 0 pruned nodes, max_depth=4\n",
      "[18:16:45] src/tree/updater_prune.cc:74: tree pruning end, 1 roots, 24 extra nodes, 0 pruned nodes, max_depth=4\n",
      "[18:16:46] src/tree/updater_prune.cc:74: tree pruning end, 1 roots, 30 extra nodes, 0 pruned nodes, max_depth=4\n",
      "[18:16:46] src/tree/updater_prune.cc:74: tree pruning end, 1 roots, 24 extra nodes, 0 pruned nodes, max_depth=4\n",
      "[18:16:46] src/tree/updater_prune.cc:74: tree pruning end, 1 roots, 30 extra nodes, 0 pruned nodes, max_depth=4\n"
     ]
    },
    {
     "name": "stdout",
     "output_type": "stream",
     "text": [
      "[18:16:46] src/tree/updater_prune.cc:74: tree pruning end, 1 roots, 26 extra nodes, 0 pruned nodes, max_depth=4\n",
      "[18:16:47] src/tree/updater_prune.cc:74: tree pruning end, 1 roots, 30 extra nodes, 0 pruned nodes, max_depth=4\n",
      "[280]\ttrain-logloss:0.195879\tvalid-logloss:0.197544\n",
      "[18:16:47] src/tree/updater_prune.cc:74: tree pruning end, 1 roots, 30 extra nodes, 0 pruned nodes, max_depth=4\n",
      "[18:16:47] src/tree/updater_prune.cc:74: tree pruning end, 1 roots, 26 extra nodes, 0 pruned nodes, max_depth=4\n",
      "[18:16:47] src/tree/updater_prune.cc:74: tree pruning end, 1 roots, 30 extra nodes, 0 pruned nodes, max_depth=4\n",
      "[18:16:48] src/tree/updater_prune.cc:74: tree pruning end, 1 roots, 22 extra nodes, 0 pruned nodes, max_depth=4\n",
      "[18:16:48] src/tree/updater_prune.cc:74: tree pruning end, 1 roots, 30 extra nodes, 0 pruned nodes, max_depth=4\n",
      "[18:16:48] src/tree/updater_prune.cc:74: tree pruning end, 1 roots, 24 extra nodes, 0 pruned nodes, max_depth=4\n",
      "[18:16:48] src/tree/updater_prune.cc:74: tree pruning end, 1 roots, 30 extra nodes, 0 pruned nodes, max_depth=4\n",
      "[18:16:49] src/tree/updater_prune.cc:74: tree pruning end, 1 roots, 30 extra nodes, 0 pruned nodes, max_depth=4\n",
      "[18:16:49] src/tree/updater_prune.cc:74: tree pruning end, 1 roots, 24 extra nodes, 0 pruned nodes, max_depth=4\n",
      "[18:16:49] src/tree/updater_prune.cc:74: tree pruning end, 1 roots, 30 extra nodes, 0 pruned nodes, max_depth=4\n",
      "[290]\ttrain-logloss:0.19506\tvalid-logloss:0.196819\n",
      "[18:16:49] src/tree/updater_prune.cc:74: tree pruning end, 1 roots, 28 extra nodes, 0 pruned nodes, max_depth=4\n",
      "[18:16:50] src/tree/updater_prune.cc:74: tree pruning end, 1 roots, 24 extra nodes, 0 pruned nodes, max_depth=4\n",
      "[18:16:50] src/tree/updater_prune.cc:74: tree pruning end, 1 roots, 30 extra nodes, 0 pruned nodes, max_depth=4\n",
      "[18:16:50] src/tree/updater_prune.cc:74: tree pruning end, 1 roots, 24 extra nodes, 0 pruned nodes, max_depth=4\n",
      "[18:16:50] src/tree/updater_prune.cc:74: tree pruning end, 1 roots, 28 extra nodes, 0 pruned nodes, max_depth=4\n",
      "[18:16:51] src/tree/updater_prune.cc:74: tree pruning end, 1 roots, 30 extra nodes, 0 pruned nodes, max_depth=4\n",
      "[18:16:51] src/tree/updater_prune.cc:74: tree pruning end, 1 roots, 28 extra nodes, 0 pruned nodes, max_depth=4\n",
      "[18:16:51] src/tree/updater_prune.cc:74: tree pruning end, 1 roots, 24 extra nodes, 0 pruned nodes, max_depth=4\n",
      "[18:16:51] src/tree/updater_prune.cc:74: tree pruning end, 1 roots, 30 extra nodes, 0 pruned nodes, max_depth=4\n",
      "[18:16:52] src/tree/updater_prune.cc:74: tree pruning end, 1 roots, 26 extra nodes, 0 pruned nodes, max_depth=4\n",
      "[300]\ttrain-logloss:0.194302\tvalid-logloss:0.196185\n",
      "[18:16:52] src/tree/updater_prune.cc:74: tree pruning end, 1 roots, 26 extra nodes, 0 pruned nodes, max_depth=4\n",
      "[18:16:52] src/tree/updater_prune.cc:74: tree pruning end, 1 roots, 28 extra nodes, 0 pruned nodes, max_depth=4\n",
      "[18:16:52] src/tree/updater_prune.cc:74: tree pruning end, 1 roots, 28 extra nodes, 0 pruned nodes, max_depth=4\n",
      "[18:16:53] src/tree/updater_prune.cc:74: tree pruning end, 1 roots, 28 extra nodes, 0 pruned nodes, max_depth=4\n",
      "[18:16:53] src/tree/updater_prune.cc:74: tree pruning end, 1 roots, 24 extra nodes, 0 pruned nodes, max_depth=4\n",
      "[18:16:53] src/tree/updater_prune.cc:74: tree pruning end, 1 roots, 30 extra nodes, 0 pruned nodes, max_depth=4\n",
      "[18:16:54] src/tree/updater_prune.cc:74: tree pruning end, 1 roots, 24 extra nodes, 0 pruned nodes, max_depth=4\n",
      "[18:16:54] src/tree/updater_prune.cc:74: tree pruning end, 1 roots, 28 extra nodes, 0 pruned nodes, max_depth=4\n",
      "[18:16:54] src/tree/updater_prune.cc:74: tree pruning end, 1 roots, 28 extra nodes, 0 pruned nodes, max_depth=4\n",
      "[18:16:54] src/tree/updater_prune.cc:74: tree pruning end, 1 roots, 28 extra nodes, 0 pruned nodes, max_depth=4\n",
      "[310]\ttrain-logloss:0.193646\tvalid-logloss:0.195641\n",
      "[18:16:55] src/tree/updater_prune.cc:74: tree pruning end, 1 roots, 22 extra nodes, 0 pruned nodes, max_depth=4\n",
      "[18:16:55] src/tree/updater_prune.cc:74: tree pruning end, 1 roots, 30 extra nodes, 0 pruned nodes, max_depth=4\n",
      "[18:16:55] src/tree/updater_prune.cc:74: tree pruning end, 1 roots, 28 extra nodes, 0 pruned nodes, max_depth=4\n",
      "[18:16:55] src/tree/updater_prune.cc:74: tree pruning end, 1 roots, 30 extra nodes, 0 pruned nodes, max_depth=4\n",
      "[18:16:56] src/tree/updater_prune.cc:74: tree pruning end, 1 roots, 26 extra nodes, 0 pruned nodes, max_depth=4\n",
      "[18:16:56] src/tree/updater_prune.cc:74: tree pruning end, 1 roots, 28 extra nodes, 0 pruned nodes, max_depth=4\n",
      "[18:16:56] src/tree/updater_prune.cc:74: tree pruning end, 1 roots, 30 extra nodes, 0 pruned nodes, max_depth=4\n",
      "[18:16:56] src/tree/updater_prune.cc:74: tree pruning end, 1 roots, 28 extra nodes, 0 pruned nodes, max_depth=4\n",
      "[18:16:57] src/tree/updater_prune.cc:74: tree pruning end, 1 roots, 24 extra nodes, 0 pruned nodes, max_depth=4\n",
      "[18:16:57] src/tree/updater_prune.cc:74: tree pruning end, 1 roots, 28 extra nodes, 0 pruned nodes, max_depth=4\n",
      "[320]\ttrain-logloss:0.192937\tvalid-logloss:0.195058\n",
      "[18:16:57] src/tree/updater_prune.cc:74: tree pruning end, 1 roots, 28 extra nodes, 0 pruned nodes, max_depth=4\n",
      "[18:16:57] src/tree/updater_prune.cc:74: tree pruning end, 1 roots, 28 extra nodes, 0 pruned nodes, max_depth=4\n",
      "[18:16:58] src/tree/updater_prune.cc:74: tree pruning end, 1 roots, 28 extra nodes, 0 pruned nodes, max_depth=4\n",
      "[18:16:58] src/tree/updater_prune.cc:74: tree pruning end, 1 roots, 28 extra nodes, 0 pruned nodes, max_depth=4\n",
      "[18:16:58] src/tree/updater_prune.cc:74: tree pruning end, 1 roots, 26 extra nodes, 0 pruned nodes, max_depth=4\n",
      "[18:16:58] src/tree/updater_prune.cc:74: tree pruning end, 1 roots, 24 extra nodes, 0 pruned nodes, max_depth=4\n",
      "[18:16:59] src/tree/updater_prune.cc:74: tree pruning end, 1 roots, 28 extra nodes, 0 pruned nodes, max_depth=4\n",
      "[18:16:59] src/tree/updater_prune.cc:74: tree pruning end, 1 roots, 30 extra nodes, 0 pruned nodes, max_depth=4\n",
      "[18:16:59] src/tree/updater_prune.cc:74: tree pruning end, 1 roots, 24 extra nodes, 0 pruned nodes, max_depth=4\n",
      "[18:16:59] src/tree/updater_prune.cc:74: tree pruning end, 1 roots, 30 extra nodes, 0 pruned nodes, max_depth=4\n",
      "[330]\ttrain-logloss:0.192245\tvalid-logloss:0.194483\n",
      "[18:17:00] src/tree/updater_prune.cc:74: tree pruning end, 1 roots, 30 extra nodes, 0 pruned nodes, max_depth=4\n",
      "[18:17:00] src/tree/updater_prune.cc:74: tree pruning end, 1 roots, 26 extra nodes, 0 pruned nodes, max_depth=4\n",
      "[18:17:00] src/tree/updater_prune.cc:74: tree pruning end, 1 roots, 22 extra nodes, 0 pruned nodes, max_depth=4\n",
      "[18:17:01] src/tree/updater_prune.cc:74: tree pruning end, 1 roots, 28 extra nodes, 0 pruned nodes, max_depth=4\n",
      "[18:17:01] src/tree/updater_prune.cc:74: tree pruning end, 1 roots, 28 extra nodes, 0 pruned nodes, max_depth=4\n",
      "[18:17:01] src/tree/updater_prune.cc:74: tree pruning end, 1 roots, 30 extra nodes, 0 pruned nodes, max_depth=4\n",
      "[18:17:01] src/tree/updater_prune.cc:74: tree pruning end, 1 roots, 28 extra nodes, 0 pruned nodes, max_depth=4\n",
      "[18:17:02] src/tree/updater_prune.cc:74: tree pruning end, 1 roots, 28 extra nodes, 0 pruned nodes, max_depth=4\n",
      "[18:17:02] src/tree/updater_prune.cc:74: tree pruning end, 1 roots, 30 extra nodes, 0 pruned nodes, max_depth=4\n",
      "[18:17:02] src/tree/updater_prune.cc:74: tree pruning end, 1 roots, 24 extra nodes, 0 pruned nodes, max_depth=4\n",
      "[340]\ttrain-logloss:0.191649\tvalid-logloss:0.193999\n",
      "[18:17:02] src/tree/updater_prune.cc:74: tree pruning end, 1 roots, 28 extra nodes, 0 pruned nodes, max_depth=4\n",
      "[18:17:03] src/tree/updater_prune.cc:74: tree pruning end, 1 roots, 28 extra nodes, 0 pruned nodes, max_depth=4\n",
      "[18:17:03] src/tree/updater_prune.cc:74: tree pruning end, 1 roots, 24 extra nodes, 0 pruned nodes, max_depth=4\n",
      "[18:17:03] src/tree/updater_prune.cc:74: tree pruning end, 1 roots, 26 extra nodes, 0 pruned nodes, max_depth=4\n",
      "[18:17:03] src/tree/updater_prune.cc:74: tree pruning end, 1 roots, 24 extra nodes, 0 pruned nodes, max_depth=4\n",
      "[18:17:03] src/tree/updater_prune.cc:74: tree pruning end, 1 roots, 30 extra nodes, 0 pruned nodes, max_depth=4\n",
      "[18:17:04] src/tree/updater_prune.cc:74: tree pruning end, 1 roots, 30 extra nodes, 0 pruned nodes, max_depth=4\n",
      "[18:17:04] src/tree/updater_prune.cc:74: tree pruning end, 1 roots, 30 extra nodes, 0 pruned nodes, max_depth=4\n"
     ]
    },
    {
     "name": "stdout",
     "output_type": "stream",
     "text": [
      "[18:17:04] src/tree/updater_prune.cc:74: tree pruning end, 1 roots, 30 extra nodes, 0 pruned nodes, max_depth=4\n",
      "[18:17:05] src/tree/updater_prune.cc:74: tree pruning end, 1 roots, 30 extra nodes, 0 pruned nodes, max_depth=4\n",
      "[350]\ttrain-logloss:0.191011\tvalid-logloss:0.193441\n",
      "[18:17:05] src/tree/updater_prune.cc:74: tree pruning end, 1 roots, 30 extra nodes, 0 pruned nodes, max_depth=4\n",
      "[18:17:05] src/tree/updater_prune.cc:74: tree pruning end, 1 roots, 24 extra nodes, 0 pruned nodes, max_depth=4\n",
      "[18:17:05] src/tree/updater_prune.cc:74: tree pruning end, 1 roots, 30 extra nodes, 0 pruned nodes, max_depth=4\n",
      "[18:17:06] src/tree/updater_prune.cc:74: tree pruning end, 1 roots, 30 extra nodes, 0 pruned nodes, max_depth=4\n",
      "[18:17:06] src/tree/updater_prune.cc:74: tree pruning end, 1 roots, 30 extra nodes, 0 pruned nodes, max_depth=4\n",
      "[18:17:06] src/tree/updater_prune.cc:74: tree pruning end, 1 roots, 30 extra nodes, 0 pruned nodes, max_depth=4\n",
      "[18:17:06] src/tree/updater_prune.cc:74: tree pruning end, 1 roots, 22 extra nodes, 0 pruned nodes, max_depth=4\n",
      "[18:17:06] src/tree/updater_prune.cc:74: tree pruning end, 1 roots, 28 extra nodes, 0 pruned nodes, max_depth=4\n",
      "[18:17:07] src/tree/updater_prune.cc:74: tree pruning end, 1 roots, 30 extra nodes, 0 pruned nodes, max_depth=4\n",
      "[18:17:07] src/tree/updater_prune.cc:74: tree pruning end, 1 roots, 30 extra nodes, 0 pruned nodes, max_depth=4\n",
      "[360]\ttrain-logloss:0.190303\tvalid-logloss:0.192869\n",
      "[18:17:07] src/tree/updater_prune.cc:74: tree pruning end, 1 roots, 30 extra nodes, 0 pruned nodes, max_depth=4\n",
      "[18:17:07] src/tree/updater_prune.cc:74: tree pruning end, 1 roots, 22 extra nodes, 0 pruned nodes, max_depth=4\n",
      "[18:17:08] src/tree/updater_prune.cc:74: tree pruning end, 1 roots, 30 extra nodes, 0 pruned nodes, max_depth=4\n",
      "[18:17:08] src/tree/updater_prune.cc:74: tree pruning end, 1 roots, 22 extra nodes, 0 pruned nodes, max_depth=4\n",
      "[18:17:08] src/tree/updater_prune.cc:74: tree pruning end, 1 roots, 30 extra nodes, 0 pruned nodes, max_depth=4\n",
      "[18:17:08] src/tree/updater_prune.cc:74: tree pruning end, 1 roots, 24 extra nodes, 0 pruned nodes, max_depth=4\n",
      "[18:17:09] src/tree/updater_prune.cc:74: tree pruning end, 1 roots, 28 extra nodes, 0 pruned nodes, max_depth=4\n",
      "[18:17:09] src/tree/updater_prune.cc:74: tree pruning end, 1 roots, 30 extra nodes, 0 pruned nodes, max_depth=4\n",
      "[18:17:09] src/tree/updater_prune.cc:74: tree pruning end, 1 roots, 30 extra nodes, 0 pruned nodes, max_depth=4\n",
      "[18:17:10] src/tree/updater_prune.cc:74: tree pruning end, 1 roots, 30 extra nodes, 0 pruned nodes, max_depth=4\n",
      "[370]\ttrain-logloss:0.18972\tvalid-logloss:0.192389\n",
      "[18:17:10] src/tree/updater_prune.cc:74: tree pruning end, 1 roots, 28 extra nodes, 0 pruned nodes, max_depth=4\n",
      "[18:17:10] src/tree/updater_prune.cc:74: tree pruning end, 1 roots, 30 extra nodes, 0 pruned nodes, max_depth=4\n",
      "[18:17:10] src/tree/updater_prune.cc:74: tree pruning end, 1 roots, 30 extra nodes, 0 pruned nodes, max_depth=4\n",
      "[18:17:11] src/tree/updater_prune.cc:74: tree pruning end, 1 roots, 24 extra nodes, 0 pruned nodes, max_depth=4\n",
      "[18:17:11] src/tree/updater_prune.cc:74: tree pruning end, 1 roots, 30 extra nodes, 0 pruned nodes, max_depth=4\n",
      "[18:17:11] src/tree/updater_prune.cc:74: tree pruning end, 1 roots, 30 extra nodes, 0 pruned nodes, max_depth=4\n",
      "[18:17:11] src/tree/updater_prune.cc:74: tree pruning end, 1 roots, 30 extra nodes, 0 pruned nodes, max_depth=4\n",
      "[18:17:12] src/tree/updater_prune.cc:74: tree pruning end, 1 roots, 26 extra nodes, 0 pruned nodes, max_depth=4\n",
      "[18:17:12] src/tree/updater_prune.cc:74: tree pruning end, 1 roots, 28 extra nodes, 0 pruned nodes, max_depth=4\n",
      "[18:17:12] src/tree/updater_prune.cc:74: tree pruning end, 1 roots, 30 extra nodes, 0 pruned nodes, max_depth=4\n",
      "[380]\ttrain-logloss:0.189231\tvalid-logloss:0.192007\n",
      "[18:17:12] src/tree/updater_prune.cc:74: tree pruning end, 1 roots, 30 extra nodes, 0 pruned nodes, max_depth=4\n",
      "[18:17:13] src/tree/updater_prune.cc:74: tree pruning end, 1 roots, 30 extra nodes, 0 pruned nodes, max_depth=4\n",
      "[18:17:13] src/tree/updater_prune.cc:74: tree pruning end, 1 roots, 30 extra nodes, 0 pruned nodes, max_depth=4\n",
      "[18:17:13] src/tree/updater_prune.cc:74: tree pruning end, 1 roots, 22 extra nodes, 0 pruned nodes, max_depth=4\n",
      "[18:17:13] src/tree/updater_prune.cc:74: tree pruning end, 1 roots, 30 extra nodes, 0 pruned nodes, max_depth=4\n",
      "[18:17:14] src/tree/updater_prune.cc:74: tree pruning end, 1 roots, 28 extra nodes, 0 pruned nodes, max_depth=4\n",
      "[18:17:14] src/tree/updater_prune.cc:74: tree pruning end, 1 roots, 30 extra nodes, 0 pruned nodes, max_depth=4\n",
      "[18:17:14] src/tree/updater_prune.cc:74: tree pruning end, 1 roots, 30 extra nodes, 0 pruned nodes, max_depth=4\n",
      "[18:17:14] src/tree/updater_prune.cc:74: tree pruning end, 1 roots, 22 extra nodes, 0 pruned nodes, max_depth=4\n",
      "[18:17:15] src/tree/updater_prune.cc:74: tree pruning end, 1 roots, 28 extra nodes, 0 pruned nodes, max_depth=4\n",
      "[390]\ttrain-logloss:0.188671\tvalid-logloss:0.191587\n",
      "[18:17:15] src/tree/updater_prune.cc:74: tree pruning end, 1 roots, 28 extra nodes, 0 pruned nodes, max_depth=4\n",
      "[18:17:15] src/tree/updater_prune.cc:74: tree pruning end, 1 roots, 22 extra nodes, 0 pruned nodes, max_depth=4\n",
      "[18:17:15] src/tree/updater_prune.cc:74: tree pruning end, 1 roots, 24 extra nodes, 0 pruned nodes, max_depth=4\n",
      "[18:17:16] src/tree/updater_prune.cc:74: tree pruning end, 1 roots, 30 extra nodes, 0 pruned nodes, max_depth=4\n",
      "[18:17:16] src/tree/updater_prune.cc:74: tree pruning end, 1 roots, 30 extra nodes, 0 pruned nodes, max_depth=4\n",
      "[18:17:16] src/tree/updater_prune.cc:74: tree pruning end, 1 roots, 30 extra nodes, 0 pruned nodes, max_depth=4\n",
      "[18:17:16] src/tree/updater_prune.cc:74: tree pruning end, 1 roots, 30 extra nodes, 0 pruned nodes, max_depth=4\n",
      "[18:17:17] src/tree/updater_prune.cc:74: tree pruning end, 1 roots, 28 extra nodes, 0 pruned nodes, max_depth=4\n",
      "[18:17:17] src/tree/updater_prune.cc:74: tree pruning end, 1 roots, 28 extra nodes, 0 pruned nodes, max_depth=4\n",
      "[399]\ttrain-logloss:0.188221\tvalid-logloss:0.191258\n"
     ]
    }
   ],
   "source": [
    "import xgboost as xgb\n",
    "params = {}\n",
    "params = {'max_depth':4, 'eta':0.02, 'objective':'binary:logistic' }\n",
    "params['eval_metric'] = 'logloss'\n",
    "d_train = xgb.DMatrix(x_train, label=y_train)\n",
    "d_valid = xgb.DMatrix(x_valid, label=y_valid)\n",
    "watchlist = [(d_train, 'train'), (d_valid, 'valid')]\n",
    "bst = xgb.train(params, d_train, 400, watchlist, early_stopping_rounds=50, verbose_eval=10)\n",
    "d_valid = xgb.DMatrix(x_valid) # 调参"
   ]
  },
  {
   "cell_type": "code",
   "execution_count": 339,
   "metadata": {},
   "outputs": [
    {
     "name": "stdout",
     "output_type": "stream",
     "text": [
      "Xgb accuracy: 0.925\n"
     ]
    }
   ],
   "source": [
    "xgb_preds = (bst.predict(d_valid) >= 0.5).astype(int)\n",
    "xgb_accuracy = np.sum(xgb_preds == y_valid) / len(y_valid)\n",
    "print(\"Xgb accuracy: %0.3f\" % xgb_accuracy)"
   ]
  },
  {
   "cell_type": "code",
   "execution_count": 340,
   "metadata": {},
   "outputs": [
    {
     "name": "stdout",
     "output_type": "stream",
     "text": [
      "0.191257647193\n"
     ]
    }
   ],
   "source": [
    "# 计算logloss\n",
    "from sklearn.metrics import log_loss\n",
    "ans = bst.predict(d_valid)\n",
    "score = log_loss(y_valid, ans)\n",
    "print (score)"
   ]
  },
  {
   "cell_type": "code",
   "execution_count": 341,
   "metadata": {},
   "outputs": [
    {
     "data": {
      "image/png": "[encoded data removed]",
      "text/plain": [
       "<Figure size 864x288 with 1 Axes>"
      ]
     },
     "metadata": {},
     "output_type": "display_data"
    }
   ],
   "source": [
    "# 显示重要特征\n",
    "from xgboost import plot_importance\n",
    "plot_importance(bst)\n",
    "plt.show()"
   ]
  },
  {
   "cell_type": "markdown",
   "metadata": {},
   "source": [
    "##### 7.2.2 XGBoost模型max_depth和learning_rate参数调优"
   ]
  },
  {
   "cell_type": "code",
   "execution_count": 299,
   "metadata": {},
   "outputs": [],
   "source": [
    "# 1. 导入 GridSearchCV\n",
    "from sklearn import cross_validation, metrics\n",
    "from sklearn.model_selection import GridSearchCV\n",
    "from xgboost.sklearn import XGBClassifier  # 导入XGBmodel分类器 \n",
    "\n",
    "import matplotlib.pylab as plt\n",
    "%matplotlib inline\n",
    "from matplotlib.pylab import rcParams\n",
    "rcParams['figure.figsize'] = 12, 4"
   ]
  },
  {
   "cell_type": "code",
   "execution_count": 302,
   "metadata": {},
   "outputs": [],
   "source": [
    "# 2.选择参数：(逻辑回归的参数)\n",
    "# 现在选择想要选择的参数，并形成一个字典。 在这本字典中，键 (keys) 将是参数的名称，值 （values) 将是每个参数可能值的列表。\n",
    "cv_params1 = {'max_depth':range(4,16,2),\n",
    "             'learning_rate': [0.02, 0.05, 0.08, 0.1, 0.2, 0.5, 0.7, 0.9]}  # 要调优的参数"
   ]
  },
  {
   "cell_type": "code",
   "execution_count": 303,
   "metadata": {},
   "outputs": [],
   "source": [
    "# 3.创建一个评分机制 (scorer)。需要确认将使用什么指标来为每个候选模型评分，使用 logloss 分数。\n",
    "#4. 使用参数 (parameter) 和评分机制 (scorer) 创建一个 GridSearch 对象\n",
    "# 参数初始化\n",
    "other_params1 = {'objective':'binary:logistic', 'eval_metric':'logloss',\n",
    "                'n_estimators':2,\n",
    "                'silent':0, \n",
    "                'cv':5,\n",
    "                'seed': 0,\n",
    "                'subsample': 0.8,\n",
    "                'colsample_bytree': 0.8,\n",
    "                'gamma': 0, \n",
    "                'min_child_weight':1,\n",
    "                'reg_alpha': 0,\n",
    "                'reg_lambda': 1}"
   ]
  },
  {
   "cell_type": "code",
   "execution_count": 304,
   "metadata": {},
   "outputs": [
    {
     "name": "stdout",
     "output_type": "stream",
     "text": [
      "Fitting 5 folds for each of 48 candidates, totalling 240 fits\n",
      "[16:06:27] src/tree/updater_prune.cc:74: tree pruning end, 1 roots, 28 extra nodes, 0 pruned nodes, max_depth=4\n",
      "[16:06:28] src/tree/updater_prune.cc:74: tree pruning end, 1 roots, 24 extra nodes, 0 pruned nodes, max_depth=4\n",
      "[16:06:28] src/tree/updater_prune.cc:74: tree pruning end, 1 roots, 30 extra nodes, 0 pruned nodes, max_depth=4\n",
      "[16:06:28] src/tree/updater_prune.cc:74: tree pruning end, 1 roots, 26 extra nodes, 0 pruned nodes, max_depth=4\n",
      "[16:06:28] src/tree/updater_prune.cc:74: tree pruning end, 1 roots, 26 extra nodes, 0 pruned nodes, max_depth=4\n",
      "[16:06:28] src/tree/updater_prune.cc:74: tree pruning end, 1 roots, 28 extra nodes, 0 pruned nodes, max_depth=4\n",
      "[16:06:28] src/tree/updater_prune.cc:74: tree pruning end, 1 roots, 30 extra nodes, 0 pruned nodes, max_depth=4\n",
      "[16:06:28] src/tree/updater_prune.cc:74: tree pruning end, 1 roots, 30 extra nodes, 0 pruned nodes, max_depth=4\n",
      "[16:06:30] src/tree/updater_prune.cc:74: tree pruning end, 1 roots, 28 extra nodes, 0 pruned nodes, max_depth=4\n",
      "[16:06:30] src/tree/updater_prune.cc:74: tree pruning end, 1 roots, 30 extra nodes, 0 pruned nodes, max_depth=4\n",
      "[16:06:30] src/tree/updater_prune.cc:74: tree pruning end, 1 roots, 92 extra nodes, 0 pruned nodes, max_depth=6\n",
      "[16:06:30] src/tree/updater_prune.cc:74: tree pruning end, 1 roots, 90 extra nodes, 0 pruned nodes, max_depth=6\n",
      "[16:06:30] src/tree/updater_prune.cc:74: tree pruning end, 1 roots, 94 extra nodes, 0 pruned nodes, max_depth=6\n",
      "[16:06:31] src/tree/updater_prune.cc:74: tree pruning end, 1 roots, 110 extra nodes, 0 pruned nodes, max_depth=6\n",
      "[16:06:31] src/tree/updater_prune.cc:74: tree pruning end, 1 roots, 88 extra nodes, 0 pruned nodes, max_depth=6\n",
      "[16:06:31] src/tree/updater_prune.cc:74: tree pruning end, 1 roots, 92 extra nodes, 0 pruned nodes, max_depth=6\n",
      "[16:06:31] src/tree/updater_prune.cc:74: tree pruning end, 1 roots, 90 extra nodes, 0 pruned nodes, max_depth=6\n",
      "[16:06:32] src/tree/updater_prune.cc:74: tree pruning end, 1 roots, 96 extra nodes, 0 pruned nodes, max_depth=6\n",
      "[16:06:32] src/tree/updater_prune.cc:74: tree pruning end, 1 roots, 94 extra nodes, 0 pruned nodes, max_depth=6\n",
      "[16:06:32] src/tree/updater_prune.cc:74: tree pruning end, 1 roots, 224 extra nodes, 0 pruned nodes, max_depth=8\n",
      "[16:06:32] src/tree/updater_prune.cc:74: tree pruning end, 1 roots, 242 extra nodes, 0 pruned nodes, max_depth=8\n",
      "[16:06:33] src/tree/updater_prune.cc:74: tree pruning end, 1 roots, 102 extra nodes, 0 pruned nodes, max_depth=6\n",
      "[16:06:33] src/tree/updater_prune.cc:74: tree pruning end, 1 roots, 272 extra nodes, 0 pruned nodes, max_depth=8\n",
      "[16:06:33] src/tree/updater_prune.cc:74: tree pruning end, 1 roots, 244 extra nodes, 0 pruned nodes, max_depth=8\n",
      "[16:06:33] src/tree/updater_prune.cc:74: tree pruning end, 1 roots, 256 extra nodes, 0 pruned nodes, max_depth=8\n",
      "[16:06:34] src/tree/updater_prune.cc:74: tree pruning end, 1 roots, 214 extra nodes, 0 pruned nodes, max_depth=8\n",
      "[16:06:34] src/tree/updater_prune.cc:74: tree pruning end, 1 roots, 244 extra nodes, 0 pruned nodes, max_depth=8\n",
      "[16:06:35] src/tree/updater_prune.cc:74: tree pruning end, 1 roots, 246 extra nodes, 0 pruned nodes, max_depth=8\n",
      "[16:06:36] src/tree/updater_prune.cc:74: tree pruning end, 1 roots, 458 extra nodes, 0 pruned nodes, max_depth=10\n",
      "[16:06:36] src/tree/updater_prune.cc:74: tree pruning end, 1 roots, 224 extra nodes, 0 pruned nodes, max_depth=8\n",
      "[16:06:36] src/tree/updater_prune.cc:74: tree pruning end, 1 roots, 242 extra nodes, 0 pruned nodes, max_depth=8\n",
      "[16:06:37] src/tree/updater_prune.cc:74: tree pruning end, 1 roots, 562 extra nodes, 0 pruned nodes, max_depth=10\n",
      "[16:06:37] src/tree/updater_prune.cc:74: tree pruning end, 1 roots, 528 extra nodes, 0 pruned nodes, max_depth=10\n",
      "[16:06:38] src/tree/updater_prune.cc:74: tree pruning end, 1 roots, 508 extra nodes, 0 pruned nodes, max_depth=10\n",
      "[16:06:38] src/tree/updater_prune.cc:74: tree pruning end, 1 roots, 462 extra nodes, 0 pruned nodes, max_depth=10\n",
      "[16:06:38] src/tree/updater_prune.cc:74: tree pruning end, 1 roots, 512 extra nodes, 0 pruned nodes, max_depth=10\n",
      "[16:06:39] src/tree/updater_prune.cc:74: tree pruning end, 1 roots, 416 extra nodes, 0 pruned nodes, max_depth=10\n",
      "[16:06:39] src/tree/updater_prune.cc:74: tree pruning end, 1 roots, 502 extra nodes, 0 pruned nodes, max_depth=10\n",
      "[16:06:39] src/tree/updater_prune.cc:74: tree pruning end, 1 roots, 432 extra nodes, 0 pruned nodes, max_depth=10\n",
      "[16:06:39] src/tree/updater_prune.cc:74: tree pruning end, 1 roots, 498 extra nodes, 0 pruned nodes, max_depth=10\n",
      "[16:06:40] src/tree/updater_prune.cc:74: tree pruning end, 1 roots, 726 extra nodes, 0 pruned nodes, max_depth=12\n",
      "[16:06:40] src/tree/updater_prune.cc:74: tree pruning end, 1 roots, 862 extra nodes, 0 pruned nodes, max_depth=12\n",
      "[16:06:41] src/tree/updater_prune.cc:74: tree pruning end, 1 roots, 898 extra nodes, 0 pruned nodes, max_depth=12\n",
      "[16:06:41] src/tree/updater_prune.cc:74: tree pruning end, 1 roots, 798 extra nodes, 0 pruned nodes, max_depth=12\n",
      "[16:06:41] src/tree/updater_prune.cc:74: tree pruning end, 1 roots, 798 extra nodes, 0 pruned nodes, max_depth=12\n",
      "[16:06:41] src/tree/updater_prune.cc:74: tree pruning end, 1 roots, 740 extra nodes, 0 pruned nodes, max_depth=12\n",
      "[16:06:42] src/tree/updater_prune.cc:74: tree pruning end, 1 roots, 704 extra nodes, 0 pruned nodes, max_depth=12\n",
      "[16:06:42] src/tree/updater_prune.cc:74: tree pruning end, 1 roots, 706 extra nodes, 0 pruned nodes, max_depth=12\n",
      "[16:06:43] src/tree/updater_prune.cc:74: tree pruning end, 1 roots, 888 extra nodes, 0 pruned nodes, max_depth=12\n",
      "[16:06:43] src/tree/updater_prune.cc:74: tree pruning end, 1 roots, 1000 extra nodes, 0 pruned nodes, max_depth=14\n",
      "[16:06:43] src/tree/updater_prune.cc:74: tree pruning end, 1 roots, 786 extra nodes, 0 pruned nodes, max_depth=12\n",
      "[16:06:44] src/tree/updater_prune.cc:74: tree pruning end, 1 roots, 1216 extra nodes, 0 pruned nodes, max_depth=14\n",
      "[16:06:44] src/tree/updater_prune.cc:74: tree pruning end, 1 roots, 1130 extra nodes, 0 pruned nodes, max_depth=14\n",
      "[16:06:44] src/tree/updater_prune.cc:74: tree pruning end, 1 roots, 1244 extra nodes, 0 pruned nodes, max_depth=14\n",
      "[16:06:44] src/tree/updater_prune.cc:74: tree pruning end, 1 roots, 1012 extra nodes, 0 pruned nodes, max_depth=14\n",
      "[16:06:45] src/tree/updater_prune.cc:74: tree pruning end, 1 roots, 1022 extra nodes, 0 pruned nodes, max_depth=14\n",
      "[16:06:45] src/tree/updater_prune.cc:74: tree pruning end, 1 roots, 1134 extra nodes, 0 pruned nodes, max_depth=14\n",
      "[16:06:45] src/tree/updater_prune.cc:74: tree pruning end, 1 roots, 28 extra nodes, 0 pruned nodes, max_depth=4\n",
      "[16:06:46] src/tree/updater_prune.cc:74: tree pruning end, 1 roots, 1198 extra nodes, 0 pruned nodes, max_depth=14\n",
      "[16:06:46] src/tree/updater_prune.cc:74: tree pruning end, 1 roots, 30 extra nodes, 0 pruned nodes, max_depth=4\n",
      "[16:06:46] src/tree/updater_prune.cc:74: tree pruning end, 1 roots, 24 extra nodes, 0 pruned nodes, max_depth=4\n",
      "[16:06:46] src/tree/updater_prune.cc:74: tree pruning end, 1 roots, 1000 extra nodes, 0 pruned nodes, max_depth=14\n",
      "[16:06:46] src/tree/updater_prune.cc:74: tree pruning end, 1 roots, 30 extra nodes, 0 pruned nodes, max_depth=4\n",
      "[16:06:46] src/tree/updater_prune.cc:74: tree pruning end, 1 roots, 1078 extra nodes, 0 pruned nodes, max_depth=14\n",
      "[16:06:47] src/tree/updater_prune.cc:74: tree pruning end, 1 roots, 26 extra nodes, 0 pruned nodes, max_depth=4\n",
      "[16:06:47] src/tree/updater_prune.cc:74: tree pruning end, 1 roots, 26 extra nodes, 0 pruned nodes, max_depth=4\n",
      "[16:06:47] src/tree/updater_prune.cc:74: tree pruning end, 1 roots, 30 extra nodes, 0 pruned nodes, max_depth=4\n",
      "[16:06:47] src/tree/updater_prune.cc:74: tree pruning end, 1 roots, 28 extra nodes, 0 pruned nodes, max_depth=4\n",
      "[16:06:47] src/tree/updater_prune.cc:74: tree pruning end, 1 roots, 30 extra nodes, 0 pruned nodes, max_depth=4\n",
      "[16:06:47] src/tree/updater_prune.cc:74: tree pruning end, 1 roots, 30 extra nodes, 0 pruned nodes, max_depth=4\n",
      "[16:06:48] src/tree/updater_prune.cc:74: tree pruning end, 1 roots, 92 extra nodes, 0 pruned nodes, max_depth=6\n",
      "[16:06:48] src/tree/updater_prune.cc:74: tree pruning end, 1 roots, 112 extra nodes, 0 pruned nodes, max_depth=6\n"
     ]
    },
    {
     "name": "stdout",
     "output_type": "stream",
     "text": [
      "[16:06:48] src/tree/updater_prune.cc:74: tree pruning end, 1 roots, 90 extra nodes, 0 pruned nodes, max_depth=6\n",
      "[16:06:48] src/tree/updater_prune.cc:74: tree pruning end, 1 roots, 94 extra nodes, 0 pruned nodes, max_depth=6\n",
      "[16:06:49] src/tree/updater_prune.cc:74: tree pruning end, 1 roots, 90 extra nodes, 0 pruned nodes, max_depth=6\n",
      "[16:06:49] src/tree/updater_prune.cc:74: tree pruning end, 1 roots, 96 extra nodes, 0 pruned nodes, max_depth=6\n",
      "[16:06:49] src/tree/updater_prune.cc:74: tree pruning end, 1 roots, 92 extra nodes, 0 pruned nodes, max_depth=6\n",
      "[16:06:49] src/tree/updater_prune.cc:74: tree pruning end, 1 roots, 98 extra nodes, 0 pruned nodes, max_depth=6\n",
      "[16:06:49] src/tree/updater_prune.cc:74: tree pruning end, 1 roots, 94 extra nodes, 0 pruned nodes, max_depth=6\n",
      "[16:06:50] src/tree/updater_prune.cc:74: tree pruning end, 1 roots, 102 extra nodes, 0 pruned nodes, max_depth=6\n",
      "[16:06:50] src/tree/updater_prune.cc:74: tree pruning end, 1 roots, 224 extra nodes, 0 pruned nodes, max_depth=8\n",
      "[16:06:50] src/tree/updater_prune.cc:74: tree pruning end, 1 roots, 242 extra nodes, 0 pruned nodes, max_depth=8\n",
      "[16:06:50] src/tree/updater_prune.cc:74: tree pruning end, 1 roots, 256 extra nodes, 0 pruned nodes, max_depth=8\n",
      "[16:06:51] src/tree/updater_prune.cc:74: tree pruning end, 1 roots, 282 extra nodes, 0 pruned nodes, max_depth=8\n",
      "[16:06:51] src/tree/updater_prune.cc:74: tree pruning end, 1 roots, 246 extra nodes, 0 pruned nodes, max_depth=8\n",
      "[16:06:51] src/tree/updater_prune.cc:74: tree pruning end, 1 roots, 216 extra nodes, 0 pruned nodes, max_depth=8\n",
      "[16:06:51] src/tree/updater_prune.cc:74: tree pruning end, 1 roots, 244 extra nodes, 0 pruned nodes, max_depth=8\n"
     ]
    },
    {
     "name": "stderr",
     "output_type": "stream",
     "text": [
      "[Parallel(n_jobs=4)]: Done  42 tasks      | elapsed:   25.6s\n"
     ]
    },
    {
     "name": "stdout",
     "output_type": "stream",
     "text": [
      "[16:06:52] src/tree/updater_prune.cc:74: tree pruning end, 1 roots, 234 extra nodes, 0 pruned nodes, max_depth=8\n",
      "[16:06:52] src/tree/updater_prune.cc:74: tree pruning end, 1 roots, 246 extra nodes, 0 pruned nodes, max_depth=8\n",
      "[16:06:52] src/tree/updater_prune.cc:74: tree pruning end, 1 roots, 458 extra nodes, 0 pruned nodes, max_depth=10\n",
      "[16:06:52] src/tree/updater_prune.cc:74: tree pruning end, 1 roots, 528 extra nodes, 0 pruned nodes, max_depth=10\n",
      "[16:06:52] src/tree/updater_prune.cc:74: tree pruning end, 1 roots, 244 extra nodes, 0 pruned nodes, max_depth=8\n",
      "[16:06:53] src/tree/updater_prune.cc:74: tree pruning end, 1 roots, 572 extra nodes, 0 pruned nodes, max_depth=10\n",
      "[16:06:53] src/tree/updater_prune.cc:74: tree pruning end, 1 roots, 470 extra nodes, 0 pruned nodes, max_depth=10\n",
      "[16:06:53] src/tree/updater_prune.cc:74: tree pruning end, 1 roots, 508 extra nodes, 0 pruned nodes, max_depth=10\n",
      "[16:06:54] src/tree/updater_prune.cc:74: tree pruning end, 1 roots, 430 extra nodes, 0 pruned nodes, max_depth=10\n",
      "[16:06:54] src/tree/updater_prune.cc:74: tree pruning end, 1 roots, 512 extra nodes, 0 pruned nodes, max_depth=10\n",
      "[16:06:54] src/tree/updater_prune.cc:74: tree pruning end, 1 roots, 502 extra nodes, 0 pruned nodes, max_depth=10\n",
      "[16:06:55] src/tree/updater_prune.cc:74: tree pruning end, 1 roots, 444 extra nodes, 0 pruned nodes, max_depth=10\n",
      "[16:06:55] src/tree/updater_prune.cc:74: tree pruning end, 1 roots, 726 extra nodes, 0 pruned nodes, max_depth=12\n",
      "[16:06:55] src/tree/updater_prune.cc:74: tree pruning end, 1 roots, 486 extra nodes, 0 pruned nodes, max_depth=10\n",
      "[16:06:55] src/tree/updater_prune.cc:74: tree pruning end, 1 roots, 862 extra nodes, 0 pruned nodes, max_depth=12\n",
      "[16:06:55] src/tree/updater_prune.cc:74: tree pruning end, 1 roots, 934 extra nodes, 0 pruned nodes, max_depth=12\n",
      "[16:06:56] src/tree/updater_prune.cc:74: tree pruning end, 1 roots, 736 extra nodes, 0 pruned nodes, max_depth=12\n",
      "[16:06:56] src/tree/updater_prune.cc:74: tree pruning end, 1 roots, 798 extra nodes, 0 pruned nodes, max_depth=12\n",
      "[16:06:57] src/tree/updater_prune.cc:74: tree pruning end, 1 roots, 798 extra nodes, 0 pruned nodes, max_depth=12\n",
      "[16:06:57] src/tree/updater_prune.cc:74: tree pruning end, 1 roots, 748 extra nodes, 0 pruned nodes, max_depth=12\n",
      "[16:06:57] src/tree/updater_prune.cc:74: tree pruning end, 1 roots, 888 extra nodes, 0 pruned nodes, max_depth=12\n",
      "[16:06:57] src/tree/updater_prune.cc:74: tree pruning end, 1 roots, 712 extra nodes, 0 pruned nodes, max_depth=12\n",
      "[16:06:58] src/tree/updater_prune.cc:74: tree pruning end, 1 roots, 1000 extra nodes, 0 pruned nodes, max_depth=14\n",
      "[16:06:58] src/tree/updater_prune.cc:74: tree pruning end, 1 roots, 776 extra nodes, 0 pruned nodes, max_depth=12\n",
      "[16:06:59] src/tree/updater_prune.cc:74: tree pruning end, 1 roots, 1216 extra nodes, 0 pruned nodes, max_depth=14\n",
      "[16:06:59] src/tree/updater_prune.cc:74: tree pruning end, 1 roots, 1276 extra nodes, 0 pruned nodes, max_depth=14\n",
      "[16:06:59] src/tree/updater_prune.cc:74: tree pruning end, 1 roots, 1130 extra nodes, 0 pruned nodes, max_depth=14\n",
      "[16:06:59] src/tree/updater_prune.cc:74: tree pruning end, 1 roots, 978 extra nodes, 0 pruned nodes, max_depth=14\n",
      "[16:07:00] src/tree/updater_prune.cc:74: tree pruning end, 1 roots, 1134 extra nodes, 0 pruned nodes, max_depth=14\n",
      "[16:07:00] src/tree/updater_prune.cc:74: tree pruning end, 1 roots, 1062 extra nodes, 0 pruned nodes, max_depth=14\n",
      "[16:07:00] src/tree/updater_prune.cc:74: tree pruning end, 1 roots, 1198 extra nodes, 0 pruned nodes, max_depth=14\n",
      "[16:07:00] src/tree/updater_prune.cc:74: tree pruning end, 1 roots, 1002 extra nodes, 0 pruned nodes, max_depth=14\n",
      "[16:07:01] src/tree/updater_prune.cc:74: tree pruning end, 1 roots, 28 extra nodes, 0 pruned nodes, max_depth=4\n",
      "[16:07:01] src/tree/updater_prune.cc:74: tree pruning end, 1 roots, 30 extra nodes, 0 pruned nodes, max_depth=4\n",
      "[16:07:01] src/tree/updater_prune.cc:74: tree pruning end, 1 roots, 24 extra nodes, 0 pruned nodes, max_depth=4\n",
      "[16:07:01] src/tree/updater_prune.cc:74: tree pruning end, 1 roots, 30 extra nodes, 0 pruned nodes, max_depth=4\n",
      "[16:07:01] src/tree/updater_prune.cc:74: tree pruning end, 1 roots, 1072 extra nodes, 0 pruned nodes, max_depth=14\n",
      "[16:07:02] src/tree/updater_prune.cc:74: tree pruning end, 1 roots, 26 extra nodes, 0 pruned nodes, max_depth=4\n",
      "[16:07:02] src/tree/updater_prune.cc:74: tree pruning end, 1 roots, 30 extra nodes, 0 pruned nodes, max_depth=4\n",
      "[16:07:02] src/tree/updater_prune.cc:74: tree pruning end, 1 roots, 26 extra nodes, 0 pruned nodes, max_depth=4\n",
      "[16:07:02] src/tree/updater_prune.cc:74: tree pruning end, 1 roots, 30 extra nodes, 0 pruned nodes, max_depth=4\n",
      "[16:07:02] src/tree/updater_prune.cc:74: tree pruning end, 1 roots, 28 extra nodes, 0 pruned nodes, max_depth=4\n",
      "[16:07:02] src/tree/updater_prune.cc:74: tree pruning end, 1 roots, 92 extra nodes, 0 pruned nodes, max_depth=6\n",
      "[16:07:03] src/tree/updater_prune.cc:74: tree pruning end, 1 roots, 30 extra nodes, 0 pruned nodes, max_depth=4\n",
      "[16:07:03] src/tree/updater_prune.cc:74: tree pruning end, 1 roots, 112 extra nodes, 0 pruned nodes, max_depth=6\n",
      "[16:07:03] src/tree/updater_prune.cc:74: tree pruning end, 1 roots, 90 extra nodes, 0 pruned nodes, max_depth=6\n",
      "[16:07:03] src/tree/updater_prune.cc:74: tree pruning end, 1 roots, 94 extra nodes, 0 pruned nodes, max_depth=6\n",
      "[16:07:03] src/tree/updater_prune.cc:74: tree pruning end, 1 roots, 96 extra nodes, 0 pruned nodes, max_depth=6\n",
      "[16:07:04] src/tree/updater_prune.cc:74: tree pruning end, 1 roots, 90 extra nodes, 0 pruned nodes, max_depth=6\n",
      "[16:07:04] src/tree/updater_prune.cc:74: tree pruning end, 1 roots, 92 extra nodes, 0 pruned nodes, max_depth=6\n",
      "[16:07:04] src/tree/updater_prune.cc:74: tree pruning end, 1 roots, 94 extra nodes, 0 pruned nodes, max_depth=6\n",
      "[16:07:04] src/tree/updater_prune.cc:74: tree pruning end, 1 roots, 98 extra nodes, 0 pruned nodes, max_depth=6\n",
      "[16:07:05] src/tree/updater_prune.cc:74: tree pruning end, 1 roots, 102 extra nodes, 0 pruned nodes, max_depth=6\n",
      "[16:07:05] src/tree/updater_prune.cc:74: tree pruning end, 1 roots, 224 extra nodes, 0 pruned nodes, max_depth=8\n",
      "[16:07:05] src/tree/updater_prune.cc:74: tree pruning end, 1 roots, 242 extra nodes, 0 pruned nodes, max_depth=8\n",
      "[16:07:05] src/tree/updater_prune.cc:74: tree pruning end, 1 roots, 276 extra nodes, 0 pruned nodes, max_depth=8\n",
      "[16:07:06] src/tree/updater_prune.cc:74: tree pruning end, 1 roots, 256 extra nodes, 0 pruned nodes, max_depth=8\n",
      "[16:07:06] src/tree/updater_prune.cc:74: tree pruning end, 1 roots, 246 extra nodes, 0 pruned nodes, max_depth=8\n",
      "[16:07:06] src/tree/updater_prune.cc:74: tree pruning end, 1 roots, 244 extra nodes, 0 pruned nodes, max_depth=8\n",
      "[16:07:06] src/tree/updater_prune.cc:74: tree pruning end, 1 roots, 216 extra nodes, 0 pruned nodes, max_depth=8\n",
      "[16:07:07] src/tree/updater_prune.cc:74: tree pruning end, 1 roots, 234 extra nodes, 0 pruned nodes, max_depth=8\n",
      "[16:07:07] src/tree/updater_prune.cc:74: tree pruning end, 1 roots, 246 extra nodes, 0 pruned nodes, max_depth=8\n",
      "[16:07:07] src/tree/updater_prune.cc:74: tree pruning end, 1 roots, 458 extra nodes, 0 pruned nodes, max_depth=10\n",
      "[16:07:07] src/tree/updater_prune.cc:74: tree pruning end, 1 roots, 246 extra nodes, 0 pruned nodes, max_depth=8\n",
      "[16:07:08] src/tree/updater_prune.cc:74: tree pruning end, 1 roots, 528 extra nodes, 0 pruned nodes, max_depth=10\n",
      "[16:07:08] src/tree/updater_prune.cc:74: tree pruning end, 1 roots, 578 extra nodes, 0 pruned nodes, max_depth=10\n",
      "[16:07:08] src/tree/updater_prune.cc:74: tree pruning end, 1 roots, 508 extra nodes, 0 pruned nodes, max_depth=10\n",
      "[16:07:09] src/tree/updater_prune.cc:74: tree pruning end, 1 roots, 480 extra nodes, 0 pruned nodes, max_depth=10\n",
      "[16:07:09] src/tree/updater_prune.cc:74: tree pruning end, 1 roots, 432 extra nodes, 0 pruned nodes, max_depth=10\n",
      "[16:07:09] src/tree/updater_prune.cc:74: tree pruning end, 1 roots, 512 extra nodes, 0 pruned nodes, max_depth=10\n",
      "[16:07:10] src/tree/updater_prune.cc:74: tree pruning end, 1 roots, 448 extra nodes, 0 pruned nodes, max_depth=10\n",
      "[16:07:10] src/tree/updater_prune.cc:74: tree pruning end, 1 roots, 502 extra nodes, 0 pruned nodes, max_depth=10\n",
      "[16:07:10] src/tree/updater_prune.cc:74: tree pruning end, 1 roots, 726 extra nodes, 0 pruned nodes, max_depth=12\n"
     ]
    },
    {
     "name": "stdout",
     "output_type": "stream",
     "text": [
      "[16:07:11] src/tree/updater_prune.cc:74: tree pruning end, 1 roots, 488 extra nodes, 0 pruned nodes, max_depth=10\n",
      "[16:07:11] src/tree/updater_prune.cc:74: tree pruning end, 1 roots, 862 extra nodes, 0 pruned nodes, max_depth=12\n",
      "[16:07:11] src/tree/updater_prune.cc:74: tree pruning end, 1 roots, 936 extra nodes, 0 pruned nodes, max_depth=12\n",
      "[16:07:11] src/tree/updater_prune.cc:74: tree pruning end, 1 roots, 798 extra nodes, 0 pruned nodes, max_depth=12\n",
      "[16:07:12] src/tree/updater_prune.cc:74: tree pruning end, 1 roots, 748 extra nodes, 0 pruned nodes, max_depth=12\n",
      "[16:07:12] src/tree/updater_prune.cc:74: tree pruning end, 1 roots, 798 extra nodes, 0 pruned nodes, max_depth=12\n",
      "[16:07:12] src/tree/updater_prune.cc:74: tree pruning end, 1 roots, 750 extra nodes, 0 pruned nodes, max_depth=12\n",
      "[16:07:13] src/tree/updater_prune.cc:74: tree pruning end, 1 roots, 888 extra nodes, 0 pruned nodes, max_depth=12\n",
      "[16:07:13] src/tree/updater_prune.cc:74: tree pruning end, 1 roots, 712 extra nodes, 0 pruned nodes, max_depth=12\n",
      "[16:07:13] src/tree/updater_prune.cc:74: tree pruning end, 1 roots, 1000 extra nodes, 0 pruned nodes, max_depth=14\n",
      "[16:07:14] src/tree/updater_prune.cc:74: tree pruning end, 1 roots, 782 extra nodes, 0 pruned nodes, max_depth=12\n",
      "[16:07:14] src/tree/updater_prune.cc:74: tree pruning end, 1 roots, 1216 extra nodes, 0 pruned nodes, max_depth=14\n",
      "[16:07:14] src/tree/updater_prune.cc:74: tree pruning end, 1 roots, 1330 extra nodes, 0 pruned nodes, max_depth=14\n",
      "[16:07:15] src/tree/updater_prune.cc:74: tree pruning end, 1 roots, 1130 extra nodes, 0 pruned nodes, max_depth=14\n",
      "[16:07:15] src/tree/updater_prune.cc:74: tree pruning end, 1 roots, 1044 extra nodes, 0 pruned nodes, max_depth=14\n",
      "[16:07:15] src/tree/updater_prune.cc:74: tree pruning end, 1 roots, 1134 extra nodes, 0 pruned nodes, max_depth=14\n",
      "[16:07:16] src/tree/updater_prune.cc:74: tree pruning end, 1 roots, 1062 extra nodes, 0 pruned nodes, max_depth=14\n",
      "[16:07:16] src/tree/updater_prune.cc:74: tree pruning end, 1 roots, 1198 extra nodes, 0 pruned nodes, max_depth=14\n",
      "[16:07:16] src/tree/updater_prune.cc:74: tree pruning end, 1 roots, 28 extra nodes, 0 pruned nodes, max_depth=4\n",
      "[16:07:16] src/tree/updater_prune.cc:74: tree pruning end, 1 roots, 1002 extra nodes, 0 pruned nodes, max_depth=14\n",
      "[16:07:16] src/tree/updater_prune.cc:74: tree pruning end, 1 roots, 30 extra nodes, 0 pruned nodes, max_depth=4\n",
      "[16:07:17] src/tree/updater_prune.cc:74: tree pruning end, 1 roots, 1088 extra nodes, 0 pruned nodes, max_depth=14\n",
      "[16:07:17] src/tree/updater_prune.cc:74: tree pruning end, 1 roots, 24 extra nodes, 0 pruned nodes, max_depth=4\n",
      "[16:07:17] src/tree/updater_prune.cc:74: tree pruning end, 1 roots, 30 extra nodes, 0 pruned nodes, max_depth=4\n",
      "[16:07:17] src/tree/updater_prune.cc:74: tree pruning end, 1 roots, 26 extra nodes, 0 pruned nodes, max_depth=4\n",
      "[16:07:17] src/tree/updater_prune.cc:74: tree pruning end, 1 roots, 26 extra nodes, 0 pruned nodes, max_depth=4\n",
      "[16:07:17] src/tree/updater_prune.cc:74: tree pruning end, 1 roots, 30 extra nodes, 0 pruned nodes, max_depth=4\n",
      "[16:07:18] src/tree/updater_prune.cc:74: tree pruning end, 1 roots, 30 extra nodes, 0 pruned nodes, max_depth=4\n",
      "[16:07:18] src/tree/updater_prune.cc:74: tree pruning end, 1 roots, 28 extra nodes, 0 pruned nodes, max_depth=4\n",
      "[16:07:18] src/tree/updater_prune.cc:74: tree pruning end, 1 roots, 30 extra nodes, 0 pruned nodes, max_depth=4\n",
      "[16:07:18] src/tree/updater_prune.cc:74: tree pruning end, 1 roots, 92 extra nodes, 0 pruned nodes, max_depth=6\n",
      "[16:07:19] src/tree/updater_prune.cc:74: tree pruning end, 1 roots, 112 extra nodes, 0 pruned nodes, max_depth=6\n",
      "[16:07:19] src/tree/updater_prune.cc:74: tree pruning end, 1 roots, 90 extra nodes, 0 pruned nodes, max_depth=6\n",
      "[16:07:19] src/tree/updater_prune.cc:74: tree pruning end, 1 roots, 94 extra nodes, 0 pruned nodes, max_depth=6\n",
      "[16:07:19] src/tree/updater_prune.cc:74: tree pruning end, 1 roots, 96 extra nodes, 0 pruned nodes, max_depth=6\n",
      "[16:07:19] src/tree/updater_prune.cc:74: tree pruning end, 1 roots, 90 extra nodes, 0 pruned nodes, max_depth=6\n",
      "[16:07:19] src/tree/updater_prune.cc:74: tree pruning end, 1 roots, 92 extra nodes, 0 pruned nodes, max_depth=6\n",
      "[16:07:20] src/tree/updater_prune.cc:74: tree pruning end, 1 roots, 98 extra nodes, 0 pruned nodes, max_depth=6\n",
      "[16:07:20] src/tree/updater_prune.cc:74: tree pruning end, 1 roots, 94 extra nodes, 0 pruned nodes, max_depth=6\n",
      "[16:07:20] src/tree/updater_prune.cc:74: tree pruning end, 1 roots, 102 extra nodes, 0 pruned nodes, max_depth=6\n",
      "[16:07:20] src/tree/updater_prune.cc:74: tree pruning end, 1 roots, 224 extra nodes, 0 pruned nodes, max_depth=8\n",
      "[16:07:21] src/tree/updater_prune.cc:74: tree pruning end, 1 roots, 242 extra nodes, 0 pruned nodes, max_depth=8\n",
      "[16:07:21] src/tree/updater_prune.cc:74: tree pruning end, 1 roots, 284 extra nodes, 0 pruned nodes, max_depth=8\n",
      "[16:07:21] src/tree/updater_prune.cc:74: tree pruning end, 1 roots, 256 extra nodes, 0 pruned nodes, max_depth=8\n",
      "[16:07:21] src/tree/updater_prune.cc:74: tree pruning end, 1 roots, 246 extra nodes, 0 pruned nodes, max_depth=8\n",
      "[16:07:21] src/tree/updater_prune.cc:74: tree pruning end, 1 roots, 216 extra nodes, 0 pruned nodes, max_depth=8\n",
      "[16:07:22] src/tree/updater_prune.cc:74: tree pruning end, 1 roots, 244 extra nodes, 0 pruned nodes, max_depth=8\n",
      "[16:07:22] src/tree/updater_prune.cc:74: tree pruning end, 1 roots, 234 extra nodes, 0 pruned nodes, max_depth=8\n",
      "[16:07:22] src/tree/updater_prune.cc:74: tree pruning end, 1 roots, 246 extra nodes, 0 pruned nodes, max_depth=8\n",
      "[16:07:23] src/tree/updater_prune.cc:74: tree pruning end, 1 roots, 458 extra nodes, 0 pruned nodes, max_depth=10\n",
      "[16:07:23] src/tree/updater_prune.cc:74: tree pruning end, 1 roots, 246 extra nodes, 0 pruned nodes, max_depth=8\n",
      "[16:07:23] src/tree/updater_prune.cc:74: tree pruning end, 1 roots, 528 extra nodes, 0 pruned nodes, max_depth=10\n",
      "[16:07:23] src/tree/updater_prune.cc:74: tree pruning end, 1 roots, 596 extra nodes, 0 pruned nodes, max_depth=10\n",
      "[16:07:23] src/tree/updater_prune.cc:74: tree pruning end, 1 roots, 508 extra nodes, 0 pruned nodes, max_depth=10\n",
      "[16:07:24] src/tree/updater_prune.cc:74: tree pruning end, 1 roots, 484 extra nodes, 0 pruned nodes, max_depth=10\n",
      "[16:07:24] src/tree/updater_prune.cc:74: tree pruning end, 1 roots, 430 extra nodes, 0 pruned nodes, max_depth=10\n",
      "[16:07:24] src/tree/updater_prune.cc:74: tree pruning end, 1 roots, 512 extra nodes, 0 pruned nodes, max_depth=10\n",
      "[16:07:25] src/tree/updater_prune.cc:74: tree pruning end, 1 roots, 502 extra nodes, 0 pruned nodes, max_depth=10\n",
      "[16:07:25] src/tree/updater_prune.cc:74: tree pruning end, 1 roots, 454 extra nodes, 0 pruned nodes, max_depth=10\n",
      "[16:07:25] src/tree/updater_prune.cc:74: tree pruning end, 1 roots, 726 extra nodes, 0 pruned nodes, max_depth=12\n",
      "[16:07:25] src/tree/updater_prune.cc:74: tree pruning end, 1 roots, 480 extra nodes, 0 pruned nodes, max_depth=10\n",
      "[16:07:26] src/tree/updater_prune.cc:74: tree pruning end, 1 roots, 862 extra nodes, 0 pruned nodes, max_depth=12\n",
      "[16:07:26] src/tree/updater_prune.cc:74: tree pruning end, 1 roots, 948 extra nodes, 0 pruned nodes, max_depth=12\n",
      "[16:07:26] src/tree/updater_prune.cc:74: tree pruning end, 1 roots, 754 extra nodes, 0 pruned nodes, max_depth=12\n",
      "[16:07:27] src/tree/updater_prune.cc:74: tree pruning end, 1 roots, 798 extra nodes, 0 pruned nodes, max_depth=12\n",
      "[16:07:27] src/tree/updater_prune.cc:74: tree pruning end, 1 roots, 798 extra nodes, 0 pruned nodes, max_depth=12\n",
      "[16:07:27] src/tree/updater_prune.cc:74: tree pruning end, 1 roots, 746 extra nodes, 0 pruned nodes, max_depth=12\n",
      "[16:07:28] src/tree/updater_prune.cc:74: tree pruning end, 1 roots, 888 extra nodes, 0 pruned nodes, max_depth=12\n",
      "[16:07:28] src/tree/updater_prune.cc:74: tree pruning end, 1 roots, 718 extra nodes, 0 pruned nodes, max_depth=12\n",
      "[16:07:28] src/tree/updater_prune.cc:74: tree pruning end, 1 roots, 1000 extra nodes, 0 pruned nodes, max_depth=14\n",
      "[16:07:28] src/tree/updater_prune.cc:74: tree pruning end, 1 roots, 760 extra nodes, 0 pruned nodes, max_depth=12\n",
      "[16:07:29] src/tree/updater_prune.cc:74: tree pruning end, 1 roots, 1332 extra nodes, 0 pruned nodes, max_depth=14\n",
      "[16:07:29] src/tree/updater_prune.cc:74: tree pruning end, 1 roots, 1216 extra nodes, 0 pruned nodes, max_depth=14\n"
     ]
    },
    {
     "name": "stdout",
     "output_type": "stream",
     "text": [
      "[16:07:29] src/tree/updater_prune.cc:74: tree pruning end, 1 roots, 1130 extra nodes, 0 pruned nodes, max_depth=14\n",
      "[16:07:30] src/tree/updater_prune.cc:74: tree pruning end, 1 roots, 1052 extra nodes, 0 pruned nodes, max_depth=14\n",
      "[16:07:30] src/tree/updater_prune.cc:74: tree pruning end, 1 roots, 1134 extra nodes, 0 pruned nodes, max_depth=14\n",
      "[16:07:30] src/tree/updater_prune.cc:74: tree pruning end, 1 roots, 1100 extra nodes, 0 pruned nodes, max_depth=14\n",
      "[16:07:31] src/tree/updater_prune.cc:74: tree pruning end, 1 roots, 1198 extra nodes, 0 pruned nodes, max_depth=14\n",
      "[16:07:31] src/tree/updater_prune.cc:74: tree pruning end, 1 roots, 1030 extra nodes, 0 pruned nodes, max_depth=14\n",
      "[16:07:31] src/tree/updater_prune.cc:74: tree pruning end, 1 roots, 28 extra nodes, 0 pruned nodes, max_depth=4\n",
      "[16:07:31] src/tree/updater_prune.cc:74: tree pruning end, 1 roots, 30 extra nodes, 0 pruned nodes, max_depth=4\n",
      "[16:07:31] src/tree/updater_prune.cc:74: tree pruning end, 1 roots, 24 extra nodes, 0 pruned nodes, max_depth=4\n",
      "[16:07:31] src/tree/updater_prune.cc:74: tree pruning end, 1 roots, 1054 extra nodes, 0 pruned nodes, max_depth=14\n",
      "[16:07:32] src/tree/updater_prune.cc:74: tree pruning end, 1 roots, 30 extra nodes, 0 pruned nodes, max_depth=4\n",
      "[16:07:32] src/tree/updater_prune.cc:74: tree pruning end, 1 roots, 26 extra nodes, 0 pruned nodes, max_depth=4\n",
      "[16:07:32] src/tree/updater_prune.cc:74: tree pruning end, 1 roots, 30 extra nodes, 0 pruned nodes, max_depth=4\n",
      "[16:07:32] src/tree/updater_prune.cc:74: tree pruning end, 1 roots, 26 extra nodes, 0 pruned nodes, max_depth=4\n",
      "[16:07:33] src/tree/updater_prune.cc:74: tree pruning end, 1 roots, 28 extra nodes, 0 pruned nodes, max_depth=4\n",
      "[16:07:33] src/tree/updater_prune.cc:74: tree pruning end, 1 roots, 30 extra nodes, 0 pruned nodes, max_depth=4\n",
      "[16:07:33] src/tree/updater_prune.cc:74: tree pruning end, 1 roots, 92 extra nodes, 0 pruned nodes, max_depth=6\n",
      "[16:07:33] src/tree/updater_prune.cc:74: tree pruning end, 1 roots, 30 extra nodes, 0 pruned nodes, max_depth=4\n",
      "[16:07:33] src/tree/updater_prune.cc:74: tree pruning end, 1 roots, 112 extra nodes, 0 pruned nodes, max_depth=6\n",
      "[16:07:34] src/tree/updater_prune.cc:74: tree pruning end, 1 roots, 90 extra nodes, 0 pruned nodes, max_depth=6\n",
      "[16:07:34] src/tree/updater_prune.cc:74: tree pruning end, 1 roots, 96 extra nodes, 0 pruned nodes, max_depth=6\n",
      "[16:07:34] src/tree/updater_prune.cc:74: tree pruning end, 1 roots, 94 extra nodes, 0 pruned nodes, max_depth=6\n",
      "[16:07:34] src/tree/updater_prune.cc:74: tree pruning end, 1 roots, 90 extra nodes, 0 pruned nodes, max_depth=6\n",
      "[16:07:34] src/tree/updater_prune.cc:74: tree pruning end, 1 roots, 92 extra nodes, 0 pruned nodes, max_depth=6\n",
      "[16:07:34] src/tree/updater_prune.cc:74: tree pruning end, 1 roots, 98 extra nodes, 0 pruned nodes, max_depth=6\n",
      "[16:07:35] src/tree/updater_prune.cc:74: tree pruning end, 1 roots, 94 extra nodes, 0 pruned nodes, max_depth=6\n",
      "[16:07:35] src/tree/updater_prune.cc:74: tree pruning end, 1 roots, 104 extra nodes, 0 pruned nodes, max_depth=6\n",
      "[16:07:35] src/tree/updater_prune.cc:74: tree pruning end, 1 roots, 224 extra nodes, 0 pruned nodes, max_depth=8\n",
      "[16:07:36] src/tree/updater_prune.cc:74: tree pruning end, 1 roots, 242 extra nodes, 0 pruned nodes, max_depth=8\n",
      "[16:07:36] src/tree/updater_prune.cc:74: tree pruning end, 1 roots, 294 extra nodes, 0 pruned nodes, max_depth=8\n",
      "[16:07:36] src/tree/updater_prune.cc:74: tree pruning end, 1 roots, 256 extra nodes, 0 pruned nodes, max_depth=8\n",
      "[16:07:36] src/tree/updater_prune.cc:74: tree pruning end, 1 roots, 262 extra nodes, 0 pruned nodes, max_depth=8\n",
      "[16:07:36] src/tree/updater_prune.cc:74: tree pruning end, 1 roots, 244 extra nodes, 0 pruned nodes, max_depth=8\n",
      "[16:07:36] src/tree/updater_prune.cc:74: tree pruning end, 1 roots, 216 extra nodes, 0 pruned nodes, max_depth=8\n",
      "[16:07:37] src/tree/updater_prune.cc:74: tree pruning end, 1 roots, 252 extra nodes, 0 pruned nodes, max_depth=8\n",
      "[16:07:37] src/tree/updater_prune.cc:74: tree pruning end, 1 roots, 246 extra nodes, 0 pruned nodes, max_depth=8\n",
      "[16:07:38] src/tree/updater_prune.cc:74: tree pruning end, 1 roots, 458 extra nodes, 0 pruned nodes, max_depth=10\n",
      "[16:07:38] src/tree/updater_prune.cc:74: tree pruning end, 1 roots, 260 extra nodes, 0 pruned nodes, max_depth=8\n",
      "[16:07:38] src/tree/updater_prune.cc:74: tree pruning end, 1 roots, 528 extra nodes, 0 pruned nodes, max_depth=10\n",
      "[16:07:38] src/tree/updater_prune.cc:74: tree pruning end, 1 roots, 508 extra nodes, 0 pruned nodes, max_depth=10\n",
      "[16:07:38] src/tree/updater_prune.cc:74: tree pruning end, 1 roots, 618 extra nodes, 0 pruned nodes, max_depth=10\n",
      "[16:07:39] src/tree/updater_prune.cc:74: tree pruning end, 1 roots, 536 extra nodes, 0 pruned nodes, max_depth=10\n",
      "[16:07:39] src/tree/updater_prune.cc:74: tree pruning end, 1 roots, 444 extra nodes, 0 pruned nodes, max_depth=10\n",
      "[16:07:39] src/tree/updater_prune.cc:74: tree pruning end, 1 roots, 512 extra nodes, 0 pruned nodes, max_depth=10\n",
      "[16:07:40] src/tree/updater_prune.cc:74: tree pruning end, 1 roots, 472 extra nodes, 0 pruned nodes, max_depth=10\n",
      "[16:07:40] src/tree/updater_prune.cc:74: tree pruning end, 1 roots, 502 extra nodes, 0 pruned nodes, max_depth=10\n",
      "[16:07:40] src/tree/updater_prune.cc:74: tree pruning end, 1 roots, 726 extra nodes, 0 pruned nodes, max_depth=12\n",
      "[16:07:41] src/tree/updater_prune.cc:74: tree pruning end, 1 roots, 494 extra nodes, 0 pruned nodes, max_depth=10\n",
      "[16:07:41] src/tree/updater_prune.cc:74: tree pruning end, 1 roots, 862 extra nodes, 0 pruned nodes, max_depth=12\n",
      "[16:07:41] src/tree/updater_prune.cc:74: tree pruning end, 1 roots, 1046 extra nodes, 0 pruned nodes, max_depth=12\n",
      "[16:07:42] src/tree/updater_prune.cc:74: tree pruning end, 1 roots, 798 extra nodes, 0 pruned nodes, max_depth=12\n",
      "[16:07:42] src/tree/updater_prune.cc:74: tree pruning end, 1 roots, 824 extra nodes, 0 pruned nodes, max_depth=12\n",
      "[16:07:42] src/tree/updater_prune.cc:74: tree pruning end, 1 roots, 798 extra nodes, 0 pruned nodes, max_depth=12\n",
      "[16:07:42] src/tree/updater_prune.cc:74: tree pruning end, 1 roots, 738 extra nodes, 0 pruned nodes, max_depth=12\n",
      "[16:07:43] src/tree/updater_prune.cc:74: tree pruning end, 1 roots, 888 extra nodes, 0 pruned nodes, max_depth=12\n",
      "[16:07:43] src/tree/updater_prune.cc:74: tree pruning end, 1 roots, 790 extra nodes, 0 pruned nodes, max_depth=12\n",
      "[16:07:43] src/tree/updater_prune.cc:74: tree pruning end, 1 roots, 1000 extra nodes, 0 pruned nodes, max_depth=14\n",
      "[16:07:43] src/tree/updater_prune.cc:74: tree pruning end, 1 roots, 776 extra nodes, 0 pruned nodes, max_depth=12\n",
      "[16:07:44] src/tree/updater_prune.cc:74: tree pruning end, 1 roots, 1216 extra nodes, 0 pruned nodes, max_depth=14\n",
      "[16:07:44] src/tree/updater_prune.cc:74: tree pruning end, 1 roots, 1486 extra nodes, 0 pruned nodes, max_depth=14\n",
      "[16:07:45] src/tree/updater_prune.cc:74: tree pruning end, 1 roots, 1130 extra nodes, 0 pruned nodes, max_depth=14\n",
      "[16:07:45] src/tree/updater_prune.cc:74: tree pruning end, 1 roots, 1130 extra nodes, 0 pruned nodes, max_depth=14\n",
      "[16:07:45] src/tree/updater_prune.cc:74: tree pruning end, 1 roots, 1134 extra nodes, 0 pruned nodes, max_depth=14\n",
      "[16:07:45] src/tree/updater_prune.cc:74: tree pruning end, 1 roots, 1126 extra nodes, 0 pruned nodes, max_depth=14\n",
      "[16:07:46] src/tree/updater_prune.cc:74: tree pruning end, 1 roots, 1198 extra nodes, 0 pruned nodes, max_depth=14\n",
      "[16:07:46] src/tree/updater_prune.cc:74: tree pruning end, 1 roots, 28 extra nodes, 0 pruned nodes, max_depth=4\n",
      "[16:07:46] src/tree/updater_prune.cc:74: tree pruning end, 1 roots, 1044 extra nodes, 0 pruned nodes, max_depth=14\n",
      "[16:07:46] src/tree/updater_prune.cc:74: tree pruning end, 1 roots, 30 extra nodes, 0 pruned nodes, max_depth=4\n",
      "[16:07:47] src/tree/updater_prune.cc:74: tree pruning end, 1 roots, 24 extra nodes, 0 pruned nodes, max_depth=4\n",
      "[16:07:47] src/tree/updater_prune.cc:74: tree pruning end, 1 roots, 1098 extra nodes, 0 pruned nodes, max_depth=14\n",
      "[16:07:47] src/tree/updater_prune.cc:74: tree pruning end, 1 roots, 30 extra nodes, 0 pruned nodes, max_depth=4\n",
      "[16:07:47] src/tree/updater_prune.cc:74: tree pruning end, 1 roots, 26 extra nodes, 0 pruned nodes, max_depth=4\n",
      "[16:07:47] src/tree/updater_prune.cc:74: tree pruning end, 1 roots, 28 extra nodes, 0 pruned nodes, max_depth=4\n"
     ]
    },
    {
     "name": "stdout",
     "output_type": "stream",
     "text": [
      "[16:07:47] src/tree/updater_prune.cc:74: tree pruning end, 1 roots, 26 extra nodes, 0 pruned nodes, max_depth=4\n",
      "[16:07:48] src/tree/updater_prune.cc:74: tree pruning end, 1 roots, 30 extra nodes, 0 pruned nodes, max_depth=4\n",
      "[16:07:48] src/tree/updater_prune.cc:74: tree pruning end, 1 roots, 28 extra nodes, 0 pruned nodes, max_depth=4\n",
      "[16:07:48] src/tree/updater_prune.cc:74: tree pruning end, 1 roots, 30 extra nodes, 0 pruned nodes, max_depth=4\n",
      "[16:07:48] src/tree/updater_prune.cc:74: tree pruning end, 1 roots, 92 extra nodes, 0 pruned nodes, max_depth=6\n",
      "[16:07:48] src/tree/updater_prune.cc:74: tree pruning end, 1 roots, 112 extra nodes, 0 pruned nodes, max_depth=6\n",
      "[16:07:49] src/tree/updater_prune.cc:74: tree pruning end, 1 roots, 90 extra nodes, 0 pruned nodes, max_depth=6\n",
      "[16:07:49] src/tree/updater_prune.cc:74: tree pruning end, 1 roots, 94 extra nodes, 0 pruned nodes, max_depth=6\n",
      "[16:07:49] src/tree/updater_prune.cc:74: tree pruning end, 1 roots, 94 extra nodes, 0 pruned nodes, max_depth=6\n",
      "[16:07:49] src/tree/updater_prune.cc:74: tree pruning end, 1 roots, 102 extra nodes, 0 pruned nodes, max_depth=6\n",
      "[16:07:49] src/tree/updater_prune.cc:74: tree pruning end, 1 roots, 90 extra nodes, 0 pruned nodes, max_depth=6\n",
      "[16:07:50] src/tree/updater_prune.cc:74: tree pruning end, 1 roots, 100 extra nodes, 0 pruned nodes, max_depth=6\n",
      "[16:07:50] src/tree/updater_prune.cc:74: tree pruning end, 1 roots, 94 extra nodes, 0 pruned nodes, max_depth=6\n",
      "[16:07:50] src/tree/updater_prune.cc:74: tree pruning end, 1 roots, 96 extra nodes, 0 pruned nodes, max_depth=6\n",
      "[16:07:50] src/tree/updater_prune.cc:74: tree pruning end, 1 roots, 224 extra nodes, 0 pruned nodes, max_depth=8\n",
      "[16:07:51] src/tree/updater_prune.cc:74: tree pruning end, 1 roots, 242 extra nodes, 0 pruned nodes, max_depth=8\n",
      "[16:07:51] src/tree/updater_prune.cc:74: tree pruning end, 1 roots, 316 extra nodes, 0 pruned nodes, max_depth=8\n",
      "[16:07:51] src/tree/updater_prune.cc:74: tree pruning end, 1 roots, 256 extra nodes, 0 pruned nodes, max_depth=8\n",
      "[16:07:51] src/tree/updater_prune.cc:74: tree pruning end, 1 roots, 256 extra nodes, 0 pruned nodes, max_depth=8\n",
      "[16:07:51] src/tree/updater_prune.cc:74: tree pruning end, 1 roots, 244 extra nodes, 0 pruned nodes, max_depth=8\n",
      "[16:07:51] src/tree/updater_prune.cc:74: tree pruning end, 1 roots, 252 extra nodes, 0 pruned nodes, max_depth=8\n",
      "[16:07:52] src/tree/updater_prune.cc:74: tree pruning end, 1 roots, 250 extra nodes, 0 pruned nodes, max_depth=8\n",
      "[16:07:52] src/tree/updater_prune.cc:74: tree pruning end, 1 roots, 246 extra nodes, 0 pruned nodes, max_depth=8\n",
      "[16:07:53] src/tree/updater_prune.cc:74: tree pruning end, 1 roots, 458 extra nodes, 0 pruned nodes, max_depth=10\n",
      "[16:07:53] src/tree/updater_prune.cc:74: tree pruning end, 1 roots, 248 extra nodes, 0 pruned nodes, max_depth=8\n",
      "[16:07:53] src/tree/updater_prune.cc:74: tree pruning end, 1 roots, 528 extra nodes, 0 pruned nodes, max_depth=10\n",
      "[16:07:53] src/tree/updater_prune.cc:74: tree pruning end, 1 roots, 684 extra nodes, 0 pruned nodes, max_depth=10\n",
      "[16:07:53] src/tree/updater_prune.cc:74: tree pruning end, 1 roots, 508 extra nodes, 0 pruned nodes, max_depth=10\n",
      "[16:07:54] src/tree/updater_prune.cc:74: tree pruning end, 1 roots, 562 extra nodes, 0 pruned nodes, max_depth=10\n",
      "[16:07:54] src/tree/updater_prune.cc:74: tree pruning end, 1 roots, 522 extra nodes, 0 pruned nodes, max_depth=10\n",
      "[16:07:54] src/tree/updater_prune.cc:74: tree pruning end, 1 roots, 512 extra nodes, 0 pruned nodes, max_depth=10\n",
      "[16:07:55] src/tree/updater_prune.cc:74: tree pruning end, 1 roots, 546 extra nodes, 0 pruned nodes, max_depth=10\n",
      "[16:07:55] src/tree/updater_prune.cc:74: tree pruning end, 1 roots, 502 extra nodes, 0 pruned nodes, max_depth=10\n",
      "[16:07:55] src/tree/updater_prune.cc:74: tree pruning end, 1 roots, 726 extra nodes, 0 pruned nodes, max_depth=12\n",
      "[16:07:55] src/tree/updater_prune.cc:74: tree pruning end, 1 roots, 538 extra nodes, 0 pruned nodes, max_depth=10\n",
      "[16:07:56] src/tree/updater_prune.cc:74: tree pruning end, 1 roots, 862 extra nodes, 0 pruned nodes, max_depth=12\n",
      "[16:07:56] src/tree/updater_prune.cc:74: tree pruning end, 1 roots, 1122 extra nodes, 0 pruned nodes, max_depth=12\n",
      "[16:07:56] src/tree/updater_prune.cc:74: tree pruning end, 1 roots, 798 extra nodes, 0 pruned nodes, max_depth=12\n",
      "[16:07:56] src/tree/updater_prune.cc:74: tree pruning end, 1 roots, 886 extra nodes, 0 pruned nodes, max_depth=12\n",
      "[16:07:57] src/tree/updater_prune.cc:74: tree pruning end, 1 roots, 798 extra nodes, 0 pruned nodes, max_depth=12\n",
      "[16:07:57] src/tree/updater_prune.cc:74: tree pruning end, 1 roots, 944 extra nodes, 0 pruned nodes, max_depth=12\n",
      "[16:07:58] src/tree/updater_prune.cc:74: tree pruning end, 1 roots, 888 extra nodes, 0 pruned nodes, max_depth=12\n",
      "[16:07:58] src/tree/updater_prune.cc:74: tree pruning end, 1 roots, 836 extra nodes, 0 pruned nodes, max_depth=12\n",
      "[16:07:58] src/tree/updater_prune.cc:74: tree pruning end, 1 roots, 1000 extra nodes, 0 pruned nodes, max_depth=14\n",
      "[16:07:58] src/tree/updater_prune.cc:74: tree pruning end, 1 roots, 888 extra nodes, 0 pruned nodes, max_depth=12\n",
      "[16:07:59] src/tree/updater_prune.cc:74: tree pruning end, 1 roots, 1216 extra nodes, 0 pruned nodes, max_depth=14\n",
      "[16:07:59] src/tree/updater_prune.cc:74: tree pruning end, 1 roots, 1756 extra nodes, 0 pruned nodes, max_depth=14\n",
      "[16:07:59] src/tree/updater_prune.cc:74: tree pruning end, 1 roots, 1130 extra nodes, 0 pruned nodes, max_depth=14\n",
      "[16:08:00] src/tree/updater_prune.cc:74: tree pruning end, 1 roots, 1280 extra nodes, 0 pruned nodes, max_depth=14\n",
      "[16:08:00] src/tree/updater_prune.cc:74: tree pruning end, 1 roots, 1134 extra nodes, 0 pruned nodes, max_depth=14\n",
      "[16:08:00] src/tree/updater_prune.cc:74: tree pruning end, 1 roots, 1160 extra nodes, 0 pruned nodes, max_depth=14\n",
      "[16:08:01] src/tree/updater_prune.cc:74: tree pruning end, 1 roots, 1198 extra nodes, 0 pruned nodes, max_depth=14\n",
      "[16:08:01] src/tree/updater_prune.cc:74: tree pruning end, 1 roots, 28 extra nodes, 0 pruned nodes, max_depth=4\n",
      "[16:08:01] src/tree/updater_prune.cc:74: tree pruning end, 1 roots, 1194 extra nodes, 0 pruned nodes, max_depth=14\n",
      "[16:08:01] src/tree/updater_prune.cc:74: tree pruning end, 1 roots, 30 extra nodes, 0 pruned nodes, max_depth=4\n",
      "[16:08:01] src/tree/updater_prune.cc:74: tree pruning end, 1 roots, 24 extra nodes, 0 pruned nodes, max_depth=4\n",
      "[16:08:01] src/tree/updater_prune.cc:74: tree pruning end, 1 roots, 1228 extra nodes, 0 pruned nodes, max_depth=14\n",
      "[16:08:02] src/tree/updater_prune.cc:74: tree pruning end, 1 roots, 30 extra nodes, 0 pruned nodes, max_depth=4\n",
      "[16:08:02] src/tree/updater_prune.cc:74: tree pruning end, 1 roots, 26 extra nodes, 0 pruned nodes, max_depth=4\n",
      "[16:08:02] src/tree/updater_prune.cc:74: tree pruning end, 1 roots, 26 extra nodes, 0 pruned nodes, max_depth=4\n",
      "[16:08:02] src/tree/updater_prune.cc:74: tree pruning end, 1 roots, 28 extra nodes, 0 pruned nodes, max_depth=4\n",
      "[16:08:02] src/tree/updater_prune.cc:74: tree pruning end, 1 roots, 30 extra nodes, 0 pruned nodes, max_depth=4\n",
      "[16:08:03] src/tree/updater_prune.cc:74: tree pruning end, 1 roots, 28 extra nodes, 0 pruned nodes, max_depth=4\n",
      "[16:08:03] src/tree/updater_prune.cc:74: tree pruning end, 1 roots, 28 extra nodes, 0 pruned nodes, max_depth=4\n",
      "[16:08:03] src/tree/updater_prune.cc:74: tree pruning end, 1 roots, 92 extra nodes, 0 pruned nodes, max_depth=6\n",
      "[16:08:03] src/tree/updater_prune.cc:74: tree pruning end, 1 roots, 112 extra nodes, 0 pruned nodes, max_depth=6\n",
      "[16:08:03] src/tree/updater_prune.cc:74: tree pruning end, 1 roots, 90 extra nodes, 0 pruned nodes, max_depth=6\n",
      "[16:08:04] src/tree/updater_prune.cc:74: tree pruning end, 1 roots, 94 extra nodes, 0 pruned nodes, max_depth=6\n",
      "[16:08:04] src/tree/updater_prune.cc:74: tree pruning end, 1 roots, 98 extra nodes, 0 pruned nodes, max_depth=6\n",
      "[16:08:04] src/tree/updater_prune.cc:74: tree pruning end, 1 roots, 100 extra nodes, 0 pruned nodes, max_depth=6\n",
      "[16:08:04] src/tree/updater_prune.cc:74: tree pruning end, 1 roots, 90 extra nodes, 0 pruned nodes, max_depth=6\n",
      "[16:08:04] src/tree/updater_prune.cc:74: tree pruning end, 1 roots, 104 extra nodes, 0 pruned nodes, max_depth=6\n",
      "[16:08:05] src/tree/updater_prune.cc:74: tree pruning end, 1 roots, 94 extra nodes, 0 pruned nodes, max_depth=6\n"
     ]
    },
    {
     "name": "stdout",
     "output_type": "stream",
     "text": [
      "[16:08:05] src/tree/updater_prune.cc:74: tree pruning end, 1 roots, 102 extra nodes, 0 pruned nodes, max_depth=6\n",
      "[16:08:05] src/tree/updater_prune.cc:74: tree pruning end, 1 roots, 224 extra nodes, 0 pruned nodes, max_depth=8\n",
      "[16:08:05] src/tree/updater_prune.cc:74: tree pruning end, 1 roots, 242 extra nodes, 0 pruned nodes, max_depth=8\n",
      "[16:08:06] src/tree/updater_prune.cc:74: tree pruning end, 1 roots, 284 extra nodes, 0 pruned nodes, max_depth=8\n",
      "[16:08:06] src/tree/updater_prune.cc:74: tree pruning end, 1 roots, 256 extra nodes, 0 pruned nodes, max_depth=8\n",
      "[16:08:06] src/tree/updater_prune.cc:74: tree pruning end, 1 roots, 256 extra nodes, 0 pruned nodes, max_depth=8\n",
      "[16:08:06] src/tree/updater_prune.cc:74: tree pruning end, 1 roots, 244 extra nodes, 0 pruned nodes, max_depth=8\n",
      "[16:08:06] src/tree/updater_prune.cc:74: tree pruning end, 1 roots, 258 extra nodes, 0 pruned nodes, max_depth=8\n"
     ]
    },
    {
     "name": "stderr",
     "output_type": "stream",
     "text": [
      "[Parallel(n_jobs=4)]: Done 192 tasks      | elapsed:  1.7min\n"
     ]
    },
    {
     "name": "stdout",
     "output_type": "stream",
     "text": [
      "[16:08:07] src/tree/updater_prune.cc:74: tree pruning end, 1 roots, 268 extra nodes, 0 pruned nodes, max_depth=8\n",
      "[16:08:07] src/tree/updater_prune.cc:74: tree pruning end, 1 roots, 246 extra nodes, 0 pruned nodes, max_depth=8\n",
      "[16:08:07] src/tree/updater_prune.cc:74: tree pruning end, 1 roots, 458 extra nodes, 0 pruned nodes, max_depth=10\n",
      "[16:08:07] src/tree/updater_prune.cc:74: tree pruning end, 1 roots, 254 extra nodes, 0 pruned nodes, max_depth=8\n",
      "[16:08:08] src/tree/updater_prune.cc:74: tree pruning end, 1 roots, 528 extra nodes, 0 pruned nodes, max_depth=10\n",
      "[16:08:08] src/tree/updater_prune.cc:74: tree pruning end, 1 roots, 674 extra nodes, 0 pruned nodes, max_depth=10\n",
      "[16:08:08] src/tree/updater_prune.cc:74: tree pruning end, 1 roots, 508 extra nodes, 0 pruned nodes, max_depth=10\n",
      "[16:08:08] src/tree/updater_prune.cc:74: tree pruning end, 1 roots, 564 extra nodes, 0 pruned nodes, max_depth=10\n",
      "[16:08:09] src/tree/updater_prune.cc:74: tree pruning end, 1 roots, 512 extra nodes, 0 pruned nodes, max_depth=10\n",
      "[16:08:09] src/tree/updater_prune.cc:74: tree pruning end, 1 roots, 554 extra nodes, 0 pruned nodes, max_depth=10\n",
      "[16:08:09] src/tree/updater_prune.cc:74: tree pruning end, 1 roots, 502 extra nodes, 0 pruned nodes, max_depth=10\n",
      "[16:08:10] src/tree/updater_prune.cc:74: tree pruning end, 1 roots, 534 extra nodes, 0 pruned nodes, max_depth=10\n",
      "[16:08:10] src/tree/updater_prune.cc:74: tree pruning end, 1 roots, 576 extra nodes, 0 pruned nodes, max_depth=10\n",
      "[16:08:10] src/tree/updater_prune.cc:74: tree pruning end, 1 roots, 726 extra nodes, 0 pruned nodes, max_depth=12\n",
      "[16:08:10] src/tree/updater_prune.cc:74: tree pruning end, 1 roots, 862 extra nodes, 0 pruned nodes, max_depth=12\n",
      "[16:08:11] src/tree/updater_prune.cc:74: tree pruning end, 1 roots, 1002 extra nodes, 0 pruned nodes, max_depth=12\n",
      "[16:08:11] src/tree/updater_prune.cc:74: tree pruning end, 1 roots, 798 extra nodes, 0 pruned nodes, max_depth=12\n",
      "[16:08:11] src/tree/updater_prune.cc:74: tree pruning end, 1 roots, 1052 extra nodes, 0 pruned nodes, max_depth=12\n",
      "[16:08:12] src/tree/updater_prune.cc:74: tree pruning end, 1 roots, 798 extra nodes, 0 pruned nodes, max_depth=12\n",
      "[16:08:12] src/tree/updater_prune.cc:74: tree pruning end, 1 roots, 968 extra nodes, 0 pruned nodes, max_depth=12\n",
      "[16:08:12] src/tree/updater_prune.cc:74: tree pruning end, 1 roots, 958 extra nodes, 0 pruned nodes, max_depth=12\n",
      "[16:08:12] src/tree/updater_prune.cc:74: tree pruning end, 1 roots, 888 extra nodes, 0 pruned nodes, max_depth=12\n",
      "[16:08:13] src/tree/updater_prune.cc:74: tree pruning end, 1 roots, 1000 extra nodes, 0 pruned nodes, max_depth=14\n",
      "[16:08:13] src/tree/updater_prune.cc:74: tree pruning end, 1 roots, 942 extra nodes, 0 pruned nodes, max_depth=12\n",
      "[16:08:14] src/tree/updater_prune.cc:74: tree pruning end, 1 roots, 1216 extra nodes, 0 pruned nodes, max_depth=14\n",
      "[16:08:14] src/tree/updater_prune.cc:74: tree pruning end, 1 roots, 1766 extra nodes, 0 pruned nodes, max_depth=14\n",
      "[16:08:14] src/tree/updater_prune.cc:74: tree pruning end, 1 roots, 1130 extra nodes, 0 pruned nodes, max_depth=14\n",
      "[16:08:14] src/tree/updater_prune.cc:74: tree pruning end, 1 roots, 1188 extra nodes, 0 pruned nodes, max_depth=14\n",
      "[16:08:15] src/tree/updater_prune.cc:74: tree pruning end, 1 roots, 1352 extra nodes, 0 pruned nodes, max_depth=14\n",
      "[16:08:15] src/tree/updater_prune.cc:74: tree pruning end, 1 roots, 1134 extra nodes, 0 pruned nodes, max_depth=14\n",
      "[16:08:16] src/tree/updater_prune.cc:74: tree pruning end, 1 roots, 1198 extra nodes, 0 pruned nodes, max_depth=14\n",
      "[16:08:16] src/tree/updater_prune.cc:74: tree pruning end, 1 roots, 28 extra nodes, 0 pruned nodes, max_depth=4\n",
      "[16:08:16] src/tree/updater_prune.cc:74: tree pruning end, 1 roots, 1242 extra nodes, 0 pruned nodes, max_depth=14\n",
      "[16:08:16] src/tree/updater_prune.cc:74: tree pruning end, 1 roots, 30 extra nodes, 0 pruned nodes, max_depth=4\n",
      "[16:08:16] src/tree/updater_prune.cc:74: tree pruning end, 1 roots, 24 extra nodes, 0 pruned nodes, max_depth=4\n",
      "[16:08:16] src/tree/updater_prune.cc:74: tree pruning end, 1 roots, 28 extra nodes, 0 pruned nodes, max_depth=4\n",
      "[16:08:16] src/tree/updater_prune.cc:74: tree pruning end, 1 roots, 1322 extra nodes, 0 pruned nodes, max_depth=14\n",
      "[16:08:17] src/tree/updater_prune.cc:74: tree pruning end, 1 roots, 26 extra nodes, 0 pruned nodes, max_depth=4\n",
      "[16:08:17] src/tree/updater_prune.cc:74: tree pruning end, 1 roots, 26 extra nodes, 0 pruned nodes, max_depth=4\n",
      "[16:08:17] src/tree/updater_prune.cc:74: tree pruning end, 1 roots, 28 extra nodes, 0 pruned nodes, max_depth=4\n",
      "[16:08:17] src/tree/updater_prune.cc:74: tree pruning end, 1 roots, 30 extra nodes, 0 pruned nodes, max_depth=4\n",
      "[16:08:17] src/tree/updater_prune.cc:74: tree pruning end, 1 roots, 28 extra nodes, 0 pruned nodes, max_depth=4\n",
      "[16:08:18] src/tree/updater_prune.cc:74: tree pruning end, 1 roots, 24 extra nodes, 0 pruned nodes, max_depth=4\n",
      "[16:08:18] src/tree/updater_prune.cc:74: tree pruning end, 1 roots, 92 extra nodes, 0 pruned nodes, max_depth=6\n",
      "[16:08:18] src/tree/updater_prune.cc:74: tree pruning end, 1 roots, 112 extra nodes, 0 pruned nodes, max_depth=6\n",
      "[16:08:18] src/tree/updater_prune.cc:74: tree pruning end, 1 roots, 90 extra nodes, 0 pruned nodes, max_depth=6\n",
      "[16:08:18] src/tree/updater_prune.cc:74: tree pruning end, 1 roots, 94 extra nodes, 0 pruned nodes, max_depth=6\n",
      "[16:08:19] src/tree/updater_prune.cc:74: tree pruning end, 1 roots, 100 extra nodes, 0 pruned nodes, max_depth=6\n",
      "[16:08:19] src/tree/updater_prune.cc:74: tree pruning end, 1 roots, 90 extra nodes, 0 pruned nodes, max_depth=6\n",
      "[16:08:19] src/tree/updater_prune.cc:74: tree pruning end, 1 roots, 100 extra nodes, 0 pruned nodes, max_depth=6\n",
      "[16:08:19] src/tree/updater_prune.cc:74: tree pruning end, 1 roots, 100 extra nodes, 0 pruned nodes, max_depth=6\n",
      "[16:08:19] src/tree/updater_prune.cc:74: tree pruning end, 1 roots, 94 extra nodes, 0 pruned nodes, max_depth=6\n",
      "[16:08:20] src/tree/updater_prune.cc:74: tree pruning end, 1 roots, 102 extra nodes, 0 pruned nodes, max_depth=6\n",
      "[16:08:20] src/tree/updater_prune.cc:74: tree pruning end, 1 roots, 224 extra nodes, 0 pruned nodes, max_depth=8\n",
      "[16:08:20] src/tree/updater_prune.cc:74: tree pruning end, 1 roots, 242 extra nodes, 0 pruned nodes, max_depth=8\n",
      "[16:08:21] src/tree/updater_prune.cc:74: tree pruning end, 1 roots, 256 extra nodes, 0 pruned nodes, max_depth=8\n",
      "[16:08:21] src/tree/updater_prune.cc:74: tree pruning end, 1 roots, 294 extra nodes, 0 pruned nodes, max_depth=8\n",
      "[16:08:21] src/tree/updater_prune.cc:74: tree pruning end, 1 roots, 326 extra nodes, 0 pruned nodes, max_depth=8\n",
      "[16:08:21] src/tree/updater_prune.cc:74: tree pruning end, 1 roots, 244 extra nodes, 0 pruned nodes, max_depth=8\n",
      "[16:08:21] src/tree/updater_prune.cc:74: tree pruning end, 1 roots, 246 extra nodes, 0 pruned nodes, max_depth=8\n",
      "[16:08:22] src/tree/updater_prune.cc:74: tree pruning end, 1 roots, 282 extra nodes, 0 pruned nodes, max_depth=8\n",
      "[16:08:22] src/tree/updater_prune.cc:74: tree pruning end, 1 roots, 246 extra nodes, 0 pruned nodes, max_depth=8\n",
      "[16:08:22] src/tree/updater_prune.cc:74: tree pruning end, 1 roots, 458 extra nodes, 0 pruned nodes, max_depth=10\n",
      "[16:08:23] src/tree/updater_prune.cc:74: tree pruning end, 1 roots, 240 extra nodes, 0 pruned nodes, max_depth=8\n",
      "[16:08:23] src/tree/updater_prune.cc:74: tree pruning end, 1 roots, 528 extra nodes, 0 pruned nodes, max_depth=10\n",
      "[16:08:23] src/tree/updater_prune.cc:74: tree pruning end, 1 roots, 634 extra nodes, 0 pruned nodes, max_depth=10\n",
      "[16:08:23] src/tree/updater_prune.cc:74: tree pruning end, 1 roots, 508 extra nodes, 0 pruned nodes, max_depth=10\n",
      "[16:08:23] src/tree/updater_prune.cc:74: tree pruning end, 1 roots, 562 extra nodes, 0 pruned nodes, max_depth=10\n",
      "[16:08:24] src/tree/updater_prune.cc:74: tree pruning end, 1 roots, 486 extra nodes, 0 pruned nodes, max_depth=10\n",
      "[16:08:24] src/tree/updater_prune.cc:74: tree pruning end, 1 roots, 512 extra nodes, 0 pruned nodes, max_depth=10\n",
      "[16:08:25] src/tree/updater_prune.cc:74: tree pruning end, 1 roots, 502 extra nodes, 0 pruned nodes, max_depth=10\n",
      "[16:08:25] src/tree/updater_prune.cc:74: tree pruning end, 1 roots, 560 extra nodes, 0 pruned nodes, max_depth=10\n",
      "[16:08:25] src/tree/updater_prune.cc:74: tree pruning end, 1 roots, 726 extra nodes, 0 pruned nodes, max_depth=12\n"
     ]
    },
    {
     "name": "stdout",
     "output_type": "stream",
     "text": [
      "[16:08:25] src/tree/updater_prune.cc:74: tree pruning end, 1 roots, 602 extra nodes, 0 pruned nodes, max_depth=10\n",
      "[16:08:25] src/tree/updater_prune.cc:74: tree pruning end, 1 roots, 862 extra nodes, 0 pruned nodes, max_depth=12\n",
      "[16:08:26] src/tree/updater_prune.cc:74: tree pruning end, 1 roots, 1026 extra nodes, 0 pruned nodes, max_depth=12\n",
      "[16:08:26] src/tree/updater_prune.cc:74: tree pruning end, 1 roots, 912 extra nodes, 0 pruned nodes, max_depth=12\n",
      "[16:08:26] src/tree/updater_prune.cc:74: tree pruning end, 1 roots, 798 extra nodes, 0 pruned nodes, max_depth=12\n",
      "[16:08:27] src/tree/updater_prune.cc:74: tree pruning end, 1 roots, 798 extra nodes, 0 pruned nodes, max_depth=12\n",
      "[16:08:27] src/tree/updater_prune.cc:74: tree pruning end, 1 roots, 872 extra nodes, 0 pruned nodes, max_depth=12\n",
      "[16:08:28] src/tree/updater_prune.cc:74: tree pruning end, 1 roots, 888 extra nodes, 0 pruned nodes, max_depth=12\n",
      "[16:08:28] src/tree/updater_prune.cc:74: tree pruning end, 1 roots, 928 extra nodes, 0 pruned nodes, max_depth=12\n",
      "[16:08:28] src/tree/updater_prune.cc:74: tree pruning end, 1 roots, 1000 extra nodes, 0 pruned nodes, max_depth=14\n",
      "[16:08:29] src/tree/updater_prune.cc:74: tree pruning end, 1 roots, 966 extra nodes, 0 pruned nodes, max_depth=12\n",
      "[16:08:29] src/tree/updater_prune.cc:74: tree pruning end, 1 roots, 1216 extra nodes, 0 pruned nodes, max_depth=14\n",
      "[16:08:29] src/tree/updater_prune.cc:74: tree pruning end, 1 roots, 1698 extra nodes, 0 pruned nodes, max_depth=14\n",
      "[16:08:30] src/tree/updater_prune.cc:74: tree pruning end, 1 roots, 1130 extra nodes, 0 pruned nodes, max_depth=14\n",
      "[16:08:30] src/tree/updater_prune.cc:74: tree pruning end, 1 roots, 1332 extra nodes, 0 pruned nodes, max_depth=14\n",
      "[16:08:30] src/tree/updater_prune.cc:74: tree pruning end, 1 roots, 1134 extra nodes, 0 pruned nodes, max_depth=14\n",
      "[16:08:30] src/tree/updater_prune.cc:74: tree pruning end, 1 roots, 1400 extra nodes, 0 pruned nodes, max_depth=14\n",
      "[16:08:31] src/tree/updater_prune.cc:74: tree pruning end, 1 roots, 1198 extra nodes, 0 pruned nodes, max_depth=14\n",
      "[16:08:31] src/tree/updater_prune.cc:74: tree pruning end, 1 roots, 1582 extra nodes, 0 pruned nodes, max_depth=14\n",
      "[16:08:31] src/tree/updater_prune.cc:74: tree pruning end, 1 roots, 1464 extra nodes, 0 pruned nodes, max_depth=14\n"
     ]
    },
    {
     "name": "stderr",
     "output_type": "stream",
     "text": [
      "[Parallel(n_jobs=4)]: Done 240 out of 240 | elapsed:  2.1min finished\n"
     ]
    },
    {
     "name": "stdout",
     "output_type": "stream",
     "text": [
      "[16:08:32] src/tree/updater_prune.cc:74: tree pruning end, 1 roots, 516 extra nodes, 0 pruned nodes, max_depth=10\n",
      "[16:08:33] src/tree/updater_prune.cc:74: tree pruning end, 1 roots, 684 extra nodes, 0 pruned nodes, max_depth=10\n"
     ]
    },
    {
     "data": {
      "text/plain": [
       "GridSearchCV(cv=5, error_score='raise',\n",
       "       estimator=XGBClassifier(base_score=0.5, booster='gbtree', colsample_bylevel=1,\n",
       "       colsample_bytree=0.8, cv=5, eval_metric='logloss', gamma=0,\n",
       "       learning_rate=0.1, max_delta_step=0, max_depth=3,\n",
       "       min_child_weight=1, missing=None, n_estimators=2, n_jobs=1,\n",
       "       nthread=None, objective='binary:logistic', random_state=0,\n",
       "       reg_alpha=0, reg_lambda=1, scale_pos_weight=1, seed=0, silent=0,\n",
       "       subsample=0.8),\n",
       "       fit_params=None, iid=True, n_jobs=4,\n",
       "       param_grid={'max_depth': range(4, 16, 2), 'learning_rate': [0.02, 0.05, 0.08, 0.1, 0.2, 0.5, 0.7, 0.9]},\n",
       "       pre_dispatch='2*n_jobs', refit=True, return_train_score='warn',\n",
       "       scoring='neg_log_loss', verbose=1)"
      ]
     },
     "execution_count": 304,
     "metadata": {},
     "output_type": "execute_result"
    }
   ],
   "source": [
    "#4. 使用参数 (parameter) 和评分机制 (scorer) 创建一个 GridSearch 对象\n",
    "# Create the object.\n",
    "clf_xgb1 = xgb.XGBClassifier(**other_params1)\n",
    "grid_obj1 = GridSearchCV(estimator=clf_xgb1, \n",
    "                         param_grid=cv_params1, \n",
    "                         scoring='neg_log_loss', cv=5, verbose=1, n_jobs=4)\n",
    "\n",
    "# Fit the data\n",
    "grid_obj1.fit(x_train, y_train)  # 使用网格搜索训练模型，找到包含最佳参数的对象grid_fit"
   ]
  },
  {
   "cell_type": "code",
   "execution_count": 305,
   "metadata": {},
   "outputs": [
    {
     "name": "stdout",
     "output_type": "stream",
     "text": [
      "参数的最佳取值：{'learning_rate': 0.9, 'max_depth': 10}\n",
      "最佳模型得分:0.23104731961819383\n"
     ]
    }
   ],
   "source": [
    "print('参数的最佳取值：{0}'.format(grid_obj1.best_params_))\n",
    "print('最佳模型得分:{0}'.format(abs(grid_obj1.best_score_)))"
   ]
  },
  {
   "cell_type": "markdown",
   "metadata": {},
   "source": [
    "##### 7.2.3 XGBoost模型n_estimators和min_child_weight参数调优"
   ]
  },
  {
   "cell_type": "code",
   "execution_count": 306,
   "metadata": {},
   "outputs": [],
   "source": [
    "# 要调优参数\n",
    "cv_params2 = {'n_estimators':range(1,12,2), \n",
    "              'min_child_weight':range(1,8,2)}  # 要调优的参数"
   ]
  },
  {
   "cell_type": "code",
   "execution_count": 307,
   "metadata": {},
   "outputs": [],
   "source": [
    "# 参数初始化\n",
    "other_params2 = {'objective':'binary:logistic', 'eval_metric':'logloss',\n",
    "                 'max_depth':10,  # 已经调优\n",
    "                 'learning_rate':0.9,  # 已经调优\n",
    "                 'silent':0, \n",
    "                 'cv':5,\n",
    "                 'seed': 0,\n",
    "                 'subsample': 0.8,\n",
    "                 'colsample_bytree': 0.8,\n",
    "                 'gamma': 0, \n",
    "                 'reg_alpha': 0,\n",
    "                 'reg_lambda': 1}"
   ]
  },
  {
   "cell_type": "code",
   "execution_count": 308,
   "metadata": {},
   "outputs": [
    {
     "name": "stdout",
     "output_type": "stream",
     "text": [
      "Fitting 5 folds for each of 24 candidates, totalling 120 fits\n",
      "[16:25:20] src/tree/updater_prune.cc:74: tree pruning end, 1 roots, 528 extra nodes, 0 pruned nodes, max_depth=10\n",
      "[16:25:20] src/tree/updater_prune.cc:74: tree pruning end, 1 roots, 458 extra nodes, 0 pruned nodes, max_depth=10\n",
      "[16:25:20] src/tree/updater_prune.cc:74: tree pruning end, 1 roots, 508 extra nodes, 0 pruned nodes, max_depth=10\n",
      "[16:25:21] src/tree/updater_prune.cc:74: tree pruning end, 1 roots, 512 extra nodes, 0 pruned nodes, max_depth=10\n",
      "[16:25:22] src/tree/updater_prune.cc:74: tree pruning end, 1 roots, 502 extra nodes, 0 pruned nodes, max_depth=10\n",
      "[16:25:22] src/tree/updater_prune.cc:74: tree pruning end, 1 roots, 458 extra nodes, 0 pruned nodes, max_depth=10\n",
      "[16:25:22] src/tree/updater_prune.cc:74: tree pruning end, 1 roots, 528 extra nodes, 0 pruned nodes, max_depth=10\n",
      "[16:25:23] src/tree/updater_prune.cc:74: tree pruning end, 1 roots, 508 extra nodes, 0 pruned nodes, max_depth=10\n",
      "[16:25:23] src/tree/updater_prune.cc:74: tree pruning end, 1 roots, 634 extra nodes, 0 pruned nodes, max_depth=10\n",
      "[16:25:23] src/tree/updater_prune.cc:74: tree pruning end, 1 roots, 562 extra nodes, 0 pruned nodes, max_depth=10\n",
      "[16:25:23] src/tree/updater_prune.cc:74: tree pruning end, 1 roots, 486 extra nodes, 0 pruned nodes, max_depth=10\n",
      "[16:25:24] src/tree/updater_prune.cc:74: tree pruning end, 1 roots, 458 extra nodes, 0 pruned nodes, max_depth=10\n",
      "[16:25:24] src/tree/updater_prune.cc:74: tree pruning end, 1 roots, 512 extra nodes, 0 pruned nodes, max_depth=10\n",
      "[16:25:24] src/tree/updater_prune.cc:74: tree pruning end, 1 roots, 544 extra nodes, 0 pruned nodes, max_depth=10\n",
      "[16:25:24] src/tree/updater_prune.cc:74: tree pruning end, 1 roots, 442 extra nodes, 0 pruned nodes, max_depth=10\n",
      "[16:25:25] src/tree/updater_prune.cc:74: tree pruning end, 1 roots, 560 extra nodes, 0 pruned nodes, max_depth=10\n",
      "[16:25:25] src/tree/updater_prune.cc:74: tree pruning end, 1 roots, 562 extra nodes, 0 pruned nodes, max_depth=10\n",
      "[16:25:26] src/tree/updater_prune.cc:74: tree pruning end, 1 roots, 502 extra nodes, 0 pruned nodes, max_depth=10\n",
      "[16:25:26] src/tree/updater_prune.cc:74: tree pruning end, 1 roots, 458 extra nodes, 0 pruned nodes, max_depth=10\n",
      "[16:25:26] src/tree/updater_prune.cc:74: tree pruning end, 1 roots, 528 extra nodes, 0 pruned nodes, max_depth=10\n",
      "[16:25:26] src/tree/updater_prune.cc:74: tree pruning end, 1 roots, 602 extra nodes, 0 pruned nodes, max_depth=10\n",
      "[16:25:26] src/tree/updater_prune.cc:74: tree pruning end, 1 roots, 634 extra nodes, 0 pruned nodes, max_depth=10\n",
      "[16:25:27] src/tree/updater_prune.cc:74: tree pruning end, 1 roots, 562 extra nodes, 0 pruned nodes, max_depth=10\n",
      "[16:25:27] src/tree/updater_prune.cc:74: tree pruning end, 1 roots, 586 extra nodes, 0 pruned nodes, max_depth=10\n",
      "[16:25:27] src/tree/updater_prune.cc:74: tree pruning end, 1 roots, 458 extra nodes, 0 pruned nodes, max_depth=10\n",
      "[16:25:27] src/tree/updater_prune.cc:74: tree pruning end, 1 roots, 508 extra nodes, 0 pruned nodes, max_depth=10\n",
      "[16:25:27] src/tree/updater_prune.cc:74: tree pruning end, 1 roots, 544 extra nodes, 0 pruned nodes, max_depth=10\n",
      "[16:25:28] src/tree/updater_prune.cc:74: tree pruning end, 1 roots, 486 extra nodes, 0 pruned nodes, max_depth=10\n",
      "[16:25:28] src/tree/updater_prune.cc:74: tree pruning end, 1 roots, 386 extra nodes, 0 pruned nodes, max_depth=10\n",
      "[16:25:28] src/tree/updater_prune.cc:74: tree pruning end, 1 roots, 408 extra nodes, 0 pruned nodes, max_depth=10\n",
      "[16:25:29] src/tree/updater_prune.cc:74: tree pruning end, 1 roots, 424 extra nodes, 0 pruned nodes, max_depth=10\n",
      "[16:25:29] src/tree/updater_prune.cc:74: tree pruning end, 1 roots, 442 extra nodes, 0 pruned nodes, max_depth=10\n",
      "[16:25:29] src/tree/updater_prune.cc:74: tree pruning end, 1 roots, 512 extra nodes, 0 pruned nodes, max_depth=10\n",
      "[16:25:29] src/tree/updater_prune.cc:74: tree pruning end, 1 roots, 288 extra nodes, 0 pruned nodes, max_depth=10\n",
      "[16:25:29] src/tree/updater_prune.cc:74: tree pruning end, 1 roots, 560 extra nodes, 0 pruned nodes, max_depth=10\n",
      "[16:25:29] src/tree/updater_prune.cc:74: tree pruning end, 1 roots, 472 extra nodes, 0 pruned nodes, max_depth=10\n",
      "[16:25:30] src/tree/updater_prune.cc:74: tree pruning end, 1 roots, 302 extra nodes, 0 pruned nodes, max_depth=10\n",
      "[16:25:30] src/tree/updater_prune.cc:74: tree pruning end, 1 roots, 562 extra nodes, 0 pruned nodes, max_depth=10\n",
      "[16:25:30] src/tree/updater_prune.cc:74: tree pruning end, 1 roots, 502 extra nodes, 0 pruned nodes, max_depth=10\n",
      "[16:25:30] src/tree/updater_prune.cc:74: tree pruning end, 1 roots, 458 extra nodes, 0 pruned nodes, max_depth=10\n",
      "[16:25:31] src/tree/updater_prune.cc:74: tree pruning end, 1 roots, 408 extra nodes, 0 pruned nodes, max_depth=10\n",
      "[16:25:31] src/tree/updater_prune.cc:74: tree pruning end, 1 roots, 602 extra nodes, 0 pruned nodes, max_depth=10\n",
      "[16:25:31] src/tree/updater_prune.cc:74: tree pruning end, 1 roots, 634 extra nodes, 0 pruned nodes, max_depth=10\n",
      "[16:25:32] src/tree/updater_prune.cc:74: tree pruning end, 1 roots, 324 extra nodes, 0 pruned nodes, max_depth=10\n",
      "[16:25:32] src/tree/updater_prune.cc:74: tree pruning end, 1 roots, 586 extra nodes, 0 pruned nodes, max_depth=10\n",
      "[16:25:32] src/tree/updater_prune.cc:74: tree pruning end, 1 roots, 528 extra nodes, 0 pruned nodes, max_depth=10\n",
      "[16:25:32] src/tree/updater_prune.cc:74: tree pruning end, 1 roots, 458 extra nodes, 0 pruned nodes, max_depth=10\n",
      "[16:25:33] src/tree/updater_prune.cc:74: tree pruning end, 1 roots, 562 extra nodes, 0 pruned nodes, max_depth=10\n",
      "[16:25:33] src/tree/updater_prune.cc:74: tree pruning end, 1 roots, 364 extra nodes, 0 pruned nodes, max_depth=10\n",
      "[16:25:33] src/tree/updater_prune.cc:74: tree pruning end, 1 roots, 386 extra nodes, 0 pruned nodes, max_depth=10\n",
      "[16:25:33] src/tree/updater_prune.cc:74: tree pruning end, 1 roots, 272 extra nodes, 0 pruned nodes, max_depth=10\n",
      "[16:25:33] src/tree/updater_prune.cc:74: tree pruning end, 1 roots, 544 extra nodes, 0 pruned nodes, max_depth=10\n",
      "[16:25:34] src/tree/updater_prune.cc:74: tree pruning end, 1 roots, 508 extra nodes, 0 pruned nodes, max_depth=10\n",
      "[16:25:34] src/tree/updater_prune.cc:74: tree pruning end, 1 roots, 424 extra nodes, 0 pruned nodes, max_depth=10\n",
      "[16:25:34] src/tree/updater_prune.cc:74: tree pruning end, 1 roots, 408 extra nodes, 0 pruned nodes, max_depth=10\n",
      "[16:25:34] src/tree/updater_prune.cc:74: tree pruning end, 1 roots, 486 extra nodes, 0 pruned nodes, max_depth=10\n",
      "[16:25:34] src/tree/updater_prune.cc:74: tree pruning end, 1 roots, 372 extra nodes, 0 pruned nodes, max_depth=10\n",
      "[16:25:35] src/tree/updater_prune.cc:74: tree pruning end, 1 roots, 288 extra nodes, 0 pruned nodes, max_depth=10\n",
      "[16:25:35] src/tree/updater_prune.cc:74: tree pruning end, 1 roots, 442 extra nodes, 0 pruned nodes, max_depth=10\n",
      "[16:25:35] src/tree/updater_prune.cc:74: tree pruning end, 1 roots, 354 extra nodes, 0 pruned nodes, max_depth=10\n",
      "[16:25:35] src/tree/updater_prune.cc:74: tree pruning end, 1 roots, 512 extra nodes, 0 pruned nodes, max_depth=10\n",
      "[16:25:36] src/tree/updater_prune.cc:74: tree pruning end, 1 roots, 426 extra nodes, 0 pruned nodes, max_depth=10\n",
      "[16:25:36] src/tree/updater_prune.cc:74: tree pruning end, 1 roots, 472 extra nodes, 0 pruned nodes, max_depth=10\n",
      "[16:25:36] src/tree/updater_prune.cc:74: tree pruning end, 1 roots, 560 extra nodes, 0 pruned nodes, max_depth=10\n",
      "[16:25:36] src/tree/updater_prune.cc:74: tree pruning end, 1 roots, 252 extra nodes, 0 pruned nodes, max_depth=10\n",
      "[16:25:36] src/tree/updater_prune.cc:74: tree pruning end, 1 roots, 302 extra nodes, 0 pruned nodes, max_depth=10\n",
      "[16:25:37] src/tree/updater_prune.cc:74: tree pruning end, 1 roots, 562 extra nodes, 0 pruned nodes, max_depth=10\n",
      "[16:25:37] src/tree/updater_prune.cc:74: tree pruning end, 1 roots, 502 extra nodes, 0 pruned nodes, max_depth=10\n",
      "[16:25:37] src/tree/updater_prune.cc:74: tree pruning end, 1 roots, 370 extra nodes, 0 pruned nodes, max_depth=10\n",
      "[16:25:37] src/tree/updater_prune.cc:74: tree pruning end, 1 roots, 408 extra nodes, 0 pruned nodes, max_depth=10\n",
      "[16:25:38] src/tree/updater_prune.cc:74: tree pruning end, 1 roots, 602 extra nodes, 0 pruned nodes, max_depth=10\n",
      "[16:25:38] src/tree/updater_prune.cc:74: tree pruning end, 1 roots, 458 extra nodes, 0 pruned nodes, max_depth=10\n"
     ]
    },
    {
     "name": "stdout",
     "output_type": "stream",
     "text": [
      "[16:25:38] src/tree/updater_prune.cc:74: tree pruning end, 1 roots, 300 extra nodes, 0 pruned nodes, max_depth=10\n",
      "[16:25:38] src/tree/updater_prune.cc:74: tree pruning end, 1 roots, 324 extra nodes, 0 pruned nodes, max_depth=10\n",
      "[16:25:38] src/tree/updater_prune.cc:74: tree pruning end, 1 roots, 586 extra nodes, 0 pruned nodes, max_depth=10\n",
      "[16:25:39] src/tree/updater_prune.cc:74: tree pruning end, 1 roots, 634 extra nodes, 0 pruned nodes, max_depth=10\n",
      "[16:25:39] src/tree/updater_prune.cc:74: tree pruning end, 1 roots, 302 extra nodes, 0 pruned nodes, max_depth=10\n",
      "[16:25:39] src/tree/updater_prune.cc:74: tree pruning end, 1 roots, 364 extra nodes, 0 pruned nodes, max_depth=10\n",
      "[16:25:40] src/tree/updater_prune.cc:74: tree pruning end, 1 roots, 458 extra nodes, 0 pruned nodes, max_depth=10\n",
      "[16:25:40] src/tree/updater_prune.cc:74: tree pruning end, 1 roots, 264 extra nodes, 0 pruned nodes, max_depth=10\n",
      "[16:25:40] src/tree/updater_prune.cc:74: tree pruning end, 1 roots, 528 extra nodes, 0 pruned nodes, max_depth=10\n",
      "[16:25:40] src/tree/updater_prune.cc:74: tree pruning end, 1 roots, 272 extra nodes, 0 pruned nodes, max_depth=10\n",
      "[16:25:40] src/tree/updater_prune.cc:74: tree pruning end, 1 roots, 386 extra nodes, 0 pruned nodes, max_depth=10\n",
      "[16:25:41] src/tree/updater_prune.cc:74: tree pruning end, 1 roots, 562 extra nodes, 0 pruned nodes, max_depth=10\n",
      "[16:25:41] src/tree/updater_prune.cc:74: tree pruning end, 1 roots, 302 extra nodes, 0 pruned nodes, max_depth=10\n",
      "[16:25:41] src/tree/updater_prune.cc:74: tree pruning end, 1 roots, 424 extra nodes, 0 pruned nodes, max_depth=10\n",
      "[16:25:41] src/tree/updater_prune.cc:74: tree pruning end, 1 roots, 544 extra nodes, 0 pruned nodes, max_depth=10\n",
      "[16:25:41] src/tree/updater_prune.cc:74: tree pruning end, 1 roots, 508 extra nodes, 0 pruned nodes, max_depth=10\n",
      "[16:25:41] src/tree/updater_prune.cc:74: tree pruning end, 1 roots, 332 extra nodes, 0 pruned nodes, max_depth=10\n",
      "[16:25:42] src/tree/updater_prune.cc:74: tree pruning end, 1 roots, 372 extra nodes, 0 pruned nodes, max_depth=10\n",
      "[16:25:42] src/tree/updater_prune.cc:74: tree pruning end, 1 roots, 486 extra nodes, 0 pruned nodes, max_depth=10\n",
      "[16:25:42] src/tree/updater_prune.cc:74: tree pruning end, 1 roots, 408 extra nodes, 0 pruned nodes, max_depth=10\n",
      "[16:25:43] src/tree/updater_prune.cc:74: tree pruning end, 1 roots, 354 extra nodes, 0 pruned nodes, max_depth=10\n",
      "[16:25:43] src/tree/updater_prune.cc:74: tree pruning end, 1 roots, 288 extra nodes, 0 pruned nodes, max_depth=10\n",
      "[16:25:43] src/tree/updater_prune.cc:74: tree pruning end, 1 roots, 442 extra nodes, 0 pruned nodes, max_depth=10\n",
      "[16:25:43] src/tree/updater_prune.cc:74: tree pruning end, 1 roots, 512 extra nodes, 0 pruned nodes, max_depth=10\n",
      "[16:25:43] src/tree/updater_prune.cc:74: tree pruning end, 1 roots, 484 extra nodes, 0 pruned nodes, max_depth=10\n",
      "[16:25:44] src/tree/updater_prune.cc:74: tree pruning end, 1 roots, 426 extra nodes, 0 pruned nodes, max_depth=10\n",
      "[16:25:44] src/tree/updater_prune.cc:74: tree pruning end, 1 roots, 472 extra nodes, 0 pruned nodes, max_depth=10\n",
      "[16:25:44] src/tree/updater_prune.cc:74: tree pruning end, 1 roots, 560 extra nodes, 0 pruned nodes, max_depth=10\n",
      "[16:25:44] src/tree/updater_prune.cc:74: tree pruning end, 1 roots, 310 extra nodes, 0 pruned nodes, max_depth=10\n",
      "[16:25:44] src/tree/updater_prune.cc:74: tree pruning end, 1 roots, 252 extra nodes, 0 pruned nodes, max_depth=10\n",
      "[16:25:44] src/tree/updater_prune.cc:74: tree pruning end, 1 roots, 302 extra nodes, 0 pruned nodes, max_depth=10\n",
      "[16:25:45] src/tree/updater_prune.cc:74: tree pruning end, 1 roots, 562 extra nodes, 0 pruned nodes, max_depth=10\n",
      "[16:25:45] src/tree/updater_prune.cc:74: tree pruning end, 1 roots, 476 extra nodes, 0 pruned nodes, max_depth=10\n",
      "[16:25:45] src/tree/updater_prune.cc:74: tree pruning end, 1 roots, 370 extra nodes, 0 pruned nodes, max_depth=10\n",
      "[16:25:45] src/tree/updater_prune.cc:74: tree pruning end, 1 roots, 408 extra nodes, 0 pruned nodes, max_depth=10\n",
      "[16:25:46] src/tree/updater_prune.cc:74: tree pruning end, 1 roots, 502 extra nodes, 0 pruned nodes, max_depth=10\n",
      "[16:25:46] src/tree/updater_prune.cc:74: tree pruning end, 1 roots, 450 extra nodes, 0 pruned nodes, max_depth=10\n",
      "[16:25:46] src/tree/updater_prune.cc:74: tree pruning end, 1 roots, 300 extra nodes, 0 pruned nodes, max_depth=10\n",
      "[16:25:46] src/tree/updater_prune.cc:74: tree pruning end, 1 roots, 324 extra nodes, 0 pruned nodes, max_depth=10\n",
      "[16:25:46] src/tree/updater_prune.cc:74: tree pruning end, 1 roots, 602 extra nodes, 0 pruned nodes, max_depth=10\n",
      "[16:25:47] src/tree/updater_prune.cc:74: tree pruning end, 1 roots, 382 extra nodes, 0 pruned nodes, max_depth=10\n",
      "[16:25:47] src/tree/updater_prune.cc:74: tree pruning end, 1 roots, 302 extra nodes, 0 pruned nodes, max_depth=10\n",
      "[16:25:47] src/tree/updater_prune.cc:74: tree pruning end, 1 roots, 586 extra nodes, 0 pruned nodes, max_depth=10\n",
      "[16:25:47] src/tree/updater_prune.cc:74: tree pruning end, 1 roots, 514 extra nodes, 0 pruned nodes, max_depth=10\n",
      "[16:25:48] src/tree/updater_prune.cc:74: tree pruning end, 1 roots, 264 extra nodes, 0 pruned nodes, max_depth=10\n",
      "[16:25:48] src/tree/updater_prune.cc:74: tree pruning end, 1 roots, 458 extra nodes, 0 pruned nodes, max_depth=10\n",
      "[16:25:48] src/tree/updater_prune.cc:74: tree pruning end, 1 roots, 364 extra nodes, 0 pruned nodes, max_depth=10\n",
      "[16:25:48] src/tree/updater_prune.cc:74: tree pruning end, 1 roots, 504 extra nodes, 0 pruned nodes, max_depth=10\n",
      "[16:25:49] src/tree/updater_prune.cc:74: tree pruning end, 1 roots, 634 extra nodes, 0 pruned nodes, max_depth=10\n",
      "[16:25:49] src/tree/updater_prune.cc:74: tree pruning end, 1 roots, 272 extra nodes, 0 pruned nodes, max_depth=10\n",
      "[16:25:49] src/tree/updater_prune.cc:74: tree pruning end, 1 roots, 458 extra nodes, 0 pruned nodes, max_depth=10\n",
      "[16:25:49] src/tree/updater_prune.cc:74: tree pruning end, 1 roots, 620 extra nodes, 0 pruned nodes, max_depth=10\n",
      "[16:25:49] src/tree/updater_prune.cc:74: tree pruning end, 1 roots, 528 extra nodes, 0 pruned nodes, max_depth=10\n",
      "[16:25:50] src/tree/updater_prune.cc:74: tree pruning end, 1 roots, 302 extra nodes, 0 pruned nodes, max_depth=10\n",
      "[16:25:50] src/tree/updater_prune.cc:74: tree pruning end, 1 roots, 386 extra nodes, 0 pruned nodes, max_depth=10\n",
      "[16:25:50] src/tree/updater_prune.cc:74: tree pruning end, 1 roots, 562 extra nodes, 0 pruned nodes, max_depth=10\n",
      "[16:25:50] src/tree/updater_prune.cc:74: tree pruning end, 1 roots, 332 extra nodes, 0 pruned nodes, max_depth=10\n",
      "[16:25:51] src/tree/updater_prune.cc:74: tree pruning end, 1 roots, 424 extra nodes, 0 pruned nodes, max_depth=10\n",
      "[16:25:51] src/tree/updater_prune.cc:74: tree pruning end, 1 roots, 544 extra nodes, 0 pruned nodes, max_depth=10\n",
      "[16:25:51] src/tree/updater_prune.cc:74: tree pruning end, 1 roots, 508 extra nodes, 0 pruned nodes, max_depth=10\n",
      "[16:25:51] src/tree/updater_prune.cc:74: tree pruning end, 1 roots, 516 extra nodes, 0 pruned nodes, max_depth=10\n",
      "[16:25:51] src/tree/updater_prune.cc:74: tree pruning end, 1 roots, 372 extra nodes, 0 pruned nodes, max_depth=10\n",
      "[16:25:52] src/tree/updater_prune.cc:74: tree pruning end, 1 roots, 408 extra nodes, 0 pruned nodes, max_depth=10\n",
      "[16:25:52] src/tree/updater_prune.cc:74: tree pruning end, 1 roots, 486 extra nodes, 0 pruned nodes, max_depth=10\n",
      "[16:25:52] src/tree/updater_prune.cc:74: tree pruning end, 1 roots, 600 extra nodes, 0 pruned nodes, max_depth=10\n",
      "[16:25:52] src/tree/updater_prune.cc:74: tree pruning end, 1 roots, 354 extra nodes, 0 pruned nodes, max_depth=10\n",
      "[16:25:52] src/tree/updater_prune.cc:74: tree pruning end, 1 roots, 288 extra nodes, 0 pruned nodes, max_depth=10\n",
      "[16:25:53] src/tree/updater_prune.cc:74: tree pruning end, 1 roots, 442 extra nodes, 0 pruned nodes, max_depth=10\n",
      "[16:25:53] src/tree/updater_prune.cc:74: tree pruning end, 1 roots, 484 extra nodes, 0 pruned nodes, max_depth=10\n",
      "[16:25:53] src/tree/updater_prune.cc:74: tree pruning end, 1 roots, 426 extra nodes, 0 pruned nodes, max_depth=10\n",
      "[16:25:53] src/tree/updater_prune.cc:74: tree pruning end, 1 roots, 472 extra nodes, 0 pruned nodes, max_depth=10\n",
      "[16:25:54] src/tree/updater_prune.cc:74: tree pruning end, 1 roots, 310 extra nodes, 0 pruned nodes, max_depth=10\n"
     ]
    },
    {
     "name": "stdout",
     "output_type": "stream",
     "text": [
      "[16:25:54] src/tree/updater_prune.cc:74: tree pruning end, 1 roots, 512 extra nodes, 0 pruned nodes, max_depth=10\n",
      "[16:25:54] src/tree/updater_prune.cc:74: tree pruning end, 1 roots, 252 extra nodes, 0 pruned nodes, max_depth=10\n",
      "[16:25:54] src/tree/updater_prune.cc:74: tree pruning end, 1 roots, 302 extra nodes, 0 pruned nodes, max_depth=10\n",
      "[16:25:54] src/tree/updater_prune.cc:74: tree pruning end, 1 roots, 496 extra nodes, 0 pruned nodes, max_depth=10\n",
      "[16:25:54] src/tree/updater_prune.cc:74: tree pruning end, 1 roots, 560 extra nodes, 0 pruned nodes, max_depth=10\n",
      "[16:25:55] src/tree/updater_prune.cc:74: tree pruning end, 1 roots, 476 extra nodes, 0 pruned nodes, max_depth=10\n",
      "[16:25:55] src/tree/updater_prune.cc:74: tree pruning end, 1 roots, 370 extra nodes, 0 pruned nodes, max_depth=10\n",
      "[16:25:55] src/tree/updater_prune.cc:74: tree pruning end, 1 roots, 562 extra nodes, 0 pruned nodes, max_depth=10\n",
      "[16:25:55] src/tree/updater_prune.cc:74: tree pruning end, 1 roots, 420 extra nodes, 0 pruned nodes, max_depth=10\n",
      "[16:25:55] src/tree/updater_prune.cc:74: tree pruning end, 1 roots, 450 extra nodes, 0 pruned nodes, max_depth=10\n",
      "[16:25:56] src/tree/updater_prune.cc:74: tree pruning end, 1 roots, 300 extra nodes, 0 pruned nodes, max_depth=10\n",
      "[16:25:56] src/tree/updater_prune.cc:74: tree pruning end, 1 roots, 408 extra nodes, 0 pruned nodes, max_depth=10\n",
      "[16:25:56] src/tree/updater_prune.cc:74: tree pruning end, 1 roots, 460 extra nodes, 0 pruned nodes, max_depth=10\n",
      "[16:25:56] src/tree/updater_prune.cc:74: tree pruning end, 1 roots, 382 extra nodes, 0 pruned nodes, max_depth=10\n",
      "[16:25:57] src/tree/updater_prune.cc:74: tree pruning end, 1 roots, 324 extra nodes, 0 pruned nodes, max_depth=10\n",
      "[16:25:57] src/tree/updater_prune.cc:74: tree pruning end, 1 roots, 250 extra nodes, 0 pruned nodes, max_depth=10\n",
      "[16:25:57] src/tree/updater_prune.cc:74: tree pruning end, 1 roots, 502 extra nodes, 0 pruned nodes, max_depth=10\n",
      "[16:25:57] src/tree/updater_prune.cc:74: tree pruning end, 1 roots, 514 extra nodes, 0 pruned nodes, max_depth=10\n",
      "[16:25:57] src/tree/updater_prune.cc:74: tree pruning end, 1 roots, 302 extra nodes, 0 pruned nodes, max_depth=10\n",
      "[16:25:58] src/tree/updater_prune.cc:74: tree pruning end, 1 roots, 602 extra nodes, 0 pruned nodes, max_depth=10\n",
      "[16:25:58] src/tree/updater_prune.cc:74: tree pruning end, 1 roots, 628 extra nodes, 0 pruned nodes, max_depth=10\n",
      "[16:25:58] src/tree/updater_prune.cc:74: tree pruning end, 1 roots, 264 extra nodes, 0 pruned nodes, max_depth=10\n",
      "[16:25:58] src/tree/updater_prune.cc:74: tree pruning end, 1 roots, 324 extra nodes, 0 pruned nodes, max_depth=10\n",
      "[16:25:58] src/tree/updater_prune.cc:74: tree pruning end, 1 roots, 586 extra nodes, 0 pruned nodes, max_depth=10\n",
      "[16:25:59] src/tree/updater_prune.cc:74: tree pruning end, 1 roots, 390 extra nodes, 0 pruned nodes, max_depth=10\n",
      "[16:25:59] src/tree/updater_prune.cc:74: tree pruning end, 1 roots, 504 extra nodes, 0 pruned nodes, max_depth=10\n",
      "[16:25:59] src/tree/updater_prune.cc:74: tree pruning end, 1 roots, 364 extra nodes, 0 pruned nodes, max_depth=10\n",
      "[16:26:00] src/tree/updater_prune.cc:74: tree pruning end, 1 roots, 620 extra nodes, 0 pruned nodes, max_depth=10\n",
      "[16:26:00] src/tree/updater_prune.cc:74: tree pruning end, 1 roots, 272 extra nodes, 0 pruned nodes, max_depth=10\n",
      "[16:26:00] src/tree/updater_prune.cc:74: tree pruning end, 1 roots, 374 extra nodes, 0 pruned nodes, max_depth=10\n",
      "[16:26:00] src/tree/updater_prune.cc:74: tree pruning end, 1 roots, 682 extra nodes, 0 pruned nodes, max_depth=10\n",
      "[16:26:00] src/tree/updater_prune.cc:74: tree pruning end, 1 roots, 362 extra nodes, 0 pruned nodes, max_depth=10\n",
      "[16:26:00] src/tree/updater_prune.cc:74: tree pruning end, 1 roots, 302 extra nodes, 0 pruned nodes, max_depth=10\n",
      "[16:26:01] src/tree/updater_prune.cc:74: tree pruning end, 1 roots, 372 extra nodes, 0 pruned nodes, max_depth=10\n",
      "[16:26:01] src/tree/updater_prune.cc:74: tree pruning end, 1 roots, 332 extra nodes, 0 pruned nodes, max_depth=10\n",
      "[16:26:01] src/tree/updater_prune.cc:74: tree pruning end, 1 roots, 360 extra nodes, 0 pruned nodes, max_depth=10\n",
      "[16:26:02] src/tree/updater_prune.cc:74: tree pruning end, 1 roots, 370 extra nodes, 0 pruned nodes, max_depth=10\n",
      "[16:26:02] src/tree/updater_prune.cc:74: tree pruning end, 1 roots, 516 extra nodes, 0 pruned nodes, max_depth=10\n",
      "[16:26:03] src/tree/updater_prune.cc:74: tree pruning end, 1 roots, 324 extra nodes, 0 pruned nodes, max_depth=10\n",
      "[16:26:03] src/tree/updater_prune.cc:74: tree pruning end, 1 roots, 600 extra nodes, 0 pruned nodes, max_depth=10\n",
      "[16:26:03] src/tree/updater_prune.cc:74: tree pruning end, 1 roots, 374 extra nodes, 0 pruned nodes, max_depth=10\n",
      "[16:26:03] src/tree/updater_prune.cc:74: tree pruning end, 1 roots, 434 extra nodes, 0 pruned nodes, max_depth=10\n",
      "[16:26:03] src/tree/updater_prune.cc:74: tree pruning end, 1 roots, 362 extra nodes, 0 pruned nodes, max_depth=10\n",
      "[16:26:03] src/tree/updater_prune.cc:74: tree pruning end, 1 roots, 612 extra nodes, 0 pruned nodes, max_depth=10\n",
      "[16:26:04] src/tree/updater_prune.cc:74: tree pruning end, 1 roots, 408 extra nodes, 0 pruned nodes, max_depth=10\n",
      "[16:26:04] src/tree/updater_prune.cc:74: tree pruning end, 1 roots, 316 extra nodes, 0 pruned nodes, max_depth=10\n",
      "[16:26:04] src/tree/updater_prune.cc:74: tree pruning end, 1 roots, 382 extra nodes, 0 pruned nodes, max_depth=10\n",
      "[16:26:04] src/tree/updater_prune.cc:74: tree pruning end, 1 roots, 356 extra nodes, 0 pruned nodes, max_depth=10\n",
      "[16:26:04] src/tree/updater_prune.cc:74: tree pruning end, 1 roots, 340 extra nodes, 0 pruned nodes, max_depth=10\n",
      "[16:26:05] src/tree/updater_prune.cc:74: tree pruning end, 1 roots, 330 extra nodes, 0 pruned nodes, max_depth=10\n",
      "[16:26:05] src/tree/updater_prune.cc:74: tree pruning end, 1 roots, 360 extra nodes, 0 pruned nodes, max_depth=10\n",
      "[16:26:06] src/tree/updater_prune.cc:74: tree pruning end, 1 roots, 370 extra nodes, 0 pruned nodes, max_depth=10\n",
      "[16:26:06] src/tree/updater_prune.cc:74: tree pruning end, 1 roots, 324 extra nodes, 0 pruned nodes, max_depth=10\n",
      "[16:26:06] src/tree/updater_prune.cc:74: tree pruning end, 1 roots, 492 extra nodes, 0 pruned nodes, max_depth=10\n",
      "[16:26:06] src/tree/updater_prune.cc:74: tree pruning end, 1 roots, 374 extra nodes, 0 pruned nodes, max_depth=10\n",
      "[16:26:06] src/tree/updater_prune.cc:74: tree pruning end, 1 roots, 440 extra nodes, 0 pruned nodes, max_depth=10\n",
      "[16:26:06] src/tree/updater_prune.cc:74: tree pruning end, 1 roots, 434 extra nodes, 0 pruned nodes, max_depth=10\n",
      "[16:26:07] src/tree/updater_prune.cc:74: tree pruning end, 1 roots, 306 extra nodes, 0 pruned nodes, max_depth=10\n",
      "[16:26:07] src/tree/updater_prune.cc:74: tree pruning end, 1 roots, 408 extra nodes, 0 pruned nodes, max_depth=10\n",
      "[16:26:07] src/tree/updater_prune.cc:74: tree pruning end, 1 roots, 316 extra nodes, 0 pruned nodes, max_depth=10\n",
      "[16:26:07] src/tree/updater_prune.cc:74: tree pruning end, 1 roots, 340 extra nodes, 0 pruned nodes, max_depth=10\n",
      "[16:26:08] src/tree/updater_prune.cc:74: tree pruning end, 1 roots, 340 extra nodes, 0 pruned nodes, max_depth=10\n",
      "[16:26:08] src/tree/updater_prune.cc:74: tree pruning end, 1 roots, 286 extra nodes, 0 pruned nodes, max_depth=10\n",
      "[16:26:08] src/tree/updater_prune.cc:74: tree pruning end, 1 roots, 248 extra nodes, 0 pruned nodes, max_depth=10\n",
      "[16:26:08] src/tree/updater_prune.cc:74: tree pruning end, 1 roots, 156 extra nodes, 0 pruned nodes, max_depth=10\n",
      "[16:26:08] src/tree/updater_prune.cc:74: tree pruning end, 1 roots, 362 extra nodes, 0 pruned nodes, max_depth=10\n",
      "[16:26:09] src/tree/updater_prune.cc:74: tree pruning end, 1 roots, 360 extra nodes, 0 pruned nodes, max_depth=10\n",
      "[16:26:09] src/tree/updater_prune.cc:74: tree pruning end, 1 roots, 222 extra nodes, 0 pruned nodes, max_depth=10\n",
      "[16:26:09] src/tree/updater_prune.cc:74: tree pruning end, 1 roots, 382 extra nodes, 0 pruned nodes, max_depth=10\n",
      "[16:26:09] src/tree/updater_prune.cc:74: tree pruning end, 1 roots, 492 extra nodes, 0 pruned nodes, max_depth=10\n"
     ]
    },
    {
     "name": "stderr",
     "output_type": "stream",
     "text": [
      "[Parallel(n_jobs=4)]: Done  42 tasks      | elapsed:   51.9s\n"
     ]
    },
    {
     "name": "stdout",
     "output_type": "stream",
     "text": [
      "[16:26:10] src/tree/updater_prune.cc:74: tree pruning end, 1 roots, 330 extra nodes, 0 pruned nodes, max_depth=10\n",
      "[16:26:10] src/tree/updater_prune.cc:74: tree pruning end, 1 roots, 370 extra nodes, 0 pruned nodes, max_depth=10\n",
      "[16:26:10] src/tree/updater_prune.cc:74: tree pruning end, 1 roots, 306 extra nodes, 0 pruned nodes, max_depth=10\n",
      "[16:26:10] src/tree/updater_prune.cc:74: tree pruning end, 1 roots, 272 extra nodes, 0 pruned nodes, max_depth=10\n",
      "[16:26:10] src/tree/updater_prune.cc:74: tree pruning end, 1 roots, 324 extra nodes, 0 pruned nodes, max_depth=10\n",
      "[16:26:11] src/tree/updater_prune.cc:74: tree pruning end, 1 roots, 440 extra nodes, 0 pruned nodes, max_depth=10\n",
      "[16:26:11] src/tree/updater_prune.cc:74: tree pruning end, 1 roots, 282 extra nodes, 0 pruned nodes, max_depth=10\n",
      "[16:26:11] src/tree/updater_prune.cc:74: tree pruning end, 1 roots, 240 extra nodes, 0 pruned nodes, max_depth=10\n",
      "[16:26:11] src/tree/updater_prune.cc:74: tree pruning end, 1 roots, 434 extra nodes, 0 pruned nodes, max_depth=10\n",
      "[16:26:11] src/tree/updater_prune.cc:74: tree pruning end, 1 roots, 340 extra nodes, 0 pruned nodes, max_depth=10\n",
      "[16:26:11] src/tree/updater_prune.cc:74: tree pruning end, 1 roots, 250 extra nodes, 0 pruned nodes, max_depth=10\n",
      "[16:26:12] src/tree/updater_prune.cc:74: tree pruning end, 1 roots, 316 extra nodes, 0 pruned nodes, max_depth=10\n",
      "[16:26:12] src/tree/updater_prune.cc:74: tree pruning end, 1 roots, 264 extra nodes, 0 pruned nodes, max_depth=10\n",
      "[16:26:12] src/tree/updater_prune.cc:74: tree pruning end, 1 roots, 286 extra nodes, 0 pruned nodes, max_depth=10\n",
      "[16:26:13] src/tree/updater_prune.cc:74: tree pruning end, 1 roots, 374 extra nodes, 0 pruned nodes, max_depth=10\n",
      "[16:26:13] src/tree/updater_prune.cc:74: tree pruning end, 1 roots, 202 extra nodes, 0 pruned nodes, max_depth=10\n",
      "[16:26:13] src/tree/updater_prune.cc:74: tree pruning end, 1 roots, 362 extra nodes, 0 pruned nodes, max_depth=10\n",
      "[16:26:13] src/tree/updater_prune.cc:74: tree pruning end, 1 roots, 156 extra nodes, 0 pruned nodes, max_depth=10\n",
      "[16:26:13] src/tree/updater_prune.cc:74: tree pruning end, 1 roots, 408 extra nodes, 0 pruned nodes, max_depth=10\n",
      "[16:26:14] src/tree/updater_prune.cc:74: tree pruning end, 1 roots, 382 extra nodes, 0 pruned nodes, max_depth=10\n",
      "[16:26:14] src/tree/updater_prune.cc:74: tree pruning end, 1 roots, 248 extra nodes, 0 pruned nodes, max_depth=10\n",
      "[16:26:14] src/tree/updater_prune.cc:74: tree pruning end, 1 roots, 340 extra nodes, 0 pruned nodes, max_depth=10\n",
      "[16:26:14] src/tree/updater_prune.cc:74: tree pruning end, 1 roots, 360 extra nodes, 0 pruned nodes, max_depth=10\n",
      "[16:26:14] src/tree/updater_prune.cc:74: tree pruning end, 1 roots, 330 extra nodes, 0 pruned nodes, max_depth=10\n",
      "[16:26:14] src/tree/updater_prune.cc:74: tree pruning end, 1 roots, 212 extra nodes, 0 pruned nodes, max_depth=10\n",
      "[16:26:15] src/tree/updater_prune.cc:74: tree pruning end, 1 roots, 248 extra nodes, 0 pruned nodes, max_depth=10\n",
      "[16:26:15] src/tree/updater_prune.cc:74: tree pruning end, 1 roots, 492 extra nodes, 0 pruned nodes, max_depth=10\n",
      "[16:26:15] src/tree/updater_prune.cc:74: tree pruning end, 1 roots, 272 extra nodes, 0 pruned nodes, max_depth=10\n",
      "[16:26:15] src/tree/updater_prune.cc:74: tree pruning end, 1 roots, 222 extra nodes, 0 pruned nodes, max_depth=10\n",
      "[16:26:16] src/tree/updater_prune.cc:74: tree pruning end, 1 roots, 306 extra nodes, 0 pruned nodes, max_depth=10\n",
      "[16:26:16] src/tree/updater_prune.cc:74: tree pruning end, 1 roots, 240 extra nodes, 0 pruned nodes, max_depth=10\n",
      "[16:26:16] src/tree/updater_prune.cc:74: tree pruning end, 1 roots, 180 extra nodes, 0 pruned nodes, max_depth=10\n",
      "[16:26:16] src/tree/updater_prune.cc:74: tree pruning end, 1 roots, 370 extra nodes, 0 pruned nodes, max_depth=10\n",
      "[16:26:16] src/tree/updater_prune.cc:74: tree pruning end, 1 roots, 282 extra nodes, 0 pruned nodes, max_depth=10\n",
      "[16:26:16] src/tree/updater_prune.cc:74: tree pruning end, 1 roots, 238 extra nodes, 0 pruned nodes, max_depth=10\n",
      "[16:26:17] src/tree/updater_prune.cc:74: tree pruning end, 1 roots, 220 extra nodes, 0 pruned nodes, max_depth=10\n",
      "[16:26:17] src/tree/updater_prune.cc:74: tree pruning end, 1 roots, 440 extra nodes, 0 pruned nodes, max_depth=10\n",
      "[16:26:17] src/tree/updater_prune.cc:74: tree pruning end, 1 roots, 250 extra nodes, 0 pruned nodes, max_depth=10\n",
      "[16:26:17] src/tree/updater_prune.cc:74: tree pruning end, 1 roots, 210 extra nodes, 0 pruned nodes, max_depth=10\n",
      "[16:26:18] src/tree/updater_prune.cc:74: tree pruning end, 1 roots, 340 extra nodes, 0 pruned nodes, max_depth=10\n",
      "[16:26:18] src/tree/updater_prune.cc:74: tree pruning end, 1 roots, 196 extra nodes, 0 pruned nodes, max_depth=10\n",
      "[16:26:18] src/tree/updater_prune.cc:74: tree pruning end, 1 roots, 324 extra nodes, 0 pruned nodes, max_depth=10\n",
      "[16:26:18] src/tree/updater_prune.cc:74: tree pruning end, 1 roots, 264 extra nodes, 0 pruned nodes, max_depth=10\n",
      "[16:26:18] src/tree/updater_prune.cc:74: tree pruning end, 1 roots, 280 extra nodes, 0 pruned nodes, max_depth=10\n",
      "[16:26:19] src/tree/updater_prune.cc:74: tree pruning end, 1 roots, 374 extra nodes, 0 pruned nodes, max_depth=10\n",
      "[16:26:19] src/tree/updater_prune.cc:74: tree pruning end, 1 roots, 202 extra nodes, 0 pruned nodes, max_depth=10\n",
      "[16:26:19] src/tree/updater_prune.cc:74: tree pruning end, 1 roots, 434 extra nodes, 0 pruned nodes, max_depth=10\n",
      "[16:26:19] src/tree/updater_prune.cc:74: tree pruning end, 1 roots, 408 extra nodes, 0 pruned nodes, max_depth=10\n",
      "[16:26:20] src/tree/updater_prune.cc:74: tree pruning end, 1 roots, 208 extra nodes, 0 pruned nodes, max_depth=10\n",
      "[16:26:20] src/tree/updater_prune.cc:74: tree pruning end, 1 roots, 316 extra nodes, 0 pruned nodes, max_depth=10\n",
      "[16:26:20] src/tree/updater_prune.cc:74: tree pruning end, 1 roots, 362 extra nodes, 0 pruned nodes, max_depth=10\n",
      "[16:26:20] src/tree/updater_prune.cc:74: tree pruning end, 1 roots, 340 extra nodes, 0 pruned nodes, max_depth=10\n",
      "[16:26:20] src/tree/updater_prune.cc:74: tree pruning end, 1 roots, 202 extra nodes, 0 pruned nodes, max_depth=10\n",
      "[16:26:20] src/tree/updater_prune.cc:74: tree pruning end, 1 roots, 286 extra nodes, 0 pruned nodes, max_depth=10\n",
      "[16:26:21] src/tree/updater_prune.cc:74: tree pruning end, 1 roots, 382 extra nodes, 0 pruned nodes, max_depth=10\n",
      "[16:26:21] src/tree/updater_prune.cc:74: tree pruning end, 1 roots, 248 extra nodes, 0 pruned nodes, max_depth=10\n",
      "[16:26:21] src/tree/updater_prune.cc:74: tree pruning end, 1 roots, 156 extra nodes, 0 pruned nodes, max_depth=10\n",
      "[16:26:21] src/tree/updater_prune.cc:74: tree pruning end, 1 roots, 330 extra nodes, 0 pruned nodes, max_depth=10\n",
      "[16:26:21] src/tree/updater_prune.cc:74: tree pruning end, 1 roots, 222 extra nodes, 0 pruned nodes, max_depth=10\n",
      "[16:26:22] src/tree/updater_prune.cc:74: tree pruning end, 1 roots, 248 extra nodes, 0 pruned nodes, max_depth=10\n",
      "[16:26:22] src/tree/updater_prune.cc:74: tree pruning end, 1 roots, 360 extra nodes, 0 pruned nodes, max_depth=10\n",
      "[16:26:22] src/tree/updater_prune.cc:74: tree pruning end, 1 roots, 272 extra nodes, 0 pruned nodes, max_depth=10\n",
      "[16:26:22] src/tree/updater_prune.cc:74: tree pruning end, 1 roots, 180 extra nodes, 0 pruned nodes, max_depth=10\n",
      "[16:26:22] src/tree/updater_prune.cc:74: tree pruning end, 1 roots, 212 extra nodes, 0 pruned nodes, max_depth=10\n",
      "[16:26:22] src/tree/updater_prune.cc:74: tree pruning end, 1 roots, 492 extra nodes, 0 pruned nodes, max_depth=10\n",
      "[16:26:23] src/tree/updater_prune.cc:74: tree pruning end, 1 roots, 240 extra nodes, 0 pruned nodes, max_depth=10\n",
      "[16:26:23] src/tree/updater_prune.cc:74: tree pruning end, 1 roots, 220 extra nodes, 0 pruned nodes, max_depth=10\n",
      "[16:26:23] src/tree/updater_prune.cc:74: tree pruning end, 1 roots, 352 extra nodes, 0 pruned nodes, max_depth=10\n",
      "[16:26:23] src/tree/updater_prune.cc:74: tree pruning end, 1 roots, 306 extra nodes, 0 pruned nodes, max_depth=10\n",
      "[16:26:23] src/tree/updater_prune.cc:74: tree pruning end, 1 roots, 238 extra nodes, 0 pruned nodes, max_depth=10\n",
      "[16:26:24] src/tree/updater_prune.cc:74: tree pruning end, 1 roots, 276 extra nodes, 0 pruned nodes, max_depth=10\n",
      "[16:26:24] src/tree/updater_prune.cc:74: tree pruning end, 1 roots, 310 extra nodes, 0 pruned nodes, max_depth=10\n"
     ]
    },
    {
     "name": "stdout",
     "output_type": "stream",
     "text": [
      "[16:26:24] src/tree/updater_prune.cc:74: tree pruning end, 1 roots, 282 extra nodes, 0 pruned nodes, max_depth=10\n",
      "[16:26:24] src/tree/updater_prune.cc:74: tree pruning end, 1 roots, 210 extra nodes, 0 pruned nodes, max_depth=10\n",
      "[16:26:24] src/tree/updater_prune.cc:74: tree pruning end, 1 roots, 378 extra nodes, 0 pruned nodes, max_depth=10\n",
      "[16:26:25] src/tree/updater_prune.cc:74: tree pruning end, 1 roots, 250 extra nodes, 0 pruned nodes, max_depth=10\n",
      "[16:26:25] src/tree/updater_prune.cc:74: tree pruning end, 1 roots, 240 extra nodes, 0 pruned nodes, max_depth=10\n",
      "[16:26:25] src/tree/updater_prune.cc:74: tree pruning end, 1 roots, 196 extra nodes, 0 pruned nodes, max_depth=10\n",
      "[16:26:25] src/tree/updater_prune.cc:74: tree pruning end, 1 roots, 370 extra nodes, 0 pruned nodes, max_depth=10\n",
      "[16:26:26] src/tree/updater_prune.cc:74: tree pruning end, 1 roots, 380 extra nodes, 0 pruned nodes, max_depth=10\n",
      "[16:26:26] src/tree/updater_prune.cc:74: tree pruning end, 1 roots, 324 extra nodes, 0 pruned nodes, max_depth=10\n",
      "[16:26:26] src/tree/updater_prune.cc:74: tree pruning end, 1 roots, 280 extra nodes, 0 pruned nodes, max_depth=10\n",
      "[16:26:26] src/tree/updater_prune.cc:74: tree pruning end, 1 roots, 440 extra nodes, 0 pruned nodes, max_depth=10\n",
      "[16:26:27] src/tree/updater_prune.cc:74: tree pruning end, 1 roots, 434 extra nodes, 0 pruned nodes, max_depth=10\n",
      "[16:26:27] src/tree/updater_prune.cc:74: tree pruning end, 1 roots, 332 extra nodes, 0 pruned nodes, max_depth=10\n",
      "[16:26:27] src/tree/updater_prune.cc:74: tree pruning end, 1 roots, 340 extra nodes, 0 pruned nodes, max_depth=10\n",
      "[16:26:27] src/tree/updater_prune.cc:74: tree pruning end, 1 roots, 374 extra nodes, 0 pruned nodes, max_depth=10\n",
      "[16:26:27] src/tree/updater_prune.cc:74: tree pruning end, 1 roots, 316 extra nodes, 0 pruned nodes, max_depth=10\n",
      "[16:26:27] src/tree/updater_prune.cc:74: tree pruning end, 1 roots, 210 extra nodes, 0 pruned nodes, max_depth=10\n",
      "[16:26:27] src/tree/updater_prune.cc:74: tree pruning end, 1 roots, 264 extra nodes, 0 pruned nodes, max_depth=10\n",
      "[16:26:28] src/tree/updater_prune.cc:74: tree pruning end, 1 roots, 286 extra nodes, 0 pruned nodes, max_depth=10\n",
      "[16:26:28] src/tree/updater_prune.cc:74: tree pruning end, 1 roots, 408 extra nodes, 0 pruned nodes, max_depth=10\n",
      "[16:26:28] src/tree/updater_prune.cc:74: tree pruning end, 1 roots, 202 extra nodes, 0 pruned nodes, max_depth=10\n",
      "[16:26:28] src/tree/updater_prune.cc:74: tree pruning end, 1 roots, 156 extra nodes, 0 pruned nodes, max_depth=10\n",
      "[16:26:29] src/tree/updater_prune.cc:74: tree pruning end, 1 roots, 340 extra nodes, 0 pruned nodes, max_depth=10\n",
      "[16:26:29] src/tree/updater_prune.cc:74: tree pruning end, 1 roots, 208 extra nodes, 0 pruned nodes, max_depth=10\n",
      "[16:26:29] src/tree/updater_prune.cc:74: tree pruning end, 1 roots, 362 extra nodes, 0 pruned nodes, max_depth=10\n",
      "[16:26:29] src/tree/updater_prune.cc:74: tree pruning end, 1 roots, 248 extra nodes, 0 pruned nodes, max_depth=10\n",
      "[16:26:29] src/tree/updater_prune.cc:74: tree pruning end, 1 roots, 248 extra nodes, 0 pruned nodes, max_depth=10\n",
      "[16:26:29] src/tree/updater_prune.cc:74: tree pruning end, 1 roots, 202 extra nodes, 0 pruned nodes, max_depth=10\n",
      "[16:26:30] src/tree/updater_prune.cc:74: tree pruning end, 1 roots, 382 extra nodes, 0 pruned nodes, max_depth=10\n",
      "[16:26:30] src/tree/updater_prune.cc:74: tree pruning end, 1 roots, 212 extra nodes, 0 pruned nodes, max_depth=10\n",
      "[16:26:30] src/tree/updater_prune.cc:74: tree pruning end, 1 roots, 222 extra nodes, 0 pruned nodes, max_depth=10\n",
      "[16:26:30] src/tree/updater_prune.cc:74: tree pruning end, 1 roots, 192 extra nodes, 0 pruned nodes, max_depth=10\n",
      "[16:26:30] src/tree/updater_prune.cc:74: tree pruning end, 1 roots, 330 extra nodes, 0 pruned nodes, max_depth=10\n",
      "[16:26:31] src/tree/updater_prune.cc:74: tree pruning end, 1 roots, 352 extra nodes, 0 pruned nodes, max_depth=10\n",
      "[16:26:31] src/tree/updater_prune.cc:74: tree pruning end, 1 roots, 180 extra nodes, 0 pruned nodes, max_depth=10\n",
      "[16:26:31] src/tree/updater_prune.cc:74: tree pruning end, 1 roots, 256 extra nodes, 0 pruned nodes, max_depth=10\n",
      "[16:26:31] src/tree/updater_prune.cc:74: tree pruning end, 1 roots, 272 extra nodes, 0 pruned nodes, max_depth=10\n",
      "[16:26:31] src/tree/updater_prune.cc:74: tree pruning end, 1 roots, 310 extra nodes, 0 pruned nodes, max_depth=10\n",
      "[16:26:31] src/tree/updater_prune.cc:74: tree pruning end, 1 roots, 220 extra nodes, 0 pruned nodes, max_depth=10\n",
      "[16:26:32] src/tree/updater_prune.cc:74: tree pruning end, 1 roots, 240 extra nodes, 0 pruned nodes, max_depth=10\n",
      "[16:26:32] src/tree/updater_prune.cc:74: tree pruning end, 1 roots, 132 extra nodes, 0 pruned nodes, max_depth=10\n",
      "[16:26:32] src/tree/updater_prune.cc:74: tree pruning end, 1 roots, 276 extra nodes, 0 pruned nodes, max_depth=10\n",
      "[16:26:32] src/tree/updater_prune.cc:74: tree pruning end, 1 roots, 360 extra nodes, 0 pruned nodes, max_depth=10\n",
      "[16:26:32] src/tree/updater_prune.cc:74: tree pruning end, 1 roots, 238 extra nodes, 0 pruned nodes, max_depth=10\n",
      "[16:26:33] src/tree/updater_prune.cc:74: tree pruning end, 1 roots, 262 extra nodes, 0 pruned nodes, max_depth=10\n",
      "[16:26:33] src/tree/updater_prune.cc:74: tree pruning end, 1 roots, 378 extra nodes, 0 pruned nodes, max_depth=10\n",
      "[16:26:33] src/tree/updater_prune.cc:74: tree pruning end, 1 roots, 492 extra nodes, 0 pruned nodes, max_depth=10\n",
      "[16:26:33] src/tree/updater_prune.cc:74: tree pruning end, 1 roots, 210 extra nodes, 0 pruned nodes, max_depth=10\n",
      "[16:26:33] src/tree/updater_prune.cc:74: tree pruning end, 1 roots, 368 extra nodes, 0 pruned nodes, max_depth=10\n",
      "[16:26:34] src/tree/updater_prune.cc:74: tree pruning end, 1 roots, 306 extra nodes, 0 pruned nodes, max_depth=10\n",
      "[16:26:34] src/tree/updater_prune.cc:74: tree pruning end, 1 roots, 240 extra nodes, 0 pruned nodes, max_depth=10\n",
      "[16:26:34] src/tree/updater_prune.cc:74: tree pruning end, 1 roots, 276 extra nodes, 0 pruned nodes, max_depth=10\n",
      "[16:26:34] src/tree/updater_prune.cc:74: tree pruning end, 1 roots, 370 extra nodes, 0 pruned nodes, max_depth=10\n",
      "[16:26:34] src/tree/updater_prune.cc:74: tree pruning end, 1 roots, 282 extra nodes, 0 pruned nodes, max_depth=10\n",
      "[16:26:35] src/tree/updater_prune.cc:74: tree pruning end, 1 roots, 380 extra nodes, 0 pruned nodes, max_depth=10\n",
      "[16:26:35] src/tree/updater_prune.cc:74: tree pruning end, 1 roots, 440 extra nodes, 0 pruned nodes, max_depth=10\n",
      "[16:26:35] src/tree/updater_prune.cc:74: tree pruning end, 1 roots, 250 extra nodes, 0 pruned nodes, max_depth=10\n",
      "[16:26:35] src/tree/updater_prune.cc:74: tree pruning end, 1 roots, 286 extra nodes, 0 pruned nodes, max_depth=10\n",
      "[16:26:36] src/tree/updater_prune.cc:74: tree pruning end, 1 roots, 340 extra nodes, 0 pruned nodes, max_depth=10\n",
      "[16:26:36] src/tree/updater_prune.cc:74: tree pruning end, 1 roots, 260 extra nodes, 0 pruned nodes, max_depth=10\n",
      "[16:26:36] src/tree/updater_prune.cc:74: tree pruning end, 1 roots, 196 extra nodes, 0 pruned nodes, max_depth=10\n",
      "[16:26:36] src/tree/updater_prune.cc:74: tree pruning end, 1 roots, 90 extra nodes, 0 pruned nodes, max_depth=10\n",
      "[16:26:36] src/tree/updater_prune.cc:74: tree pruning end, 1 roots, 264 extra nodes, 0 pruned nodes, max_depth=10\n",
      "[16:26:36] src/tree/updater_prune.cc:74: tree pruning end, 1 roots, 280 extra nodes, 0 pruned nodes, max_depth=10\n",
      "[16:26:37] src/tree/updater_prune.cc:74: tree pruning end, 1 roots, 202 extra nodes, 0 pruned nodes, max_depth=10\n",
      "[16:26:37] src/tree/updater_prune.cc:74: tree pruning end, 1 roots, 290 extra nodes, 0 pruned nodes, max_depth=10\n",
      "[16:26:37] src/tree/updater_prune.cc:74: tree pruning end, 1 roots, 332 extra nodes, 0 pruned nodes, max_depth=10\n",
      "[16:26:37] src/tree/updater_prune.cc:74: tree pruning end, 1 roots, 304 extra nodes, 0 pruned nodes, max_depth=10\n",
      "[16:26:38] src/tree/updater_prune.cc:74: tree pruning end, 1 roots, 208 extra nodes, 0 pruned nodes, max_depth=10\n",
      "[16:26:38] src/tree/updater_prune.cc:74: tree pruning end, 1 roots, 210 extra nodes, 0 pruned nodes, max_depth=10\n",
      "[16:26:38] src/tree/updater_prune.cc:74: tree pruning end, 1 roots, 202 extra nodes, 0 pruned nodes, max_depth=10\n",
      "[16:26:38] src/tree/updater_prune.cc:74: tree pruning end, 1 roots, 326 extra nodes, 0 pruned nodes, max_depth=10\n"
     ]
    },
    {
     "name": "stdout",
     "output_type": "stream",
     "text": [
      "[16:26:39] src/tree/updater_prune.cc:74: tree pruning end, 1 roots, 286 extra nodes, 0 pruned nodes, max_depth=10\n",
      "[16:26:39] src/tree/updater_prune.cc:74: tree pruning end, 1 roots, 306 extra nodes, 0 pruned nodes, max_depth=10\n",
      "[16:26:39] src/tree/updater_prune.cc:74: tree pruning end, 1 roots, 192 extra nodes, 0 pruned nodes, max_depth=10\n",
      "[16:26:39] src/tree/updater_prune.cc:74: tree pruning end, 1 roots, 186 extra nodes, 0 pruned nodes, max_depth=10\n",
      "[16:26:40] src/tree/updater_prune.cc:74: tree pruning end, 1 roots, 256 extra nodes, 0 pruned nodes, max_depth=10\n",
      "[16:26:40] src/tree/updater_prune.cc:74: tree pruning end, 1 roots, 260 extra nodes, 0 pruned nodes, max_depth=10\n",
      "[16:26:40] src/tree/updater_prune.cc:74: tree pruning end, 1 roots, 318 extra nodes, 0 pruned nodes, max_depth=10\n",
      "[16:26:40] src/tree/updater_prune.cc:74: tree pruning end, 1 roots, 290 extra nodes, 0 pruned nodes, max_depth=10\n",
      "[16:26:41] src/tree/updater_prune.cc:74: tree pruning end, 1 roots, 388 extra nodes, 0 pruned nodes, max_depth=10\n",
      "[16:26:41] src/tree/updater_prune.cc:74: tree pruning end, 1 roots, 304 extra nodes, 0 pruned nodes, max_depth=10\n",
      "[16:26:41] src/tree/updater_prune.cc:74: tree pruning end, 1 roots, 290 extra nodes, 0 pruned nodes, max_depth=10\n",
      "[16:26:41] src/tree/updater_prune.cc:74: tree pruning end, 1 roots, 448 extra nodes, 0 pruned nodes, max_depth=10\n",
      "[16:26:41] src/tree/updater_prune.cc:74: tree pruning end, 1 roots, 286 extra nodes, 0 pruned nodes, max_depth=10\n",
      "[16:26:41] src/tree/updater_prune.cc:74: tree pruning end, 1 roots, 314 extra nodes, 0 pruned nodes, max_depth=10\n",
      "[16:26:42] src/tree/updater_prune.cc:74: tree pruning end, 1 roots, 262 extra nodes, 0 pruned nodes, max_depth=10\n",
      "[16:26:42] src/tree/updater_prune.cc:74: tree pruning end, 1 roots, 250 extra nodes, 0 pruned nodes, max_depth=10\n",
      "[16:26:43] src/tree/updater_prune.cc:74: tree pruning end, 1 roots, 286 extra nodes, 0 pruned nodes, max_depth=10\n",
      "[16:26:43] src/tree/updater_prune.cc:74: tree pruning end, 1 roots, 306 extra nodes, 0 pruned nodes, max_depth=10\n",
      "[16:26:43] src/tree/updater_prune.cc:74: tree pruning end, 1 roots, 260 extra nodes, 0 pruned nodes, max_depth=10\n",
      "[16:26:43] src/tree/updater_prune.cc:74: tree pruning end, 1 roots, 348 extra nodes, 0 pruned nodes, max_depth=10\n",
      "[16:26:43] src/tree/updater_prune.cc:74: tree pruning end, 1 roots, 378 extra nodes, 0 pruned nodes, max_depth=10\n",
      "[16:26:44] src/tree/updater_prune.cc:74: tree pruning end, 1 roots, 290 extra nodes, 0 pruned nodes, max_depth=10\n",
      "[16:26:44] src/tree/updater_prune.cc:74: tree pruning end, 1 roots, 388 extra nodes, 0 pruned nodes, max_depth=10\n",
      "[16:26:44] src/tree/updater_prune.cc:74: tree pruning end, 1 roots, 238 extra nodes, 0 pruned nodes, max_depth=10\n",
      "[16:26:44] src/tree/updater_prune.cc:74: tree pruning end, 1 roots, 268 extra nodes, 0 pruned nodes, max_depth=10\n",
      "[16:26:44] src/tree/updater_prune.cc:74: tree pruning end, 1 roots, 290 extra nodes, 0 pruned nodes, max_depth=10\n",
      "[16:26:45] src/tree/updater_prune.cc:74: tree pruning end, 1 roots, 286 extra nodes, 0 pruned nodes, max_depth=10\n",
      "[16:26:45] src/tree/updater_prune.cc:74: tree pruning end, 1 roots, 262 extra nodes, 0 pruned nodes, max_depth=10\n",
      "[16:26:45] src/tree/updater_prune.cc:74: tree pruning end, 1 roots, 204 extra nodes, 0 pruned nodes, max_depth=10\n",
      "[16:26:45] src/tree/updater_prune.cc:74: tree pruning end, 1 roots, 304 extra nodes, 0 pruned nodes, max_depth=10\n",
      "[16:26:46] src/tree/updater_prune.cc:74: tree pruning end, 1 roots, 286 extra nodes, 0 pruned nodes, max_depth=10\n",
      "[16:26:46] src/tree/updater_prune.cc:74: tree pruning end, 1 roots, 216 extra nodes, 0 pruned nodes, max_depth=10\n",
      "[16:26:46] src/tree/updater_prune.cc:74: tree pruning end, 1 roots, 270 extra nodes, 0 pruned nodes, max_depth=10\n",
      "[16:26:46] src/tree/updater_prune.cc:74: tree pruning end, 1 roots, 314 extra nodes, 0 pruned nodes, max_depth=10\n",
      "[16:26:46] src/tree/updater_prune.cc:74: tree pruning end, 1 roots, 190 extra nodes, 0 pruned nodes, max_depth=10\n",
      "[16:26:46] src/tree/updater_prune.cc:74: tree pruning end, 1 roots, 348 extra nodes, 0 pruned nodes, max_depth=10\n",
      "[16:26:47] src/tree/updater_prune.cc:74: tree pruning end, 1 roots, 250 extra nodes, 0 pruned nodes, max_depth=10\n",
      "[16:26:47] src/tree/updater_prune.cc:74: tree pruning end, 1 roots, 238 extra nodes, 0 pruned nodes, max_depth=10\n",
      "[16:26:47] src/tree/updater_prune.cc:74: tree pruning end, 1 roots, 306 extra nodes, 0 pruned nodes, max_depth=10\n",
      "[16:26:48] src/tree/updater_prune.cc:74: tree pruning end, 1 roots, 254 extra nodes, 0 pruned nodes, max_depth=10\n",
      "[16:26:48] src/tree/updater_prune.cc:74: tree pruning end, 1 roots, 204 extra nodes, 0 pruned nodes, max_depth=10\n",
      "[16:26:48] src/tree/updater_prune.cc:74: tree pruning end, 1 roots, 260 extra nodes, 0 pruned nodes, max_depth=10\n",
      "[16:26:48] src/tree/updater_prune.cc:74: tree pruning end, 1 roots, 378 extra nodes, 0 pruned nodes, max_depth=10\n",
      "[16:26:48] src/tree/updater_prune.cc:74: tree pruning end, 1 roots, 180 extra nodes, 0 pruned nodes, max_depth=10\n",
      "[16:26:48] src/tree/updater_prune.cc:74: tree pruning end, 1 roots, 198 extra nodes, 0 pruned nodes, max_depth=10\n",
      "[16:26:49] src/tree/updater_prune.cc:74: tree pruning end, 1 roots, 388 extra nodes, 0 pruned nodes, max_depth=10\n",
      "[16:26:49] src/tree/updater_prune.cc:74: tree pruning end, 1 roots, 268 extra nodes, 0 pruned nodes, max_depth=10\n",
      "[16:26:49] src/tree/updater_prune.cc:74: tree pruning end, 1 roots, 286 extra nodes, 0 pruned nodes, max_depth=10\n",
      "[16:26:49] src/tree/updater_prune.cc:74: tree pruning end, 1 roots, 248 extra nodes, 0 pruned nodes, max_depth=10\n",
      "[16:26:50] src/tree/updater_prune.cc:74: tree pruning end, 1 roots, 290 extra nodes, 0 pruned nodes, max_depth=10\n",
      "[16:26:50] src/tree/updater_prune.cc:74: tree pruning end, 1 roots, 204 extra nodes, 0 pruned nodes, max_depth=10\n",
      "[16:26:50] src/tree/updater_prune.cc:74: tree pruning end, 1 roots, 304 extra nodes, 0 pruned nodes, max_depth=10\n",
      "[16:26:50] src/tree/updater_prune.cc:74: tree pruning end, 1 roots, 184 extra nodes, 0 pruned nodes, max_depth=10\n",
      "[16:26:50] src/tree/updater_prune.cc:74: tree pruning end, 1 roots, 290 extra nodes, 0 pruned nodes, max_depth=10\n",
      "[16:26:51] src/tree/updater_prune.cc:74: tree pruning end, 1 roots, 270 extra nodes, 0 pruned nodes, max_depth=10\n",
      "[16:26:51] src/tree/updater_prune.cc:74: tree pruning end, 1 roots, 314 extra nodes, 0 pruned nodes, max_depth=10\n",
      "[16:26:51] src/tree/updater_prune.cc:74: tree pruning end, 1 roots, 262 extra nodes, 0 pruned nodes, max_depth=10\n",
      "[16:26:51] src/tree/updater_prune.cc:74: tree pruning end, 1 roots, 178 extra nodes, 0 pruned nodes, max_depth=10\n",
      "[16:26:51] src/tree/updater_prune.cc:74: tree pruning end, 1 roots, 250 extra nodes, 0 pruned nodes, max_depth=10\n",
      "[16:26:52] src/tree/updater_prune.cc:74: tree pruning end, 1 roots, 286 extra nodes, 0 pruned nodes, max_depth=10\n",
      "[16:26:52] src/tree/updater_prune.cc:74: tree pruning end, 1 roots, 216 extra nodes, 0 pruned nodes, max_depth=10\n",
      "[16:26:52] src/tree/updater_prune.cc:74: tree pruning end, 1 roots, 178 extra nodes, 0 pruned nodes, max_depth=10\n",
      "[16:26:52] src/tree/updater_prune.cc:74: tree pruning end, 1 roots, 254 extra nodes, 0 pruned nodes, max_depth=10\n",
      "[16:26:52] src/tree/updater_prune.cc:74: tree pruning end, 1 roots, 348 extra nodes, 0 pruned nodes, max_depth=10\n",
      "[16:26:52] src/tree/updater_prune.cc:74: tree pruning end, 1 roots, 190 extra nodes, 0 pruned nodes, max_depth=10\n",
      "[16:26:53] src/tree/updater_prune.cc:74: tree pruning end, 1 roots, 180 extra nodes, 0 pruned nodes, max_depth=10\n",
      "[16:26:53] src/tree/updater_prune.cc:74: tree pruning end, 1 roots, 238 extra nodes, 0 pruned nodes, max_depth=10\n",
      "[16:26:53] src/tree/updater_prune.cc:74: tree pruning end, 1 roots, 188 extra nodes, 0 pruned nodes, max_depth=10\n",
      "[16:26:53] src/tree/updater_prune.cc:74: tree pruning end, 1 roots, 176 extra nodes, 0 pruned nodes, max_depth=10\n",
      "[16:26:53] src/tree/updater_prune.cc:74: tree pruning end, 1 roots, 306 extra nodes, 0 pruned nodes, max_depth=10\n",
      "[16:26:54] src/tree/updater_prune.cc:74: tree pruning end, 1 roots, 204 extra nodes, 0 pruned nodes, max_depth=10\n",
      "[16:26:54] src/tree/updater_prune.cc:74: tree pruning end, 1 roots, 220 extra nodes, 0 pruned nodes, max_depth=10\n"
     ]
    },
    {
     "name": "stdout",
     "output_type": "stream",
     "text": [
      "[16:26:54] src/tree/updater_prune.cc:74: tree pruning end, 1 roots, 220 extra nodes, 0 pruned nodes, max_depth=10\n",
      "[16:26:54] src/tree/updater_prune.cc:74: tree pruning end, 1 roots, 378 extra nodes, 0 pruned nodes, max_depth=10\n",
      "[16:26:54] src/tree/updater_prune.cc:74: tree pruning end, 1 roots, 198 extra nodes, 0 pruned nodes, max_depth=10\n",
      "[16:26:55] src/tree/updater_prune.cc:74: tree pruning end, 1 roots, 268 extra nodes, 0 pruned nodes, max_depth=10\n",
      "[16:26:55] src/tree/updater_prune.cc:74: tree pruning end, 1 roots, 238 extra nodes, 0 pruned nodes, max_depth=10\n",
      "[16:26:55] src/tree/updater_prune.cc:74: tree pruning end, 1 roots, 260 extra nodes, 0 pruned nodes, max_depth=10\n",
      "[16:26:55] src/tree/updater_prune.cc:74: tree pruning end, 1 roots, 248 extra nodes, 0 pruned nodes, max_depth=10\n",
      "[16:26:56] src/tree/updater_prune.cc:74: tree pruning end, 1 roots, 290 extra nodes, 0 pruned nodes, max_depth=10\n",
      "[16:26:56] src/tree/updater_prune.cc:74: tree pruning end, 1 roots, 194 extra nodes, 0 pruned nodes, max_depth=10\n",
      "[16:26:56] src/tree/updater_prune.cc:74: tree pruning end, 1 roots, 388 extra nodes, 0 pruned nodes, max_depth=10\n",
      "[16:26:56] src/tree/updater_prune.cc:74: tree pruning end, 1 roots, 184 extra nodes, 0 pruned nodes, max_depth=10\n",
      "[16:26:56] src/tree/updater_prune.cc:74: tree pruning end, 1 roots, 290 extra nodes, 0 pruned nodes, max_depth=10\n",
      "[16:26:57] src/tree/updater_prune.cc:74: tree pruning end, 1 roots, 286 extra nodes, 0 pruned nodes, max_depth=10\n",
      "[16:26:57] src/tree/updater_prune.cc:74: tree pruning end, 1 roots, 170 extra nodes, 0 pruned nodes, max_depth=10\n",
      "[16:26:57] src/tree/updater_prune.cc:74: tree pruning end, 1 roots, 262 extra nodes, 0 pruned nodes, max_depth=10\n",
      "[16:26:57] src/tree/updater_prune.cc:74: tree pruning end, 1 roots, 304 extra nodes, 0 pruned nodes, max_depth=10\n",
      "[16:26:57] src/tree/updater_prune.cc:74: tree pruning end, 1 roots, 204 extra nodes, 0 pruned nodes, max_depth=10\n",
      "[16:26:57] src/tree/updater_prune.cc:74: tree pruning end, 1 roots, 204 extra nodes, 0 pruned nodes, max_depth=10\n",
      "[16:26:58] src/tree/updater_prune.cc:74: tree pruning end, 1 roots, 216 extra nodes, 0 pruned nodes, max_depth=10\n",
      "[16:26:58] src/tree/updater_prune.cc:74: tree pruning end, 1 roots, 270 extra nodes, 0 pruned nodes, max_depth=10\n",
      "[16:26:58] src/tree/updater_prune.cc:74: tree pruning end, 1 roots, 314 extra nodes, 0 pruned nodes, max_depth=10\n",
      "[16:26:58] src/tree/updater_prune.cc:74: tree pruning end, 1 roots, 190 extra nodes, 0 pruned nodes, max_depth=10\n",
      "[16:26:58] src/tree/updater_prune.cc:74: tree pruning end, 1 roots, 178 extra nodes, 0 pruned nodes, max_depth=10\n",
      "[16:26:59] src/tree/updater_prune.cc:74: tree pruning end, 1 roots, 250 extra nodes, 0 pruned nodes, max_depth=10\n",
      "[16:26:59] src/tree/updater_prune.cc:74: tree pruning end, 1 roots, 188 extra nodes, 0 pruned nodes, max_depth=10\n",
      "[16:26:59] src/tree/updater_prune.cc:74: tree pruning end, 1 roots, 286 extra nodes, 0 pruned nodes, max_depth=10\n",
      "[16:26:59] src/tree/updater_prune.cc:74: tree pruning end, 1 roots, 178 extra nodes, 0 pruned nodes, max_depth=10\n",
      "[16:26:59] src/tree/updater_prune.cc:74: tree pruning end, 1 roots, 254 extra nodes, 0 pruned nodes, max_depth=10\n",
      "[16:27:00] src/tree/updater_prune.cc:74: tree pruning end, 1 roots, 220 extra nodes, 0 pruned nodes, max_depth=10\n",
      "[16:27:00] src/tree/updater_prune.cc:74: tree pruning end, 1 roots, 348 extra nodes, 0 pruned nodes, max_depth=10\n",
      "[16:27:00] src/tree/updater_prune.cc:74: tree pruning end, 1 roots, 128 extra nodes, 0 pruned nodes, max_depth=10\n",
      "[16:27:00] src/tree/updater_prune.cc:74: tree pruning end, 1 roots, 180 extra nodes, 0 pruned nodes, max_depth=10\n",
      "[16:27:00] src/tree/updater_prune.cc:74: tree pruning end, 1 roots, 224 extra nodes, 0 pruned nodes, max_depth=10\n",
      "[16:27:00] src/tree/updater_prune.cc:74: tree pruning end, 1 roots, 238 extra nodes, 0 pruned nodes, max_depth=10\n",
      "[16:27:00] src/tree/updater_prune.cc:74: tree pruning end, 1 roots, 204 extra nodes, 0 pruned nodes, max_depth=10\n",
      "[16:27:01] src/tree/updater_prune.cc:74: tree pruning end, 1 roots, 176 extra nodes, 0 pruned nodes, max_depth=10\n",
      "[16:27:01] src/tree/updater_prune.cc:74: tree pruning end, 1 roots, 220 extra nodes, 0 pruned nodes, max_depth=10\n",
      "[16:27:01] src/tree/updater_prune.cc:74: tree pruning end, 1 roots, 204 extra nodes, 0 pruned nodes, max_depth=10\n",
      "[16:27:01] src/tree/updater_prune.cc:74: tree pruning end, 1 roots, 220 extra nodes, 0 pruned nodes, max_depth=10\n",
      "[16:27:02] src/tree/updater_prune.cc:74: tree pruning end, 1 roots, 198 extra nodes, 0 pruned nodes, max_depth=10\n",
      "[16:27:02] src/tree/updater_prune.cc:74: tree pruning end, 1 roots, 268 extra nodes, 0 pruned nodes, max_depth=10\n",
      "[16:27:02] src/tree/updater_prune.cc:74: tree pruning end, 1 roots, 306 extra nodes, 0 pruned nodes, max_depth=10\n",
      "[16:27:02] src/tree/updater_prune.cc:74: tree pruning end, 1 roots, 238 extra nodes, 0 pruned nodes, max_depth=10\n",
      "[16:27:02] src/tree/updater_prune.cc:74: tree pruning end, 1 roots, 260 extra nodes, 0 pruned nodes, max_depth=10\n",
      "[16:27:03] src/tree/updater_prune.cc:74: tree pruning end, 1 roots, 214 extra nodes, 0 pruned nodes, max_depth=10\n",
      "[16:27:03] src/tree/updater_prune.cc:74: tree pruning end, 1 roots, 378 extra nodes, 0 pruned nodes, max_depth=10\n",
      "[16:27:03] src/tree/updater_prune.cc:74: tree pruning end, 1 roots, 194 extra nodes, 0 pruned nodes, max_depth=10\n",
      "[16:27:03] src/tree/updater_prune.cc:74: tree pruning end, 1 roots, 388 extra nodes, 0 pruned nodes, max_depth=10\n",
      "[16:27:03] src/tree/updater_prune.cc:74: tree pruning end, 1 roots, 268 extra nodes, 0 pruned nodes, max_depth=10\n",
      "[16:27:04] src/tree/updater_prune.cc:74: tree pruning end, 1 roots, 350 extra nodes, 0 pruned nodes, max_depth=10\n",
      "[16:27:04] src/tree/updater_prune.cc:74: tree pruning end, 1 roots, 286 extra nodes, 0 pruned nodes, max_depth=10\n",
      "[16:27:04] src/tree/updater_prune.cc:74: tree pruning end, 1 roots, 248 extra nodes, 0 pruned nodes, max_depth=10\n",
      "[16:27:04] src/tree/updater_prune.cc:74: tree pruning end, 1 roots, 290 extra nodes, 0 pruned nodes, max_depth=10\n",
      "[16:27:04] src/tree/updater_prune.cc:74: tree pruning end, 1 roots, 248 extra nodes, 0 pruned nodes, max_depth=10\n",
      "[16:27:04] src/tree/updater_prune.cc:74: tree pruning end, 1 roots, 204 extra nodes, 0 pruned nodes, max_depth=10\n",
      "[16:27:05] src/tree/updater_prune.cc:74: tree pruning end, 1 roots, 184 extra nodes, 0 pruned nodes, max_depth=10\n",
      "[16:27:05] src/tree/updater_prune.cc:74: tree pruning end, 1 roots, 290 extra nodes, 0 pruned nodes, max_depth=10\n",
      "[16:27:05] src/tree/updater_prune.cc:74: tree pruning end, 1 roots, 270 extra nodes, 0 pruned nodes, max_depth=10\n",
      "[16:27:05] src/tree/updater_prune.cc:74: tree pruning end, 1 roots, 170 extra nodes, 0 pruned nodes, max_depth=10\n",
      "[16:27:05] src/tree/updater_prune.cc:74: tree pruning end, 1 roots, 262 extra nodes, 0 pruned nodes, max_depth=10\n",
      "[16:27:06] src/tree/updater_prune.cc:74: tree pruning end, 1 roots, 178 extra nodes, 0 pruned nodes, max_depth=10\n",
      "[16:27:06] src/tree/updater_prune.cc:74: tree pruning end, 1 roots, 304 extra nodes, 0 pruned nodes, max_depth=10\n",
      "[16:27:06] src/tree/updater_prune.cc:74: tree pruning end, 1 roots, 204 extra nodes, 0 pruned nodes, max_depth=10\n",
      "[16:27:06] src/tree/updater_prune.cc:74: tree pruning end, 1 roots, 216 extra nodes, 0 pruned nodes, max_depth=10\n",
      "[16:27:06] src/tree/updater_prune.cc:74: tree pruning end, 1 roots, 178 extra nodes, 0 pruned nodes, max_depth=10\n",
      "[16:27:07] src/tree/updater_prune.cc:74: tree pruning end, 1 roots, 314 extra nodes, 0 pruned nodes, max_depth=10\n",
      "[16:27:07] src/tree/updater_prune.cc:74: tree pruning end, 1 roots, 228 extra nodes, 0 pruned nodes, max_depth=10\n",
      "[16:27:07] src/tree/updater_prune.cc:74: tree pruning end, 1 roots, 190 extra nodes, 0 pruned nodes, max_depth=10\n",
      "[16:27:07] src/tree/updater_prune.cc:74: tree pruning end, 1 roots, 128 extra nodes, 0 pruned nodes, max_depth=10\n",
      "[16:27:07] src/tree/updater_prune.cc:74: tree pruning end, 1 roots, 250 extra nodes, 0 pruned nodes, max_depth=10\n",
      "[16:27:07] src/tree/updater_prune.cc:74: tree pruning end, 1 roots, 216 extra nodes, 0 pruned nodes, max_depth=10\n",
      "[16:27:07] src/tree/updater_prune.cc:74: tree pruning end, 1 roots, 188 extra nodes, 0 pruned nodes, max_depth=10\n"
     ]
    },
    {
     "name": "stdout",
     "output_type": "stream",
     "text": [
      "[16:27:08] src/tree/updater_prune.cc:74: tree pruning end, 1 roots, 204 extra nodes, 0 pruned nodes, max_depth=10\n",
      "[16:27:08] src/tree/updater_prune.cc:74: tree pruning end, 1 roots, 254 extra nodes, 0 pruned nodes, max_depth=10\n",
      "[16:27:08] src/tree/updater_prune.cc:74: tree pruning end, 1 roots, 220 extra nodes, 0 pruned nodes, max_depth=10\n",
      "[16:27:08] src/tree/updater_prune.cc:74: tree pruning end, 1 roots, 246 extra nodes, 0 pruned nodes, max_depth=10\n",
      "[16:27:09] src/tree/updater_prune.cc:74: tree pruning end, 1 roots, 180 extra nodes, 0 pruned nodes, max_depth=10\n",
      "[16:27:09] src/tree/updater_prune.cc:74: tree pruning end, 1 roots, 224 extra nodes, 0 pruned nodes, max_depth=10\n",
      "[16:27:09] src/tree/updater_prune.cc:74: tree pruning end, 1 roots, 286 extra nodes, 0 pruned nodes, max_depth=10\n",
      "[16:27:09] src/tree/updater_prune.cc:74: tree pruning end, 1 roots, 200 extra nodes, 0 pruned nodes, max_depth=10\n",
      "[16:27:09] src/tree/updater_prune.cc:74: tree pruning end, 1 roots, 176 extra nodes, 0 pruned nodes, max_depth=10\n",
      "[16:27:09] src/tree/updater_prune.cc:74: tree pruning end, 1 roots, 220 extra nodes, 0 pruned nodes, max_depth=10\n",
      "[16:27:10] src/tree/updater_prune.cc:74: tree pruning end, 1 roots, 348 extra nodes, 0 pruned nodes, max_depth=10\n",
      "[16:27:10] src/tree/updater_prune.cc:74: tree pruning end, 1 roots, 220 extra nodes, 0 pruned nodes, max_depth=10\n",
      "[16:27:10] src/tree/updater_prune.cc:74: tree pruning end, 1 roots, 204 extra nodes, 0 pruned nodes, max_depth=10\n",
      "[16:27:10] src/tree/updater_prune.cc:74: tree pruning end, 1 roots, 238 extra nodes, 0 pruned nodes, max_depth=10\n",
      "[16:27:11] src/tree/updater_prune.cc:74: tree pruning end, 1 roots, 268 extra nodes, 0 pruned nodes, max_depth=10\n",
      "[16:27:11] src/tree/updater_prune.cc:74: tree pruning end, 1 roots, 306 extra nodes, 0 pruned nodes, max_depth=10\n",
      "[16:27:11] src/tree/updater_prune.cc:74: tree pruning end, 1 roots, 182 extra nodes, 0 pruned nodes, max_depth=10\n",
      "[16:27:11] src/tree/updater_prune.cc:74: tree pruning end, 1 roots, 204 extra nodes, 0 pruned nodes, max_depth=10\n",
      "[16:27:11] src/tree/updater_prune.cc:74: tree pruning end, 1 roots, 214 extra nodes, 0 pruned nodes, max_depth=10\n",
      "[16:27:11] src/tree/updater_prune.cc:74: tree pruning end, 1 roots, 378 extra nodes, 0 pruned nodes, max_depth=10\n",
      "[16:27:12] src/tree/updater_prune.cc:74: tree pruning end, 1 roots, 198 extra nodes, 0 pruned nodes, max_depth=10\n",
      "[16:27:12] src/tree/updater_prune.cc:74: tree pruning end, 1 roots, 280 extra nodes, 0 pruned nodes, max_depth=10\n",
      "[16:27:12] src/tree/updater_prune.cc:74: tree pruning end, 1 roots, 268 extra nodes, 0 pruned nodes, max_depth=10\n",
      "[16:27:12] src/tree/updater_prune.cc:74: tree pruning end, 1 roots, 238 extra nodes, 0 pruned nodes, max_depth=10\n",
      "[16:27:12] src/tree/updater_prune.cc:74: tree pruning end, 1 roots, 230 extra nodes, 0 pruned nodes, max_depth=10\n",
      "[16:27:13] src/tree/updater_prune.cc:74: tree pruning end, 1 roots, 248 extra nodes, 0 pruned nodes, max_depth=10\n",
      "[16:27:13] src/tree/updater_prune.cc:74: tree pruning end, 1 roots, 282 extra nodes, 0 pruned nodes, max_depth=10\n",
      "[16:27:13] src/tree/updater_prune.cc:74: tree pruning end, 1 roots, 194 extra nodes, 0 pruned nodes, max_depth=10\n",
      "[16:27:13] src/tree/updater_prune.cc:74: tree pruning end, 1 roots, 184 extra nodes, 0 pruned nodes, max_depth=10\n",
      "[16:27:13] src/tree/updater_prune.cc:74: tree pruning end, 1 roots, 350 extra nodes, 0 pruned nodes, max_depth=10\n",
      "[16:27:14] src/tree/updater_prune.cc:74: tree pruning end, 1 roots, 256 extra nodes, 0 pruned nodes, max_depth=10\n",
      "[16:27:14] src/tree/updater_prune.cc:74: tree pruning end, 1 roots, 170 extra nodes, 0 pruned nodes, max_depth=10\n",
      "[16:27:14] src/tree/updater_prune.cc:74: tree pruning end, 1 roots, 262 extra nodes, 0 pruned nodes, max_depth=10\n",
      "[16:27:14] src/tree/updater_prune.cc:74: tree pruning end, 1 roots, 248 extra nodes, 0 pruned nodes, max_depth=10\n",
      "[16:27:14] src/tree/updater_prune.cc:74: tree pruning end, 1 roots, 204 extra nodes, 0 pruned nodes, max_depth=10\n",
      "[16:27:15] src/tree/updater_prune.cc:74: tree pruning end, 1 roots, 270 extra nodes, 0 pruned nodes, max_depth=10\n",
      "[16:27:15] src/tree/updater_prune.cc:74: tree pruning end, 1 roots, 228 extra nodes, 0 pruned nodes, max_depth=10\n",
      "[16:27:15] src/tree/updater_prune.cc:74: tree pruning end, 1 roots, 256 extra nodes, 0 pruned nodes, max_depth=10\n",
      "[16:27:16] src/tree/updater_prune.cc:74: tree pruning end, 1 roots, 158 extra nodes, 0 pruned nodes, max_depth=10\n",
      "[16:27:16] src/tree/updater_prune.cc:74: tree pruning end, 1 roots, 264 extra nodes, 0 pruned nodes, max_depth=10\n",
      "[16:27:16] src/tree/updater_prune.cc:74: tree pruning end, 1 roots, 216 extra nodes, 0 pruned nodes, max_depth=10\n",
      "[16:27:16] src/tree/updater_prune.cc:74: tree pruning end, 1 roots, 276 extra nodes, 0 pruned nodes, max_depth=10\n",
      "[16:27:17] src/tree/updater_prune.cc:74: tree pruning end, 1 roots, 230 extra nodes, 0 pruned nodes, max_depth=10\n",
      "[16:27:17] src/tree/updater_prune.cc:74: tree pruning end, 1 roots, 190 extra nodes, 0 pruned nodes, max_depth=10\n",
      "[16:27:17] src/tree/updater_prune.cc:74: tree pruning end, 1 roots, 256 extra nodes, 0 pruned nodes, max_depth=10\n",
      "[16:27:17] src/tree/updater_prune.cc:74: tree pruning end, 1 roots, 262 extra nodes, 0 pruned nodes, max_depth=10\n",
      "[16:27:17] src/tree/updater_prune.cc:74: tree pruning end, 1 roots, 354 extra nodes, 0 pruned nodes, max_depth=10\n",
      "[16:27:18] src/tree/updater_prune.cc:74: tree pruning end, 1 roots, 252 extra nodes, 0 pruned nodes, max_depth=10\n",
      "[16:27:18] src/tree/updater_prune.cc:74: tree pruning end, 1 roots, 282 extra nodes, 0 pruned nodes, max_depth=10\n",
      "[16:27:18] src/tree/updater_prune.cc:74: tree pruning end, 1 roots, 220 extra nodes, 0 pruned nodes, max_depth=10\n",
      "[16:27:18] src/tree/updater_prune.cc:74: tree pruning end, 1 roots, 270 extra nodes, 0 pruned nodes, max_depth=10\n",
      "[16:27:19] src/tree/updater_prune.cc:74: tree pruning end, 1 roots, 212 extra nodes, 0 pruned nodes, max_depth=10\n",
      "[16:27:19] src/tree/updater_prune.cc:74: tree pruning end, 1 roots, 256 extra nodes, 0 pruned nodes, max_depth=10\n",
      "[16:27:20] src/tree/updater_prune.cc:74: tree pruning end, 1 roots, 256 extra nodes, 0 pruned nodes, max_depth=10\n",
      "[16:27:20] src/tree/updater_prune.cc:74: tree pruning end, 1 roots, 264 extra nodes, 0 pruned nodes, max_depth=10\n",
      "[16:27:21] src/tree/updater_prune.cc:74: tree pruning end, 1 roots, 230 extra nodes, 0 pruned nodes, max_depth=10\n",
      "[16:27:21] src/tree/updater_prune.cc:74: tree pruning end, 1 roots, 254 extra nodes, 0 pruned nodes, max_depth=10\n",
      "[16:27:21] src/tree/updater_prune.cc:74: tree pruning end, 1 roots, 256 extra nodes, 0 pruned nodes, max_depth=10\n",
      "[16:27:21] src/tree/updater_prune.cc:74: tree pruning end, 1 roots, 344 extra nodes, 0 pruned nodes, max_depth=10\n",
      "[16:27:22] src/tree/updater_prune.cc:74: tree pruning end, 1 roots, 252 extra nodes, 0 pruned nodes, max_depth=10\n",
      "[16:27:22] src/tree/updater_prune.cc:74: tree pruning end, 1 roots, 354 extra nodes, 0 pruned nodes, max_depth=10\n",
      "[16:27:22] src/tree/updater_prune.cc:74: tree pruning end, 1 roots, 264 extra nodes, 0 pruned nodes, max_depth=10\n",
      "[16:27:22] src/tree/updater_prune.cc:74: tree pruning end, 1 roots, 220 extra nodes, 0 pruned nodes, max_depth=10\n",
      "[16:27:22] src/tree/updater_prune.cc:74: tree pruning end, 1 roots, 270 extra nodes, 0 pruned nodes, max_depth=10\n",
      "[16:27:22] src/tree/updater_prune.cc:74: tree pruning end, 1 roots, 262 extra nodes, 0 pruned nodes, max_depth=10\n",
      "[16:27:23] src/tree/updater_prune.cc:74: tree pruning end, 1 roots, 240 extra nodes, 0 pruned nodes, max_depth=10\n",
      "[16:27:23] src/tree/updater_prune.cc:74: tree pruning end, 1 roots, 216 extra nodes, 0 pruned nodes, max_depth=10\n",
      "[16:27:23] src/tree/updater_prune.cc:74: tree pruning end, 1 roots, 282 extra nodes, 0 pruned nodes, max_depth=10\n",
      "[16:27:23] src/tree/updater_prune.cc:74: tree pruning end, 1 roots, 256 extra nodes, 0 pruned nodes, max_depth=10\n",
      "[16:27:23] src/tree/updater_prune.cc:74: tree pruning end, 1 roots, 200 extra nodes, 0 pruned nodes, max_depth=10\n",
      "[16:27:24] src/tree/updater_prune.cc:74: tree pruning end, 1 roots, 190 extra nodes, 0 pruned nodes, max_depth=10\n",
      "[16:27:24] src/tree/updater_prune.cc:74: tree pruning end, 1 roots, 212 extra nodes, 0 pruned nodes, max_depth=10\n"
     ]
    },
    {
     "name": "stdout",
     "output_type": "stream",
     "text": [
      "[16:27:24] src/tree/updater_prune.cc:74: tree pruning end, 1 roots, 256 extra nodes, 0 pruned nodes, max_depth=10\n",
      "[16:27:24] src/tree/updater_prune.cc:74: tree pruning end, 1 roots, 188 extra nodes, 0 pruned nodes, max_depth=10\n",
      "[16:27:25] src/tree/updater_prune.cc:74: tree pruning end, 1 roots, 254 extra nodes, 0 pruned nodes, max_depth=10\n",
      "[16:27:25] src/tree/updater_prune.cc:74: tree pruning end, 1 roots, 162 extra nodes, 0 pruned nodes, max_depth=10\n",
      "[16:27:25] src/tree/updater_prune.cc:74: tree pruning end, 1 roots, 264 extra nodes, 0 pruned nodes, max_depth=10\n",
      "[16:27:25] src/tree/updater_prune.cc:74: tree pruning end, 1 roots, 230 extra nodes, 0 pruned nodes, max_depth=10\n",
      "[16:27:25] src/tree/updater_prune.cc:74: tree pruning end, 1 roots, 216 extra nodes, 0 pruned nodes, max_depth=10\n",
      "[16:27:26] src/tree/updater_prune.cc:74: tree pruning end, 1 roots, 344 extra nodes, 0 pruned nodes, max_depth=10\n",
      "[16:27:26] src/tree/updater_prune.cc:74: tree pruning end, 1 roots, 354 extra nodes, 0 pruned nodes, max_depth=10\n",
      "[16:27:26] src/tree/updater_prune.cc:74: tree pruning end, 1 roots, 122 extra nodes, 0 pruned nodes, max_depth=10\n",
      "[16:27:26] src/tree/updater_prune.cc:74: tree pruning end, 1 roots, 264 extra nodes, 0 pruned nodes, max_depth=10\n",
      "[16:27:26] src/tree/updater_prune.cc:74: tree pruning end, 1 roots, 220 extra nodes, 0 pruned nodes, max_depth=10\n",
      "[16:27:26] src/tree/updater_prune.cc:74: tree pruning end, 1 roots, 256 extra nodes, 0 pruned nodes, max_depth=10\n",
      "[16:27:27] src/tree/updater_prune.cc:74: tree pruning end, 1 roots, 196 extra nodes, 0 pruned nodes, max_depth=10\n",
      "[16:27:27] src/tree/updater_prune.cc:74: tree pruning end, 1 roots, 240 extra nodes, 0 pruned nodes, max_depth=10\n",
      "[16:27:27] src/tree/updater_prune.cc:74: tree pruning end, 1 roots, 252 extra nodes, 0 pruned nodes, max_depth=10\n",
      "[16:27:27] src/tree/updater_prune.cc:74: tree pruning end, 1 roots, 262 extra nodes, 0 pruned nodes, max_depth=10\n",
      "[16:27:28] src/tree/updater_prune.cc:74: tree pruning end, 1 roots, 138 extra nodes, 0 pruned nodes, max_depth=10\n",
      "[16:27:28] src/tree/updater_prune.cc:74: tree pruning end, 1 roots, 200 extra nodes, 0 pruned nodes, max_depth=10\n",
      "[16:27:28] src/tree/updater_prune.cc:74: tree pruning end, 1 roots, 270 extra nodes, 0 pruned nodes, max_depth=10\n",
      "[16:27:28] src/tree/updater_prune.cc:74: tree pruning end, 1 roots, 282 extra nodes, 0 pruned nodes, max_depth=10\n",
      "[16:27:28] src/tree/updater_prune.cc:74: tree pruning end, 1 roots, 180 extra nodes, 0 pruned nodes, max_depth=10\n",
      "[16:27:28] src/tree/updater_prune.cc:74: tree pruning end, 1 roots, 216 extra nodes, 0 pruned nodes, max_depth=10\n",
      "[16:27:29] src/tree/updater_prune.cc:74: tree pruning end, 1 roots, 212 extra nodes, 0 pruned nodes, max_depth=10\n",
      "[16:27:29] src/tree/updater_prune.cc:74: tree pruning end, 1 roots, 220 extra nodes, 0 pruned nodes, max_depth=10\n",
      "[16:27:29] src/tree/updater_prune.cc:74: tree pruning end, 1 roots, 256 extra nodes, 0 pruned nodes, max_depth=10\n",
      "[16:27:29] src/tree/updater_prune.cc:74: tree pruning end, 1 roots, 190 extra nodes, 0 pruned nodes, max_depth=10\n",
      "[16:27:29] src/tree/updater_prune.cc:74: tree pruning end, 1 roots, 188 extra nodes, 0 pruned nodes, max_depth=10\n",
      "[16:27:30] src/tree/updater_prune.cc:74: tree pruning end, 1 roots, 162 extra nodes, 0 pruned nodes, max_depth=10\n",
      "[16:27:30] src/tree/updater_prune.cc:74: tree pruning end, 1 roots, 256 extra nodes, 0 pruned nodes, max_depth=10\n",
      "[16:27:30] src/tree/updater_prune.cc:74: tree pruning end, 1 roots, 162 extra nodes, 0 pruned nodes, max_depth=10\n",
      "[16:27:30] src/tree/updater_prune.cc:74: tree pruning end, 1 roots, 202 extra nodes, 0 pruned nodes, max_depth=10\n",
      "[16:27:30] src/tree/updater_prune.cc:74: tree pruning end, 1 roots, 254 extra nodes, 0 pruned nodes, max_depth=10\n",
      "[16:27:31] src/tree/updater_prune.cc:74: tree pruning end, 1 roots, 264 extra nodes, 0 pruned nodes, max_depth=10\n",
      "[16:27:31] src/tree/updater_prune.cc:74: tree pruning end, 1 roots, 184 extra nodes, 0 pruned nodes, max_depth=10\n",
      "[16:27:31] src/tree/updater_prune.cc:74: tree pruning end, 1 roots, 216 extra nodes, 0 pruned nodes, max_depth=10\n",
      "[16:27:31] src/tree/updater_prune.cc:74: tree pruning end, 1 roots, 344 extra nodes, 0 pruned nodes, max_depth=10\n",
      "[16:27:31] src/tree/updater_prune.cc:74: tree pruning end, 1 roots, 128 extra nodes, 0 pruned nodes, max_depth=10\n",
      "[16:27:32] src/tree/updater_prune.cc:74: tree pruning end, 1 roots, 122 extra nodes, 0 pruned nodes, max_depth=10\n",
      "[16:27:32] src/tree/updater_prune.cc:74: tree pruning end, 1 roots, 264 extra nodes, 0 pruned nodes, max_depth=10\n",
      "[16:27:32] src/tree/updater_prune.cc:74: tree pruning end, 1 roots, 230 extra nodes, 0 pruned nodes, max_depth=10\n",
      "[16:27:32] src/tree/updater_prune.cc:74: tree pruning end, 1 roots, 176 extra nodes, 0 pruned nodes, max_depth=10\n",
      "[16:27:32] src/tree/updater_prune.cc:74: tree pruning end, 1 roots, 196 extra nodes, 0 pruned nodes, max_depth=10\n",
      "[16:27:33] src/tree/updater_prune.cc:74: tree pruning end, 1 roots, 354 extra nodes, 0 pruned nodes, max_depth=10\n",
      "[16:27:33] src/tree/updater_prune.cc:74: tree pruning end, 1 roots, 256 extra nodes, 0 pruned nodes, max_depth=10\n",
      "[16:27:33] src/tree/updater_prune.cc:74: tree pruning end, 1 roots, 180 extra nodes, 0 pruned nodes, max_depth=10\n",
      "[16:27:33] src/tree/updater_prune.cc:74: tree pruning end, 1 roots, 138 extra nodes, 0 pruned nodes, max_depth=10\n",
      "[16:27:33] src/tree/updater_prune.cc:74: tree pruning end, 1 roots, 220 extra nodes, 0 pruned nodes, max_depth=10\n",
      "[16:27:33] src/tree/updater_prune.cc:74: tree pruning end, 1 roots, 252 extra nodes, 0 pruned nodes, max_depth=10\n",
      "[16:27:34] src/tree/updater_prune.cc:74: tree pruning end, 1 roots, 216 extra nodes, 0 pruned nodes, max_depth=10\n",
      "[16:27:34] src/tree/updater_prune.cc:74: tree pruning end, 1 roots, 240 extra nodes, 0 pruned nodes, max_depth=10\n",
      "[16:27:34] src/tree/updater_prune.cc:74: tree pruning end, 1 roots, 270 extra nodes, 0 pruned nodes, max_depth=10\n",
      "[16:27:34] src/tree/updater_prune.cc:74: tree pruning end, 1 roots, 80 extra nodes, 0 pruned nodes, max_depth=10\n",
      "[16:27:34] src/tree/updater_prune.cc:74: tree pruning end, 1 roots, 200 extra nodes, 0 pruned nodes, max_depth=10\n",
      "[16:27:35] src/tree/updater_prune.cc:74: tree pruning end, 1 roots, 262 extra nodes, 0 pruned nodes, max_depth=10\n",
      "[16:27:35] src/tree/updater_prune.cc:74: tree pruning end, 1 roots, 216 extra nodes, 0 pruned nodes, max_depth=10\n",
      "[16:27:35] src/tree/updater_prune.cc:74: tree pruning end, 1 roots, 180 extra nodes, 0 pruned nodes, max_depth=10\n",
      "[16:27:35] src/tree/updater_prune.cc:74: tree pruning end, 1 roots, 282 extra nodes, 0 pruned nodes, max_depth=10\n",
      "[16:27:35] src/tree/updater_prune.cc:74: tree pruning end, 1 roots, 190 extra nodes, 0 pruned nodes, max_depth=10\n",
      "[16:27:36] src/tree/updater_prune.cc:74: tree pruning end, 1 roots, 220 extra nodes, 0 pruned nodes, max_depth=10\n",
      "[16:27:36] src/tree/updater_prune.cc:74: tree pruning end, 1 roots, 256 extra nodes, 0 pruned nodes, max_depth=10\n",
      "[16:27:36] src/tree/updater_prune.cc:74: tree pruning end, 1 roots, 212 extra nodes, 0 pruned nodes, max_depth=10\n",
      "[16:27:36] src/tree/updater_prune.cc:74: tree pruning end, 1 roots, 162 extra nodes, 0 pruned nodes, max_depth=10\n",
      "[16:27:36] src/tree/updater_prune.cc:74: tree pruning end, 1 roots, 206 extra nodes, 0 pruned nodes, max_depth=10\n",
      "[16:27:37] src/tree/updater_prune.cc:74: tree pruning end, 1 roots, 256 extra nodes, 0 pruned nodes, max_depth=10\n",
      "[16:27:37] src/tree/updater_prune.cc:74: tree pruning end, 1 roots, 188 extra nodes, 0 pruned nodes, max_depth=10\n",
      "[16:27:37] src/tree/updater_prune.cc:74: tree pruning end, 1 roots, 202 extra nodes, 0 pruned nodes, max_depth=10\n",
      "[16:27:37] src/tree/updater_prune.cc:74: tree pruning end, 1 roots, 90 extra nodes, 0 pruned nodes, max_depth=10\n",
      "[16:27:37] src/tree/updater_prune.cc:74: tree pruning end, 1 roots, 162 extra nodes, 0 pruned nodes, max_depth=10\n",
      "[16:27:37] src/tree/updater_prune.cc:74: tree pruning end, 1 roots, 254 extra nodes, 0 pruned nodes, max_depth=10\n",
      "[16:27:37] src/tree/updater_prune.cc:74: tree pruning end, 1 roots, 110 extra nodes, 0 pruned nodes, max_depth=10\n",
      "[16:27:38] src/tree/updater_prune.cc:74: tree pruning end, 1 roots, 184 extra nodes, 0 pruned nodes, max_depth=10\n"
     ]
    },
    {
     "name": "stdout",
     "output_type": "stream",
     "text": [
      "[16:27:38] src/tree/updater_prune.cc:74: tree pruning end, 1 roots, 216 extra nodes, 0 pruned nodes, max_depth=10\n",
      "[16:27:38] src/tree/updater_prune.cc:74: tree pruning end, 1 roots, 234 extra nodes, 0 pruned nodes, max_depth=10\n",
      "[16:27:39] src/tree/updater_prune.cc:74: tree pruning end, 1 roots, 128 extra nodes, 0 pruned nodes, max_depth=10\n",
      "[16:27:39] src/tree/updater_prune.cc:74: tree pruning end, 1 roots, 122 extra nodes, 0 pruned nodes, max_depth=10\n",
      "[16:27:39] src/tree/updater_prune.cc:74: tree pruning end, 1 roots, 264 extra nodes, 0 pruned nodes, max_depth=10\n",
      "[16:27:39] src/tree/updater_prune.cc:74: tree pruning end, 1 roots, 166 extra nodes, 0 pruned nodes, max_depth=10\n",
      "[16:27:39] src/tree/updater_prune.cc:74: tree pruning end, 1 roots, 176 extra nodes, 0 pruned nodes, max_depth=10\n",
      "[16:27:39] src/tree/updater_prune.cc:74: tree pruning end, 1 roots, 344 extra nodes, 0 pruned nodes, max_depth=10\n",
      "[16:27:40] src/tree/updater_prune.cc:74: tree pruning end, 1 roots, 230 extra nodes, 0 pruned nodes, max_depth=10\n",
      "[16:27:40] src/tree/updater_prune.cc:74: tree pruning end, 1 roots, 146 extra nodes, 0 pruned nodes, max_depth=10\n",
      "[16:27:40] src/tree/updater_prune.cc:74: tree pruning end, 1 roots, 180 extra nodes, 0 pruned nodes, max_depth=10\n",
      "[16:27:40] src/tree/updater_prune.cc:74: tree pruning end, 1 roots, 264 extra nodes, 0 pruned nodes, max_depth=10\n",
      "[16:27:40] src/tree/updater_prune.cc:74: tree pruning end, 1 roots, 354 extra nodes, 0 pruned nodes, max_depth=10\n",
      "[16:27:41] src/tree/updater_prune.cc:74: tree pruning end, 1 roots, 168 extra nodes, 0 pruned nodes, max_depth=10\n",
      "[16:27:41] src/tree/updater_prune.cc:74: tree pruning end, 1 roots, 196 extra nodes, 0 pruned nodes, max_depth=10\n",
      "[16:27:41] src/tree/updater_prune.cc:74: tree pruning end, 1 roots, 220 extra nodes, 0 pruned nodes, max_depth=10\n",
      "[16:27:41] src/tree/updater_prune.cc:74: tree pruning end, 1 roots, 172 extra nodes, 0 pruned nodes, max_depth=10\n",
      "[16:27:41] src/tree/updater_prune.cc:74: tree pruning end, 1 roots, 138 extra nodes, 0 pruned nodes, max_depth=10\n",
      "[16:27:41] src/tree/updater_prune.cc:74: tree pruning end, 1 roots, 256 extra nodes, 0 pruned nodes, max_depth=10\n",
      "[16:27:42] src/tree/updater_prune.cc:74: tree pruning end, 1 roots, 240 extra nodes, 0 pruned nodes, max_depth=10\n",
      "[16:27:42] src/tree/updater_prune.cc:74: tree pruning end, 1 roots, 216 extra nodes, 0 pruned nodes, max_depth=10\n",
      "[16:27:42] src/tree/updater_prune.cc:74: tree pruning end, 1 roots, 252 extra nodes, 0 pruned nodes, max_depth=10\n",
      "[16:27:42] src/tree/updater_prune.cc:74: tree pruning end, 1 roots, 200 extra nodes, 0 pruned nodes, max_depth=10\n",
      "[16:27:43] src/tree/updater_prune.cc:74: tree pruning end, 1 roots, 80 extra nodes, 0 pruned nodes, max_depth=10\n",
      "[16:27:43] src/tree/updater_prune.cc:74: tree pruning end, 1 roots, 270 extra nodes, 0 pruned nodes, max_depth=10\n",
      "[16:27:43] src/tree/updater_prune.cc:74: tree pruning end, 1 roots, 262 extra nodes, 0 pruned nodes, max_depth=10\n",
      "[16:27:43] src/tree/updater_prune.cc:74: tree pruning end, 1 roots, 180 extra nodes, 0 pruned nodes, max_depth=10\n",
      "[16:27:43] src/tree/updater_prune.cc:74: tree pruning end, 1 roots, 182 extra nodes, 0 pruned nodes, max_depth=10\n",
      "[16:27:43] src/tree/updater_prune.cc:74: tree pruning end, 1 roots, 216 extra nodes, 0 pruned nodes, max_depth=10\n",
      "[16:27:44] src/tree/updater_prune.cc:74: tree pruning end, 1 roots, 282 extra nodes, 0 pruned nodes, max_depth=10\n",
      "[16:27:44] src/tree/updater_prune.cc:74: tree pruning end, 1 roots, 220 extra nodes, 0 pruned nodes, max_depth=10\n",
      "[16:27:44] src/tree/updater_prune.cc:74: tree pruning end, 1 roots, 152 extra nodes, 0 pruned nodes, max_depth=10\n",
      "[16:27:44] src/tree/updater_prune.cc:74: tree pruning end, 1 roots, 190 extra nodes, 0 pruned nodes, max_depth=10\n",
      "[16:27:44] src/tree/updater_prune.cc:74: tree pruning end, 1 roots, 212 extra nodes, 0 pruned nodes, max_depth=10\n",
      "[16:27:44] src/tree/updater_prune.cc:74: tree pruning end, 1 roots, 206 extra nodes, 0 pruned nodes, max_depth=10\n",
      "[16:27:45] src/tree/updater_prune.cc:74: tree pruning end, 1 roots, 162 extra nodes, 0 pruned nodes, max_depth=10\n",
      "[16:27:45] src/tree/updater_prune.cc:74: tree pruning end, 1 roots, 188 extra nodes, 0 pruned nodes, max_depth=10\n",
      "[16:27:45] src/tree/updater_prune.cc:74: tree pruning end, 1 roots, 90 extra nodes, 0 pruned nodes, max_depth=10\n",
      "[16:27:45] src/tree/updater_prune.cc:74: tree pruning end, 1 roots, 202 extra nodes, 0 pruned nodes, max_depth=10\n",
      "[16:27:45] src/tree/updater_prune.cc:74: tree pruning end, 1 roots, 256 extra nodes, 0 pruned nodes, max_depth=10\n",
      "[16:27:45] src/tree/updater_prune.cc:74: tree pruning end, 1 roots, 162 extra nodes, 0 pruned nodes, max_depth=10\n",
      "[16:27:46] src/tree/updater_prune.cc:74: tree pruning end, 1 roots, 116 extra nodes, 0 pruned nodes, max_depth=10\n",
      "[16:27:46] src/tree/updater_prune.cc:74: tree pruning end, 1 roots, 110 extra nodes, 0 pruned nodes, max_depth=10\n",
      "[16:27:46] src/tree/updater_prune.cc:74: tree pruning end, 1 roots, 256 extra nodes, 0 pruned nodes, max_depth=10\n",
      "[16:27:46] src/tree/updater_prune.cc:74: tree pruning end, 1 roots, 184 extra nodes, 0 pruned nodes, max_depth=10\n",
      "[16:27:46] src/tree/updater_prune.cc:74: tree pruning end, 1 roots, 238 extra nodes, 0 pruned nodes, max_depth=10\n",
      "[16:27:47] src/tree/updater_prune.cc:74: tree pruning end, 1 roots, 234 extra nodes, 0 pruned nodes, max_depth=10\n",
      "[16:27:47] src/tree/updater_prune.cc:74: tree pruning end, 1 roots, 128 extra nodes, 0 pruned nodes, max_depth=10\n",
      "[16:27:47] src/tree/updater_prune.cc:74: tree pruning end, 1 roots, 254 extra nodes, 0 pruned nodes, max_depth=10\n",
      "[16:27:47] src/tree/updater_prune.cc:74: tree pruning end, 1 roots, 188 extra nodes, 0 pruned nodes, max_depth=10\n",
      "[16:27:47] src/tree/updater_prune.cc:74: tree pruning end, 1 roots, 166 extra nodes, 0 pruned nodes, max_depth=10\n",
      "[16:27:47] src/tree/updater_prune.cc:74: tree pruning end, 1 roots, 216 extra nodes, 0 pruned nodes, max_depth=10\n",
      "[16:27:48] src/tree/updater_prune.cc:74: tree pruning end, 1 roots, 264 extra nodes, 0 pruned nodes, max_depth=10\n",
      "[16:27:48] src/tree/updater_prune.cc:74: tree pruning end, 1 roots, 146 extra nodes, 0 pruned nodes, max_depth=10\n",
      "[16:27:48] src/tree/updater_prune.cc:74: tree pruning end, 1 roots, 122 extra nodes, 0 pruned nodes, max_depth=10\n",
      "[16:27:48] src/tree/updater_prune.cc:74: tree pruning end, 1 roots, 202 extra nodes, 0 pruned nodes, max_depth=10\n",
      "[16:27:48] src/tree/updater_prune.cc:74: tree pruning end, 1 roots, 344 extra nodes, 0 pruned nodes, max_depth=10\n",
      "[16:27:49] src/tree/updater_prune.cc:74: tree pruning end, 1 roots, 234 extra nodes, 0 pruned nodes, max_depth=10\n",
      "[16:27:49] src/tree/updater_prune.cc:74: tree pruning end, 1 roots, 176 extra nodes, 0 pruned nodes, max_depth=10\n",
      "[16:27:49] src/tree/updater_prune.cc:74: tree pruning end, 1 roots, 264 extra nodes, 0 pruned nodes, max_depth=10\n",
      "[16:27:49] src/tree/updater_prune.cc:74: tree pruning end, 1 roots, 232 extra nodes, 0 pruned nodes, max_depth=10\n",
      "[16:27:49] src/tree/updater_prune.cc:74: tree pruning end, 1 roots, 180 extra nodes, 0 pruned nodes, max_depth=10\n",
      "[16:27:50] src/tree/updater_prune.cc:74: tree pruning end, 1 roots, 196 extra nodes, 0 pruned nodes, max_depth=10\n",
      "[16:27:50] src/tree/updater_prune.cc:74: tree pruning end, 1 roots, 168 extra nodes, 0 pruned nodes, max_depth=10\n",
      "[16:27:50] src/tree/updater_prune.cc:74: tree pruning end, 1 roots, 138 extra nodes, 0 pruned nodes, max_depth=10\n",
      "[16:27:50] src/tree/updater_prune.cc:74: tree pruning end, 1 roots, 172 extra nodes, 0 pruned nodes, max_depth=10\n",
      "[16:27:50] src/tree/updater_prune.cc:74: tree pruning end, 1 roots, 216 extra nodes, 0 pruned nodes, max_depth=10\n",
      "[16:27:50] src/tree/updater_prune.cc:74: tree pruning end, 1 roots, 168 extra nodes, 0 pruned nodes, max_depth=10\n",
      "[16:27:51] src/tree/updater_prune.cc:74: tree pruning end, 1 roots, 80 extra nodes, 0 pruned nodes, max_depth=10\n",
      "[16:27:51] src/tree/updater_prune.cc:74: tree pruning end, 1 roots, 168 extra nodes, 0 pruned nodes, max_depth=10\n",
      "[16:27:51] src/tree/updater_prune.cc:74: tree pruning end, 1 roots, 182 extra nodes, 0 pruned nodes, max_depth=10\n",
      "[16:27:51] src/tree/updater_prune.cc:74: tree pruning end, 1 roots, 152 extra nodes, 0 pruned nodes, max_depth=10\n"
     ]
    },
    {
     "name": "stdout",
     "output_type": "stream",
     "text": [
      "[16:27:52] src/tree/updater_prune.cc:74: tree pruning end, 1 roots, 172 extra nodes, 0 pruned nodes, max_depth=10\n",
      "[16:27:52] src/tree/updater_prune.cc:74: tree pruning end, 1 roots, 162 extra nodes, 0 pruned nodes, max_depth=10\n"
     ]
    },
    {
     "name": "stderr",
     "output_type": "stream",
     "text": [
      "[Parallel(n_jobs=4)]: Done 120 out of 120 | elapsed:  2.6min finished\n"
     ]
    },
    {
     "name": "stdout",
     "output_type": "stream",
     "text": [
      "[16:27:53] src/tree/updater_prune.cc:74: tree pruning end, 1 roots, 278 extra nodes, 0 pruned nodes, max_depth=10\n",
      "[16:27:54] src/tree/updater_prune.cc:74: tree pruning end, 1 roots, 382 extra nodes, 0 pruned nodes, max_depth=10\n",
      "[16:27:54] src/tree/updater_prune.cc:74: tree pruning end, 1 roots, 236 extra nodes, 0 pruned nodes, max_depth=10\n",
      "[16:27:54] src/tree/updater_prune.cc:74: tree pruning end, 1 roots, 244 extra nodes, 0 pruned nodes, max_depth=10\n",
      "[16:27:55] src/tree/updater_prune.cc:74: tree pruning end, 1 roots, 174 extra nodes, 0 pruned nodes, max_depth=10\n"
     ]
    },
    {
     "data": {
      "text/plain": [
       "GridSearchCV(cv=5, error_score='raise',\n",
       "       estimator=XGBClassifier(base_score=0.5, booster='gbtree', colsample_bylevel=1,\n",
       "       colsample_bytree=0.8, cv=5, eval_metric='logloss', gamma=0,\n",
       "       learning_rate=0.9, max_delta_step=0, max_depth=10,\n",
       "       min_child_weight=1, missing=None, n_estimators=100, n_jobs=1,\n",
       "       nthread=None, objective='binary:logistic', random_state=0,\n",
       "       reg_alpha=0, reg_lambda=1, scale_pos_weight=1, seed=0, silent=0,\n",
       "       subsample=0.8),\n",
       "       fit_params=None, iid=True, n_jobs=4,\n",
       "       param_grid={'n_estimators': range(1, 12, 2), 'min_child_weight': range(1, 8, 2)},\n",
       "       pre_dispatch='2*n_jobs', refit=True, return_train_score='warn',\n",
       "       scoring='neg_log_loss', verbose=1)"
      ]
     },
     "execution_count": 308,
     "metadata": {},
     "output_type": "execute_result"
    }
   ],
   "source": [
    "# Create the object.\n",
    "clf_xgb2 = xgb.XGBClassifier(**other_params2)\n",
    "grid_obj2 = GridSearchCV(estimator=clf_xgb2, \n",
    "                         param_grid=cv_params2, \n",
    "                         scoring='neg_log_loss', cv=5, verbose=1, n_jobs=4)\n",
    "\n",
    "# Fit the data\n",
    "grid_obj2.fit(x_train, y_train)  # 使用网格搜索训练模型，找到包含最佳参数的对象grid_fit"
   ]
  },
  {
   "cell_type": "code",
   "execution_count": 309,
   "metadata": {},
   "outputs": [
    {
     "name": "stdout",
     "output_type": "stream",
     "text": [
      "参数的最佳取值：{'min_child_weight': 7, 'n_estimators': 5}\n",
      "最佳模型得分:0.20034056311779624\n"
     ]
    }
   ],
   "source": [
    "print('参数的最佳取值：{0}'.format(grid_obj2.best_params_))\n",
    "print('最佳模型得分:{0}'.format(abs(grid_obj2.best_score_)))"
   ]
  },
  {
   "cell_type": "markdown",
   "metadata": {},
   "source": [
    "##### 7.2.4 XGBoost模型gamma参数调优"
   ]
  },
  {
   "cell_type": "code",
   "execution_count": 310,
   "metadata": {},
   "outputs": [],
   "source": [
    "# 要调优参数\n",
    "cv_params3 = {'gamma':[0.1, 0.2, 0.3, 0.4, 0.5, 0.6]}  # 要调优的参数"
   ]
  },
  {
   "cell_type": "code",
   "execution_count": 311,
   "metadata": {},
   "outputs": [],
   "source": [
    "# 参数初始化\n",
    "other_params3 = {'objective':'binary:logistic', 'eval_metric':'logloss',\n",
    "                 'max_depth':10,  # 已经调优\n",
    "                 'learning_rate':0.9,  # 已经调优\n",
    "                 'min_child_weight':7,  # 已经调优\n",
    "                 'n_estimators':5,  # 已经调优\n",
    "                 'silent':0, \n",
    "                 'cv':5,\n",
    "                 'seed': 0,\n",
    "                 'subsample': 0.8,\n",
    "                 'colsample_bytree': 0.8,\n",
    "                 'reg_alpha': 0,\n",
    "                 'reg_lambda': 1}"
   ]
  },
  {
   "cell_type": "code",
   "execution_count": 312,
   "metadata": {},
   "outputs": [
    {
     "name": "stdout",
     "output_type": "stream",
     "text": [
      "Fitting 5 folds for each of 6 candidates, totalling 30 fits\n",
      "[16:30:59] src/tree/updater_prune.cc:74: tree pruning end, 1 roots, 230 extra nodes, 0 pruned nodes, max_depth=10\n",
      "[16:30:59] src/tree/updater_prune.cc:74: tree pruning end, 1 roots, 256 extra nodes, 0 pruned nodes, max_depth=10\n",
      "[16:31:00] src/tree/updater_prune.cc:74: tree pruning end, 1 roots, 252 extra nodes, 4 pruned nodes, max_depth=10\n",
      "[16:31:00] src/tree/updater_prune.cc:74: tree pruning end, 1 roots, 260 extra nodes, 2 pruned nodes, max_depth=10\n",
      "[16:31:00] src/tree/updater_prune.cc:74: tree pruning end, 1 roots, 250 extra nodes, 2 pruned nodes, max_depth=10\n",
      "[16:31:00] src/tree/updater_prune.cc:74: tree pruning end, 1 roots, 350 extra nodes, 4 pruned nodes, max_depth=10\n",
      "[16:31:01] src/tree/updater_prune.cc:74: tree pruning end, 1 roots, 256 extra nodes, 2 pruned nodes, max_depth=10\n",
      "[16:31:01] src/tree/updater_prune.cc:74: tree pruning end, 1 roots, 258 extra nodes, 4 pruned nodes, max_depth=10\n",
      "[16:31:01] src/tree/updater_prune.cc:74: tree pruning end, 1 roots, 268 extra nodes, 2 pruned nodes, max_depth=10\n",
      "[16:31:01] src/tree/updater_prune.cc:74: tree pruning end, 1 roots, 220 extra nodes, 2 pruned nodes, max_depth=10\n",
      "[16:31:01] src/tree/updater_prune.cc:74: tree pruning end, 1 roots, 254 extra nodes, 0 pruned nodes, max_depth=10\n",
      "[16:31:02] src/tree/updater_prune.cc:74: tree pruning end, 1 roots, 216 extra nodes, 2 pruned nodes, max_depth=10\n",
      "[16:31:02] src/tree/updater_prune.cc:74: tree pruning end, 1 roots, 212 extra nodes, 4 pruned nodes, max_depth=10\n",
      "[16:31:02] src/tree/updater_prune.cc:74: tree pruning end, 1 roots, 238 extra nodes, 2 pruned nodes, max_depth=10\n",
      "[16:31:02] src/tree/updater_prune.cc:74: tree pruning end, 1 roots, 214 extra nodes, 0 pruned nodes, max_depth=10\n",
      "[16:31:02] src/tree/updater_prune.cc:74: tree pruning end, 1 roots, 180 extra nodes, 6 pruned nodes, max_depth=10\n",
      "[16:31:02] src/tree/updater_prune.cc:74: tree pruning end, 1 roots, 208 extra nodes, 4 pruned nodes, max_depth=10\n",
      "[16:31:02] src/tree/updater_prune.cc:74: tree pruning end, 1 roots, 198 extra nodes, 0 pruned nodes, max_depth=10\n",
      "[16:31:03] src/tree/updater_prune.cc:74: tree pruning end, 1 roots, 102 extra nodes, 4 pruned nodes, max_depth=10\n",
      "[16:31:03] src/tree/updater_prune.cc:74: tree pruning end, 1 roots, 192 extra nodes, 0 pruned nodes, max_depth=10\n",
      "[16:31:04] src/tree/updater_prune.cc:74: tree pruning end, 1 roots, 264 extra nodes, 0 pruned nodes, max_depth=10\n",
      "[16:31:04] src/tree/updater_prune.cc:74: tree pruning end, 1 roots, 230 extra nodes, 0 pruned nodes, max_depth=10\n",
      "[16:31:04] src/tree/updater_prune.cc:74: tree pruning end, 1 roots, 256 extra nodes, 0 pruned nodes, max_depth=10\n",
      "[16:31:05] src/tree/updater_prune.cc:74: tree pruning end, 1 roots, 258 extra nodes, 4 pruned nodes, max_depth=10\n",
      "[16:31:05] src/tree/updater_prune.cc:74: tree pruning end, 1 roots, 340 extra nodes, 4 pruned nodes, max_depth=10\n",
      "[16:31:05] src/tree/updater_prune.cc:74: tree pruning end, 1 roots, 348 extra nodes, 6 pruned nodes, max_depth=10\n",
      "[16:31:05] src/tree/updater_prune.cc:74: tree pruning end, 1 roots, 246 extra nodes, 6 pruned nodes, max_depth=10\n",
      "[16:31:05] src/tree/updater_prune.cc:74: tree pruning end, 1 roots, 274 extra nodes, 8 pruned nodes, max_depth=10\n",
      "[16:31:05] src/tree/updater_prune.cc:74: tree pruning end, 1 roots, 262 extra nodes, 0 pruned nodes, max_depth=10\n",
      "[16:31:05] src/tree/updater_prune.cc:74: tree pruning end, 1 roots, 216 extra nodes, 6 pruned nodes, max_depth=10\n",
      "[16:31:06] src/tree/updater_prune.cc:74: tree pruning end, 1 roots, 268 extra nodes, 2 pruned nodes, max_depth=10\n",
      "[16:31:06] src/tree/updater_prune.cc:74: tree pruning end, 1 roots, 208 extra nodes, 4 pruned nodes, max_depth=10\n",
      "[16:31:06] src/tree/updater_prune.cc:74: tree pruning end, 1 roots, 192 extra nodes, 2 pruned nodes, max_depth=10\n",
      "[16:31:06] src/tree/updater_prune.cc:74: tree pruning end, 1 roots, 238 extra nodes, 4 pruned nodes, max_depth=10\n",
      "[16:31:07] src/tree/updater_prune.cc:74: tree pruning end, 1 roots, 206 extra nodes, 6 pruned nodes, max_depth=10\n",
      "[16:31:07] src/tree/updater_prune.cc:74: tree pruning end, 1 roots, 152 extra nodes, 0 pruned nodes, max_depth=10\n",
      "[16:31:07] src/tree/updater_prune.cc:74: tree pruning end, 1 roots, 190 extra nodes, 2 pruned nodes, max_depth=10\n",
      "[16:31:07] src/tree/updater_prune.cc:74: tree pruning end, 1 roots, 238 extra nodes, 2 pruned nodes, max_depth=10\n",
      "[16:31:07] src/tree/updater_prune.cc:74: tree pruning end, 1 roots, 170 extra nodes, 4 pruned nodes, max_depth=10\n",
      "[16:31:07] src/tree/updater_prune.cc:74: tree pruning end, 1 roots, 154 extra nodes, 4 pruned nodes, max_depth=10\n",
      "[16:31:08] src/tree/updater_prune.cc:74: tree pruning end, 1 roots, 252 extra nodes, 4 pruned nodes, max_depth=10\n",
      "[16:31:09] src/tree/updater_prune.cc:74: tree pruning end, 1 roots, 262 extra nodes, 2 pruned nodes, max_depth=10\n",
      "[16:31:09] src/tree/updater_prune.cc:74: tree pruning end, 1 roots, 230 extra nodes, 0 pruned nodes, max_depth=10\n",
      "[16:31:09] src/tree/updater_prune.cc:74: tree pruning end, 1 roots, 252 extra nodes, 6 pruned nodes, max_depth=10\n",
      "[16:31:09] src/tree/updater_prune.cc:74: tree pruning end, 1 roots, 254 extra nodes, 2 pruned nodes, max_depth=10\n",
      "[16:31:09] src/tree/updater_prune.cc:74: tree pruning end, 1 roots, 338 extra nodes, 6 pruned nodes, max_depth=10\n",
      "[16:31:10] src/tree/updater_prune.cc:74: tree pruning end, 1 roots, 344 extra nodes, 10 pruned nodes, max_depth=10\n",
      "[16:31:10] src/tree/updater_prune.cc:74: tree pruning end, 1 roots, 244 extra nodes, 8 pruned nodes, max_depth=10\n",
      "[16:31:10] src/tree/updater_prune.cc:74: tree pruning end, 1 roots, 250 extra nodes, 4 pruned nodes, max_depth=10\n",
      "[16:31:10] src/tree/updater_prune.cc:74: tree pruning end, 1 roots, 234 extra nodes, 4 pruned nodes, max_depth=10\n",
      "[16:31:10] src/tree/updater_prune.cc:74: tree pruning end, 1 roots, 212 extra nodes, 10 pruned nodes, max_depth=10\n",
      "[16:31:10] src/tree/updater_prune.cc:74: tree pruning end, 1 roots, 272 extra nodes, 8 pruned nodes, max_depth=10\n",
      "[16:31:11] src/tree/updater_prune.cc:74: tree pruning end, 1 roots, 206 extra nodes, 0 pruned nodes, max_depth=10\n",
      "[16:31:11] src/tree/updater_prune.cc:74: tree pruning end, 1 roots, 196 extra nodes, 2 pruned nodes, max_depth=10\n",
      "[16:31:11] src/tree/updater_prune.cc:74: tree pruning end, 1 roots, 236 extra nodes, 4 pruned nodes, max_depth=10\n",
      "[16:31:11] src/tree/updater_prune.cc:74: tree pruning end, 1 roots, 130 extra nodes, 2 pruned nodes, max_depth=10\n",
      "[16:31:11] src/tree/updater_prune.cc:74: tree pruning end, 1 roots, 190 extra nodes, 0 pruned nodes, max_depth=10\n",
      "[16:31:11] src/tree/updater_prune.cc:74: tree pruning end, 1 roots, 112 extra nodes, 0 pruned nodes, max_depth=10\n",
      "[16:31:12] src/tree/updater_prune.cc:74: tree pruning end, 1 roots, 240 extra nodes, 2 pruned nodes, max_depth=10\n",
      "[16:31:12] src/tree/updater_prune.cc:74: tree pruning end, 1 roots, 174 extra nodes, 10 pruned nodes, max_depth=10\n",
      "[16:31:13] src/tree/updater_prune.cc:74: tree pruning end, 1 roots, 256 extra nodes, 6 pruned nodes, max_depth=10\n",
      "[16:31:13] src/tree/updater_prune.cc:74: tree pruning end, 1 roots, 252 extra nodes, 4 pruned nodes, max_depth=10\n",
      "[16:31:13] src/tree/updater_prune.cc:74: tree pruning end, 1 roots, 260 extra nodes, 4 pruned nodes, max_depth=10\n",
      "[16:31:13] src/tree/updater_prune.cc:74: tree pruning end, 1 roots, 230 extra nodes, 0 pruned nodes, max_depth=10\n",
      "[16:31:14] src/tree/updater_prune.cc:74: tree pruning end, 1 roots, 272 extra nodes, 10 pruned nodes, max_depth=10\n",
      "[16:31:14] src/tree/updater_prune.cc:74: tree pruning end, 1 roots, 246 extra nodes, 12 pruned nodes, max_depth=10\n",
      "[16:31:14] src/tree/updater_prune.cc:74: tree pruning end, 1 roots, 336 extra nodes, 8 pruned nodes, max_depth=10\n",
      "[16:31:14] src/tree/updater_prune.cc:74: tree pruning end, 1 roots, 206 extra nodes, 6 pruned nodes, max_depth=10\n",
      "[16:31:14] src/tree/updater_prune.cc:74: tree pruning end, 1 roots, 342 extra nodes, 12 pruned nodes, max_depth=10\n",
      "[16:31:14] src/tree/updater_prune.cc:74: tree pruning end, 1 roots, 250 extra nodes, 4 pruned nodes, max_depth=10\n",
      "[16:31:15] src/tree/updater_prune.cc:74: tree pruning end, 1 roots, 230 extra nodes, 8 pruned nodes, max_depth=10\n",
      "[16:31:15] src/tree/updater_prune.cc:74: tree pruning end, 1 roots, 210 extra nodes, 12 pruned nodes, max_depth=10\n"
     ]
    },
    {
     "name": "stdout",
     "output_type": "stream",
     "text": [
      "[16:31:15] src/tree/updater_prune.cc:74: tree pruning end, 1 roots, 192 extra nodes, 2 pruned nodes, max_depth=10\n",
      "[16:31:15] src/tree/updater_prune.cc:74: tree pruning end, 1 roots, 192 extra nodes, 10 pruned nodes, max_depth=10\n",
      "[16:31:16] src/tree/updater_prune.cc:74: tree pruning end, 1 roots, 162 extra nodes, 4 pruned nodes, max_depth=10\n",
      "[16:31:16] src/tree/updater_prune.cc:74: tree pruning end, 1 roots, 234 extra nodes, 6 pruned nodes, max_depth=10\n",
      "[16:31:16] src/tree/updater_prune.cc:74: tree pruning end, 1 roots, 194 extra nodes, 6 pruned nodes, max_depth=10\n",
      "[16:31:16] src/tree/updater_prune.cc:74: tree pruning end, 1 roots, 128 extra nodes, 2 pruned nodes, max_depth=10\n",
      "[16:31:16] src/tree/updater_prune.cc:74: tree pruning end, 1 roots, 170 extra nodes, 2 pruned nodes, max_depth=10\n",
      "[16:31:16] src/tree/updater_prune.cc:74: tree pruning end, 1 roots, 196 extra nodes, 2 pruned nodes, max_depth=10\n",
      "[16:31:17] src/tree/updater_prune.cc:74: tree pruning end, 1 roots, 250 extra nodes, 6 pruned nodes, max_depth=10\n",
      "[16:31:17] src/tree/updater_prune.cc:74: tree pruning end, 1 roots, 250 extra nodes, 12 pruned nodes, max_depth=10\n",
      "[16:31:18] src/tree/updater_prune.cc:74: tree pruning end, 1 roots, 252 extra nodes, 4 pruned nodes, max_depth=10\n",
      "[16:31:18] src/tree/updater_prune.cc:74: tree pruning end, 1 roots, 242 extra nodes, 10 pruned nodes, max_depth=10\n",
      "[16:31:18] src/tree/updater_prune.cc:74: tree pruning end, 1 roots, 258 extra nodes, 6 pruned nodes, max_depth=10\n",
      "[16:31:18] src/tree/updater_prune.cc:74: tree pruning end, 1 roots, 236 extra nodes, 10 pruned nodes, max_depth=10\n",
      "[16:31:18] src/tree/updater_prune.cc:74: tree pruning end, 1 roots, 244 extra nodes, 14 pruned nodes, max_depth=10\n",
      "[16:31:19] src/tree/updater_prune.cc:74: tree pruning end, 1 roots, 240 extra nodes, 10 pruned nodes, max_depth=10\n",
      "[16:31:19] src/tree/updater_prune.cc:74: tree pruning end, 1 roots, 336 extra nodes, 8 pruned nodes, max_depth=10\n",
      "[16:31:19] src/tree/updater_prune.cc:74: tree pruning end, 1 roots, 216 extra nodes, 6 pruned nodes, max_depth=10\n",
      "[16:31:19] src/tree/updater_prune.cc:74: tree pruning end, 1 roots, 246 extra nodes, 8 pruned nodes, max_depth=10\n",
      "[16:31:19] src/tree/updater_prune.cc:74: tree pruning end, 1 roots, 190 extra nodes, 6 pruned nodes, max_depth=10\n",
      "[16:31:19] src/tree/updater_prune.cc:74: tree pruning end, 1 roots, 234 extra nodes, 8 pruned nodes, max_depth=10\n",
      "[16:31:20] src/tree/updater_prune.cc:74: tree pruning end, 1 roots, 206 extra nodes, 6 pruned nodes, max_depth=10\n",
      "[16:31:20] src/tree/updater_prune.cc:74: tree pruning end, 1 roots, 160 extra nodes, 2 pruned nodes, max_depth=10\n",
      "[16:31:20] src/tree/updater_prune.cc:74: tree pruning end, 1 roots, 192 extra nodes, 12 pruned nodes, max_depth=10\n",
      "[16:31:20] src/tree/updater_prune.cc:74: tree pruning end, 1 roots, 188 extra nodes, 6 pruned nodes, max_depth=10\n",
      "[16:31:20] src/tree/updater_prune.cc:74: tree pruning end, 1 roots, 192 extra nodes, 0 pruned nodes, max_depth=10\n",
      "[16:31:21] src/tree/updater_prune.cc:74: tree pruning end, 1 roots, 124 extra nodes, 2 pruned nodes, max_depth=10\n",
      "[16:31:21] src/tree/updater_prune.cc:74: tree pruning end, 1 roots, 158 extra nodes, 2 pruned nodes, max_depth=10\n",
      "[16:31:22] src/tree/updater_prune.cc:74: tree pruning end, 1 roots, 230 extra nodes, 0 pruned nodes, max_depth=10\n",
      "[16:31:22] src/tree/updater_prune.cc:74: tree pruning end, 1 roots, 250 extra nodes, 6 pruned nodes, max_depth=10\n",
      "[16:31:22] src/tree/updater_prune.cc:74: tree pruning end, 1 roots, 250 extra nodes, 12 pruned nodes, max_depth=10\n",
      "[16:31:22] src/tree/updater_prune.cc:74: tree pruning end, 1 roots, 250 extra nodes, 6 pruned nodes, max_depth=10\n",
      "[16:31:22] src/tree/updater_prune.cc:74: tree pruning end, 1 roots, 338 extra nodes, 16 pruned nodes, max_depth=10\n",
      "[16:31:22] src/tree/updater_prune.cc:74: tree pruning end, 1 roots, 242 extra nodes, 10 pruned nodes, max_depth=10\n",
      "[16:31:23] src/tree/updater_prune.cc:74: tree pruning end, 1 roots, 234 extra nodes, 12 pruned nodes, max_depth=10\n",
      "[16:31:23] src/tree/updater_prune.cc:74: tree pruning end, 1 roots, 242 extra nodes, 16 pruned nodes, max_depth=10\n",
      "[16:31:23] src/tree/updater_prune.cc:74: tree pruning end, 1 roots, 208 extra nodes, 14 pruned nodes, max_depth=10\n",
      "[16:31:23] src/tree/updater_prune.cc:74: tree pruning end, 1 roots, 240 extra nodes, 10 pruned nodes, max_depth=10\n",
      "[16:31:24] src/tree/updater_prune.cc:74: tree pruning end, 1 roots, 214 extra nodes, 8 pruned nodes, max_depth=10\n",
      "[16:31:24] src/tree/updater_prune.cc:74: tree pruning end, 1 roots, 246 extra nodes, 6 pruned nodes, max_depth=10\n",
      "[16:31:24] src/tree/updater_prune.cc:74: tree pruning end, 1 roots, 224 extra nodes, 16 pruned nodes, max_depth=10\n",
      "[16:31:24] src/tree/updater_prune.cc:74: tree pruning end, 1 roots, 190 extra nodes, 6 pruned nodes, max_depth=10\n",
      "[16:31:24] src/tree/updater_prune.cc:74: tree pruning end, 1 roots, 206 extra nodes, 6 pruned nodes, max_depth=10\n",
      "[16:31:24] src/tree/updater_prune.cc:74: tree pruning end, 1 roots, 204 extra nodes, 2 pruned nodes, max_depth=10\n",
      "[16:31:24] src/tree/updater_prune.cc:74: tree pruning end, 1 roots, 190 extra nodes, 8 pruned nodes, max_depth=10\n",
      "[16:31:24] src/tree/updater_prune.cc:74: tree pruning end, 1 roots, 160 extra nodes, 2 pruned nodes, max_depth=10\n",
      "[16:31:25] src/tree/updater_prune.cc:74: tree pruning end, 1 roots, 182 extra nodes, 0 pruned nodes, max_depth=10\n",
      "[16:31:25] src/tree/updater_prune.cc:74: tree pruning end, 1 roots, 122 extra nodes, 2 pruned nodes, max_depth=10\n",
      "[16:31:26] src/tree/updater_prune.cc:74: tree pruning end, 1 roots, 258 extra nodes, 6 pruned nodes, max_depth=10\n",
      "[16:31:26] src/tree/updater_prune.cc:74: tree pruning end, 1 roots, 230 extra nodes, 0 pruned nodes, max_depth=10\n",
      "[16:31:26] src/tree/updater_prune.cc:74: tree pruning end, 1 roots, 250 extra nodes, 6 pruned nodes, max_depth=10\n",
      "[16:31:26] src/tree/updater_prune.cc:74: tree pruning end, 1 roots, 334 extra nodes, 10 pruned nodes, max_depth=10\n",
      "[16:31:26] src/tree/updater_prune.cc:74: tree pruning end, 1 roots, 250 extra nodes, 12 pruned nodes, max_depth=10\n",
      "[16:31:27] src/tree/updater_prune.cc:74: tree pruning end, 1 roots, 336 extra nodes, 18 pruned nodes, max_depth=10\n",
      "[16:31:27] src/tree/updater_prune.cc:74: tree pruning end, 1 roots, 240 extra nodes, 12 pruned nodes, max_depth=10\n",
      "[16:31:27] src/tree/updater_prune.cc:74: tree pruning end, 1 roots, 232 extra nodes, 12 pruned nodes, max_depth=10\n",
      "[16:31:27] src/tree/updater_prune.cc:74: tree pruning end, 1 roots, 234 extra nodes, 12 pruned nodes, max_depth=10\n",
      "[16:31:27] src/tree/updater_prune.cc:74: tree pruning end, 1 roots, 208 extra nodes, 14 pruned nodes, max_depth=10\n",
      "[16:31:28] src/tree/updater_prune.cc:74: tree pruning end, 1 roots, 234 extra nodes, 16 pruned nodes, max_depth=10\n",
      "[16:31:28] src/tree/updater_prune.cc:74: tree pruning end, 1 roots, 184 extra nodes, 10 pruned nodes, max_depth=10\n",
      "[16:31:28] src/tree/updater_prune.cc:74: tree pruning end, 1 roots, 206 extra nodes, 16 pruned nodes, max_depth=10\n",
      "[16:31:28] src/tree/updater_prune.cc:74: tree pruning end, 1 roots, 224 extra nodes, 16 pruned nodes, max_depth=10\n",
      "[16:31:28] src/tree/updater_prune.cc:74: tree pruning end, 1 roots, 184 extra nodes, 6 pruned nodes, max_depth=10\n",
      "[16:31:28] src/tree/updater_prune.cc:74: tree pruning end, 1 roots, 180 extra nodes, 6 pruned nodes, max_depth=10\n",
      "[16:31:29] src/tree/updater_prune.cc:74: tree pruning end, 1 roots, 206 extra nodes, 8 pruned nodes, max_depth=10\n",
      "[16:31:29] src/tree/updater_prune.cc:74: tree pruning end, 1 roots, 202 extra nodes, 4 pruned nodes, max_depth=10\n",
      "[16:31:29] src/tree/updater_prune.cc:74: tree pruning end, 1 roots, 134 extra nodes, 4 pruned nodes, max_depth=10\n",
      "[16:31:29] src/tree/updater_prune.cc:74: tree pruning end, 1 roots, 182 extra nodes, 2 pruned nodes, max_depth=10\n",
      "[16:31:30] src/tree/updater_prune.cc:74: tree pruning end, 1 roots, 246 extra nodes, 10 pruned nodes, max_depth=10\n",
      "[16:31:30] src/tree/updater_prune.cc:74: tree pruning end, 1 roots, 258 extra nodes, 6 pruned nodes, max_depth=10\n",
      "[16:31:30] src/tree/updater_prune.cc:74: tree pruning end, 1 roots, 240 extra nodes, 18 pruned nodes, max_depth=10\n",
      "[16:31:30] src/tree/updater_prune.cc:74: tree pruning end, 1 roots, 334 extra nodes, 10 pruned nodes, max_depth=10\n"
     ]
    },
    {
     "name": "stdout",
     "output_type": "stream",
     "text": [
      "[16:31:30] src/tree/updater_prune.cc:74: tree pruning end, 1 roots, 248 extra nodes, 10 pruned nodes, max_depth=10\n",
      "[16:31:31] src/tree/updater_prune.cc:74: tree pruning end, 1 roots, 228 extra nodes, 16 pruned nodes, max_depth=10\n",
      "[16:31:31] src/tree/updater_prune.cc:74: tree pruning end, 1 roots, 192 extra nodes, 14 pruned nodes, max_depth=10\n",
      "[16:31:31] src/tree/updater_prune.cc:74: tree pruning end, 1 roots, 184 extra nodes, 10 pruned nodes, max_depth=10\n",
      "[16:31:31] src/tree/updater_prune.cc:74: tree pruning end, 1 roots, 106 extra nodes, 4 pruned nodes, max_depth=10\n",
      "[16:31:31] src/tree/updater_prune.cc:74: tree pruning end, 1 roots, 178 extra nodes, 8 pruned nodes, max_depth=10\n"
     ]
    },
    {
     "name": "stderr",
     "output_type": "stream",
     "text": [
      "[Parallel(n_jobs=4)]: Done  30 out of  30 | elapsed:   33.8s finished\n"
     ]
    },
    {
     "name": "stdout",
     "output_type": "stream",
     "text": [
      "[16:31:32] src/tree/updater_prune.cc:74: tree pruning end, 1 roots, 270 extra nodes, 8 pruned nodes, max_depth=10\n",
      "[16:31:33] src/tree/updater_prune.cc:74: tree pruning end, 1 roots, 370 extra nodes, 14 pruned nodes, max_depth=10\n",
      "[16:31:33] src/tree/updater_prune.cc:74: tree pruning end, 1 roots, 238 extra nodes, 14 pruned nodes, max_depth=10\n",
      "[16:31:34] src/tree/updater_prune.cc:74: tree pruning end, 1 roots, 244 extra nodes, 4 pruned nodes, max_depth=10\n",
      "[16:31:34] src/tree/updater_prune.cc:74: tree pruning end, 1 roots, 128 extra nodes, 4 pruned nodes, max_depth=10\n"
     ]
    },
    {
     "data": {
      "text/plain": [
       "GridSearchCV(cv=5, error_score='raise',\n",
       "       estimator=XGBClassifier(base_score=0.5, booster='gbtree', colsample_bylevel=1,\n",
       "       colsample_bytree=0.8, cv=5, eval_metric='logloss', gamma=0,\n",
       "       learning_rate=0.9, max_delta_step=0, max_depth=10,\n",
       "       min_child_weight=7, missing=None, n_estimators=5, n_jobs=1,\n",
       "       nthread=None, objective='binary:logistic', random_state=0,\n",
       "       reg_alpha=0, reg_lambda=1, scale_pos_weight=1, seed=0, silent=0,\n",
       "       subsample=0.8),\n",
       "       fit_params=None, iid=True, n_jobs=4,\n",
       "       param_grid={'gamma': [0.1, 0.2, 0.3, 0.4, 0.5, 0.6]},\n",
       "       pre_dispatch='2*n_jobs', refit=True, return_train_score='warn',\n",
       "       scoring='neg_log_loss', verbose=1)"
      ]
     },
     "execution_count": 312,
     "metadata": {},
     "output_type": "execute_result"
    }
   ],
   "source": [
    "# Create the object.\n",
    "clf_xgb3 = xgb.XGBClassifier(**other_params3)\n",
    "grid_obj3 = GridSearchCV(estimator=clf_xgb3, \n",
    "                         param_grid=cv_params3, \n",
    "                         scoring='neg_log_loss', \n",
    "                         cv=5, verbose=1, n_jobs=4)\n",
    "\n",
    "# Fit the data\n",
    "grid_obj3.fit(x_train, y_train)  # 使用网格搜索训练模型，找到包含最佳参数的对象grid_fit"
   ]
  },
  {
   "cell_type": "code",
   "execution_count": 313,
   "metadata": {},
   "outputs": [
    {
     "name": "stdout",
     "output_type": "stream",
     "text": [
      "参数的最佳取值：{'gamma': 0.4}\n",
      "最佳模型得分:0.20021738085782625\n"
     ]
    }
   ],
   "source": [
    "print('参数的最佳取值：{0}'.format(grid_obj3.best_params_))\n",
    "print('最佳模型得分:{0}'.format(abs(grid_obj3.best_score_)))"
   ]
  },
  {
   "cell_type": "markdown",
   "metadata": {},
   "source": [
    "##### 7.2.5 XGBoost模型subsample和colsample_bytree参数调优"
   ]
  },
  {
   "cell_type": "code",
   "execution_count": 314,
   "metadata": {},
   "outputs": [],
   "source": [
    "# 要调优参数\n",
    "cv_params4 = {'subsample':[0.6, 0.7, 0.8, 0.9], \n",
    "              'colsample_bytree':[0.6, 0.7, 0.8, 0.9]}  # 要调优的参数"
   ]
  },
  {
   "cell_type": "code",
   "execution_count": 315,
   "metadata": {},
   "outputs": [],
   "source": [
    "# 参数初始化\n",
    "other_params4 = {'objective':'binary:logistic', 'eval_metric':'logloss',\n",
    "                 'max_depth':10,  # 已经调优\n",
    "                 'learning_rate':0.9,  # 已经调优\n",
    "                 'min_child_weight': 7,  # 已经调优\n",
    "                 'n_estimators': 5,  # 已经调优\n",
    "                 'gamma':0.4,  # 已经调优\n",
    "                 'silent':0, \n",
    "                 'cv':5,\n",
    "                 'seed': 0,\n",
    "                 'reg_alpha': 0,\n",
    "                 'reg_lambda': 1}"
   ]
  },
  {
   "cell_type": "code",
   "execution_count": 316,
   "metadata": {},
   "outputs": [
    {
     "name": "stdout",
     "output_type": "stream",
     "text": [
      "Fitting 5 folds for each of 16 candidates, totalling 80 fits\n",
      "[16:33:17] src/tree/updater_prune.cc:74: tree pruning end, 1 roots, 234 extra nodes, 2 pruned nodes, max_depth=10\n",
      "[16:33:17] src/tree/updater_prune.cc:74: tree pruning end, 1 roots, 208 extra nodes, 2 pruned nodes, max_depth=10\n",
      "[16:33:17] src/tree/updater_prune.cc:74: tree pruning end, 1 roots, 210 extra nodes, 0 pruned nodes, max_depth=10\n",
      "[16:33:17] src/tree/updater_prune.cc:74: tree pruning end, 1 roots, 194 extra nodes, 2 pruned nodes, max_depth=10\n",
      "[16:33:18] src/tree/updater_prune.cc:74: tree pruning end, 1 roots, 244 extra nodes, 12 pruned nodes, max_depth=10\n",
      "[16:33:18] src/tree/updater_prune.cc:74: tree pruning end, 1 roots, 276 extra nodes, 14 pruned nodes, max_depth=10\n",
      "[16:33:18] src/tree/updater_prune.cc:74: tree pruning end, 1 roots, 284 extra nodes, 4 pruned nodes, max_depth=10\n",
      "[16:33:18] src/tree/updater_prune.cc:74: tree pruning end, 1 roots, 316 extra nodes, 12 pruned nodes, max_depth=10\n",
      "[16:33:18] src/tree/updater_prune.cc:74: tree pruning end, 1 roots, 232 extra nodes, 0 pruned nodes, max_depth=10\n",
      "[16:33:18] src/tree/updater_prune.cc:74: tree pruning end, 1 roots, 226 extra nodes, 12 pruned nodes, max_depth=10\n",
      "[16:33:18] src/tree/updater_prune.cc:74: tree pruning end, 1 roots, 246 extra nodes, 4 pruned nodes, max_depth=10\n",
      "[16:33:19] src/tree/updater_prune.cc:74: tree pruning end, 1 roots, 178 extra nodes, 12 pruned nodes, max_depth=10\n",
      "[16:33:19] src/tree/updater_prune.cc:74: tree pruning end, 1 roots, 176 extra nodes, 14 pruned nodes, max_depth=10\n",
      "[16:33:19] src/tree/updater_prune.cc:74: tree pruning end, 1 roots, 174 extra nodes, 6 pruned nodes, max_depth=10\n",
      "[16:33:19] src/tree/updater_prune.cc:74: tree pruning end, 1 roots, 228 extra nodes, 8 pruned nodes, max_depth=10\n",
      "[16:33:19] src/tree/updater_prune.cc:74: tree pruning end, 1 roots, 194 extra nodes, 4 pruned nodes, max_depth=10\n",
      "[16:33:20] src/tree/updater_prune.cc:74: tree pruning end, 1 roots, 212 extra nodes, 4 pruned nodes, max_depth=10\n",
      "[16:33:20] src/tree/updater_prune.cc:74: tree pruning end, 1 roots, 204 extra nodes, 4 pruned nodes, max_depth=10\n",
      "[16:33:20] src/tree/updater_prune.cc:74: tree pruning end, 1 roots, 178 extra nodes, 4 pruned nodes, max_depth=10\n",
      "[16:33:20] src/tree/updater_prune.cc:74: tree pruning end, 1 roots, 142 extra nodes, 4 pruned nodes, max_depth=10\n",
      "[16:33:21] src/tree/updater_prune.cc:74: tree pruning end, 1 roots, 198 extra nodes, 4 pruned nodes, max_depth=10\n",
      "[16:33:21] src/tree/updater_prune.cc:74: tree pruning end, 1 roots, 216 extra nodes, 2 pruned nodes, max_depth=10\n",
      "[16:33:21] src/tree/updater_prune.cc:74: tree pruning end, 1 roots, 236 extra nodes, 8 pruned nodes, max_depth=10\n",
      "[16:33:21] src/tree/updater_prune.cc:74: tree pruning end, 1 roots, 216 extra nodes, 6 pruned nodes, max_depth=10\n",
      "[16:33:22] src/tree/updater_prune.cc:74: tree pruning end, 1 roots, 270 extra nodes, 8 pruned nodes, max_depth=10\n",
      "[16:33:22] src/tree/updater_prune.cc:74: tree pruning end, 1 roots, 286 extra nodes, 6 pruned nodes, max_depth=10\n",
      "[16:33:22] src/tree/updater_prune.cc:74: tree pruning end, 1 roots, 298 extra nodes, 6 pruned nodes, max_depth=10\n",
      "[16:33:22] src/tree/updater_prune.cc:74: tree pruning end, 1 roots, 278 extra nodes, 6 pruned nodes, max_depth=10\n",
      "[16:33:22] src/tree/updater_prune.cc:74: tree pruning end, 1 roots, 196 extra nodes, 6 pruned nodes, max_depth=10\n",
      "[16:33:23] src/tree/updater_prune.cc:74: tree pruning end, 1 roots, 224 extra nodes, 10 pruned nodes, max_depth=10\n",
      "[16:33:23] src/tree/updater_prune.cc:74: tree pruning end, 1 roots, 230 extra nodes, 10 pruned nodes, max_depth=10\n",
      "[16:33:23] src/tree/updater_prune.cc:74: tree pruning end, 1 roots, 230 extra nodes, 8 pruned nodes, max_depth=10\n",
      "[16:33:23] src/tree/updater_prune.cc:74: tree pruning end, 1 roots, 202 extra nodes, 4 pruned nodes, max_depth=10\n",
      "[16:33:23] src/tree/updater_prune.cc:74: tree pruning end, 1 roots, 184 extra nodes, 10 pruned nodes, max_depth=10\n",
      "[16:33:23] src/tree/updater_prune.cc:74: tree pruning end, 1 roots, 198 extra nodes, 10 pruned nodes, max_depth=10\n",
      "[16:33:23] src/tree/updater_prune.cc:74: tree pruning end, 1 roots, 224 extra nodes, 10 pruned nodes, max_depth=10\n",
      "[16:33:23] src/tree/updater_prune.cc:74: tree pruning end, 1 roots, 144 extra nodes, 2 pruned nodes, max_depth=10\n",
      "[16:33:24] src/tree/updater_prune.cc:74: tree pruning end, 1 roots, 154 extra nodes, 6 pruned nodes, max_depth=10\n",
      "[16:33:24] src/tree/updater_prune.cc:74: tree pruning end, 1 roots, 178 extra nodes, 6 pruned nodes, max_depth=10\n",
      "[16:33:24] src/tree/updater_prune.cc:74: tree pruning end, 1 roots, 216 extra nodes, 2 pruned nodes, max_depth=10\n",
      "[16:33:25] src/tree/updater_prune.cc:74: tree pruning end, 1 roots, 190 extra nodes, 4 pruned nodes, max_depth=10\n",
      "[16:33:25] src/tree/updater_prune.cc:74: tree pruning end, 1 roots, 194 extra nodes, 8 pruned nodes, max_depth=10\n",
      "[16:33:25] src/tree/updater_prune.cc:74: tree pruning end, 1 roots, 230 extra nodes, 4 pruned nodes, max_depth=10\n",
      "[16:33:26] src/tree/updater_prune.cc:74: tree pruning end, 1 roots, 232 extra nodes, 2 pruned nodes, max_depth=10\n",
      "[16:33:26] src/tree/updater_prune.cc:74: tree pruning end, 1 roots, 330 extra nodes, 6 pruned nodes, max_depth=10\n",
      "[16:33:26] src/tree/updater_prune.cc:74: tree pruning end, 1 roots, 302 extra nodes, 24 pruned nodes, max_depth=10\n",
      "[16:33:26] src/tree/updater_prune.cc:74: tree pruning end, 1 roots, 352 extra nodes, 14 pruned nodes, max_depth=10\n",
      "[16:33:26] src/tree/updater_prune.cc:74: tree pruning end, 1 roots, 216 extra nodes, 4 pruned nodes, max_depth=10\n",
      "[16:33:26] src/tree/updater_prune.cc:74: tree pruning end, 1 roots, 304 extra nodes, 8 pruned nodes, max_depth=10\n",
      "[16:33:26] src/tree/updater_prune.cc:74: tree pruning end, 1 roots, 234 extra nodes, 14 pruned nodes, max_depth=10\n",
      "[16:33:27] src/tree/updater_prune.cc:74: tree pruning end, 1 roots, 232 extra nodes, 10 pruned nodes, max_depth=10\n",
      "[16:33:27] src/tree/updater_prune.cc:74: tree pruning end, 1 roots, 206 extra nodes, 2 pruned nodes, max_depth=10\n",
      "[16:33:27] src/tree/updater_prune.cc:74: tree pruning end, 1 roots, 244 extra nodes, 12 pruned nodes, max_depth=10\n",
      "[16:33:27] src/tree/updater_prune.cc:74: tree pruning end, 1 roots, 200 extra nodes, 0 pruned nodes, max_depth=10\n",
      "[16:33:27] src/tree/updater_prune.cc:74: tree pruning end, 1 roots, 180 extra nodes, 6 pruned nodes, max_depth=10\n",
      "[16:33:27] src/tree/updater_prune.cc:74: tree pruning end, 1 roots, 246 extra nodes, 8 pruned nodes, max_depth=10\n",
      "[16:33:27] src/tree/updater_prune.cc:74: tree pruning end, 1 roots, 218 extra nodes, 14 pruned nodes, max_depth=10\n",
      "[16:33:28] src/tree/updater_prune.cc:74: tree pruning end, 1 roots, 150 extra nodes, 10 pruned nodes, max_depth=10\n",
      "[16:33:28] src/tree/updater_prune.cc:74: tree pruning end, 1 roots, 214 extra nodes, 10 pruned nodes, max_depth=10\n",
      "[16:33:28] src/tree/updater_prune.cc:74: tree pruning end, 1 roots, 226 extra nodes, 4 pruned nodes, max_depth=10\n",
      "[16:33:29] src/tree/updater_prune.cc:74: tree pruning end, 1 roots, 240 extra nodes, 8 pruned nodes, max_depth=10\n",
      "[16:33:29] src/tree/updater_prune.cc:74: tree pruning end, 1 roots, 212 extra nodes, 0 pruned nodes, max_depth=10\n",
      "[16:33:30] src/tree/updater_prune.cc:74: tree pruning end, 1 roots, 324 extra nodes, 6 pruned nodes, max_depth=10\n",
      "[16:33:30] src/tree/updater_prune.cc:74: tree pruning end, 1 roots, 230 extra nodes, 6 pruned nodes, max_depth=10\n",
      "[16:33:30] src/tree/updater_prune.cc:74: tree pruning end, 1 roots, 240 extra nodes, 4 pruned nodes, max_depth=10\n",
      "[16:33:30] src/tree/updater_prune.cc:74: tree pruning end, 1 roots, 336 extra nodes, 12 pruned nodes, max_depth=10\n",
      "[16:33:30] src/tree/updater_prune.cc:74: tree pruning end, 1 roots, 246 extra nodes, 6 pruned nodes, max_depth=10\n",
      "[16:33:30] src/tree/updater_prune.cc:74: tree pruning end, 1 roots, 312 extra nodes, 18 pruned nodes, max_depth=10\n",
      "[16:33:30] src/tree/updater_prune.cc:74: tree pruning end, 1 roots, 398 extra nodes, 12 pruned nodes, max_depth=10\n",
      "[16:33:31] src/tree/updater_prune.cc:74: tree pruning end, 1 roots, 222 extra nodes, 6 pruned nodes, max_depth=10\n",
      "[16:33:31] src/tree/updater_prune.cc:74: tree pruning end, 1 roots, 236 extra nodes, 2 pruned nodes, max_depth=10\n",
      "[16:33:31] src/tree/updater_prune.cc:74: tree pruning end, 1 roots, 222 extra nodes, 4 pruned nodes, max_depth=10\n"
     ]
    },
    {
     "name": "stdout",
     "output_type": "stream",
     "text": [
      "[16:33:31] src/tree/updater_prune.cc:74: tree pruning end, 1 roots, 266 extra nodes, 14 pruned nodes, max_depth=10\n",
      "[16:33:31] src/tree/updater_prune.cc:74: tree pruning end, 1 roots, 226 extra nodes, 2 pruned nodes, max_depth=10\n",
      "[16:33:31] src/tree/updater_prune.cc:74: tree pruning end, 1 roots, 186 extra nodes, 10 pruned nodes, max_depth=10\n",
      "[16:33:32] src/tree/updater_prune.cc:74: tree pruning end, 1 roots, 242 extra nodes, 8 pruned nodes, max_depth=10\n",
      "[16:33:32] src/tree/updater_prune.cc:74: tree pruning end, 1 roots, 242 extra nodes, 12 pruned nodes, max_depth=10\n",
      "[16:33:32] src/tree/updater_prune.cc:74: tree pruning end, 1 roots, 160 extra nodes, 4 pruned nodes, max_depth=10\n",
      "[16:33:32] src/tree/updater_prune.cc:74: tree pruning end, 1 roots, 146 extra nodes, 4 pruned nodes, max_depth=10\n",
      "[16:33:32] src/tree/updater_prune.cc:74: tree pruning end, 1 roots, 268 extra nodes, 2 pruned nodes, max_depth=10\n",
      "[16:33:33] src/tree/updater_prune.cc:74: tree pruning end, 1 roots, 252 extra nodes, 6 pruned nodes, max_depth=10\n",
      "[16:33:33] src/tree/updater_prune.cc:74: tree pruning end, 1 roots, 268 extra nodes, 6 pruned nodes, max_depth=10\n",
      "[16:33:33] src/tree/updater_prune.cc:74: tree pruning end, 1 roots, 230 extra nodes, 4 pruned nodes, max_depth=10\n",
      "[16:33:33] src/tree/updater_prune.cc:74: tree pruning end, 1 roots, 344 extra nodes, 4 pruned nodes, max_depth=10\n",
      "[16:33:34] src/tree/updater_prune.cc:74: tree pruning end, 1 roots, 230 extra nodes, 4 pruned nodes, max_depth=10\n",
      "[16:33:34] src/tree/updater_prune.cc:74: tree pruning end, 1 roots, 334 extra nodes, 10 pruned nodes, max_depth=10\n",
      "[16:33:34] src/tree/updater_prune.cc:74: tree pruning end, 1 roots, 372 extra nodes, 10 pruned nodes, max_depth=10\n",
      "[16:33:34] src/tree/updater_prune.cc:74: tree pruning end, 1 roots, 290 extra nodes, 10 pruned nodes, max_depth=10\n",
      "[16:33:34] src/tree/updater_prune.cc:74: tree pruning end, 1 roots, 338 extra nodes, 12 pruned nodes, max_depth=10\n",
      "[16:33:35] src/tree/updater_prune.cc:74: tree pruning end, 1 roots, 262 extra nodes, 6 pruned nodes, max_depth=10\n",
      "[16:33:35] src/tree/updater_prune.cc:74: tree pruning end, 1 roots, 230 extra nodes, 18 pruned nodes, max_depth=10\n",
      "[16:33:35] src/tree/updater_prune.cc:74: tree pruning end, 1 roots, 258 extra nodes, 4 pruned nodes, max_depth=10\n",
      "[16:33:35] src/tree/updater_prune.cc:74: tree pruning end, 1 roots, 230 extra nodes, 2 pruned nodes, max_depth=10\n",
      "[16:33:35] src/tree/updater_prune.cc:74: tree pruning end, 1 roots, 248 extra nodes, 8 pruned nodes, max_depth=10\n",
      "[16:33:35] src/tree/updater_prune.cc:74: tree pruning end, 1 roots, 160 extra nodes, 8 pruned nodes, max_depth=10\n",
      "[16:33:35] src/tree/updater_prune.cc:74: tree pruning end, 1 roots, 240 extra nodes, 6 pruned nodes, max_depth=10\n",
      "[16:33:36] src/tree/updater_prune.cc:74: tree pruning end, 1 roots, 234 extra nodes, 12 pruned nodes, max_depth=10\n",
      "[16:33:36] src/tree/updater_prune.cc:74: tree pruning end, 1 roots, 164 extra nodes, 6 pruned nodes, max_depth=10\n",
      "[16:33:36] src/tree/updater_prune.cc:74: tree pruning end, 1 roots, 116 extra nodes, 0 pruned nodes, max_depth=10\n",
      "[16:33:36] src/tree/updater_prune.cc:74: tree pruning end, 1 roots, 140 extra nodes, 4 pruned nodes, max_depth=10\n",
      "[16:33:37] src/tree/updater_prune.cc:74: tree pruning end, 1 roots, 210 extra nodes, 0 pruned nodes, max_depth=10\n",
      "[16:33:37] src/tree/updater_prune.cc:74: tree pruning end, 1 roots, 232 extra nodes, 4 pruned nodes, max_depth=10\n",
      "[16:33:37] src/tree/updater_prune.cc:74: tree pruning end, 1 roots, 208 extra nodes, 2 pruned nodes, max_depth=10\n",
      "[16:33:37] src/tree/updater_prune.cc:74: tree pruning end, 1 roots, 258 extra nodes, 14 pruned nodes, max_depth=10\n",
      "[16:33:38] src/tree/updater_prune.cc:74: tree pruning end, 1 roots, 198 extra nodes, 2 pruned nodes, max_depth=10\n",
      "[16:33:38] src/tree/updater_prune.cc:74: tree pruning end, 1 roots, 258 extra nodes, 10 pruned nodes, max_depth=10\n",
      "[16:33:38] src/tree/updater_prune.cc:74: tree pruning end, 1 roots, 202 extra nodes, 10 pruned nodes, max_depth=10\n",
      "[16:33:38] src/tree/updater_prune.cc:74: tree pruning end, 1 roots, 260 extra nodes, 16 pruned nodes, max_depth=10\n",
      "[16:33:38] src/tree/updater_prune.cc:74: tree pruning end, 1 roots, 284 extra nodes, 16 pruned nodes, max_depth=10\n",
      "[16:33:38] src/tree/updater_prune.cc:74: tree pruning end, 1 roots, 214 extra nodes, 4 pruned nodes, max_depth=10\n",
      "[16:33:39] src/tree/updater_prune.cc:74: tree pruning end, 1 roots, 164 extra nodes, 0 pruned nodes, max_depth=10\n",
      "[16:33:39] src/tree/updater_prune.cc:74: tree pruning end, 1 roots, 208 extra nodes, 2 pruned nodes, max_depth=10\n",
      "[16:33:39] src/tree/updater_prune.cc:74: tree pruning end, 1 roots, 190 extra nodes, 6 pruned nodes, max_depth=10\n",
      "[16:33:39] src/tree/updater_prune.cc:74: tree pruning end, 1 roots, 152 extra nodes, 0 pruned nodes, max_depth=10\n",
      "[16:33:39] src/tree/updater_prune.cc:74: tree pruning end, 1 roots, 182 extra nodes, 2 pruned nodes, max_depth=10\n",
      "[16:33:39] src/tree/updater_prune.cc:74: tree pruning end, 1 roots, 178 extra nodes, 0 pruned nodes, max_depth=10\n",
      "[16:33:39] src/tree/updater_prune.cc:74: tree pruning end, 1 roots, 166 extra nodes, 6 pruned nodes, max_depth=10\n",
      "[16:33:40] src/tree/updater_prune.cc:74: tree pruning end, 1 roots, 182 extra nodes, 6 pruned nodes, max_depth=10\n",
      "[16:33:40] src/tree/updater_prune.cc:74: tree pruning end, 1 roots, 218 extra nodes, 0 pruned nodes, max_depth=10\n",
      "[16:33:40] src/tree/updater_prune.cc:74: tree pruning end, 1 roots, 140 extra nodes, 4 pruned nodes, max_depth=10\n",
      "[16:33:40] src/tree/updater_prune.cc:74: tree pruning end, 1 roots, 204 extra nodes, 2 pruned nodes, max_depth=10\n",
      "[16:33:41] src/tree/updater_prune.cc:74: tree pruning end, 1 roots, 268 extra nodes, 10 pruned nodes, max_depth=10\n",
      "[16:33:41] src/tree/updater_prune.cc:74: tree pruning end, 1 roots, 220 extra nodes, 4 pruned nodes, max_depth=10\n",
      "[16:33:41] src/tree/updater_prune.cc:74: tree pruning end, 1 roots, 226 extra nodes, 4 pruned nodes, max_depth=10\n",
      "[16:33:41] src/tree/updater_prune.cc:74: tree pruning end, 1 roots, 216 extra nodes, 4 pruned nodes, max_depth=10\n",
      "[16:33:42] src/tree/updater_prune.cc:74: tree pruning end, 1 roots, 130 extra nodes, 4 pruned nodes, max_depth=10\n",
      "[16:33:42] src/tree/updater_prune.cc:74: tree pruning end, 1 roots, 280 extra nodes, 4 pruned nodes, max_depth=10\n",
      "[16:33:42] src/tree/updater_prune.cc:74: tree pruning end, 1 roots, 298 extra nodes, 10 pruned nodes, max_depth=10\n",
      "[16:33:42] src/tree/updater_prune.cc:74: tree pruning end, 1 roots, 276 extra nodes, 14 pruned nodes, max_depth=10\n",
      "[16:33:42] src/tree/updater_prune.cc:74: tree pruning end, 1 roots, 180 extra nodes, 8 pruned nodes, max_depth=10\n",
      "[16:33:42] src/tree/updater_prune.cc:74: tree pruning end, 1 roots, 258 extra nodes, 10 pruned nodes, max_depth=10\n",
      "[16:33:42] src/tree/updater_prune.cc:74: tree pruning end, 1 roots, 254 extra nodes, 2 pruned nodes, max_depth=10\n",
      "[16:33:43] src/tree/updater_prune.cc:74: tree pruning end, 1 roots, 238 extra nodes, 8 pruned nodes, max_depth=10\n",
      "[16:33:43] src/tree/updater_prune.cc:74: tree pruning end, 1 roots, 166 extra nodes, 2 pruned nodes, max_depth=10\n",
      "[16:33:43] src/tree/updater_prune.cc:74: tree pruning end, 1 roots, 136 extra nodes, 6 pruned nodes, max_depth=10\n",
      "[16:33:43] src/tree/updater_prune.cc:74: tree pruning end, 1 roots, 204 extra nodes, 2 pruned nodes, max_depth=10\n",
      "[16:33:43] src/tree/updater_prune.cc:74: tree pruning end, 1 roots, 192 extra nodes, 4 pruned nodes, max_depth=10\n",
      "[16:33:43] src/tree/updater_prune.cc:74: tree pruning end, 1 roots, 202 extra nodes, 8 pruned nodes, max_depth=10\n",
      "[16:33:44] src/tree/updater_prune.cc:74: tree pruning end, 1 roots, 192 extra nodes, 2 pruned nodes, max_depth=10\n",
      "[16:33:44] src/tree/updater_prune.cc:74: tree pruning end, 1 roots, 164 extra nodes, 4 pruned nodes, max_depth=10\n",
      "[16:33:44] src/tree/updater_prune.cc:74: tree pruning end, 1 roots, 204 extra nodes, 4 pruned nodes, max_depth=10\n",
      "[16:33:45] src/tree/updater_prune.cc:74: tree pruning end, 1 roots, 298 extra nodes, 16 pruned nodes, max_depth=10\n",
      "[16:33:45] src/tree/updater_prune.cc:74: tree pruning end, 1 roots, 194 extra nodes, 6 pruned nodes, max_depth=10\n",
      "[16:33:45] src/tree/updater_prune.cc:74: tree pruning end, 1 roots, 240 extra nodes, 2 pruned nodes, max_depth=10\n"
     ]
    },
    {
     "name": "stdout",
     "output_type": "stream",
     "text": [
      "[16:33:45] src/tree/updater_prune.cc:74: tree pruning end, 1 roots, 244 extra nodes, 2 pruned nodes, max_depth=10\n",
      "[16:33:45] src/tree/updater_prune.cc:74: tree pruning end, 1 roots, 214 extra nodes, 18 pruned nodes, max_depth=10\n",
      "[16:33:45] src/tree/updater_prune.cc:74: tree pruning end, 1 roots, 280 extra nodes, 10 pruned nodes, max_depth=10\n",
      "[16:33:46] src/tree/updater_prune.cc:74: tree pruning end, 1 roots, 332 extra nodes, 12 pruned nodes, max_depth=10\n",
      "[16:33:46] src/tree/updater_prune.cc:74: tree pruning end, 1 roots, 312 extra nodes, 10 pruned nodes, max_depth=10\n",
      "[16:33:46] src/tree/updater_prune.cc:74: tree pruning end, 1 roots, 220 extra nodes, 4 pruned nodes, max_depth=10\n",
      "[16:33:46] src/tree/updater_prune.cc:74: tree pruning end, 1 roots, 230 extra nodes, 10 pruned nodes, max_depth=10\n",
      "[16:33:46] src/tree/updater_prune.cc:74: tree pruning end, 1 roots, 258 extra nodes, 8 pruned nodes, max_depth=10\n",
      "[16:33:46] src/tree/updater_prune.cc:74: tree pruning end, 1 roots, 200 extra nodes, 4 pruned nodes, max_depth=10\n",
      "[16:33:46] src/tree/updater_prune.cc:74: tree pruning end, 1 roots, 256 extra nodes, 18 pruned nodes, max_depth=10\n",
      "[16:33:47] src/tree/updater_prune.cc:74: tree pruning end, 1 roots, 178 extra nodes, 8 pruned nodes, max_depth=10\n",
      "[16:33:47] src/tree/updater_prune.cc:74: tree pruning end, 1 roots, 182 extra nodes, 2 pruned nodes, max_depth=10\n",
      "[16:33:47] src/tree/updater_prune.cc:74: tree pruning end, 1 roots, 238 extra nodes, 4 pruned nodes, max_depth=10\n",
      "[16:33:47] src/tree/updater_prune.cc:74: tree pruning end, 1 roots, 142 extra nodes, 2 pruned nodes, max_depth=10\n",
      "[16:33:47] src/tree/updater_prune.cc:74: tree pruning end, 1 roots, 128 extra nodes, 2 pruned nodes, max_depth=10\n",
      "[16:33:48] src/tree/updater_prune.cc:74: tree pruning end, 1 roots, 184 extra nodes, 6 pruned nodes, max_depth=10\n",
      "[16:33:48] src/tree/updater_prune.cc:74: tree pruning end, 1 roots, 226 extra nodes, 8 pruned nodes, max_depth=10\n",
      "[16:33:49] src/tree/updater_prune.cc:74: tree pruning end, 1 roots, 314 extra nodes, 4 pruned nodes, max_depth=10\n",
      "[16:33:49] src/tree/updater_prune.cc:74: tree pruning end, 1 roots, 212 extra nodes, 2 pruned nodes, max_depth=10\n",
      "[16:33:49] src/tree/updater_prune.cc:74: tree pruning end, 1 roots, 224 extra nodes, 10 pruned nodes, max_depth=10\n",
      "[16:33:50] src/tree/updater_prune.cc:74: tree pruning end, 1 roots, 242 extra nodes, 8 pruned nodes, max_depth=10\n",
      "[16:33:50] src/tree/updater_prune.cc:74: tree pruning end, 1 roots, 244 extra nodes, 4 pruned nodes, max_depth=10\n",
      "[16:33:50] src/tree/updater_prune.cc:74: tree pruning end, 1 roots, 318 extra nodes, 10 pruned nodes, max_depth=10\n",
      "[16:33:50] src/tree/updater_prune.cc:74: tree pruning end, 1 roots, 322 extra nodes, 8 pruned nodes, max_depth=10\n",
      "[16:33:51] src/tree/updater_prune.cc:74: tree pruning end, 1 roots, 206 extra nodes, 4 pruned nodes, max_depth=10\n",
      "[16:33:51] src/tree/updater_prune.cc:74: tree pruning end, 1 roots, 390 extra nodes, 12 pruned nodes, max_depth=10\n",
      "[16:33:51] src/tree/updater_prune.cc:74: tree pruning end, 1 roots, 228 extra nodes, 10 pruned nodes, max_depth=10\n",
      "[16:33:51] src/tree/updater_prune.cc:74: tree pruning end, 1 roots, 236 extra nodes, 10 pruned nodes, max_depth=10\n",
      "[16:33:51] src/tree/updater_prune.cc:74: tree pruning end, 1 roots, 202 extra nodes, 4 pruned nodes, max_depth=10\n",
      "[16:33:52] src/tree/updater_prune.cc:74: tree pruning end, 1 roots, 178 extra nodes, 2 pruned nodes, max_depth=10\n",
      "[16:33:52] src/tree/updater_prune.cc:74: tree pruning end, 1 roots, 196 extra nodes, 4 pruned nodes, max_depth=10\n",
      "[16:33:52] src/tree/updater_prune.cc:74: tree pruning end, 1 roots, 198 extra nodes, 6 pruned nodes, max_depth=10\n",
      "[16:33:52] src/tree/updater_prune.cc:74: tree pruning end, 1 roots, 258 extra nodes, 4 pruned nodes, max_depth=10\n",
      "[16:33:52] src/tree/updater_prune.cc:74: tree pruning end, 1 roots, 152 extra nodes, 4 pruned nodes, max_depth=10\n",
      "[16:33:53] src/tree/updater_prune.cc:74: tree pruning end, 1 roots, 192 extra nodes, 6 pruned nodes, max_depth=10\n",
      "[16:33:53] src/tree/updater_prune.cc:74: tree pruning end, 1 roots, 180 extra nodes, 2 pruned nodes, max_depth=10\n",
      "[16:33:54] src/tree/updater_prune.cc:74: tree pruning end, 1 roots, 248 extra nodes, 6 pruned nodes, max_depth=10\n",
      "[16:33:54] src/tree/updater_prune.cc:74: tree pruning end, 1 roots, 282 extra nodes, 6 pruned nodes, max_depth=10\n",
      "[16:33:54] src/tree/updater_prune.cc:74: tree pruning end, 1 roots, 362 extra nodes, 8 pruned nodes, max_depth=10\n",
      "[16:33:55] src/tree/updater_prune.cc:74: tree pruning end, 1 roots, 230 extra nodes, 8 pruned nodes, max_depth=10\n",
      "[16:33:55] src/tree/updater_prune.cc:74: tree pruning end, 1 roots, 248 extra nodes, 6 pruned nodes, max_depth=10\n",
      "[16:33:55] src/tree/updater_prune.cc:74: tree pruning end, 1 roots, 304 extra nodes, 6 pruned nodes, max_depth=10\n",
      "[16:33:55] src/tree/updater_prune.cc:74: tree pruning end, 1 roots, 282 extra nodes, 8 pruned nodes, max_depth=10\n",
      "[16:33:56] src/tree/updater_prune.cc:74: tree pruning end, 1 roots, 372 extra nodes, 8 pruned nodes, max_depth=10\n",
      "[16:33:56] src/tree/updater_prune.cc:74: tree pruning end, 1 roots, 264 extra nodes, 2 pruned nodes, max_depth=10\n",
      "[16:33:56] src/tree/updater_prune.cc:74: tree pruning end, 1 roots, 326 extra nodes, 10 pruned nodes, max_depth=10\n",
      "[16:33:56] src/tree/updater_prune.cc:74: tree pruning end, 1 roots, 212 extra nodes, 0 pruned nodes, max_depth=10\n",
      "[16:33:56] src/tree/updater_prune.cc:74: tree pruning end, 1 roots, 252 extra nodes, 8 pruned nodes, max_depth=10\n",
      "[16:33:56] src/tree/updater_prune.cc:74: tree pruning end, 1 roots, 210 extra nodes, 6 pruned nodes, max_depth=10\n",
      "[16:33:57] src/tree/updater_prune.cc:74: tree pruning end, 1 roots, 248 extra nodes, 4 pruned nodes, max_depth=10\n",
      "[16:33:57] src/tree/updater_prune.cc:74: tree pruning end, 1 roots, 172 extra nodes, 2 pruned nodes, max_depth=10\n",
      "[16:33:57] src/tree/updater_prune.cc:74: tree pruning end, 1 roots, 202 extra nodes, 14 pruned nodes, max_depth=10\n",
      "[16:33:57] src/tree/updater_prune.cc:74: tree pruning end, 1 roots, 184 extra nodes, 4 pruned nodes, max_depth=10\n",
      "[16:33:57] src/tree/updater_prune.cc:74: tree pruning end, 1 roots, 226 extra nodes, 6 pruned nodes, max_depth=10\n",
      "[16:33:58] src/tree/updater_prune.cc:74: tree pruning end, 1 roots, 150 extra nodes, 4 pruned nodes, max_depth=10\n",
      "[16:33:58] src/tree/updater_prune.cc:74: tree pruning end, 1 roots, 168 extra nodes, 4 pruned nodes, max_depth=10\n",
      "[16:33:58] src/tree/updater_prune.cc:74: tree pruning end, 1 roots, 212 extra nodes, 0 pruned nodes, max_depth=10\n",
      "[16:33:59] src/tree/updater_prune.cc:74: tree pruning end, 1 roots, 208 extra nodes, 0 pruned nodes, max_depth=10\n",
      "[16:33:59] src/tree/updater_prune.cc:74: tree pruning end, 1 roots, 262 extra nodes, 10 pruned nodes, max_depth=10\n",
      "[16:33:59] src/tree/updater_prune.cc:74: tree pruning end, 1 roots, 222 extra nodes, 8 pruned nodes, max_depth=10\n",
      "[16:33:59] src/tree/updater_prune.cc:74: tree pruning end, 1 roots, 270 extra nodes, 12 pruned nodes, max_depth=10\n",
      "[16:33:59] src/tree/updater_prune.cc:74: tree pruning end, 1 roots, 228 extra nodes, 8 pruned nodes, max_depth=10\n",
      "[16:33:59] src/tree/updater_prune.cc:74: tree pruning end, 1 roots, 190 extra nodes, 6 pruned nodes, max_depth=10\n",
      "[16:34:00] src/tree/updater_prune.cc:74: tree pruning end, 1 roots, 234 extra nodes, 6 pruned nodes, max_depth=10\n",
      "[16:34:00] src/tree/updater_prune.cc:74: tree pruning end, 1 roots, 228 extra nodes, 2 pruned nodes, max_depth=10\n",
      "[16:34:00] src/tree/updater_prune.cc:74: tree pruning end, 1 roots, 242 extra nodes, 10 pruned nodes, max_depth=10\n",
      "[16:34:00] src/tree/updater_prune.cc:74: tree pruning end, 1 roots, 160 extra nodes, 6 pruned nodes, max_depth=10\n",
      "[16:34:00] src/tree/updater_prune.cc:74: tree pruning end, 1 roots, 164 extra nodes, 8 pruned nodes, max_depth=10\n",
      "[16:34:01] src/tree/updater_prune.cc:74: tree pruning end, 1 roots, 154 extra nodes, 0 pruned nodes, max_depth=10\n",
      "[16:34:01] src/tree/updater_prune.cc:74: tree pruning end, 1 roots, 184 extra nodes, 12 pruned nodes, max_depth=10\n",
      "[16:34:01] src/tree/updater_prune.cc:74: tree pruning end, 1 roots, 252 extra nodes, 8 pruned nodes, max_depth=10\n",
      "[16:34:01] src/tree/updater_prune.cc:74: tree pruning end, 1 roots, 160 extra nodes, 12 pruned nodes, max_depth=10\n"
     ]
    },
    {
     "name": "stdout",
     "output_type": "stream",
     "text": [
      "[16:34:01] src/tree/updater_prune.cc:74: tree pruning end, 1 roots, 144 extra nodes, 2 pruned nodes, max_depth=10\n",
      "[16:34:01] src/tree/updater_prune.cc:74: tree pruning end, 1 roots, 162 extra nodes, 4 pruned nodes, max_depth=10\n",
      "[16:34:02] src/tree/updater_prune.cc:74: tree pruning end, 1 roots, 160 extra nodes, 2 pruned nodes, max_depth=10\n"
     ]
    },
    {
     "name": "stderr",
     "output_type": "stream",
     "text": [
      "[Parallel(n_jobs=4)]: Done  42 tasks      | elapsed:   46.8s\n"
     ]
    },
    {
     "name": "stdout",
     "output_type": "stream",
     "text": [
      "[16:34:02] src/tree/updater_prune.cc:74: tree pruning end, 1 roots, 140 extra nodes, 2 pruned nodes, max_depth=10\n",
      "[16:34:02] src/tree/updater_prune.cc:74: tree pruning end, 1 roots, 228 extra nodes, 0 pruned nodes, max_depth=10\n",
      "[16:34:03] src/tree/updater_prune.cc:74: tree pruning end, 1 roots, 282 extra nodes, 0 pruned nodes, max_depth=10\n",
      "[16:34:03] src/tree/updater_prune.cc:74: tree pruning end, 1 roots, 218 extra nodes, 4 pruned nodes, max_depth=10\n",
      "[16:34:03] src/tree/updater_prune.cc:74: tree pruning end, 1 roots, 228 extra nodes, 8 pruned nodes, max_depth=10\n",
      "[16:34:03] src/tree/updater_prune.cc:74: tree pruning end, 1 roots, 132 extra nodes, 8 pruned nodes, max_depth=10\n",
      "[16:34:03] src/tree/updater_prune.cc:74: tree pruning end, 1 roots, 260 extra nodes, 18 pruned nodes, max_depth=10\n",
      "[16:34:03] src/tree/updater_prune.cc:74: tree pruning end, 1 roots, 226 extra nodes, 4 pruned nodes, max_depth=10\n",
      "[16:34:04] src/tree/updater_prune.cc:74: tree pruning end, 1 roots, 232 extra nodes, 16 pruned nodes, max_depth=10\n",
      "[16:34:04] src/tree/updater_prune.cc:74: tree pruning end, 1 roots, 200 extra nodes, 12 pruned nodes, max_depth=10\n",
      "[16:34:04] src/tree/updater_prune.cc:74: tree pruning end, 1 roots, 184 extra nodes, 12 pruned nodes, max_depth=10\n",
      "[16:34:04] src/tree/updater_prune.cc:74: tree pruning end, 1 roots, 248 extra nodes, 4 pruned nodes, max_depth=10\n",
      "[16:34:04] src/tree/updater_prune.cc:74: tree pruning end, 1 roots, 238 extra nodes, 8 pruned nodes, max_depth=10\n",
      "[16:34:05] src/tree/updater_prune.cc:74: tree pruning end, 1 roots, 112 extra nodes, 2 pruned nodes, max_depth=10\n",
      "[16:34:05] src/tree/updater_prune.cc:74: tree pruning end, 1 roots, 220 extra nodes, 6 pruned nodes, max_depth=10\n",
      "[16:34:05] src/tree/updater_prune.cc:74: tree pruning end, 1 roots, 296 extra nodes, 16 pruned nodes, max_depth=10\n",
      "[16:34:05] src/tree/updater_prune.cc:74: tree pruning end, 1 roots, 200 extra nodes, 14 pruned nodes, max_depth=10\n",
      "[16:34:05] src/tree/updater_prune.cc:74: tree pruning end, 1 roots, 184 extra nodes, 4 pruned nodes, max_depth=10\n",
      "[16:34:05] src/tree/updater_prune.cc:74: tree pruning end, 1 roots, 204 extra nodes, 4 pruned nodes, max_depth=10\n",
      "[16:34:06] src/tree/updater_prune.cc:74: tree pruning end, 1 roots, 164 extra nodes, 0 pruned nodes, max_depth=10\n",
      "[16:34:06] src/tree/updater_prune.cc:74: tree pruning end, 1 roots, 94 extra nodes, 4 pruned nodes, max_depth=10\n",
      "[16:34:06] src/tree/updater_prune.cc:74: tree pruning end, 1 roots, 248 extra nodes, 10 pruned nodes, max_depth=10\n",
      "[16:34:07] src/tree/updater_prune.cc:74: tree pruning end, 1 roots, 262 extra nodes, 10 pruned nodes, max_depth=10\n",
      "[16:34:07] src/tree/updater_prune.cc:74: tree pruning end, 1 roots, 236 extra nodes, 12 pruned nodes, max_depth=10\n",
      "[16:34:07] src/tree/updater_prune.cc:74: tree pruning end, 1 roots, 230 extra nodes, 0 pruned nodes, max_depth=10\n",
      "[16:34:07] src/tree/updater_prune.cc:74: tree pruning end, 1 roots, 216 extra nodes, 6 pruned nodes, max_depth=10\n",
      "[16:34:07] src/tree/updater_prune.cc:74: tree pruning end, 1 roots, 260 extra nodes, 6 pruned nodes, max_depth=10\n",
      "[16:34:08] src/tree/updater_prune.cc:74: tree pruning end, 1 roots, 250 extra nodes, 6 pruned nodes, max_depth=10\n",
      "[16:34:08] src/tree/updater_prune.cc:74: tree pruning end, 1 roots, 342 extra nodes, 12 pruned nodes, max_depth=10\n",
      "[16:34:08] src/tree/updater_prune.cc:74: tree pruning end, 1 roots, 204 extra nodes, 6 pruned nodes, max_depth=10\n",
      "[16:34:08] src/tree/updater_prune.cc:74: tree pruning end, 1 roots, 260 extra nodes, 8 pruned nodes, max_depth=10\n",
      "[16:34:08] src/tree/updater_prune.cc:74: tree pruning end, 1 roots, 242 extra nodes, 10 pruned nodes, max_depth=10\n",
      "[16:34:08] src/tree/updater_prune.cc:74: tree pruning end, 1 roots, 210 extra nodes, 12 pruned nodes, max_depth=10\n",
      "[16:34:08] src/tree/updater_prune.cc:74: tree pruning end, 1 roots, 136 extra nodes, 2 pruned nodes, max_depth=10\n",
      "[16:34:09] src/tree/updater_prune.cc:74: tree pruning end, 1 roots, 204 extra nodes, 14 pruned nodes, max_depth=10\n",
      "[16:34:09] src/tree/updater_prune.cc:74: tree pruning end, 1 roots, 240 extra nodes, 10 pruned nodes, max_depth=10\n",
      "[16:34:09] src/tree/updater_prune.cc:74: tree pruning end, 1 roots, 234 extra nodes, 6 pruned nodes, max_depth=10\n",
      "[16:34:09] src/tree/updater_prune.cc:74: tree pruning end, 1 roots, 114 extra nodes, 0 pruned nodes, max_depth=10\n",
      "[16:34:09] src/tree/updater_prune.cc:74: tree pruning end, 1 roots, 190 extra nodes, 6 pruned nodes, max_depth=10\n",
      "[16:34:10] src/tree/updater_prune.cc:74: tree pruning end, 1 roots, 196 extra nodes, 2 pruned nodes, max_depth=10\n",
      "[16:34:10] src/tree/updater_prune.cc:74: tree pruning end, 1 roots, 250 extra nodes, 12 pruned nodes, max_depth=10\n",
      "[16:34:10] src/tree/updater_prune.cc:74: tree pruning end, 1 roots, 160 extra nodes, 2 pruned nodes, max_depth=10\n",
      "[16:34:11] src/tree/updater_prune.cc:74: tree pruning end, 1 roots, 236 extra nodes, 10 pruned nodes, max_depth=10\n",
      "[16:34:11] src/tree/updater_prune.cc:74: tree pruning end, 1 roots, 252 extra nodes, 4 pruned nodes, max_depth=10\n",
      "[16:34:11] src/tree/updater_prune.cc:74: tree pruning end, 1 roots, 258 extra nodes, 6 pruned nodes, max_depth=10\n",
      "[16:34:11] src/tree/updater_prune.cc:74: tree pruning end, 1 roots, 216 extra nodes, 6 pruned nodes, max_depth=10\n",
      "[16:34:11] src/tree/updater_prune.cc:74: tree pruning end, 1 roots, 244 extra nodes, 14 pruned nodes, max_depth=10\n",
      "[16:34:12] src/tree/updater_prune.cc:74: tree pruning end, 1 roots, 232 extra nodes, 8 pruned nodes, max_depth=10\n",
      "[16:34:12] src/tree/updater_prune.cc:74: tree pruning end, 1 roots, 336 extra nodes, 8 pruned nodes, max_depth=10\n",
      "[16:34:12] src/tree/updater_prune.cc:74: tree pruning end, 1 roots, 206 extra nodes, 6 pruned nodes, max_depth=10\n",
      "[16:34:12] src/tree/updater_prune.cc:74: tree pruning end, 1 roots, 246 extra nodes, 8 pruned nodes, max_depth=10\n",
      "[16:34:12] src/tree/updater_prune.cc:74: tree pruning end, 1 roots, 362 extra nodes, 26 pruned nodes, max_depth=10\n",
      "[16:34:13] src/tree/updater_prune.cc:74: tree pruning end, 1 roots, 234 extra nodes, 8 pruned nodes, max_depth=10\n",
      "[16:34:13] src/tree/updater_prune.cc:74: tree pruning end, 1 roots, 192 extra nodes, 0 pruned nodes, max_depth=10\n",
      "[16:34:13] src/tree/updater_prune.cc:74: tree pruning end, 1 roots, 192 extra nodes, 12 pruned nodes, max_depth=10\n",
      "[16:34:13] src/tree/updater_prune.cc:74: tree pruning end, 1 roots, 238 extra nodes, 4 pruned nodes, max_depth=10\n",
      "[16:34:13] src/tree/updater_prune.cc:74: tree pruning end, 1 roots, 188 extra nodes, 6 pruned nodes, max_depth=10\n",
      "[16:34:13] src/tree/updater_prune.cc:74: tree pruning end, 1 roots, 124 extra nodes, 2 pruned nodes, max_depth=10\n",
      "[16:34:14] src/tree/updater_prune.cc:74: tree pruning end, 1 roots, 232 extra nodes, 0 pruned nodes, max_depth=10\n",
      "[16:34:14] src/tree/updater_prune.cc:74: tree pruning end, 1 roots, 158 extra nodes, 2 pruned nodes, max_depth=10\n",
      "[16:34:14] src/tree/updater_prune.cc:74: tree pruning end, 1 roots, 272 extra nodes, 6 pruned nodes, max_depth=10\n",
      "[16:34:14] src/tree/updater_prune.cc:74: tree pruning end, 1 roots, 214 extra nodes, 4 pruned nodes, max_depth=10\n",
      "[16:34:15] src/tree/updater_prune.cc:74: tree pruning end, 1 roots, 284 extra nodes, 12 pruned nodes, max_depth=10\n",
      "[16:34:15] src/tree/updater_prune.cc:74: tree pruning end, 1 roots, 270 extra nodes, 14 pruned nodes, max_depth=10\n",
      "[16:34:15] src/tree/updater_prune.cc:74: tree pruning end, 1 roots, 280 extra nodes, 12 pruned nodes, max_depth=10\n",
      "[16:34:15] src/tree/updater_prune.cc:74: tree pruning end, 1 roots, 268 extra nodes, 10 pruned nodes, max_depth=10\n",
      "[16:34:16] src/tree/updater_prune.cc:74: tree pruning end, 1 roots, 314 extra nodes, 2 pruned nodes, max_depth=10\n",
      "[16:34:16] src/tree/updater_prune.cc:74: tree pruning end, 1 roots, 276 extra nodes, 4 pruned nodes, max_depth=10\n",
      "[16:34:16] src/tree/updater_prune.cc:74: tree pruning end, 1 roots, 274 extra nodes, 12 pruned nodes, max_depth=10\n",
      "[16:34:16] src/tree/updater_prune.cc:74: tree pruning end, 1 roots, 214 extra nodes, 0 pruned nodes, max_depth=10\n",
      "[16:34:16] src/tree/updater_prune.cc:74: tree pruning end, 1 roots, 200 extra nodes, 14 pruned nodes, max_depth=10\n",
      "[16:34:16] src/tree/updater_prune.cc:74: tree pruning end, 1 roots, 284 extra nodes, 6 pruned nodes, max_depth=10\n"
     ]
    },
    {
     "name": "stdout",
     "output_type": "stream",
     "text": [
      "[16:34:17] src/tree/updater_prune.cc:74: tree pruning end, 1 roots, 156 extra nodes, 2 pruned nodes, max_depth=10\n",
      "[16:34:17] src/tree/updater_prune.cc:74: tree pruning end, 1 roots, 266 extra nodes, 8 pruned nodes, max_depth=10\n",
      "[16:34:17] src/tree/updater_prune.cc:74: tree pruning end, 1 roots, 212 extra nodes, 8 pruned nodes, max_depth=10\n",
      "[16:34:17] src/tree/updater_prune.cc:74: tree pruning end, 1 roots, 226 extra nodes, 16 pruned nodes, max_depth=10\n",
      "[16:34:17] src/tree/updater_prune.cc:74: tree pruning end, 1 roots, 248 extra nodes, 4 pruned nodes, max_depth=10\n",
      "[16:34:18] src/tree/updater_prune.cc:74: tree pruning end, 1 roots, 170 extra nodes, 4 pruned nodes, max_depth=10\n",
      "[16:34:18] src/tree/updater_prune.cc:74: tree pruning end, 1 roots, 250 extra nodes, 2 pruned nodes, max_depth=10\n",
      "[16:34:18] src/tree/updater_prune.cc:74: tree pruning end, 1 roots, 150 extra nodes, 4 pruned nodes, max_depth=10\n",
      "[16:34:18] src/tree/updater_prune.cc:74: tree pruning end, 1 roots, 212 extra nodes, 4 pruned nodes, max_depth=10\n",
      "[16:34:18] src/tree/updater_prune.cc:74: tree pruning end, 1 roots, 232 extra nodes, 2 pruned nodes, max_depth=10\n",
      "[16:34:19] src/tree/updater_prune.cc:74: tree pruning end, 1 roots, 272 extra nodes, 10 pruned nodes, max_depth=10\n",
      "[16:34:19] src/tree/updater_prune.cc:74: tree pruning end, 1 roots, 216 extra nodes, 2 pruned nodes, max_depth=10\n",
      "[16:34:20] src/tree/updater_prune.cc:74: tree pruning end, 1 roots, 190 extra nodes, 8 pruned nodes, max_depth=10\n",
      "[16:34:20] src/tree/updater_prune.cc:74: tree pruning end, 1 roots, 226 extra nodes, 10 pruned nodes, max_depth=10\n",
      "[16:34:20] src/tree/updater_prune.cc:74: tree pruning end, 1 roots, 224 extra nodes, 8 pruned nodes, max_depth=10\n",
      "[16:34:20] src/tree/updater_prune.cc:74: tree pruning end, 1 roots, 230 extra nodes, 10 pruned nodes, max_depth=10\n",
      "[16:34:20] src/tree/updater_prune.cc:74: tree pruning end, 1 roots, 138 extra nodes, 4 pruned nodes, max_depth=10\n",
      "[16:34:20] src/tree/updater_prune.cc:74: tree pruning end, 1 roots, 194 extra nodes, 6 pruned nodes, max_depth=10\n",
      "[16:34:20] src/tree/updater_prune.cc:74: tree pruning end, 1 roots, 220 extra nodes, 8 pruned nodes, max_depth=10\n",
      "[16:34:21] src/tree/updater_prune.cc:74: tree pruning end, 1 roots, 228 extra nodes, 14 pruned nodes, max_depth=10\n",
      "[16:34:21] src/tree/updater_prune.cc:74: tree pruning end, 1 roots, 174 extra nodes, 2 pruned nodes, max_depth=10\n",
      "[16:34:21] src/tree/updater_prune.cc:74: tree pruning end, 1 roots, 130 extra nodes, 6 pruned nodes, max_depth=10\n",
      "[16:34:21] src/tree/updater_prune.cc:74: tree pruning end, 1 roots, 160 extra nodes, 4 pruned nodes, max_depth=10\n",
      "[16:34:21] src/tree/updater_prune.cc:74: tree pruning end, 1 roots, 146 extra nodes, 4 pruned nodes, max_depth=10\n",
      "[16:34:22] src/tree/updater_prune.cc:74: tree pruning end, 1 roots, 162 extra nodes, 0 pruned nodes, max_depth=10\n",
      "[16:34:22] src/tree/updater_prune.cc:74: tree pruning end, 1 roots, 150 extra nodes, 2 pruned nodes, max_depth=10\n",
      "[16:34:22] src/tree/updater_prune.cc:74: tree pruning end, 1 roots, 184 extra nodes, 4 pruned nodes, max_depth=10\n",
      "[16:34:23] src/tree/updater_prune.cc:74: tree pruning end, 1 roots, 174 extra nodes, 4 pruned nodes, max_depth=10\n",
      "[16:34:23] src/tree/updater_prune.cc:74: tree pruning end, 1 roots, 224 extra nodes, 0 pruned nodes, max_depth=10\n",
      "[16:34:23] src/tree/updater_prune.cc:74: tree pruning end, 1 roots, 130 extra nodes, 2 pruned nodes, max_depth=10\n",
      "[16:34:23] src/tree/updater_prune.cc:74: tree pruning end, 1 roots, 290 extra nodes, 8 pruned nodes, max_depth=10\n",
      "[16:34:23] src/tree/updater_prune.cc:74: tree pruning end, 1 roots, 224 extra nodes, 6 pruned nodes, max_depth=10\n",
      "[16:34:24] src/tree/updater_prune.cc:74: tree pruning end, 1 roots, 180 extra nodes, 10 pruned nodes, max_depth=10\n",
      "[16:34:24] src/tree/updater_prune.cc:74: tree pruning end, 1 roots, 280 extra nodes, 4 pruned nodes, max_depth=10\n",
      "[16:34:24] src/tree/updater_prune.cc:74: tree pruning end, 1 roots, 228 extra nodes, 6 pruned nodes, max_depth=10\n",
      "[16:34:25] src/tree/updater_prune.cc:74: tree pruning end, 1 roots, 226 extra nodes, 6 pruned nodes, max_depth=10\n",
      "[16:34:25] src/tree/updater_prune.cc:74: tree pruning end, 1 roots, 116 extra nodes, 4 pruned nodes, max_depth=10\n",
      "[16:34:25] src/tree/updater_prune.cc:74: tree pruning end, 1 roots, 240 extra nodes, 6 pruned nodes, max_depth=10\n",
      "[16:34:25] src/tree/updater_prune.cc:74: tree pruning end, 1 roots, 222 extra nodes, 6 pruned nodes, max_depth=10\n",
      "[16:34:25] src/tree/updater_prune.cc:74: tree pruning end, 1 roots, 250 extra nodes, 12 pruned nodes, max_depth=10\n",
      "[16:34:25] src/tree/updater_prune.cc:74: tree pruning end, 1 roots, 148 extra nodes, 4 pruned nodes, max_depth=10\n",
      "[16:34:26] src/tree/updater_prune.cc:74: tree pruning end, 1 roots, 218 extra nodes, 8 pruned nodes, max_depth=10\n",
      "[16:34:26] src/tree/updater_prune.cc:74: tree pruning end, 1 roots, 192 extra nodes, 0 pruned nodes, max_depth=10\n",
      "[16:34:26] src/tree/updater_prune.cc:74: tree pruning end, 1 roots, 212 extra nodes, 6 pruned nodes, max_depth=10\n",
      "[16:34:26] src/tree/updater_prune.cc:74: tree pruning end, 1 roots, 176 extra nodes, 2 pruned nodes, max_depth=10\n",
      "[16:34:26] src/tree/updater_prune.cc:74: tree pruning end, 1 roots, 102 extra nodes, 2 pruned nodes, max_depth=10\n",
      "[16:34:27] src/tree/updater_prune.cc:74: tree pruning end, 1 roots, 162 extra nodes, 6 pruned nodes, max_depth=10\n",
      "[16:34:27] src/tree/updater_prune.cc:74: tree pruning end, 1 roots, 244 extra nodes, 12 pruned nodes, max_depth=10\n",
      "[16:34:27] src/tree/updater_prune.cc:74: tree pruning end, 1 roots, 178 extra nodes, 0 pruned nodes, max_depth=10\n",
      "[16:34:27] src/tree/updater_prune.cc:74: tree pruning end, 1 roots, 148 extra nodes, 0 pruned nodes, max_depth=10\n",
      "[16:34:28] src/tree/updater_prune.cc:74: tree pruning end, 1 roots, 240 extra nodes, 14 pruned nodes, max_depth=10\n",
      "[16:34:28] src/tree/updater_prune.cc:74: tree pruning end, 1 roots, 226 extra nodes, 12 pruned nodes, max_depth=10\n",
      "[16:34:28] src/tree/updater_prune.cc:74: tree pruning end, 1 roots, 196 extra nodes, 8 pruned nodes, max_depth=10\n",
      "[16:34:29] src/tree/updater_prune.cc:74: tree pruning end, 1 roots, 240 extra nodes, 2 pruned nodes, max_depth=10\n",
      "[16:34:29] src/tree/updater_prune.cc:74: tree pruning end, 1 roots, 274 extra nodes, 6 pruned nodes, max_depth=10\n",
      "[16:34:29] src/tree/updater_prune.cc:74: tree pruning end, 1 roots, 248 extra nodes, 8 pruned nodes, max_depth=10\n",
      "[16:34:29] src/tree/updater_prune.cc:74: tree pruning end, 1 roots, 194 extra nodes, 4 pruned nodes, max_depth=10\n",
      "[16:34:29] src/tree/updater_prune.cc:74: tree pruning end, 1 roots, 324 extra nodes, 24 pruned nodes, max_depth=10\n",
      "[16:34:29] src/tree/updater_prune.cc:74: tree pruning end, 1 roots, 190 extra nodes, 4 pruned nodes, max_depth=10\n",
      "[16:34:30] src/tree/updater_prune.cc:74: tree pruning end, 1 roots, 270 extra nodes, 12 pruned nodes, max_depth=10\n",
      "[16:34:30] src/tree/updater_prune.cc:74: tree pruning end, 1 roots, 162 extra nodes, 10 pruned nodes, max_depth=10\n",
      "[16:34:30] src/tree/updater_prune.cc:74: tree pruning end, 1 roots, 158 extra nodes, 4 pruned nodes, max_depth=10\n",
      "[16:34:30] src/tree/updater_prune.cc:74: tree pruning end, 1 roots, 250 extra nodes, 10 pruned nodes, max_depth=10\n",
      "[16:34:30] src/tree/updater_prune.cc:74: tree pruning end, 1 roots, 222 extra nodes, 10 pruned nodes, max_depth=10\n",
      "[16:34:31] src/tree/updater_prune.cc:74: tree pruning end, 1 roots, 108 extra nodes, 2 pruned nodes, max_depth=10\n",
      "[16:34:31] src/tree/updater_prune.cc:74: tree pruning end, 1 roots, 212 extra nodes, 8 pruned nodes, max_depth=10\n",
      "[16:34:31] src/tree/updater_prune.cc:74: tree pruning end, 1 roots, 164 extra nodes, 4 pruned nodes, max_depth=10\n",
      "[16:34:31] src/tree/updater_prune.cc:74: tree pruning end, 1 roots, 246 extra nodes, 18 pruned nodes, max_depth=10\n",
      "[16:34:31] src/tree/updater_prune.cc:74: tree pruning end, 1 roots, 82 extra nodes, 2 pruned nodes, max_depth=10\n",
      "[16:34:32] src/tree/updater_prune.cc:74: tree pruning end, 1 roots, 138 extra nodes, 2 pruned nodes, max_depth=10\n",
      "[16:34:32] src/tree/updater_prune.cc:74: tree pruning end, 1 roots, 244 extra nodes, 4 pruned nodes, max_depth=10\n",
      "[16:34:32] src/tree/updater_prune.cc:74: tree pruning end, 1 roots, 252 extra nodes, 6 pruned nodes, max_depth=10\n"
     ]
    },
    {
     "name": "stdout",
     "output_type": "stream",
     "text": [
      "[16:34:33] src/tree/updater_prune.cc:74: tree pruning end, 1 roots, 228 extra nodes, 6 pruned nodes, max_depth=10\n",
      "[16:34:33] src/tree/updater_prune.cc:74: tree pruning end, 1 roots, 260 extra nodes, 10 pruned nodes, max_depth=10\n",
      "[16:34:33] src/tree/updater_prune.cc:74: tree pruning end, 1 roots, 262 extra nodes, 4 pruned nodes, max_depth=10\n",
      "[16:34:33] src/tree/updater_prune.cc:74: tree pruning end, 1 roots, 238 extra nodes, 10 pruned nodes, max_depth=10\n",
      "[16:34:33] src/tree/updater_prune.cc:74: tree pruning end, 1 roots, 168 extra nodes, 0 pruned nodes, max_depth=10\n",
      "[16:34:34] src/tree/updater_prune.cc:74: tree pruning end, 1 roots, 324 extra nodes, 4 pruned nodes, max_depth=10\n",
      "[16:34:34] src/tree/updater_prune.cc:74: tree pruning end, 1 roots, 226 extra nodes, 14 pruned nodes, max_depth=10\n",
      "[16:34:34] src/tree/updater_prune.cc:74: tree pruning end, 1 roots, 392 extra nodes, 14 pruned nodes, max_depth=10\n",
      "[16:34:34] src/tree/updater_prune.cc:74: tree pruning end, 1 roots, 240 extra nodes, 6 pruned nodes, max_depth=10\n",
      "[16:34:34] src/tree/updater_prune.cc:74: tree pruning end, 1 roots, 218 extra nodes, 12 pruned nodes, max_depth=10\n",
      "[16:34:34] src/tree/updater_prune.cc:74: tree pruning end, 1 roots, 196 extra nodes, 6 pruned nodes, max_depth=10\n",
      "[16:34:35] src/tree/updater_prune.cc:74: tree pruning end, 1 roots, 242 extra nodes, 12 pruned nodes, max_depth=10\n",
      "[16:34:35] src/tree/updater_prune.cc:74: tree pruning end, 1 roots, 170 extra nodes, 0 pruned nodes, max_depth=10\n",
      "[16:34:35] src/tree/updater_prune.cc:74: tree pruning end, 1 roots, 124 extra nodes, 4 pruned nodes, max_depth=10\n",
      "[16:34:35] src/tree/updater_prune.cc:74: tree pruning end, 1 roots, 170 extra nodes, 4 pruned nodes, max_depth=10\n",
      "[16:34:36] src/tree/updater_prune.cc:74: tree pruning end, 1 roots, 280 extra nodes, 6 pruned nodes, max_depth=10\n",
      "[16:34:36] src/tree/updater_prune.cc:74: tree pruning end, 1 roots, 210 extra nodes, 4 pruned nodes, max_depth=10\n",
      "[16:34:36] src/tree/updater_prune.cc:74: tree pruning end, 1 roots, 170 extra nodes, 2 pruned nodes, max_depth=10\n",
      "[16:34:36] src/tree/updater_prune.cc:74: tree pruning end, 1 roots, 290 extra nodes, 10 pruned nodes, max_depth=10\n",
      "[16:34:37] src/tree/updater_prune.cc:74: tree pruning end, 1 roots, 278 extra nodes, 16 pruned nodes, max_depth=10\n",
      "[16:34:37] src/tree/updater_prune.cc:74: tree pruning end, 1 roots, 222 extra nodes, 12 pruned nodes, max_depth=10\n",
      "[16:34:37] src/tree/updater_prune.cc:74: tree pruning end, 1 roots, 278 extra nodes, 14 pruned nodes, max_depth=10\n",
      "[16:34:37] src/tree/updater_prune.cc:74: tree pruning end, 1 roots, 308 extra nodes, 4 pruned nodes, max_depth=10\n",
      "[16:34:38] src/tree/updater_prune.cc:74: tree pruning end, 1 roots, 282 extra nodes, 4 pruned nodes, max_depth=10\n",
      "[16:34:38] src/tree/updater_prune.cc:74: tree pruning end, 1 roots, 182 extra nodes, 6 pruned nodes, max_depth=10\n",
      "[16:34:38] src/tree/updater_prune.cc:74: tree pruning end, 1 roots, 274 extra nodes, 2 pruned nodes, max_depth=10\n",
      "[16:34:38] src/tree/updater_prune.cc:74: tree pruning end, 1 roots, 230 extra nodes, 18 pruned nodes, max_depth=10\n",
      "[16:34:38] src/tree/updater_prune.cc:74: tree pruning end, 1 roots, 272 extra nodes, 10 pruned nodes, max_depth=10\n",
      "[16:34:39] src/tree/updater_prune.cc:74: tree pruning end, 1 roots, 232 extra nodes, 4 pruned nodes, max_depth=10\n",
      "[16:34:39] src/tree/updater_prune.cc:74: tree pruning end, 1 roots, 234 extra nodes, 10 pruned nodes, max_depth=10\n",
      "[16:34:39] src/tree/updater_prune.cc:74: tree pruning end, 1 roots, 158 extra nodes, 2 pruned nodes, max_depth=10\n",
      "[16:34:39] src/tree/updater_prune.cc:74: tree pruning end, 1 roots, 224 extra nodes, 12 pruned nodes, max_depth=10\n",
      "[16:34:39] src/tree/updater_prune.cc:74: tree pruning end, 1 roots, 214 extra nodes, 2 pruned nodes, max_depth=10\n",
      "[16:34:39] src/tree/updater_prune.cc:74: tree pruning end, 1 roots, 112 extra nodes, 6 pruned nodes, max_depth=10\n",
      "[16:34:40] src/tree/updater_prune.cc:74: tree pruning end, 1 roots, 164 extra nodes, 4 pruned nodes, max_depth=10\n",
      "[16:34:40] src/tree/updater_prune.cc:74: tree pruning end, 1 roots, 214 extra nodes, 2 pruned nodes, max_depth=10\n",
      "[16:34:40] src/tree/updater_prune.cc:74: tree pruning end, 1 roots, 210 extra nodes, 6 pruned nodes, max_depth=10\n"
     ]
    },
    {
     "name": "stderr",
     "output_type": "stream",
     "text": [
      "[Parallel(n_jobs=4)]: Done  80 out of  80 | elapsed:  1.4min finished\n"
     ]
    },
    {
     "name": "stdout",
     "output_type": "stream",
     "text": [
      "[16:34:41] src/tree/updater_prune.cc:74: tree pruning end, 1 roots, 280 extra nodes, 4 pruned nodes, max_depth=10\n",
      "[16:34:42] src/tree/updater_prune.cc:74: tree pruning end, 1 roots, 382 extra nodes, 10 pruned nodes, max_depth=10\n",
      "[16:34:42] src/tree/updater_prune.cc:74: tree pruning end, 1 roots, 314 extra nodes, 6 pruned nodes, max_depth=10\n",
      "[16:34:43] src/tree/updater_prune.cc:74: tree pruning end, 1 roots, 186 extra nodes, 6 pruned nodes, max_depth=10\n",
      "[16:34:43] src/tree/updater_prune.cc:74: tree pruning end, 1 roots, 180 extra nodes, 8 pruned nodes, max_depth=10\n"
     ]
    },
    {
     "data": {
      "text/plain": [
       "GridSearchCV(cv=5, error_score='raise',\n",
       "       estimator=XGBClassifier(base_score=0.5, booster='gbtree', colsample_bylevel=1,\n",
       "       colsample_bytree=1, cv=5, eval_metric='logloss', gamma=0.4,\n",
       "       learning_rate=0.9, max_delta_step=0, max_depth=10,\n",
       "       min_child_weight=7, missing=None, n_estimators=5, n_jobs=1,\n",
       "       nthread=None, objective='binary:logistic', random_state=0,\n",
       "       reg_alpha=0, reg_lambda=1, scale_pos_weight=1, seed=0, silent=0,\n",
       "       subsample=1),\n",
       "       fit_params=None, iid=True, n_jobs=4,\n",
       "       param_grid={'subsample': [0.6, 0.7, 0.8, 0.9], 'colsample_bytree': [0.6, 0.7, 0.8, 0.9]},\n",
       "       pre_dispatch='2*n_jobs', refit=True, return_train_score='warn',\n",
       "       scoring='neg_log_loss', verbose=1)"
      ]
     },
     "execution_count": 316,
     "metadata": {},
     "output_type": "execute_result"
    }
   ],
   "source": [
    "# Create the object.\n",
    "clf_xgb4 = xgb.XGBClassifier(**other_params4)\n",
    "grid_obj4 = GridSearchCV(estimator=clf_xgb4, \n",
    "                         param_grid=cv_params4, \n",
    "                         scoring='neg_log_loss', cv=5, verbose=1, n_jobs=4)\n",
    "\n",
    "# Fit the data\n",
    "grid_obj4.fit(x_train, y_train)  # 使用网格搜索训练模型，找到包含最佳参数的对象grid_fit"
   ]
  },
  {
   "cell_type": "code",
   "execution_count": 317,
   "metadata": {},
   "outputs": [
    {
     "name": "stdout",
     "output_type": "stream",
     "text": [
      "参数的最佳取值：{'colsample_bytree': 0.8, 'subsample': 0.9}\n",
      "最佳模型得分:0.1995513097381626\n"
     ]
    }
   ],
   "source": [
    "print('参数的最佳取值：{0}'.format(grid_obj4.best_params_))\n",
    "print('最佳模型得分:{0}'.format(abs(grid_obj4.best_score_)))"
   ]
  },
  {
   "cell_type": "markdown",
   "metadata": {},
   "source": [
    "##### 7.2.6 XGBoost模型reg_alpha和reg_lambda参数调优"
   ]
  },
  {
   "cell_type": "code",
   "execution_count": 318,
   "metadata": {},
   "outputs": [],
   "source": [
    "# 要调优参数\n",
    "cv_params5 = {'reg_alpha':[0.05, 0.1, 1, 2, 3], \n",
    "              'reg_lambda':[0.05, 0.1, 1, 2, 3]}  # 要调优的参数"
   ]
  },
  {
   "cell_type": "code",
   "execution_count": 319,
   "metadata": {},
   "outputs": [],
   "source": [
    "# 参数初始化\n",
    "other_params5 = {'objective':'binary:logistic', 'eval_metric':'logloss',\n",
    "                 'max_depth':10,  # 已经调优\n",
    "                 'learning_rate':0.9,  # 已经调优\n",
    "                 'min_child_weight': 7,  # 已经调优\n",
    "                 'n_estimators': 5,  # 已经调优\n",
    "                 'gamma':0.4,  # 已经调优\n",
    "                 'subsample':0.9,  # 已经调优\n",
    "                 'colsample_bytree':0.8,  # 已经调优\n",
    "                 'silent':0, \n",
    "                 'cv':5,\n",
    "                 'seed':0}"
   ]
  },
  {
   "cell_type": "code",
   "execution_count": 320,
   "metadata": {},
   "outputs": [
    {
     "name": "stdout",
     "output_type": "stream",
     "text": [
      "Fitting 5 folds for each of 25 candidates, totalling 125 fits\n",
      "[16:36:28] src/tree/updater_prune.cc:74: tree pruning end, 1 roots, 334 extra nodes, 20 pruned nodes, max_depth=10\n",
      "[16:36:29] src/tree/updater_prune.cc:74: tree pruning end, 1 roots, 366 extra nodes, 14 pruned nodes, max_depth=10\n",
      "[16:36:29] src/tree/updater_prune.cc:74: tree pruning end, 1 roots, 376 extra nodes, 16 pruned nodes, max_depth=10\n",
      "[16:36:29] src/tree/updater_prune.cc:74: tree pruning end, 1 roots, 366 extra nodes, 28 pruned nodes, max_depth=10\n",
      "[16:36:29] src/tree/updater_prune.cc:74: tree pruning end, 1 roots, 446 extra nodes, 20 pruned nodes, max_depth=10\n",
      "[16:36:29] src/tree/updater_prune.cc:74: tree pruning end, 1 roots, 388 extra nodes, 20 pruned nodes, max_depth=10\n",
      "[16:36:29] src/tree/updater_prune.cc:74: tree pruning end, 1 roots, 314 extra nodes, 22 pruned nodes, max_depth=10\n",
      "[16:36:30] src/tree/updater_prune.cc:74: tree pruning end, 1 roots, 328 extra nodes, 18 pruned nodes, max_depth=10\n",
      "[16:36:30] src/tree/updater_prune.cc:74: tree pruning end, 1 roots, 264 extra nodes, 10 pruned nodes, max_depth=10\n",
      "[16:36:30] src/tree/updater_prune.cc:74: tree pruning end, 1 roots, 294 extra nodes, 18 pruned nodes, max_depth=10\n",
      "[16:36:30] src/tree/updater_prune.cc:74: tree pruning end, 1 roots, 334 extra nodes, 22 pruned nodes, max_depth=10\n",
      "[16:36:30] src/tree/updater_prune.cc:74: tree pruning end, 1 roots, 320 extra nodes, 32 pruned nodes, max_depth=10\n",
      "[16:36:31] src/tree/updater_prune.cc:74: tree pruning end, 1 roots, 246 extra nodes, 10 pruned nodes, max_depth=10\n",
      "[16:36:31] src/tree/updater_prune.cc:74: tree pruning end, 1 roots, 214 extra nodes, 8 pruned nodes, max_depth=10\n",
      "[16:36:31] src/tree/updater_prune.cc:74: tree pruning end, 1 roots, 224 extra nodes, 16 pruned nodes, max_depth=10\n",
      "[16:36:31] src/tree/updater_prune.cc:74: tree pruning end, 1 roots, 222 extra nodes, 10 pruned nodes, max_depth=10\n",
      "[16:36:31] src/tree/updater_prune.cc:74: tree pruning end, 1 roots, 150 extra nodes, 4 pruned nodes, max_depth=10\n",
      "[16:36:32] src/tree/updater_prune.cc:74: tree pruning end, 1 roots, 148 extra nodes, 12 pruned nodes, max_depth=10\n",
      "[16:36:32] src/tree/updater_prune.cc:74: tree pruning end, 1 roots, 152 extra nodes, 6 pruned nodes, max_depth=10\n",
      "[16:36:32] src/tree/updater_prune.cc:74: tree pruning end, 1 roots, 128 extra nodes, 2 pruned nodes, max_depth=10\n",
      "[16:36:33] src/tree/updater_prune.cc:74: tree pruning end, 1 roots, 364 extra nodes, 22 pruned nodes, max_depth=10\n",
      "[16:36:33] src/tree/updater_prune.cc:74: tree pruning end, 1 roots, 316 extra nodes, 20 pruned nodes, max_depth=10\n",
      "[16:36:33] src/tree/updater_prune.cc:74: tree pruning end, 1 roots, 352 extra nodes, 8 pruned nodes, max_depth=10\n",
      "[16:36:34] src/tree/updater_prune.cc:74: tree pruning end, 1 roots, 360 extra nodes, 12 pruned nodes, max_depth=10\n",
      "[16:36:34] src/tree/updater_prune.cc:74: tree pruning end, 1 roots, 336 extra nodes, 28 pruned nodes, max_depth=10\n",
      "[16:36:34] src/tree/updater_prune.cc:74: tree pruning end, 1 roots, 438 extra nodes, 22 pruned nodes, max_depth=10\n",
      "[16:36:34] src/tree/updater_prune.cc:74: tree pruning end, 1 roots, 382 extra nodes, 20 pruned nodes, max_depth=10\n",
      "[16:36:34] src/tree/updater_prune.cc:74: tree pruning end, 1 roots, 310 extra nodes, 24 pruned nodes, max_depth=10\n",
      "[16:36:35] src/tree/updater_prune.cc:74: tree pruning end, 1 roots, 290 extra nodes, 22 pruned nodes, max_depth=10\n",
      "[16:36:35] src/tree/updater_prune.cc:74: tree pruning end, 1 roots, 256 extra nodes, 8 pruned nodes, max_depth=10\n",
      "[16:36:35] src/tree/updater_prune.cc:74: tree pruning end, 1 roots, 296 extra nodes, 18 pruned nodes, max_depth=10\n",
      "[16:36:35] src/tree/updater_prune.cc:74: tree pruning end, 1 roots, 314 extra nodes, 20 pruned nodes, max_depth=10\n",
      "[16:36:35] src/tree/updater_prune.cc:74: tree pruning end, 1 roots, 242 extra nodes, 12 pruned nodes, max_depth=10\n",
      "[16:36:35] src/tree/updater_prune.cc:74: tree pruning end, 1 roots, 186 extra nodes, 12 pruned nodes, max_depth=10\n",
      "[16:36:36] src/tree/updater_prune.cc:74: tree pruning end, 1 roots, 226 extra nodes, 8 pruned nodes, max_depth=10\n",
      "[16:36:36] src/tree/updater_prune.cc:74: tree pruning end, 1 roots, 220 extra nodes, 10 pruned nodes, max_depth=10\n",
      "[16:36:36] src/tree/updater_prune.cc:74: tree pruning end, 1 roots, 192 extra nodes, 6 pruned nodes, max_depth=10\n",
      "[16:36:36] src/tree/updater_prune.cc:74: tree pruning end, 1 roots, 154 extra nodes, 2 pruned nodes, max_depth=10\n",
      "[16:36:37] src/tree/updater_prune.cc:74: tree pruning end, 1 roots, 136 extra nodes, 8 pruned nodes, max_depth=10\n",
      "[16:36:37] src/tree/updater_prune.cc:74: tree pruning end, 1 roots, 124 extra nodes, 4 pruned nodes, max_depth=10\n",
      "[16:36:38] src/tree/updater_prune.cc:74: tree pruning end, 1 roots, 348 extra nodes, 16 pruned nodes, max_depth=10\n",
      "[16:36:38] src/tree/updater_prune.cc:74: tree pruning end, 1 roots, 340 extra nodes, 14 pruned nodes, max_depth=10\n",
      "[16:36:38] src/tree/updater_prune.cc:74: tree pruning end, 1 roots, 230 extra nodes, 4 pruned nodes, max_depth=10\n",
      "[16:36:38] src/tree/updater_prune.cc:74: tree pruning end, 1 roots, 268 extra nodes, 10 pruned nodes, max_depth=10\n",
      "[16:36:39] src/tree/updater_prune.cc:74: tree pruning end, 1 roots, 320 extra nodes, 20 pruned nodes, max_depth=10\n",
      "[16:36:39] src/tree/updater_prune.cc:74: tree pruning end, 1 roots, 338 extra nodes, 14 pruned nodes, max_depth=10\n",
      "[16:36:39] src/tree/updater_prune.cc:74: tree pruning end, 1 roots, 360 extra nodes, 18 pruned nodes, max_depth=10\n",
      "[16:36:39] src/tree/updater_prune.cc:74: tree pruning end, 1 roots, 290 extra nodes, 10 pruned nodes, max_depth=10\n",
      "[16:36:39] src/tree/updater_prune.cc:74: tree pruning end, 1 roots, 300 extra nodes, 28 pruned nodes, max_depth=10\n",
      "[16:36:39] src/tree/updater_prune.cc:74: tree pruning end, 1 roots, 290 extra nodes, 12 pruned nodes, max_depth=10\n",
      "[16:36:40] src/tree/updater_prune.cc:74: tree pruning end, 1 roots, 216 extra nodes, 4 pruned nodes, max_depth=10\n",
      "[16:36:40] src/tree/updater_prune.cc:74: tree pruning end, 1 roots, 228 extra nodes, 12 pruned nodes, max_depth=10\n",
      "[16:36:40] src/tree/updater_prune.cc:74: tree pruning end, 1 roots, 240 extra nodes, 12 pruned nodes, max_depth=10\n",
      "[16:36:40] src/tree/updater_prune.cc:74: tree pruning end, 1 roots, 258 extra nodes, 6 pruned nodes, max_depth=10\n",
      "[16:36:40] src/tree/updater_prune.cc:74: tree pruning end, 1 roots, 258 extra nodes, 10 pruned nodes, max_depth=10\n",
      "[16:36:41] src/tree/updater_prune.cc:74: tree pruning end, 1 roots, 238 extra nodes, 6 pruned nodes, max_depth=10\n",
      "[16:36:41] src/tree/updater_prune.cc:74: tree pruning end, 1 roots, 138 extra nodes, 2 pruned nodes, max_depth=10\n",
      "[16:36:41] src/tree/updater_prune.cc:74: tree pruning end, 1 roots, 200 extra nodes, 4 pruned nodes, max_depth=10\n",
      "[16:36:41] src/tree/updater_prune.cc:74: tree pruning end, 1 roots, 156 extra nodes, 4 pruned nodes, max_depth=10\n",
      "[16:36:41] src/tree/updater_prune.cc:74: tree pruning end, 1 roots, 146 extra nodes, 4 pruned nodes, max_depth=10\n",
      "[16:36:42] src/tree/updater_prune.cc:74: tree pruning end, 1 roots, 268 extra nodes, 6 pruned nodes, max_depth=10\n",
      "[16:36:43] src/tree/updater_prune.cc:74: tree pruning end, 1 roots, 280 extra nodes, 8 pruned nodes, max_depth=10\n",
      "[16:36:43] src/tree/updater_prune.cc:74: tree pruning end, 1 roots, 206 extra nodes, 4 pruned nodes, max_depth=10\n",
      "[16:36:43] src/tree/updater_prune.cc:74: tree pruning end, 1 roots, 274 extra nodes, 6 pruned nodes, max_depth=10\n",
      "[16:36:43] src/tree/updater_prune.cc:74: tree pruning end, 1 roots, 306 extra nodes, 4 pruned nodes, max_depth=10\n",
      "[16:36:43] src/tree/updater_prune.cc:74: tree pruning end, 1 roots, 280 extra nodes, 10 pruned nodes, max_depth=10\n",
      "[16:36:44] src/tree/updater_prune.cc:74: tree pruning end, 1 roots, 274 extra nodes, 10 pruned nodes, max_depth=10\n",
      "[16:36:44] src/tree/updater_prune.cc:74: tree pruning end, 1 roots, 336 extra nodes, 16 pruned nodes, max_depth=10\n",
      "[16:36:44] src/tree/updater_prune.cc:74: tree pruning end, 1 roots, 192 extra nodes, 10 pruned nodes, max_depth=10\n",
      "[16:36:44] src/tree/updater_prune.cc:74: tree pruning end, 1 roots, 254 extra nodes, 8 pruned nodes, max_depth=10\n",
      "[16:36:44] src/tree/updater_prune.cc:74: tree pruning end, 1 roots, 224 extra nodes, 0 pruned nodes, max_depth=10\n"
     ]
    },
    {
     "name": "stdout",
     "output_type": "stream",
     "text": [
      "[16:36:44] src/tree/updater_prune.cc:74: tree pruning end, 1 roots, 286 extra nodes, 10 pruned nodes, max_depth=10\n",
      "[16:36:45] src/tree/updater_prune.cc:74: tree pruning end, 1 roots, 200 extra nodes, 6 pruned nodes, max_depth=10\n",
      "[16:36:45] src/tree/updater_prune.cc:74: tree pruning end, 1 roots, 242 extra nodes, 6 pruned nodes, max_depth=10\n",
      "[16:36:45] src/tree/updater_prune.cc:74: tree pruning end, 1 roots, 228 extra nodes, 6 pruned nodes, max_depth=10\n",
      "[16:36:45] src/tree/updater_prune.cc:74: tree pruning end, 1 roots, 216 extra nodes, 8 pruned nodes, max_depth=10\n",
      "[16:36:45] src/tree/updater_prune.cc:74: tree pruning end, 1 roots, 184 extra nodes, 2 pruned nodes, max_depth=10\n",
      "[16:36:46] src/tree/updater_prune.cc:74: tree pruning end, 1 roots, 114 extra nodes, 2 pruned nodes, max_depth=10\n",
      "[16:36:46] src/tree/updater_prune.cc:74: tree pruning end, 1 roots, 156 extra nodes, 4 pruned nodes, max_depth=10\n",
      "[16:36:46] src/tree/updater_prune.cc:74: tree pruning end, 1 roots, 182 extra nodes, 0 pruned nodes, max_depth=10\n",
      "[16:36:47] src/tree/updater_prune.cc:74: tree pruning end, 1 roots, 218 extra nodes, 2 pruned nodes, max_depth=10\n",
      "[16:36:48] src/tree/updater_prune.cc:74: tree pruning end, 1 roots, 246 extra nodes, 2 pruned nodes, max_depth=10\n",
      "[16:36:48] src/tree/updater_prune.cc:74: tree pruning end, 1 roots, 242 extra nodes, 4 pruned nodes, max_depth=10\n",
      "[16:36:48] src/tree/updater_prune.cc:74: tree pruning end, 1 roots, 228 extra nodes, 4 pruned nodes, max_depth=10\n",
      "[16:36:48] src/tree/updater_prune.cc:74: tree pruning end, 1 roots, 296 extra nodes, 8 pruned nodes, max_depth=10\n",
      "[16:36:48] src/tree/updater_prune.cc:74: tree pruning end, 1 roots, 248 extra nodes, 10 pruned nodes, max_depth=10\n",
      "[16:36:49] src/tree/updater_prune.cc:74: tree pruning end, 1 roots, 246 extra nodes, 6 pruned nodes, max_depth=10\n",
      "[16:36:49] src/tree/updater_prune.cc:74: tree pruning end, 1 roots, 240 extra nodes, 4 pruned nodes, max_depth=10\n",
      "[16:36:49] src/tree/updater_prune.cc:74: tree pruning end, 1 roots, 242 extra nodes, 0 pruned nodes, max_depth=10\n",
      "[16:36:49] src/tree/updater_prune.cc:74: tree pruning end, 1 roots, 268 extra nodes, 8 pruned nodes, max_depth=10\n",
      "[16:36:50] src/tree/updater_prune.cc:74: tree pruning end, 1 roots, 266 extra nodes, 14 pruned nodes, max_depth=10\n",
      "[16:36:50] src/tree/updater_prune.cc:74: tree pruning end, 1 roots, 254 extra nodes, 2 pruned nodes, max_depth=10\n",
      "[16:36:50] src/tree/updater_prune.cc:74: tree pruning end, 1 roots, 194 extra nodes, 4 pruned nodes, max_depth=10\n",
      "[16:36:50] src/tree/updater_prune.cc:74: tree pruning end, 1 roots, 204 extra nodes, 0 pruned nodes, max_depth=10\n",
      "[16:36:50] src/tree/updater_prune.cc:74: tree pruning end, 1 roots, 208 extra nodes, 4 pruned nodes, max_depth=10\n",
      "[16:36:50] src/tree/updater_prune.cc:74: tree pruning end, 1 roots, 228 extra nodes, 4 pruned nodes, max_depth=10\n",
      "[16:36:50] src/tree/updater_prune.cc:74: tree pruning end, 1 roots, 210 extra nodes, 2 pruned nodes, max_depth=10\n",
      "[16:36:51] src/tree/updater_prune.cc:74: tree pruning end, 1 roots, 150 extra nodes, 2 pruned nodes, max_depth=10\n",
      "[16:36:51] src/tree/updater_prune.cc:74: tree pruning end, 1 roots, 138 extra nodes, 2 pruned nodes, max_depth=10\n",
      "[16:36:51] src/tree/updater_prune.cc:74: tree pruning end, 1 roots, 150 extra nodes, 2 pruned nodes, max_depth=10\n",
      "[16:36:52] src/tree/updater_prune.cc:74: tree pruning end, 1 roots, 190 extra nodes, 4 pruned nodes, max_depth=10\n",
      "[16:36:52] src/tree/updater_prune.cc:74: tree pruning end, 1 roots, 216 extra nodes, 4 pruned nodes, max_depth=10\n",
      "[16:36:53] src/tree/updater_prune.cc:74: tree pruning end, 1 roots, 230 extra nodes, 6 pruned nodes, max_depth=10\n",
      "[16:36:53] src/tree/updater_prune.cc:74: tree pruning end, 1 roots, 212 extra nodes, 12 pruned nodes, max_depth=10\n",
      "[16:36:53] src/tree/updater_prune.cc:74: tree pruning end, 1 roots, 336 extra nodes, 4 pruned nodes, max_depth=10\n",
      "[16:36:53] src/tree/updater_prune.cc:74: tree pruning end, 1 roots, 286 extra nodes, 2 pruned nodes, max_depth=10\n",
      "[16:36:53] src/tree/updater_prune.cc:74: tree pruning end, 1 roots, 224 extra nodes, 10 pruned nodes, max_depth=10\n",
      "[16:36:53] src/tree/updater_prune.cc:74: tree pruning end, 1 roots, 222 extra nodes, 8 pruned nodes, max_depth=10\n",
      "[16:36:53] src/tree/updater_prune.cc:74: tree pruning end, 1 roots, 194 extra nodes, 4 pruned nodes, max_depth=10\n",
      "[16:36:54] src/tree/updater_prune.cc:74: tree pruning end, 1 roots, 216 extra nodes, 8 pruned nodes, max_depth=10\n",
      "[16:36:54] src/tree/updater_prune.cc:74: tree pruning end, 1 roots, 258 extra nodes, 4 pruned nodes, max_depth=10\n",
      "[16:36:54] src/tree/updater_prune.cc:74: tree pruning end, 1 roots, 248 extra nodes, 4 pruned nodes, max_depth=10\n",
      "[16:36:54] src/tree/updater_prune.cc:74: tree pruning end, 1 roots, 222 extra nodes, 6 pruned nodes, max_depth=10\n",
      "[16:36:54] src/tree/updater_prune.cc:74: tree pruning end, 1 roots, 202 extra nodes, 10 pruned nodes, max_depth=10\n",
      "[16:36:55] src/tree/updater_prune.cc:74: tree pruning end, 1 roots, 168 extra nodes, 2 pruned nodes, max_depth=10\n",
      "[16:36:55] src/tree/updater_prune.cc:74: tree pruning end, 1 roots, 120 extra nodes, 6 pruned nodes, max_depth=10\n",
      "[16:36:55] src/tree/updater_prune.cc:74: tree pruning end, 1 roots, 204 extra nodes, 0 pruned nodes, max_depth=10\n",
      "[16:36:55] src/tree/updater_prune.cc:74: tree pruning end, 1 roots, 170 extra nodes, 2 pruned nodes, max_depth=10\n",
      "[16:36:55] src/tree/updater_prune.cc:74: tree pruning end, 1 roots, 170 extra nodes, 0 pruned nodes, max_depth=10\n",
      "[16:36:55] src/tree/updater_prune.cc:74: tree pruning end, 1 roots, 128 extra nodes, 2 pruned nodes, max_depth=10\n",
      "[16:36:56] src/tree/updater_prune.cc:74: tree pruning end, 1 roots, 212 extra nodes, 2 pruned nodes, max_depth=10\n",
      "[16:36:57] src/tree/updater_prune.cc:74: tree pruning end, 1 roots, 316 extra nodes, 20 pruned nodes, max_depth=10\n",
      "[16:36:57] src/tree/updater_prune.cc:74: tree pruning end, 1 roots, 246 extra nodes, 4 pruned nodes, max_depth=10\n",
      "[16:36:57] src/tree/updater_prune.cc:74: tree pruning end, 1 roots, 348 extra nodes, 12 pruned nodes, max_depth=10\n",
      "[16:36:57] src/tree/updater_prune.cc:74: tree pruning end, 1 roots, 360 extra nodes, 12 pruned nodes, max_depth=10\n",
      "[16:36:57] src/tree/updater_prune.cc:74: tree pruning end, 1 roots, 436 extra nodes, 20 pruned nodes, max_depth=10\n",
      "[16:36:58] src/tree/updater_prune.cc:74: tree pruning end, 1 roots, 242 extra nodes, 6 pruned nodes, max_depth=10\n",
      "[16:36:58] src/tree/updater_prune.cc:74: tree pruning end, 1 roots, 380 extra nodes, 18 pruned nodes, max_depth=10\n",
      "[16:36:58] src/tree/updater_prune.cc:74: tree pruning end, 1 roots, 308 extra nodes, 22 pruned nodes, max_depth=10\n",
      "[16:36:58] src/tree/updater_prune.cc:74: tree pruning end, 1 roots, 254 extra nodes, 8 pruned nodes, max_depth=10\n",
      "[16:36:59] src/tree/updater_prune.cc:74: tree pruning end, 1 roots, 202 extra nodes, 4 pruned nodes, max_depth=10\n",
      "[16:36:59] src/tree/updater_prune.cc:74: tree pruning end, 1 roots, 292 extra nodes, 14 pruned nodes, max_depth=10\n",
      "[16:36:59] src/tree/updater_prune.cc:74: tree pruning end, 1 roots, 314 extra nodes, 18 pruned nodes, max_depth=10\n",
      "[16:36:59] src/tree/updater_prune.cc:74: tree pruning end, 1 roots, 230 extra nodes, 12 pruned nodes, max_depth=10\n",
      "[16:36:59] src/tree/updater_prune.cc:74: tree pruning end, 1 roots, 114 extra nodes, 2 pruned nodes, max_depth=10\n",
      "[16:36:59] src/tree/updater_prune.cc:74: tree pruning end, 1 roots, 224 extra nodes, 8 pruned nodes, max_depth=10\n",
      "[16:36:59] src/tree/updater_prune.cc:74: tree pruning end, 1 roots, 222 extra nodes, 10 pruned nodes, max_depth=10\n",
      "[16:37:00] src/tree/updater_prune.cc:74: tree pruning end, 1 roots, 184 extra nodes, 2 pruned nodes, max_depth=10\n",
      "[16:37:00] src/tree/updater_prune.cc:74: tree pruning end, 1 roots, 140 extra nodes, 10 pruned nodes, max_depth=10\n",
      "[16:37:00] src/tree/updater_prune.cc:74: tree pruning end, 1 roots, 124 extra nodes, 6 pruned nodes, max_depth=10\n",
      "[16:37:01] src/tree/updater_prune.cc:74: tree pruning end, 1 roots, 348 extra nodes, 16 pruned nodes, max_depth=10\n",
      "[16:37:01] src/tree/updater_prune.cc:74: tree pruning end, 1 roots, 342 extra nodes, 14 pruned nodes, max_depth=10\n",
      "[16:37:01] src/tree/updater_prune.cc:74: tree pruning end, 1 roots, 318 extra nodes, 22 pruned nodes, max_depth=10\n"
     ]
    },
    {
     "name": "stdout",
     "output_type": "stream",
     "text": [
      "[16:37:02] src/tree/updater_prune.cc:74: tree pruning end, 1 roots, 296 extra nodes, 22 pruned nodes, max_depth=10\n",
      "[16:37:02] src/tree/updater_prune.cc:74: tree pruning end, 1 roots, 336 extra nodes, 16 pruned nodes, max_depth=10\n",
      "[16:37:02] src/tree/updater_prune.cc:74: tree pruning end, 1 roots, 354 extra nodes, 18 pruned nodes, max_depth=10\n",
      "[16:37:02] src/tree/updater_prune.cc:74: tree pruning end, 1 roots, 298 extra nodes, 28 pruned nodes, max_depth=10\n",
      "[16:37:02] src/tree/updater_prune.cc:74: tree pruning end, 1 roots, 426 extra nodes, 20 pruned nodes, max_depth=10\n",
      "[16:37:02] src/tree/updater_prune.cc:74: tree pruning end, 1 roots, 374 extra nodes, 20 pruned nodes, max_depth=10\n",
      "[16:37:03] src/tree/updater_prune.cc:74: tree pruning end, 1 roots, 282 extra nodes, 26 pruned nodes, max_depth=10\n",
      "[16:37:03] src/tree/updater_prune.cc:74: tree pruning end, 1 roots, 224 extra nodes, 18 pruned nodes, max_depth=10\n",
      "[16:37:03] src/tree/updater_prune.cc:74: tree pruning end, 1 roots, 236 extra nodes, 12 pruned nodes, max_depth=10\n",
      "[16:37:03] src/tree/updater_prune.cc:74: tree pruning end, 1 roots, 276 extra nodes, 18 pruned nodes, max_depth=10\n",
      "[16:37:03] src/tree/updater_prune.cc:74: tree pruning end, 1 roots, 260 extra nodes, 10 pruned nodes, max_depth=10\n",
      "[16:37:04] src/tree/updater_prune.cc:74: tree pruning end, 1 roots, 140 extra nodes, 4 pruned nodes, max_depth=10\n",
      "[16:37:04] src/tree/updater_prune.cc:74: tree pruning end, 1 roots, 194 extra nodes, 18 pruned nodes, max_depth=10\n",
      "[16:37:04] src/tree/updater_prune.cc:74: tree pruning end, 1 roots, 262 extra nodes, 4 pruned nodes, max_depth=10\n",
      "[16:37:04] src/tree/updater_prune.cc:74: tree pruning end, 1 roots, 136 extra nodes, 10 pruned nodes, max_depth=10\n",
      "[16:37:04] src/tree/updater_prune.cc:74: tree pruning end, 1 roots, 188 extra nodes, 0 pruned nodes, max_depth=10\n",
      "[16:37:04] src/tree/updater_prune.cc:74: tree pruning end, 1 roots, 204 extra nodes, 2 pruned nodes, max_depth=10\n",
      "[16:37:05] src/tree/updater_prune.cc:74: tree pruning end, 1 roots, 344 extra nodes, 24 pruned nodes, max_depth=10\n",
      "[16:37:06] src/tree/updater_prune.cc:74: tree pruning end, 1 roots, 340 extra nodes, 18 pruned nodes, max_depth=10\n",
      "[16:37:06] src/tree/updater_prune.cc:74: tree pruning end, 1 roots, 330 extra nodes, 8 pruned nodes, max_depth=10\n",
      "[16:37:06] src/tree/updater_prune.cc:74: tree pruning end, 1 roots, 306 extra nodes, 22 pruned nodes, max_depth=10\n",
      "[16:37:06] src/tree/updater_prune.cc:74: tree pruning end, 1 roots, 228 extra nodes, 4 pruned nodes, max_depth=10\n",
      "[16:37:06] src/tree/updater_prune.cc:74: tree pruning end, 1 roots, 312 extra nodes, 18 pruned nodes, max_depth=10\n",
      "[16:37:07] src/tree/updater_prune.cc:74: tree pruning end, 1 roots, 354 extra nodes, 14 pruned nodes, max_depth=10\n",
      "[16:37:07] src/tree/updater_prune.cc:74: tree pruning end, 1 roots, 298 extra nodes, 16 pruned nodes, max_depth=10\n",
      "[16:37:07] src/tree/updater_prune.cc:74: tree pruning end, 1 roots, 350 extra nodes, 22 pruned nodes, max_depth=10\n",
      "[16:37:07] src/tree/updater_prune.cc:74: tree pruning end, 1 roots, 286 extra nodes, 14 pruned nodes, max_depth=10\n",
      "[16:37:07] src/tree/updater_prune.cc:74: tree pruning end, 1 roots, 300 extra nodes, 18 pruned nodes, max_depth=10\n",
      "[16:37:07] src/tree/updater_prune.cc:74: tree pruning end, 1 roots, 214 extra nodes, 4 pruned nodes, max_depth=10\n",
      "[16:37:07] src/tree/updater_prune.cc:74: tree pruning end, 1 roots, 204 extra nodes, 10 pruned nodes, max_depth=10\n",
      "[16:37:08] src/tree/updater_prune.cc:74: tree pruning end, 1 roots, 242 extra nodes, 12 pruned nodes, max_depth=10\n",
      "[16:37:08] src/tree/updater_prune.cc:74: tree pruning end, 1 roots, 146 extra nodes, 4 pruned nodes, max_depth=10\n",
      "[16:37:08] src/tree/updater_prune.cc:74: tree pruning end, 1 roots, 178 extra nodes, 2 pruned nodes, max_depth=10\n",
      "[16:37:08] src/tree/updater_prune.cc:74: tree pruning end, 1 roots, 264 extra nodes, 6 pruned nodes, max_depth=10\n",
      "[16:37:08] src/tree/updater_prune.cc:74: tree pruning end, 1 roots, 216 extra nodes, 2 pruned nodes, max_depth=10\n",
      "[16:37:09] src/tree/updater_prune.cc:74: tree pruning end, 1 roots, 114 extra nodes, 0 pruned nodes, max_depth=10\n",
      "[16:37:09] src/tree/updater_prune.cc:74: tree pruning end, 1 roots, 130 extra nodes, 10 pruned nodes, max_depth=10\n",
      "[16:37:09] src/tree/updater_prune.cc:74: tree pruning end, 1 roots, 256 extra nodes, 8 pruned nodes, max_depth=10\n",
      "[16:37:10] src/tree/updater_prune.cc:74: tree pruning end, 1 roots, 268 extra nodes, 0 pruned nodes, max_depth=10\n",
      "[16:37:10] src/tree/updater_prune.cc:74: tree pruning end, 1 roots, 276 extra nodes, 4 pruned nodes, max_depth=10\n",
      "[16:37:10] src/tree/updater_prune.cc:74: tree pruning end, 1 roots, 284 extra nodes, 12 pruned nodes, max_depth=10\n",
      "[16:37:10] src/tree/updater_prune.cc:74: tree pruning end, 1 roots, 272 extra nodes, 4 pruned nodes, max_depth=10\n",
      "[16:37:10] src/tree/updater_prune.cc:74: tree pruning end, 1 roots, 304 extra nodes, 4 pruned nodes, max_depth=10\n",
      "[16:37:11] src/tree/updater_prune.cc:74: tree pruning end, 1 roots, 272 extra nodes, 8 pruned nodes, max_depth=10\n",
      "[16:37:11] src/tree/updater_prune.cc:74: tree pruning end, 1 roots, 222 extra nodes, 8 pruned nodes, max_depth=10\n",
      "[16:37:11] src/tree/updater_prune.cc:74: tree pruning end, 1 roots, 290 extra nodes, 10 pruned nodes, max_depth=10\n",
      "[16:37:11] src/tree/updater_prune.cc:74: tree pruning end, 1 roots, 202 extra nodes, 4 pruned nodes, max_depth=10\n",
      "[16:37:11] src/tree/updater_prune.cc:74: tree pruning end, 1 roots, 262 extra nodes, 8 pruned nodes, max_depth=10\n",
      "[16:37:11] src/tree/updater_prune.cc:74: tree pruning end, 1 roots, 220 extra nodes, 6 pruned nodes, max_depth=10\n",
      "[16:37:12] src/tree/updater_prune.cc:74: tree pruning end, 1 roots, 250 extra nodes, 10 pruned nodes, max_depth=10\n",
      "[16:37:12] src/tree/updater_prune.cc:74: tree pruning end, 1 roots, 214 extra nodes, 2 pruned nodes, max_depth=10\n",
      "[16:37:12] src/tree/updater_prune.cc:74: tree pruning end, 1 roots, 224 extra nodes, 8 pruned nodes, max_depth=10\n",
      "[16:37:12] src/tree/updater_prune.cc:74: tree pruning end, 1 roots, 216 extra nodes, 2 pruned nodes, max_depth=10\n",
      "[16:37:12] src/tree/updater_prune.cc:74: tree pruning end, 1 roots, 228 extra nodes, 10 pruned nodes, max_depth=10\n",
      "[16:37:12] src/tree/updater_prune.cc:74: tree pruning end, 1 roots, 162 extra nodes, 4 pruned nodes, max_depth=10\n",
      "[16:37:13] src/tree/updater_prune.cc:74: tree pruning end, 1 roots, 104 extra nodes, 2 pruned nodes, max_depth=10\n",
      "[16:37:13] src/tree/updater_prune.cc:74: tree pruning end, 1 roots, 130 extra nodes, 4 pruned nodes, max_depth=10\n",
      "[16:37:14] src/tree/updater_prune.cc:74: tree pruning end, 1 roots, 204 extra nodes, 4 pruned nodes, max_depth=10\n",
      "[16:37:14] src/tree/updater_prune.cc:74: tree pruning end, 1 roots, 218 extra nodes, 2 pruned nodes, max_depth=10\n",
      "[16:37:14] src/tree/updater_prune.cc:74: tree pruning end, 1 roots, 240 extra nodes, 6 pruned nodes, max_depth=10\n",
      "[16:37:14] src/tree/updater_prune.cc:74: tree pruning end, 1 roots, 336 extra nodes, 18 pruned nodes, max_depth=10\n",
      "[16:37:14] src/tree/updater_prune.cc:74: tree pruning end, 1 roots, 228 extra nodes, 4 pruned nodes, max_depth=10\n",
      "[16:37:15] src/tree/updater_prune.cc:74: tree pruning end, 1 roots, 296 extra nodes, 8 pruned nodes, max_depth=10\n",
      "[16:37:15] src/tree/updater_prune.cc:74: tree pruning end, 1 roots, 256 extra nodes, 12 pruned nodes, max_depth=10\n",
      "[16:37:15] src/tree/updater_prune.cc:74: tree pruning end, 1 roots, 214 extra nodes, 0 pruned nodes, max_depth=10\n",
      "[16:37:15] src/tree/updater_prune.cc:74: tree pruning end, 1 roots, 240 extra nodes, 4 pruned nodes, max_depth=10\n",
      "[16:37:15] src/tree/updater_prune.cc:74: tree pruning end, 1 roots, 238 extra nodes, 4 pruned nodes, max_depth=10\n",
      "[16:37:15] src/tree/updater_prune.cc:74: tree pruning end, 1 roots, 242 extra nodes, 8 pruned nodes, max_depth=10\n",
      "[16:37:16] src/tree/updater_prune.cc:74: tree pruning end, 1 roots, 212 extra nodes, 2 pruned nodes, max_depth=10\n",
      "[16:37:16] src/tree/updater_prune.cc:74: tree pruning end, 1 roots, 246 extra nodes, 6 pruned nodes, max_depth=10\n",
      "[16:37:16] src/tree/updater_prune.cc:74: tree pruning end, 1 roots, 198 extra nodes, 8 pruned nodes, max_depth=10\n",
      "[16:37:16] src/tree/updater_prune.cc:74: tree pruning end, 1 roots, 162 extra nodes, 6 pruned nodes, max_depth=10\n"
     ]
    },
    {
     "name": "stdout",
     "output_type": "stream",
     "text": [
      "[16:37:16] src/tree/updater_prune.cc:74: tree pruning end, 1 roots, 230 extra nodes, 6 pruned nodes, max_depth=10\n",
      "[16:37:16] src/tree/updater_prune.cc:74: tree pruning end, 1 roots, 226 extra nodes, 4 pruned nodes, max_depth=10\n",
      "[16:37:17] src/tree/updater_prune.cc:74: tree pruning end, 1 roots, 218 extra nodes, 2 pruned nodes, max_depth=10\n",
      "[16:37:17] src/tree/updater_prune.cc:74: tree pruning end, 1 roots, 196 extra nodes, 6 pruned nodes, max_depth=10\n",
      "[16:37:17] src/tree/updater_prune.cc:74: tree pruning end, 1 roots, 156 extra nodes, 4 pruned nodes, max_depth=10\n"
     ]
    },
    {
     "name": "stderr",
     "output_type": "stream",
     "text": [
      "[Parallel(n_jobs=4)]: Done  42 tasks      | elapsed:   50.9s\n"
     ]
    },
    {
     "name": "stdout",
     "output_type": "stream",
     "text": [
      "[16:37:18] src/tree/updater_prune.cc:74: tree pruning end, 1 roots, 242 extra nodes, 4 pruned nodes, max_depth=10\n",
      "[16:37:18] src/tree/updater_prune.cc:74: tree pruning end, 1 roots, 190 extra nodes, 2 pruned nodes, max_depth=10\n",
      "[16:37:19] src/tree/updater_prune.cc:74: tree pruning end, 1 roots, 246 extra nodes, 6 pruned nodes, max_depth=10\n",
      "[16:37:19] src/tree/updater_prune.cc:74: tree pruning end, 1 roots, 216 extra nodes, 2 pruned nodes, max_depth=10\n",
      "[16:37:19] src/tree/updater_prune.cc:74: tree pruning end, 1 roots, 230 extra nodes, 6 pruned nodes, max_depth=10\n",
      "[16:37:19] src/tree/updater_prune.cc:74: tree pruning end, 1 roots, 328 extra nodes, 8 pruned nodes, max_depth=10\n",
      "[16:37:19] src/tree/updater_prune.cc:74: tree pruning end, 1 roots, 286 extra nodes, 4 pruned nodes, max_depth=10\n",
      "[16:37:19] src/tree/updater_prune.cc:74: tree pruning end, 1 roots, 266 extra nodes, 10 pruned nodes, max_depth=10\n",
      "[16:37:19] src/tree/updater_prune.cc:74: tree pruning end, 1 roots, 224 extra nodes, 12 pruned nodes, max_depth=10\n",
      "[16:37:20] src/tree/updater_prune.cc:74: tree pruning end, 1 roots, 186 extra nodes, 4 pruned nodes, max_depth=10\n",
      "[16:37:20] src/tree/updater_prune.cc:74: tree pruning end, 1 roots, 200 extra nodes, 6 pruned nodes, max_depth=10\n",
      "[16:37:20] src/tree/updater_prune.cc:74: tree pruning end, 1 roots, 200 extra nodes, 8 pruned nodes, max_depth=10\n",
      "[16:37:20] src/tree/updater_prune.cc:74: tree pruning end, 1 roots, 270 extra nodes, 12 pruned nodes, max_depth=10\n",
      "[16:37:20] src/tree/updater_prune.cc:74: tree pruning end, 1 roots, 206 extra nodes, 0 pruned nodes, max_depth=10\n",
      "[16:37:21] src/tree/updater_prune.cc:74: tree pruning end, 1 roots, 198 extra nodes, 4 pruned nodes, max_depth=10\n",
      "[16:37:21] src/tree/updater_prune.cc:74: tree pruning end, 1 roots, 138 extra nodes, 2 pruned nodes, max_depth=10\n",
      "[16:37:21] src/tree/updater_prune.cc:74: tree pruning end, 1 roots, 134 extra nodes, 6 pruned nodes, max_depth=10\n",
      "[16:37:21] src/tree/updater_prune.cc:74: tree pruning end, 1 roots, 178 extra nodes, 6 pruned nodes, max_depth=10\n",
      "[16:37:21] src/tree/updater_prune.cc:74: tree pruning end, 1 roots, 166 extra nodes, 0 pruned nodes, max_depth=10\n",
      "[16:37:22] src/tree/updater_prune.cc:74: tree pruning end, 1 roots, 192 extra nodes, 2 pruned nodes, max_depth=10\n",
      "[16:37:22] src/tree/updater_prune.cc:74: tree pruning end, 1 roots, 212 extra nodes, 6 pruned nodes, max_depth=10\n",
      "[16:37:22] src/tree/updater_prune.cc:74: tree pruning end, 1 roots, 210 extra nodes, 4 pruned nodes, max_depth=10\n",
      "[16:37:23] src/tree/updater_prune.cc:74: tree pruning end, 1 roots, 214 extra nodes, 6 pruned nodes, max_depth=10\n",
      "[16:37:23] src/tree/updater_prune.cc:74: tree pruning end, 1 roots, 222 extra nodes, 8 pruned nodes, max_depth=10\n",
      "[16:37:23] src/tree/updater_prune.cc:74: tree pruning end, 1 roots, 242 extra nodes, 4 pruned nodes, max_depth=10\n",
      "[16:37:23] src/tree/updater_prune.cc:74: tree pruning end, 1 roots, 252 extra nodes, 2 pruned nodes, max_depth=10\n",
      "[16:37:23] src/tree/updater_prune.cc:74: tree pruning end, 1 roots, 250 extra nodes, 2 pruned nodes, max_depth=10\n",
      "[16:37:24] src/tree/updater_prune.cc:74: tree pruning end, 1 roots, 352 extra nodes, 6 pruned nodes, max_depth=10\n",
      "[16:37:24] src/tree/updater_prune.cc:74: tree pruning end, 1 roots, 252 extra nodes, 4 pruned nodes, max_depth=10\n",
      "[16:37:24] src/tree/updater_prune.cc:74: tree pruning end, 1 roots, 260 extra nodes, 2 pruned nodes, max_depth=10\n",
      "[16:37:24] src/tree/updater_prune.cc:74: tree pruning end, 1 roots, 206 extra nodes, 4 pruned nodes, max_depth=10\n",
      "[16:37:24] src/tree/updater_prune.cc:74: tree pruning end, 1 roots, 248 extra nodes, 2 pruned nodes, max_depth=10\n",
      "[16:37:24] src/tree/updater_prune.cc:74: tree pruning end, 1 roots, 212 extra nodes, 2 pruned nodes, max_depth=10\n",
      "[16:37:25] src/tree/updater_prune.cc:74: tree pruning end, 1 roots, 198 extra nodes, 2 pruned nodes, max_depth=10\n",
      "[16:37:25] src/tree/updater_prune.cc:74: tree pruning end, 1 roots, 90 extra nodes, 4 pruned nodes, max_depth=10\n",
      "[16:37:25] src/tree/updater_prune.cc:74: tree pruning end, 1 roots, 176 extra nodes, 4 pruned nodes, max_depth=10\n",
      "[16:37:25] src/tree/updater_prune.cc:74: tree pruning end, 1 roots, 102 extra nodes, 2 pruned nodes, max_depth=10\n",
      "[16:37:25] src/tree/updater_prune.cc:74: tree pruning end, 1 roots, 208 extra nodes, 4 pruned nodes, max_depth=10\n",
      "[16:37:26] src/tree/updater_prune.cc:74: tree pruning end, 1 roots, 150 extra nodes, 4 pruned nodes, max_depth=10\n",
      "[16:37:26] src/tree/updater_prune.cc:74: tree pruning end, 1 roots, 188 extra nodes, 2 pruned nodes, max_depth=10\n",
      "[16:37:26] src/tree/updater_prune.cc:74: tree pruning end, 1 roots, 252 extra nodes, 8 pruned nodes, max_depth=10\n",
      "[16:37:27] src/tree/updater_prune.cc:74: tree pruning end, 1 roots, 268 extra nodes, 4 pruned nodes, max_depth=10\n",
      "[16:37:27] src/tree/updater_prune.cc:74: tree pruning end, 1 roots, 256 extra nodes, 2 pruned nodes, max_depth=10\n",
      "[16:37:27] src/tree/updater_prune.cc:74: tree pruning end, 1 roots, 254 extra nodes, 6 pruned nodes, max_depth=10\n",
      "[16:37:27] src/tree/updater_prune.cc:74: tree pruning end, 1 roots, 236 extra nodes, 6 pruned nodes, max_depth=10\n",
      "[16:37:28] src/tree/updater_prune.cc:74: tree pruning end, 1 roots, 220 extra nodes, 6 pruned nodes, max_depth=10\n",
      "[16:37:28] src/tree/updater_prune.cc:74: tree pruning end, 1 roots, 282 extra nodes, 10 pruned nodes, max_depth=10\n",
      "[16:37:28] src/tree/updater_prune.cc:74: tree pruning end, 1 roots, 244 extra nodes, 12 pruned nodes, max_depth=10\n",
      "[16:37:28] src/tree/updater_prune.cc:74: tree pruning end, 1 roots, 272 extra nodes, 2 pruned nodes, max_depth=10\n",
      "[16:37:28] src/tree/updater_prune.cc:74: tree pruning end, 1 roots, 348 extra nodes, 6 pruned nodes, max_depth=10\n",
      "[16:37:28] src/tree/updater_prune.cc:74: tree pruning end, 1 roots, 186 extra nodes, 6 pruned nodes, max_depth=10\n",
      "[16:37:29] src/tree/updater_prune.cc:74: tree pruning end, 1 roots, 262 extra nodes, 8 pruned nodes, max_depth=10\n",
      "[16:37:29] src/tree/updater_prune.cc:74: tree pruning end, 1 roots, 188 extra nodes, 2 pruned nodes, max_depth=10\n",
      "[16:37:29] src/tree/updater_prune.cc:74: tree pruning end, 1 roots, 198 extra nodes, 6 pruned nodes, max_depth=10\n",
      "[16:37:29] src/tree/updater_prune.cc:74: tree pruning end, 1 roots, 126 extra nodes, 2 pruned nodes, max_depth=10\n",
      "[16:37:29] src/tree/updater_prune.cc:74: tree pruning end, 1 roots, 262 extra nodes, 4 pruned nodes, max_depth=10\n",
      "[16:37:29] src/tree/updater_prune.cc:74: tree pruning end, 1 roots, 158 extra nodes, 2 pruned nodes, max_depth=10\n",
      "[16:37:30] src/tree/updater_prune.cc:74: tree pruning end, 1 roots, 246 extra nodes, 2 pruned nodes, max_depth=10\n",
      "[16:37:30] src/tree/updater_prune.cc:74: tree pruning end, 1 roots, 106 extra nodes, 0 pruned nodes, max_depth=10\n",
      "[16:37:30] src/tree/updater_prune.cc:74: tree pruning end, 1 roots, 126 extra nodes, 2 pruned nodes, max_depth=10\n",
      "[16:37:31] src/tree/updater_prune.cc:74: tree pruning end, 1 roots, 246 extra nodes, 0 pruned nodes, max_depth=10\n",
      "[16:37:31] src/tree/updater_prune.cc:74: tree pruning end, 1 roots, 252 extra nodes, 10 pruned nodes, max_depth=10\n",
      "[16:37:31] src/tree/updater_prune.cc:74: tree pruning end, 1 roots, 262 extra nodes, 4 pruned nodes, max_depth=10\n",
      "[16:37:31] src/tree/updater_prune.cc:74: tree pruning end, 1 roots, 256 extra nodes, 2 pruned nodes, max_depth=10\n",
      "[16:37:32] src/tree/updater_prune.cc:74: tree pruning end, 1 roots, 258 extra nodes, 2 pruned nodes, max_depth=10\n",
      "[16:37:32] src/tree/updater_prune.cc:74: tree pruning end, 1 roots, 254 extra nodes, 6 pruned nodes, max_depth=10\n",
      "[16:37:32] src/tree/updater_prune.cc:74: tree pruning end, 1 roots, 200 extra nodes, 2 pruned nodes, max_depth=10\n",
      "[16:37:32] src/tree/updater_prune.cc:74: tree pruning end, 1 roots, 232 extra nodes, 8 pruned nodes, max_depth=10\n",
      "[16:37:32] src/tree/updater_prune.cc:74: tree pruning end, 1 roots, 280 extra nodes, 8 pruned nodes, max_depth=10\n",
      "[16:37:32] src/tree/updater_prune.cc:74: tree pruning end, 1 roots, 244 extra nodes, 12 pruned nodes, max_depth=10\n",
      "[16:37:33] src/tree/updater_prune.cc:74: tree pruning end, 1 roots, 202 extra nodes, 6 pruned nodes, max_depth=10\n",
      "[16:37:33] src/tree/updater_prune.cc:74: tree pruning end, 1 roots, 256 extra nodes, 4 pruned nodes, max_depth=10\n"
     ]
    },
    {
     "name": "stdout",
     "output_type": "stream",
     "text": [
      "[16:37:33] src/tree/updater_prune.cc:74: tree pruning end, 1 roots, 176 extra nodes, 8 pruned nodes, max_depth=10\n",
      "[16:37:33] src/tree/updater_prune.cc:74: tree pruning end, 1 roots, 260 extra nodes, 6 pruned nodes, max_depth=10\n",
      "[16:37:33] src/tree/updater_prune.cc:74: tree pruning end, 1 roots, 192 extra nodes, 2 pruned nodes, max_depth=10\n",
      "[16:37:33] src/tree/updater_prune.cc:74: tree pruning end, 1 roots, 216 extra nodes, 4 pruned nodes, max_depth=10\n",
      "[16:37:34] src/tree/updater_prune.cc:74: tree pruning end, 1 roots, 142 extra nodes, 2 pruned nodes, max_depth=10\n",
      "[16:37:34] src/tree/updater_prune.cc:74: tree pruning end, 1 roots, 254 extra nodes, 0 pruned nodes, max_depth=10\n",
      "[16:37:34] src/tree/updater_prune.cc:74: tree pruning end, 1 roots, 150 extra nodes, 4 pruned nodes, max_depth=10\n",
      "[16:37:35] src/tree/updater_prune.cc:74: tree pruning end, 1 roots, 128 extra nodes, 0 pruned nodes, max_depth=10\n",
      "[16:37:35] src/tree/updater_prune.cc:74: tree pruning end, 1 roots, 200 extra nodes, 0 pruned nodes, max_depth=10\n",
      "[16:37:35] src/tree/updater_prune.cc:74: tree pruning end, 1 roots, 214 extra nodes, 2 pruned nodes, max_depth=10\n",
      "[16:37:35] src/tree/updater_prune.cc:74: tree pruning end, 1 roots, 304 extra nodes, 8 pruned nodes, max_depth=10\n",
      "[16:37:36] src/tree/updater_prune.cc:74: tree pruning end, 1 roots, 232 extra nodes, 6 pruned nodes, max_depth=10\n",
      "[16:37:36] src/tree/updater_prune.cc:74: tree pruning end, 1 roots, 272 extra nodes, 6 pruned nodes, max_depth=10\n",
      "[16:37:36] src/tree/updater_prune.cc:74: tree pruning end, 1 roots, 218 extra nodes, 2 pruned nodes, max_depth=10\n",
      "[16:37:36] src/tree/updater_prune.cc:74: tree pruning end, 1 roots, 186 extra nodes, 2 pruned nodes, max_depth=10\n",
      "[16:37:36] src/tree/updater_prune.cc:74: tree pruning end, 1 roots, 242 extra nodes, 4 pruned nodes, max_depth=10\n",
      "[16:37:37] src/tree/updater_prune.cc:74: tree pruning end, 1 roots, 192 extra nodes, 2 pruned nodes, max_depth=10\n",
      "[16:37:37] src/tree/updater_prune.cc:74: tree pruning end, 1 roots, 232 extra nodes, 2 pruned nodes, max_depth=10\n",
      "[16:37:37] src/tree/updater_prune.cc:74: tree pruning end, 1 roots, 202 extra nodes, 0 pruned nodes, max_depth=10\n",
      "[16:37:37] src/tree/updater_prune.cc:74: tree pruning end, 1 roots, 236 extra nodes, 6 pruned nodes, max_depth=10\n",
      "[16:37:37] src/tree/updater_prune.cc:74: tree pruning end, 1 roots, 186 extra nodes, 2 pruned nodes, max_depth=10\n",
      "[16:37:37] src/tree/updater_prune.cc:74: tree pruning end, 1 roots, 106 extra nodes, 4 pruned nodes, max_depth=10\n",
      "[16:37:37] src/tree/updater_prune.cc:74: tree pruning end, 1 roots, 268 extra nodes, 2 pruned nodes, max_depth=10\n",
      "[16:37:38] src/tree/updater_prune.cc:74: tree pruning end, 1 roots, 216 extra nodes, 6 pruned nodes, max_depth=10\n",
      "[16:37:38] src/tree/updater_prune.cc:74: tree pruning end, 1 roots, 196 extra nodes, 2 pruned nodes, max_depth=10\n",
      "[16:37:38] src/tree/updater_prune.cc:74: tree pruning end, 1 roots, 194 extra nodes, 0 pruned nodes, max_depth=10\n",
      "[16:37:38] src/tree/updater_prune.cc:74: tree pruning end, 1 roots, 132 extra nodes, 4 pruned nodes, max_depth=10\n",
      "[16:37:39] src/tree/updater_prune.cc:74: tree pruning end, 1 roots, 104 extra nodes, 6 pruned nodes, max_depth=10\n",
      "[16:37:39] src/tree/updater_prune.cc:74: tree pruning end, 1 roots, 236 extra nodes, 2 pruned nodes, max_depth=10\n",
      "[16:37:39] src/tree/updater_prune.cc:74: tree pruning end, 1 roots, 192 extra nodes, 2 pruned nodes, max_depth=10\n",
      "[16:37:39] src/tree/updater_prune.cc:74: tree pruning end, 1 roots, 226 extra nodes, 0 pruned nodes, max_depth=10\n",
      "[16:37:40] src/tree/updater_prune.cc:74: tree pruning end, 1 roots, 214 extra nodes, 2 pruned nodes, max_depth=10\n",
      "[16:37:40] src/tree/updater_prune.cc:74: tree pruning end, 1 roots, 290 extra nodes, 2 pruned nodes, max_depth=10\n",
      "[16:37:40] src/tree/updater_prune.cc:74: tree pruning end, 1 roots, 254 extra nodes, 0 pruned nodes, max_depth=10\n",
      "[16:37:40] src/tree/updater_prune.cc:74: tree pruning end, 1 roots, 216 extra nodes, 2 pruned nodes, max_depth=10\n",
      "[16:37:40] src/tree/updater_prune.cc:74: tree pruning end, 1 roots, 270 extra nodes, 4 pruned nodes, max_depth=10\n",
      "[16:37:41] src/tree/updater_prune.cc:74: tree pruning end, 1 roots, 174 extra nodes, 4 pruned nodes, max_depth=10\n",
      "[16:37:41] src/tree/updater_prune.cc:74: tree pruning end, 1 roots, 224 extra nodes, 4 pruned nodes, max_depth=10\n",
      "[16:37:41] src/tree/updater_prune.cc:74: tree pruning end, 1 roots, 210 extra nodes, 4 pruned nodes, max_depth=10\n",
      "[16:37:41] src/tree/updater_prune.cc:74: tree pruning end, 1 roots, 158 extra nodes, 4 pruned nodes, max_depth=10\n",
      "[16:37:41] src/tree/updater_prune.cc:74: tree pruning end, 1 roots, 210 extra nodes, 0 pruned nodes, max_depth=10\n",
      "[16:37:42] src/tree/updater_prune.cc:74: tree pruning end, 1 roots, 242 extra nodes, 6 pruned nodes, max_depth=10\n",
      "[16:37:42] src/tree/updater_prune.cc:74: tree pruning end, 1 roots, 126 extra nodes, 4 pruned nodes, max_depth=10\n",
      "[16:37:42] src/tree/updater_prune.cc:74: tree pruning end, 1 roots, 200 extra nodes, 2 pruned nodes, max_depth=10\n",
      "[16:37:42] src/tree/updater_prune.cc:74: tree pruning end, 1 roots, 102 extra nodes, 2 pruned nodes, max_depth=10\n",
      "[16:37:42] src/tree/updater_prune.cc:74: tree pruning end, 1 roots, 178 extra nodes, 6 pruned nodes, max_depth=10\n",
      "[16:37:42] src/tree/updater_prune.cc:74: tree pruning end, 1 roots, 164 extra nodes, 6 pruned nodes, max_depth=10\n",
      "[16:37:43] src/tree/updater_prune.cc:74: tree pruning end, 1 roots, 136 extra nodes, 4 pruned nodes, max_depth=10\n",
      "[16:37:43] src/tree/updater_prune.cc:74: tree pruning end, 1 roots, 206 extra nodes, 2 pruned nodes, max_depth=10\n",
      "[16:37:44] src/tree/updater_prune.cc:74: tree pruning end, 1 roots, 202 extra nodes, 2 pruned nodes, max_depth=10\n",
      "[16:37:44] src/tree/updater_prune.cc:74: tree pruning end, 1 roots, 222 extra nodes, 6 pruned nodes, max_depth=10\n",
      "[16:37:44] src/tree/updater_prune.cc:74: tree pruning end, 1 roots, 192 extra nodes, 4 pruned nodes, max_depth=10\n",
      "[16:37:44] src/tree/updater_prune.cc:74: tree pruning end, 1 roots, 234 extra nodes, 4 pruned nodes, max_depth=10\n",
      "[16:37:44] src/tree/updater_prune.cc:74: tree pruning end, 1 roots, 208 extra nodes, 2 pruned nodes, max_depth=10\n",
      "[16:37:44] src/tree/updater_prune.cc:74: tree pruning end, 1 roots, 252 extra nodes, 4 pruned nodes, max_depth=10\n",
      "[16:37:45] src/tree/updater_prune.cc:74: tree pruning end, 1 roots, 304 extra nodes, 10 pruned nodes, max_depth=10\n",
      "[16:37:45] src/tree/updater_prune.cc:74: tree pruning end, 1 roots, 252 extra nodes, 2 pruned nodes, max_depth=10\n",
      "[16:37:45] src/tree/updater_prune.cc:74: tree pruning end, 1 roots, 264 extra nodes, 6 pruned nodes, max_depth=10\n",
      "[16:37:45] src/tree/updater_prune.cc:74: tree pruning end, 1 roots, 182 extra nodes, 2 pruned nodes, max_depth=10\n",
      "[16:37:45] src/tree/updater_prune.cc:74: tree pruning end, 1 roots, 158 extra nodes, 0 pruned nodes, max_depth=10\n",
      "[16:37:46] src/tree/updater_prune.cc:74: tree pruning end, 1 roots, 206 extra nodes, 6 pruned nodes, max_depth=10\n",
      "[16:37:46] src/tree/updater_prune.cc:74: tree pruning end, 1 roots, 190 extra nodes, 6 pruned nodes, max_depth=10\n",
      "[16:37:46] src/tree/updater_prune.cc:74: tree pruning end, 1 roots, 88 extra nodes, 0 pruned nodes, max_depth=10\n",
      "[16:37:46] src/tree/updater_prune.cc:74: tree pruning end, 1 roots, 170 extra nodes, 4 pruned nodes, max_depth=10\n",
      "[16:37:46] src/tree/updater_prune.cc:74: tree pruning end, 1 roots, 114 extra nodes, 0 pruned nodes, max_depth=10\n",
      "[16:37:46] src/tree/updater_prune.cc:74: tree pruning end, 1 roots, 178 extra nodes, 6 pruned nodes, max_depth=10\n",
      "[16:37:46] src/tree/updater_prune.cc:74: tree pruning end, 1 roots, 236 extra nodes, 4 pruned nodes, max_depth=10\n",
      "[16:37:47] src/tree/updater_prune.cc:74: tree pruning end, 1 roots, 178 extra nodes, 0 pruned nodes, max_depth=10\n",
      "[16:37:47] src/tree/updater_prune.cc:74: tree pruning end, 1 roots, 202 extra nodes, 2 pruned nodes, max_depth=10\n",
      "[16:37:48] src/tree/updater_prune.cc:74: tree pruning end, 1 roots, 198 extra nodes, 4 pruned nodes, max_depth=10\n",
      "[16:37:48] src/tree/updater_prune.cc:74: tree pruning end, 1 roots, 220 extra nodes, 2 pruned nodes, max_depth=10\n",
      "[16:37:48] src/tree/updater_prune.cc:74: tree pruning end, 1 roots, 198 extra nodes, 4 pruned nodes, max_depth=10\n"
     ]
    },
    {
     "name": "stdout",
     "output_type": "stream",
     "text": [
      "[16:37:48] src/tree/updater_prune.cc:74: tree pruning end, 1 roots, 208 extra nodes, 4 pruned nodes, max_depth=10\n",
      "[16:37:49] src/tree/updater_prune.cc:74: tree pruning end, 1 roots, 196 extra nodes, 2 pruned nodes, max_depth=10\n",
      "[16:37:49] src/tree/updater_prune.cc:74: tree pruning end, 1 roots, 250 extra nodes, 10 pruned nodes, max_depth=10\n",
      "[16:37:49] src/tree/updater_prune.cc:74: tree pruning end, 1 roots, 220 extra nodes, 2 pruned nodes, max_depth=10\n",
      "[16:37:49] src/tree/updater_prune.cc:74: tree pruning end, 1 roots, 230 extra nodes, 14 pruned nodes, max_depth=10\n",
      "[16:37:49] src/tree/updater_prune.cc:74: tree pruning end, 1 roots, 282 extra nodes, 4 pruned nodes, max_depth=10\n",
      "[16:37:49] src/tree/updater_prune.cc:74: tree pruning end, 1 roots, 156 extra nodes, 4 pruned nodes, max_depth=10\n",
      "[16:37:49] src/tree/updater_prune.cc:74: tree pruning end, 1 roots, 236 extra nodes, 4 pruned nodes, max_depth=10\n",
      "[16:37:50] src/tree/updater_prune.cc:74: tree pruning end, 1 roots, 186 extra nodes, 4 pruned nodes, max_depth=10\n",
      "[16:37:50] src/tree/updater_prune.cc:74: tree pruning end, 1 roots, 178 extra nodes, 4 pruned nodes, max_depth=10\n",
      "[16:37:50] src/tree/updater_prune.cc:74: tree pruning end, 1 roots, 114 extra nodes, 2 pruned nodes, max_depth=10\n",
      "[16:37:50] src/tree/updater_prune.cc:74: tree pruning end, 1 roots, 200 extra nodes, 0 pruned nodes, max_depth=10\n",
      "[16:37:50] src/tree/updater_prune.cc:74: tree pruning end, 1 roots, 108 extra nodes, 6 pruned nodes, max_depth=10\n",
      "[16:37:51] src/tree/updater_prune.cc:74: tree pruning end, 1 roots, 216 extra nodes, 0 pruned nodes, max_depth=10\n",
      "[16:37:51] src/tree/updater_prune.cc:74: tree pruning end, 1 roots, 120 extra nodes, 0 pruned nodes, max_depth=10\n",
      "[16:37:51] src/tree/updater_prune.cc:74: tree pruning end, 1 roots, 198 extra nodes, 6 pruned nodes, max_depth=10\n",
      "[16:37:51] src/tree/updater_prune.cc:74: tree pruning end, 1 roots, 208 extra nodes, 4 pruned nodes, max_depth=10\n",
      "[16:37:52] src/tree/updater_prune.cc:74: tree pruning end, 1 roots, 218 extra nodes, 2 pruned nodes, max_depth=10\n",
      "[16:37:52] src/tree/updater_prune.cc:74: tree pruning end, 1 roots, 254 extra nodes, 4 pruned nodes, max_depth=10\n",
      "[16:37:52] src/tree/updater_prune.cc:74: tree pruning end, 1 roots, 204 extra nodes, 2 pruned nodes, max_depth=10\n",
      "[16:37:52] src/tree/updater_prune.cc:74: tree pruning end, 1 roots, 214 extra nodes, 2 pruned nodes, max_depth=10\n",
      "[16:37:53] src/tree/updater_prune.cc:74: tree pruning end, 1 roots, 216 extra nodes, 10 pruned nodes, max_depth=10\n",
      "[16:37:53] src/tree/updater_prune.cc:74: tree pruning end, 1 roots, 180 extra nodes, 8 pruned nodes, max_depth=10\n",
      "[16:37:53] src/tree/updater_prune.cc:74: tree pruning end, 1 roots, 230 extra nodes, 4 pruned nodes, max_depth=10\n",
      "[16:37:53] src/tree/updater_prune.cc:74: tree pruning end, 1 roots, 224 extra nodes, 2 pruned nodes, max_depth=10\n",
      "[16:37:53] src/tree/updater_prune.cc:74: tree pruning end, 1 roots, 220 extra nodes, 2 pruned nodes, max_depth=10\n",
      "[16:37:53] src/tree/updater_prune.cc:74: tree pruning end, 1 roots, 190 extra nodes, 6 pruned nodes, max_depth=10\n",
      "[16:37:54] src/tree/updater_prune.cc:74: tree pruning end, 1 roots, 214 extra nodes, 12 pruned nodes, max_depth=10\n",
      "[16:37:54] src/tree/updater_prune.cc:74: tree pruning end, 1 roots, 162 extra nodes, 8 pruned nodes, max_depth=10\n",
      "[16:37:54] src/tree/updater_prune.cc:74: tree pruning end, 1 roots, 120 extra nodes, 2 pruned nodes, max_depth=10\n",
      "[16:37:54] src/tree/updater_prune.cc:74: tree pruning end, 1 roots, 262 extra nodes, 0 pruned nodes, max_depth=10\n",
      "[16:37:54] src/tree/updater_prune.cc:74: tree pruning end, 1 roots, 194 extra nodes, 0 pruned nodes, max_depth=10\n",
      "[16:37:54] src/tree/updater_prune.cc:74: tree pruning end, 1 roots, 174 extra nodes, 4 pruned nodes, max_depth=10\n",
      "[16:37:55] src/tree/updater_prune.cc:74: tree pruning end, 1 roots, 204 extra nodes, 4 pruned nodes, max_depth=10\n",
      "[16:37:55] src/tree/updater_prune.cc:74: tree pruning end, 1 roots, 158 extra nodes, 0 pruned nodes, max_depth=10\n",
      "[16:37:55] src/tree/updater_prune.cc:74: tree pruning end, 1 roots, 84 extra nodes, 0 pruned nodes, max_depth=10\n",
      "[16:37:55] src/tree/updater_prune.cc:74: tree pruning end, 1 roots, 196 extra nodes, 2 pruned nodes, max_depth=10\n",
      "[16:37:56] src/tree/updater_prune.cc:74: tree pruning end, 1 roots, 208 extra nodes, 4 pruned nodes, max_depth=10\n",
      "[16:37:56] src/tree/updater_prune.cc:74: tree pruning end, 1 roots, 282 extra nodes, 4 pruned nodes, max_depth=10\n",
      "[16:37:56] src/tree/updater_prune.cc:74: tree pruning end, 1 roots, 218 extra nodes, 2 pruned nodes, max_depth=10\n",
      "[16:37:57] src/tree/updater_prune.cc:74: tree pruning end, 1 roots, 254 extra nodes, 4 pruned nodes, max_depth=10\n",
      "[16:37:57] src/tree/updater_prune.cc:74: tree pruning end, 1 roots, 178 extra nodes, 4 pruned nodes, max_depth=10\n",
      "[16:37:57] src/tree/updater_prune.cc:74: tree pruning end, 1 roots, 200 extra nodes, 0 pruned nodes, max_depth=10\n",
      "[16:37:57] src/tree/updater_prune.cc:74: tree pruning end, 1 roots, 214 extra nodes, 4 pruned nodes, max_depth=10\n",
      "[16:37:57] src/tree/updater_prune.cc:74: tree pruning end, 1 roots, 180 extra nodes, 8 pruned nodes, max_depth=10\n",
      "[16:37:57] src/tree/updater_prune.cc:74: tree pruning end, 1 roots, 206 extra nodes, 0 pruned nodes, max_depth=10\n",
      "[16:37:57] src/tree/updater_prune.cc:74: tree pruning end, 1 roots, 238 extra nodes, 4 pruned nodes, max_depth=10\n",
      "[16:37:58] src/tree/updater_prune.cc:74: tree pruning end, 1 roots, 226 extra nodes, 2 pruned nodes, max_depth=10\n",
      "[16:37:58] src/tree/updater_prune.cc:74: tree pruning end, 1 roots, 190 extra nodes, 6 pruned nodes, max_depth=10\n",
      "[16:37:58] src/tree/updater_prune.cc:74: tree pruning end, 1 roots, 180 extra nodes, 4 pruned nodes, max_depth=10\n",
      "[16:37:58] src/tree/updater_prune.cc:74: tree pruning end, 1 roots, 212 extra nodes, 4 pruned nodes, max_depth=10\n",
      "[16:37:58] src/tree/updater_prune.cc:74: tree pruning end, 1 roots, 160 extra nodes, 10 pruned nodes, max_depth=10\n",
      "[16:37:59] src/tree/updater_prune.cc:74: tree pruning end, 1 roots, 120 extra nodes, 2 pruned nodes, max_depth=10\n",
      "[16:37:59] src/tree/updater_prune.cc:74: tree pruning end, 1 roots, 200 extra nodes, 4 pruned nodes, max_depth=10\n",
      "[16:37:59] src/tree/updater_prune.cc:74: tree pruning end, 1 roots, 154 extra nodes, 4 pruned nodes, max_depth=10\n",
      "[16:37:59] src/tree/updater_prune.cc:74: tree pruning end, 1 roots, 144 extra nodes, 2 pruned nodes, max_depth=10\n",
      "[16:38:00] src/tree/updater_prune.cc:74: tree pruning end, 1 roots, 212 extra nodes, 14 pruned nodes, max_depth=10\n",
      "[16:38:00] src/tree/updater_prune.cc:74: tree pruning end, 1 roots, 182 extra nodes, 4 pruned nodes, max_depth=10\n",
      "[16:38:00] src/tree/updater_prune.cc:74: tree pruning end, 1 roots, 218 extra nodes, 4 pruned nodes, max_depth=10\n",
      "[16:38:00] src/tree/updater_prune.cc:74: tree pruning end, 1 roots, 204 extra nodes, 4 pruned nodes, max_depth=10\n",
      "[16:38:01] src/tree/updater_prune.cc:74: tree pruning end, 1 roots, 256 extra nodes, 8 pruned nodes, max_depth=10\n",
      "[16:38:01] src/tree/updater_prune.cc:74: tree pruning end, 1 roots, 264 extra nodes, 0 pruned nodes, max_depth=10\n",
      "[16:38:01] src/tree/updater_prune.cc:74: tree pruning end, 1 roots, 208 extra nodes, 2 pruned nodes, max_depth=10\n",
      "[16:38:01] src/tree/updater_prune.cc:74: tree pruning end, 1 roots, 248 extra nodes, 6 pruned nodes, max_depth=10\n",
      "[16:38:01] src/tree/updater_prune.cc:74: tree pruning end, 1 roots, 152 extra nodes, 10 pruned nodes, max_depth=10\n",
      "[16:38:02] src/tree/updater_prune.cc:74: tree pruning end, 1 roots, 206 extra nodes, 8 pruned nodes, max_depth=10\n",
      "[16:38:02] src/tree/updater_prune.cc:74: tree pruning end, 1 roots, 218 extra nodes, 6 pruned nodes, max_depth=10\n",
      "[16:38:02] src/tree/updater_prune.cc:74: tree pruning end, 1 roots, 166 extra nodes, 2 pruned nodes, max_depth=10\n",
      "[16:38:02] src/tree/updater_prune.cc:74: tree pruning end, 1 roots, 178 extra nodes, 4 pruned nodes, max_depth=10\n",
      "[16:38:02] src/tree/updater_prune.cc:74: tree pruning end, 1 roots, 94 extra nodes, 2 pruned nodes, max_depth=10\n",
      "[16:38:02] src/tree/updater_prune.cc:74: tree pruning end, 1 roots, 258 extra nodes, 8 pruned nodes, max_depth=10\n",
      "[16:38:03] src/tree/updater_prune.cc:74: tree pruning end, 1 roots, 198 extra nodes, 10 pruned nodes, max_depth=10\n"
     ]
    },
    {
     "name": "stdout",
     "output_type": "stream",
     "text": [
      "[16:38:03] src/tree/updater_prune.cc:74: tree pruning end, 1 roots, 156 extra nodes, 2 pruned nodes, max_depth=10\n",
      "[16:38:03] src/tree/updater_prune.cc:74: tree pruning end, 1 roots, 158 extra nodes, 2 pruned nodes, max_depth=10\n",
      "[16:38:03] src/tree/updater_prune.cc:74: tree pruning end, 1 roots, 144 extra nodes, 2 pruned nodes, max_depth=10\n",
      "[16:38:04] src/tree/updater_prune.cc:74: tree pruning end, 1 roots, 126 extra nodes, 0 pruned nodes, max_depth=10\n",
      "[16:38:04] src/tree/updater_prune.cc:74: tree pruning end, 1 roots, 194 extra nodes, 4 pruned nodes, max_depth=10\n",
      "[16:38:04] src/tree/updater_prune.cc:74: tree pruning end, 1 roots, 198 extra nodes, 6 pruned nodes, max_depth=10\n",
      "[16:38:04] src/tree/updater_prune.cc:74: tree pruning end, 1 roots, 206 extra nodes, 8 pruned nodes, max_depth=10\n",
      "[16:38:05] src/tree/updater_prune.cc:74: tree pruning end, 1 roots, 190 extra nodes, 2 pruned nodes, max_depth=10\n",
      "[16:38:05] src/tree/updater_prune.cc:74: tree pruning end, 1 roots, 220 extra nodes, 2 pruned nodes, max_depth=10\n",
      "[16:38:05] src/tree/updater_prune.cc:74: tree pruning end, 1 roots, 242 extra nodes, 8 pruned nodes, max_depth=10\n",
      "[16:38:05] src/tree/updater_prune.cc:74: tree pruning end, 1 roots, 198 extra nodes, 4 pruned nodes, max_depth=10\n",
      "[16:38:05] src/tree/updater_prune.cc:74: tree pruning end, 1 roots, 288 extra nodes, 8 pruned nodes, max_depth=10\n",
      "[16:38:05] src/tree/updater_prune.cc:74: tree pruning end, 1 roots, 230 extra nodes, 8 pruned nodes, max_depth=10\n",
      "[16:38:06] src/tree/updater_prune.cc:74: tree pruning end, 1 roots, 150 extra nodes, 4 pruned nodes, max_depth=10\n",
      "[16:38:06] src/tree/updater_prune.cc:74: tree pruning end, 1 roots, 248 extra nodes, 14 pruned nodes, max_depth=10\n",
      "[16:38:06] src/tree/updater_prune.cc:74: tree pruning end, 1 roots, 156 extra nodes, 4 pruned nodes, max_depth=10\n",
      "[16:38:06] src/tree/updater_prune.cc:74: tree pruning end, 1 roots, 190 extra nodes, 4 pruned nodes, max_depth=10\n",
      "[16:38:06] src/tree/updater_prune.cc:74: tree pruning end, 1 roots, 118 extra nodes, 0 pruned nodes, max_depth=10\n",
      "[16:38:06] src/tree/updater_prune.cc:74: tree pruning end, 1 roots, 226 extra nodes, 6 pruned nodes, max_depth=10\n",
      "[16:38:06] src/tree/updater_prune.cc:74: tree pruning end, 1 roots, 218 extra nodes, 4 pruned nodes, max_depth=10\n",
      "[16:38:07] src/tree/updater_prune.cc:74: tree pruning end, 1 roots, 158 extra nodes, 2 pruned nodes, max_depth=10\n",
      "[16:38:07] src/tree/updater_prune.cc:74: tree pruning end, 1 roots, 180 extra nodes, 6 pruned nodes, max_depth=10\n",
      "[16:38:07] src/tree/updater_prune.cc:74: tree pruning end, 1 roots, 202 extra nodes, 8 pruned nodes, max_depth=10\n",
      "[16:38:08] src/tree/updater_prune.cc:74: tree pruning end, 1 roots, 146 extra nodes, 2 pruned nodes, max_depth=10\n",
      "[16:38:08] src/tree/updater_prune.cc:74: tree pruning end, 1 roots, 196 extra nodes, 0 pruned nodes, max_depth=10\n",
      "[16:38:08] src/tree/updater_prune.cc:74: tree pruning end, 1 roots, 190 extra nodes, 0 pruned nodes, max_depth=10\n",
      "[16:38:08] src/tree/updater_prune.cc:74: tree pruning end, 1 roots, 208 extra nodes, 4 pruned nodes, max_depth=10\n",
      "[16:38:09] src/tree/updater_prune.cc:74: tree pruning end, 1 roots, 190 extra nodes, 2 pruned nodes, max_depth=10\n",
      "[16:38:09] src/tree/updater_prune.cc:74: tree pruning end, 1 roots, 200 extra nodes, 6 pruned nodes, max_depth=10\n",
      "[16:38:09] src/tree/updater_prune.cc:74: tree pruning end, 1 roots, 152 extra nodes, 16 pruned nodes, max_depth=10\n",
      "[16:38:09] src/tree/updater_prune.cc:74: tree pruning end, 1 roots, 174 extra nodes, 12 pruned nodes, max_depth=10\n",
      "[16:38:09] src/tree/updater_prune.cc:74: tree pruning end, 1 roots, 206 extra nodes, 10 pruned nodes, max_depth=10\n",
      "[16:38:09] src/tree/updater_prune.cc:74: tree pruning end, 1 roots, 234 extra nodes, 8 pruned nodes, max_depth=10\n",
      "[16:38:10] src/tree/updater_prune.cc:74: tree pruning end, 1 roots, 202 extra nodes, 2 pruned nodes, max_depth=10\n",
      "[16:38:10] src/tree/updater_prune.cc:74: tree pruning end, 1 roots, 296 extra nodes, 4 pruned nodes, max_depth=10\n",
      "[16:38:10] src/tree/updater_prune.cc:74: tree pruning end, 1 roots, 228 extra nodes, 4 pruned nodes, max_depth=10\n",
      "[16:38:10] src/tree/updater_prune.cc:74: tree pruning end, 1 roots, 194 extra nodes, 4 pruned nodes, max_depth=10\n",
      "[16:38:10] src/tree/updater_prune.cc:74: tree pruning end, 1 roots, 134 extra nodes, 2 pruned nodes, max_depth=10\n",
      "[16:38:10] src/tree/updater_prune.cc:74: tree pruning end, 1 roots, 158 extra nodes, 6 pruned nodes, max_depth=10\n",
      "[16:38:11] src/tree/updater_prune.cc:74: tree pruning end, 1 roots, 194 extra nodes, 4 pruned nodes, max_depth=10\n",
      "[16:38:11] src/tree/updater_prune.cc:74: tree pruning end, 1 roots, 104 extra nodes, 4 pruned nodes, max_depth=10\n",
      "[16:38:11] src/tree/updater_prune.cc:74: tree pruning end, 1 roots, 160 extra nodes, 10 pruned nodes, max_depth=10\n",
      "[16:38:11] src/tree/updater_prune.cc:74: tree pruning end, 1 roots, 98 extra nodes, 2 pruned nodes, max_depth=10\n",
      "[16:38:12] src/tree/updater_prune.cc:74: tree pruning end, 1 roots, 112 extra nodes, 2 pruned nodes, max_depth=10\n",
      "[16:38:12] src/tree/updater_prune.cc:74: tree pruning end, 1 roots, 190 extra nodes, 2 pruned nodes, max_depth=10\n",
      "[16:38:12] src/tree/updater_prune.cc:74: tree pruning end, 1 roots, 186 extra nodes, 0 pruned nodes, max_depth=10\n",
      "[16:38:12] src/tree/updater_prune.cc:74: tree pruning end, 1 roots, 252 extra nodes, 2 pruned nodes, max_depth=10\n",
      "[16:38:13] src/tree/updater_prune.cc:74: tree pruning end, 1 roots, 180 extra nodes, 2 pruned nodes, max_depth=10\n",
      "[16:38:13] src/tree/updater_prune.cc:74: tree pruning end, 1 roots, 228 extra nodes, 6 pruned nodes, max_depth=10\n",
      "[16:38:13] src/tree/updater_prune.cc:74: tree pruning end, 1 roots, 234 extra nodes, 6 pruned nodes, max_depth=10\n",
      "[16:38:13] src/tree/updater_prune.cc:74: tree pruning end, 1 roots, 180 extra nodes, 0 pruned nodes, max_depth=10\n",
      "[16:38:13] src/tree/updater_prune.cc:74: tree pruning end, 1 roots, 196 extra nodes, 2 pruned nodes, max_depth=10\n",
      "[16:38:14] src/tree/updater_prune.cc:74: tree pruning end, 1 roots, 214 extra nodes, 8 pruned nodes, max_depth=10\n",
      "[16:38:14] src/tree/updater_prune.cc:74: tree pruning end, 1 roots, 190 extra nodes, 2 pruned nodes, max_depth=10\n",
      "[16:38:14] src/tree/updater_prune.cc:74: tree pruning end, 1 roots, 200 extra nodes, 4 pruned nodes, max_depth=10\n",
      "[16:38:14] src/tree/updater_prune.cc:74: tree pruning end, 1 roots, 236 extra nodes, 6 pruned nodes, max_depth=10\n",
      "[16:38:14] src/tree/updater_prune.cc:74: tree pruning end, 1 roots, 178 extra nodes, 6 pruned nodes, max_depth=10\n",
      "[16:38:14] src/tree/updater_prune.cc:74: tree pruning end, 1 roots, 146 extra nodes, 6 pruned nodes, max_depth=10\n",
      "[16:38:14] src/tree/updater_prune.cc:74: tree pruning end, 1 roots, 250 extra nodes, 2 pruned nodes, max_depth=10\n",
      "[16:38:15] src/tree/updater_prune.cc:74: tree pruning end, 1 roots, 186 extra nodes, 10 pruned nodes, max_depth=10\n",
      "[16:38:15] src/tree/updater_prune.cc:74: tree pruning end, 1 roots, 98 extra nodes, 2 pruned nodes, max_depth=10\n",
      "[16:38:15] src/tree/updater_prune.cc:74: tree pruning end, 1 roots, 194 extra nodes, 8 pruned nodes, max_depth=10\n",
      "[16:38:15] src/tree/updater_prune.cc:74: tree pruning end, 1 roots, 110 extra nodes, 6 pruned nodes, max_depth=10\n",
      "[16:38:16] src/tree/updater_prune.cc:74: tree pruning end, 1 roots, 156 extra nodes, 0 pruned nodes, max_depth=10\n",
      "[16:38:16] src/tree/updater_prune.cc:74: tree pruning end, 1 roots, 164 extra nodes, 8 pruned nodes, max_depth=10\n",
      "[16:38:17] src/tree/updater_prune.cc:74: tree pruning end, 1 roots, 200 extra nodes, 4 pruned nodes, max_depth=10\n",
      "[16:38:17] src/tree/updater_prune.cc:74: tree pruning end, 1 roots, 258 extra nodes, 12 pruned nodes, max_depth=10\n",
      "[16:38:18] src/tree/updater_prune.cc:74: tree pruning end, 1 roots, 192 extra nodes, 4 pruned nodes, max_depth=10\n",
      "[16:38:18] src/tree/updater_prune.cc:74: tree pruning end, 1 roots, 230 extra nodes, 8 pruned nodes, max_depth=10\n",
      "[16:38:18] src/tree/updater_prune.cc:74: tree pruning end, 1 roots, 158 extra nodes, 6 pruned nodes, max_depth=10\n",
      "[16:38:18] src/tree/updater_prune.cc:74: tree pruning end, 1 roots, 192 extra nodes, 4 pruned nodes, max_depth=10\n",
      "[16:38:18] src/tree/updater_prune.cc:74: tree pruning end, 1 roots, 216 extra nodes, 4 pruned nodes, max_depth=10\n"
     ]
    },
    {
     "name": "stdout",
     "output_type": "stream",
     "text": [
      "[16:38:19] src/tree/updater_prune.cc:74: tree pruning end, 1 roots, 188 extra nodes, 14 pruned nodes, max_depth=10\n",
      "[16:38:19] src/tree/updater_prune.cc:74: tree pruning end, 1 roots, 154 extra nodes, 2 pruned nodes, max_depth=10\n",
      "[16:38:19] src/tree/updater_prune.cc:74: tree pruning end, 1 roots, 192 extra nodes, 6 pruned nodes, max_depth=10\n",
      "[16:38:19] src/tree/updater_prune.cc:74: tree pruning end, 1 roots, 252 extra nodes, 8 pruned nodes, max_depth=10\n",
      "[16:38:19] src/tree/updater_prune.cc:74: tree pruning end, 1 roots, 174 extra nodes, 4 pruned nodes, max_depth=10\n",
      "[16:38:19] src/tree/updater_prune.cc:74: tree pruning end, 1 roots, 232 extra nodes, 4 pruned nodes, max_depth=10\n",
      "[16:38:20] src/tree/updater_prune.cc:74: tree pruning end, 1 roots, 212 extra nodes, 10 pruned nodes, max_depth=10\n",
      "[16:38:20] src/tree/updater_prune.cc:74: tree pruning end, 1 roots, 162 extra nodes, 2 pruned nodes, max_depth=10\n",
      "[16:38:20] src/tree/updater_prune.cc:74: tree pruning end, 1 roots, 108 extra nodes, 0 pruned nodes, max_depth=10\n",
      "[16:38:21] src/tree/updater_prune.cc:74: tree pruning end, 1 roots, 168 extra nodes, 4 pruned nodes, max_depth=10\n",
      "[16:38:22] src/tree/updater_prune.cc:74: tree pruning end, 1 roots, 112 extra nodes, 4 pruned nodes, max_depth=10\n",
      "[16:38:23] src/tree/updater_prune.cc:74: tree pruning end, 1 roots, 186 extra nodes, 2 pruned nodes, max_depth=10\n",
      "[16:38:23] src/tree/updater_prune.cc:74: tree pruning end, 1 roots, 100 extra nodes, 8 pruned nodes, max_depth=10\n",
      "[16:38:24] src/tree/updater_prune.cc:74: tree pruning end, 1 roots, 164 extra nodes, 8 pruned nodes, max_depth=10\n",
      "[16:38:24] src/tree/updater_prune.cc:74: tree pruning end, 1 roots, 196 extra nodes, 8 pruned nodes, max_depth=10\n",
      "[16:38:24] src/tree/updater_prune.cc:74: tree pruning end, 1 roots, 198 extra nodes, 4 pruned nodes, max_depth=10\n",
      "[16:38:25] src/tree/updater_prune.cc:74: tree pruning end, 1 roots, 258 extra nodes, 10 pruned nodes, max_depth=10\n",
      "[16:38:25] src/tree/updater_prune.cc:74: tree pruning end, 1 roots, 270 extra nodes, 4 pruned nodes, max_depth=10\n",
      "[16:38:25] src/tree/updater_prune.cc:74: tree pruning end, 1 roots, 192 extra nodes, 4 pruned nodes, max_depth=10\n",
      "[16:38:25] src/tree/updater_prune.cc:74: tree pruning end, 1 roots, 228 extra nodes, 12 pruned nodes, max_depth=10\n",
      "[16:38:25] src/tree/updater_prune.cc:74: tree pruning end, 1 roots, 160 extra nodes, 6 pruned nodes, max_depth=10\n",
      "[16:38:26] src/tree/updater_prune.cc:74: tree pruning end, 1 roots, 160 extra nodes, 6 pruned nodes, max_depth=10\n",
      "[16:38:26] src/tree/updater_prune.cc:74: tree pruning end, 1 roots, 216 extra nodes, 4 pruned nodes, max_depth=10\n",
      "[16:38:27] src/tree/updater_prune.cc:74: tree pruning end, 1 roots, 178 extra nodes, 6 pruned nodes, max_depth=10\n",
      "[16:38:27] src/tree/updater_prune.cc:74: tree pruning end, 1 roots, 156 extra nodes, 6 pruned nodes, max_depth=10\n",
      "[16:38:27] src/tree/updater_prune.cc:74: tree pruning end, 1 roots, 114 extra nodes, 8 pruned nodes, max_depth=10\n",
      "[16:38:27] src/tree/updater_prune.cc:74: tree pruning end, 1 roots, 254 extra nodes, 6 pruned nodes, max_depth=10\n",
      "[16:38:28] src/tree/updater_prune.cc:74: tree pruning end, 1 roots, 164 extra nodes, 2 pruned nodes, max_depth=10\n",
      "[16:38:28] src/tree/updater_prune.cc:74: tree pruning end, 1 roots, 214 extra nodes, 10 pruned nodes, max_depth=10\n",
      "[16:38:28] src/tree/updater_prune.cc:74: tree pruning end, 1 roots, 162 extra nodes, 2 pruned nodes, max_depth=10\n",
      "[16:38:29] src/tree/updater_prune.cc:74: tree pruning end, 1 roots, 120 extra nodes, 0 pruned nodes, max_depth=10\n",
      "[16:38:29] src/tree/updater_prune.cc:74: tree pruning end, 1 roots, 112 extra nodes, 4 pruned nodes, max_depth=10\n",
      "[16:38:29] src/tree/updater_prune.cc:74: tree pruning end, 1 roots, 190 extra nodes, 4 pruned nodes, max_depth=10\n",
      "[16:38:30] src/tree/updater_prune.cc:74: tree pruning end, 1 roots, 186 extra nodes, 2 pruned nodes, max_depth=10\n",
      "[16:38:30] src/tree/updater_prune.cc:74: tree pruning end, 1 roots, 188 extra nodes, 8 pruned nodes, max_depth=10\n",
      "[16:38:30] src/tree/updater_prune.cc:74: tree pruning end, 1 roots, 166 extra nodes, 4 pruned nodes, max_depth=10\n",
      "[16:38:31] src/tree/updater_prune.cc:74: tree pruning end, 1 roots, 196 extra nodes, 8 pruned nodes, max_depth=10\n",
      "[16:38:31] src/tree/updater_prune.cc:74: tree pruning end, 1 roots, 226 extra nodes, 12 pruned nodes, max_depth=10\n",
      "[16:38:31] src/tree/updater_prune.cc:74: tree pruning end, 1 roots, 188 extra nodes, 2 pruned nodes, max_depth=10\n",
      "[16:38:32] src/tree/updater_prune.cc:74: tree pruning end, 1 roots, 290 extra nodes, 16 pruned nodes, max_depth=10\n",
      "[16:38:32] src/tree/updater_prune.cc:74: tree pruning end, 1 roots, 272 extra nodes, 2 pruned nodes, max_depth=10\n",
      "[16:38:33] src/tree/updater_prune.cc:74: tree pruning end, 1 roots, 172 extra nodes, 4 pruned nodes, max_depth=10\n",
      "[16:38:33] src/tree/updater_prune.cc:74: tree pruning end, 1 roots, 246 extra nodes, 8 pruned nodes, max_depth=10\n",
      "[16:38:33] src/tree/updater_prune.cc:74: tree pruning end, 1 roots, 134 extra nodes, 2 pruned nodes, max_depth=10\n",
      "[16:38:34] src/tree/updater_prune.cc:74: tree pruning end, 1 roots, 158 extra nodes, 8 pruned nodes, max_depth=10\n",
      "[16:38:34] src/tree/updater_prune.cc:74: tree pruning end, 1 roots, 100 extra nodes, 2 pruned nodes, max_depth=10\n",
      "[16:38:34] src/tree/updater_prune.cc:74: tree pruning end, 1 roots, 208 extra nodes, 0 pruned nodes, max_depth=10\n",
      "[16:38:34] src/tree/updater_prune.cc:74: tree pruning end, 1 roots, 156 extra nodes, 2 pruned nodes, max_depth=10\n",
      "[16:38:34] src/tree/updater_prune.cc:74: tree pruning end, 1 roots, 114 extra nodes, 8 pruned nodes, max_depth=10\n",
      "[16:38:35] src/tree/updater_prune.cc:74: tree pruning end, 1 roots, 166 extra nodes, 6 pruned nodes, max_depth=10\n",
      "[16:38:35] src/tree/updater_prune.cc:74: tree pruning end, 1 roots, 224 extra nodes, 6 pruned nodes, max_depth=10\n",
      "[16:38:35] src/tree/updater_prune.cc:74: tree pruning end, 1 roots, 126 extra nodes, 0 pruned nodes, max_depth=10\n",
      "[16:38:35] src/tree/updater_prune.cc:74: tree pruning end, 1 roots, 192 extra nodes, 6 pruned nodes, max_depth=10\n",
      "[16:38:36] src/tree/updater_prune.cc:74: tree pruning end, 1 roots, 182 extra nodes, 0 pruned nodes, max_depth=10\n",
      "[16:38:36] src/tree/updater_prune.cc:74: tree pruning end, 1 roots, 210 extra nodes, 0 pruned nodes, max_depth=10\n",
      "[16:38:36] src/tree/updater_prune.cc:74: tree pruning end, 1 roots, 170 extra nodes, 2 pruned nodes, max_depth=10\n",
      "[16:38:37] src/tree/updater_prune.cc:74: tree pruning end, 1 roots, 198 extra nodes, 4 pruned nodes, max_depth=10\n",
      "[16:38:37] src/tree/updater_prune.cc:74: tree pruning end, 1 roots, 154 extra nodes, 10 pruned nodes, max_depth=10\n",
      "[16:38:37] src/tree/updater_prune.cc:74: tree pruning end, 1 roots, 160 extra nodes, 6 pruned nodes, max_depth=10\n",
      "[16:38:37] src/tree/updater_prune.cc:74: tree pruning end, 1 roots, 188 extra nodes, 10 pruned nodes, max_depth=10\n",
      "[16:38:37] src/tree/updater_prune.cc:74: tree pruning end, 1 roots, 230 extra nodes, 8 pruned nodes, max_depth=10\n",
      "[16:38:37] src/tree/updater_prune.cc:74: tree pruning end, 1 roots, 170 extra nodes, 6 pruned nodes, max_depth=10\n",
      "[16:38:38] src/tree/updater_prune.cc:74: tree pruning end, 1 roots, 270 extra nodes, 26 pruned nodes, max_depth=10\n",
      "[16:38:38] src/tree/updater_prune.cc:74: tree pruning end, 1 roots, 244 extra nodes, 2 pruned nodes, max_depth=10\n",
      "[16:38:38] src/tree/updater_prune.cc:74: tree pruning end, 1 roots, 182 extra nodes, 4 pruned nodes, max_depth=10\n",
      "[16:38:38] src/tree/updater_prune.cc:74: tree pruning end, 1 roots, 142 extra nodes, 2 pruned nodes, max_depth=10\n",
      "[16:38:39] src/tree/updater_prune.cc:74: tree pruning end, 1 roots, 136 extra nodes, 0 pruned nodes, max_depth=10\n",
      "[16:38:39] src/tree/updater_prune.cc:74: tree pruning end, 1 roots, 166 extra nodes, 0 pruned nodes, max_depth=10\n",
      "[16:38:39] src/tree/updater_prune.cc:74: tree pruning end, 1 roots, 88 extra nodes, 0 pruned nodes, max_depth=10\n",
      "[16:38:40] src/tree/updater_prune.cc:74: tree pruning end, 1 roots, 180 extra nodes, 4 pruned nodes, max_depth=10\n",
      "[16:38:40] src/tree/updater_prune.cc:74: tree pruning end, 1 roots, 154 extra nodes, 2 pruned nodes, max_depth=10\n",
      "[16:38:41] src/tree/updater_prune.cc:74: tree pruning end, 1 roots, 184 extra nodes, 4 pruned nodes, max_depth=10\n"
     ]
    },
    {
     "name": "stdout",
     "output_type": "stream",
     "text": [
      "[16:38:41] src/tree/updater_prune.cc:74: tree pruning end, 1 roots, 122 extra nodes, 6 pruned nodes, max_depth=10\n",
      "[16:38:41] src/tree/updater_prune.cc:74: tree pruning end, 1 roots, 244 extra nodes, 8 pruned nodes, max_depth=10\n",
      "[16:38:41] src/tree/updater_prune.cc:74: tree pruning end, 1 roots, 178 extra nodes, 2 pruned nodes, max_depth=10\n",
      "[16:38:42] src/tree/updater_prune.cc:74: tree pruning end, 1 roots, 178 extra nodes, 4 pruned nodes, max_depth=10\n",
      "[16:38:42] src/tree/updater_prune.cc:74: tree pruning end, 1 roots, 202 extra nodes, 12 pruned nodes, max_depth=10\n",
      "[16:38:42] src/tree/updater_prune.cc:74: tree pruning end, 1 roots, 224 extra nodes, 2 pruned nodes, max_depth=10\n",
      "[16:38:42] src/tree/updater_prune.cc:74: tree pruning end, 1 roots, 170 extra nodes, 2 pruned nodes, max_depth=10\n",
      "[16:38:43] src/tree/updater_prune.cc:74: tree pruning end, 1 roots, 186 extra nodes, 10 pruned nodes, max_depth=10\n",
      "[16:38:43] src/tree/updater_prune.cc:74: tree pruning end, 1 roots, 186 extra nodes, 10 pruned nodes, max_depth=10\n",
      "[16:38:43] src/tree/updater_prune.cc:74: tree pruning end, 1 roots, 154 extra nodes, 8 pruned nodes, max_depth=10\n",
      "[16:38:43] src/tree/updater_prune.cc:74: tree pruning end, 1 roots, 196 extra nodes, 4 pruned nodes, max_depth=10\n",
      "[16:38:43] src/tree/updater_prune.cc:74: tree pruning end, 1 roots, 232 extra nodes, 10 pruned nodes, max_depth=10\n",
      "[16:38:43] src/tree/updater_prune.cc:74: tree pruning end, 1 roots, 190 extra nodes, 6 pruned nodes, max_depth=10\n",
      "[16:38:43] src/tree/updater_prune.cc:74: tree pruning end, 1 roots, 164 extra nodes, 12 pruned nodes, max_depth=10\n",
      "[16:38:44] src/tree/updater_prune.cc:74: tree pruning end, 1 roots, 218 extra nodes, 2 pruned nodes, max_depth=10\n",
      "[16:38:44] src/tree/updater_prune.cc:74: tree pruning end, 1 roots, 170 extra nodes, 4 pruned nodes, max_depth=10\n",
      "[16:38:44] src/tree/updater_prune.cc:74: tree pruning end, 1 roots, 162 extra nodes, 6 pruned nodes, max_depth=10\n",
      "[16:38:44] src/tree/updater_prune.cc:74: tree pruning end, 1 roots, 178 extra nodes, 4 pruned nodes, max_depth=10\n",
      "[16:38:45] src/tree/updater_prune.cc:74: tree pruning end, 1 roots, 118 extra nodes, 4 pruned nodes, max_depth=10\n",
      "[16:38:45] src/tree/updater_prune.cc:74: tree pruning end, 1 roots, 164 extra nodes, 6 pruned nodes, max_depth=10\n",
      "[16:38:45] src/tree/updater_prune.cc:74: tree pruning end, 1 roots, 120 extra nodes, 6 pruned nodes, max_depth=10\n",
      "[16:38:45] src/tree/updater_prune.cc:74: tree pruning end, 1 roots, 182 extra nodes, 4 pruned nodes, max_depth=10\n",
      "[16:38:45] src/tree/updater_prune.cc:74: tree pruning end, 1 roots, 274 extra nodes, 10 pruned nodes, max_depth=10\n",
      "[16:38:46] src/tree/updater_prune.cc:74: tree pruning end, 1 roots, 160 extra nodes, 2 pruned nodes, max_depth=10\n",
      "[16:38:46] src/tree/updater_prune.cc:74: tree pruning end, 1 roots, 176 extra nodes, 8 pruned nodes, max_depth=10\n",
      "[16:38:46] src/tree/updater_prune.cc:74: tree pruning end, 1 roots, 246 extra nodes, 10 pruned nodes, max_depth=10\n",
      "[16:38:46] src/tree/updater_prune.cc:74: tree pruning end, 1 roots, 172 extra nodes, 6 pruned nodes, max_depth=10\n",
      "[16:38:47] src/tree/updater_prune.cc:74: tree pruning end, 1 roots, 208 extra nodes, 10 pruned nodes, max_depth=10\n",
      "[16:38:47] src/tree/updater_prune.cc:74: tree pruning end, 1 roots, 188 extra nodes, 4 pruned nodes, max_depth=10\n",
      "[16:38:47] src/tree/updater_prune.cc:74: tree pruning end, 1 roots, 200 extra nodes, 2 pruned nodes, max_depth=10\n",
      "[16:38:47] src/tree/updater_prune.cc:74: tree pruning end, 1 roots, 186 extra nodes, 6 pruned nodes, max_depth=10\n",
      "[16:38:47] src/tree/updater_prune.cc:74: tree pruning end, 1 roots, 126 extra nodes, 2 pruned nodes, max_depth=10\n",
      "[16:38:47] src/tree/updater_prune.cc:74: tree pruning end, 1 roots, 256 extra nodes, 8 pruned nodes, max_depth=10\n",
      "[16:38:47] src/tree/updater_prune.cc:74: tree pruning end, 1 roots, 160 extra nodes, 6 pruned nodes, max_depth=10\n",
      "[16:38:48] src/tree/updater_prune.cc:74: tree pruning end, 1 roots, 186 extra nodes, 6 pruned nodes, max_depth=10\n",
      "[16:38:48] src/tree/updater_prune.cc:74: tree pruning end, 1 roots, 198 extra nodes, 8 pruned nodes, max_depth=10\n",
      "[16:38:48] src/tree/updater_prune.cc:74: tree pruning end, 1 roots, 128 extra nodes, 6 pruned nodes, max_depth=10\n",
      "[16:38:48] src/tree/updater_prune.cc:74: tree pruning end, 1 roots, 160 extra nodes, 6 pruned nodes, max_depth=10\n",
      "[16:38:49] src/tree/updater_prune.cc:74: tree pruning end, 1 roots, 146 extra nodes, 6 pruned nodes, max_depth=10\n",
      "[16:38:49] src/tree/updater_prune.cc:74: tree pruning end, 1 roots, 166 extra nodes, 2 pruned nodes, max_depth=10\n",
      "[16:38:49] src/tree/updater_prune.cc:74: tree pruning end, 1 roots, 88 extra nodes, 4 pruned nodes, max_depth=10\n",
      "[16:38:49] src/tree/updater_prune.cc:74: tree pruning end, 1 roots, 202 extra nodes, 8 pruned nodes, max_depth=10\n",
      "[16:38:49] src/tree/updater_prune.cc:74: tree pruning end, 1 roots, 228 extra nodes, 0 pruned nodes, max_depth=10\n",
      "[16:38:50] src/tree/updater_prune.cc:74: tree pruning end, 1 roots, 156 extra nodes, 10 pruned nodes, max_depth=10\n",
      "[16:38:50] src/tree/updater_prune.cc:74: tree pruning end, 1 roots, 124 extra nodes, 2 pruned nodes, max_depth=10\n"
     ]
    },
    {
     "name": "stderr",
     "output_type": "stream",
     "text": [
      "[Parallel(n_jobs=4)]: Done 125 out of 125 | elapsed:  2.4min finished\n"
     ]
    },
    {
     "name": "stdout",
     "output_type": "stream",
     "text": [
      "[16:38:51] src/tree/updater_prune.cc:74: tree pruning end, 1 roots, 222 extra nodes, 6 pruned nodes, max_depth=10\n",
      "[16:38:52] src/tree/updater_prune.cc:74: tree pruning end, 1 roots, 326 extra nodes, 8 pruned nodes, max_depth=10\n",
      "[16:38:52] src/tree/updater_prune.cc:74: tree pruning end, 1 roots, 208 extra nodes, 8 pruned nodes, max_depth=10\n",
      "[16:38:52] src/tree/updater_prune.cc:74: tree pruning end, 1 roots, 186 extra nodes, 4 pruned nodes, max_depth=10\n",
      "[16:38:53] src/tree/updater_prune.cc:74: tree pruning end, 1 roots, 162 extra nodes, 4 pruned nodes, max_depth=10\n"
     ]
    },
    {
     "data": {
      "text/plain": [
       "GridSearchCV(cv=5, error_score='raise',\n",
       "       estimator=XGBClassifier(base_score=0.5, booster='gbtree', colsample_bylevel=1,\n",
       "       colsample_bytree=0.8, cv=5, eval_metric='logloss', gamma=0.4,\n",
       "       learning_rate=0.9, max_delta_step=0, max_depth=10,\n",
       "       min_child_weight=7, missing=None, n_estimators=5, n_jobs=1,\n",
       "       nthread=None, objective='binary:logistic', random_state=0,\n",
       "       reg_alpha=0, reg_lambda=1, scale_pos_weight=1, seed=0, silent=0,\n",
       "       subsample=0.9),\n",
       "       fit_params=None, iid=True, n_jobs=4,\n",
       "       param_grid={'reg_alpha': [0.05, 0.1, 1, 2, 3], 'reg_lambda': [0.05, 0.1, 1, 2, 3]},\n",
       "       pre_dispatch='2*n_jobs', refit=True, return_train_score='warn',\n",
       "       scoring='neg_log_loss', verbose=1)"
      ]
     },
     "execution_count": 320,
     "metadata": {},
     "output_type": "execute_result"
    }
   ],
   "source": [
    "# Create the object.\n",
    "clf_xgb5 = xgb.XGBClassifier(**other_params5)\n",
    "grid_obj5 = GridSearchCV(estimator=clf_xgb5, \n",
    "                         param_grid=cv_params5, \n",
    "                         scoring='neg_log_loss', cv=5, verbose=1, n_jobs=4)\n",
    "\n",
    "# Fit the data\n",
    "grid_obj5.fit(x_train, y_train)  # 使用网格搜索训练模型，找到包含最佳参数的对象grid_fit"
   ]
  },
  {
   "cell_type": "code",
   "execution_count": 321,
   "metadata": {},
   "outputs": [
    {
     "name": "stdout",
     "output_type": "stream",
     "text": [
      "参数的最佳取值：{'reg_alpha': 1, 'reg_lambda': 2}\n",
      "最佳模型得分:0.19634983942908477\n"
     ]
    }
   ],
   "source": [
    "print('参数的最佳取值：{0}'.format(grid_obj5.best_params_))\n",
    "print('最佳模型得分:{0}'.format(abs(grid_obj5.best_score_)))"
   ]
  },
  {
   "cell_type": "code",
   "execution_count": 322,
   "metadata": {},
   "outputs": [
    {
     "data": {
      "text/plain": [
       "{'mean_fit_time': array([ 4.91067643,  4.23192463,  4.30556369,  4.44958577,  3.84464974,\n",
       "         4.1394299 ,  3.8957901 ,  3.78954043,  3.79503818,  3.92239895,\n",
       "         3.91256418,  3.83045897,  3.74910512,  3.79419651,  3.76080575,\n",
       "         3.73012199,  3.68904057,  3.68941684,  3.65290546,  3.86409736,\n",
       "         5.71788898,  5.9171988 ,  5.06174693,  4.18879333,  3.31426382]),\n",
       " 'std_fit_time': array([ 0.34206094,  0.12084715,  0.1298119 ,  0.10191366,  0.09749657,\n",
       "         0.1793962 ,  0.04315587,  0.07712715,  0.18521952,  0.20808951,\n",
       "         0.07907986,  0.05563322,  0.09106748,  0.06867735,  0.097467  ,\n",
       "         0.08611933,  0.05448616,  0.02956546,  0.02281519,  0.24953002,\n",
       "         0.78808497,  0.16726701,  0.70633909,  0.56920147,  0.45882716]),\n",
       " 'mean_score_time': array([ 0.09334383,  0.08714375,  0.08991265,  0.08768735,  0.07458229,\n",
       "         0.08185921,  0.07497125,  0.07022057,  0.07275357,  0.0709002 ,\n",
       "         0.07551594,  0.06811128,  0.06846218,  0.06791081,  0.07213941,\n",
       "         0.06742659,  0.07443032,  0.06948271,  0.07590423,  0.13232799,\n",
       "         0.17893658,  0.07480373,  0.10617743,  0.07335372,  0.05972543]),\n",
       " 'std_score_time': array([ 0.01460371,  0.01508709,  0.01705493,  0.0111932 ,  0.00942132,\n",
       "         0.01549268,  0.00972829,  0.00968985,  0.01559906,  0.00671086,\n",
       "         0.01009213,  0.00542883,  0.00363048,  0.00691763,  0.01111388,\n",
       "         0.0040482 ,  0.00628914,  0.00285695,  0.0104493 ,  0.07496004,\n",
       "         0.05371075,  0.0127157 ,  0.06615622,  0.01052111,  0.01904185]),\n",
       " 'param_reg_alpha': masked_array(data = [0.05 0.05 0.05 0.05 0.05 0.1 0.1 0.1 0.1 0.1 1 1 1 1 1 2 2 2 2 2 3 3 3 3 3],\n",
       "              mask = [False False False False False False False False False False False False\n",
       "  False False False False False False False False False False False False\n",
       "  False],\n",
       "        fill_value = ?),\n",
       " 'param_reg_lambda': masked_array(data = [0.05 0.1 1 2 3 0.05 0.1 1 2 3 0.05 0.1 1 2 3 0.05 0.1 1 2 3 0.05 0.1 1 2 3],\n",
       "              mask = [False False False False False False False False False False False False\n",
       "  False False False False False False False False False False False False\n",
       "  False],\n",
       "        fill_value = ?),\n",
       " 'params': [{'reg_alpha': 0.05, 'reg_lambda': 0.05},\n",
       "  {'reg_alpha': 0.05, 'reg_lambda': 0.1},\n",
       "  {'reg_alpha': 0.05, 'reg_lambda': 1},\n",
       "  {'reg_alpha': 0.05, 'reg_lambda': 2},\n",
       "  {'reg_alpha': 0.05, 'reg_lambda': 3},\n",
       "  {'reg_alpha': 0.1, 'reg_lambda': 0.05},\n",
       "  {'reg_alpha': 0.1, 'reg_lambda': 0.1},\n",
       "  {'reg_alpha': 0.1, 'reg_lambda': 1},\n",
       "  {'reg_alpha': 0.1, 'reg_lambda': 2},\n",
       "  {'reg_alpha': 0.1, 'reg_lambda': 3},\n",
       "  {'reg_alpha': 1, 'reg_lambda': 0.05},\n",
       "  {'reg_alpha': 1, 'reg_lambda': 0.1},\n",
       "  {'reg_alpha': 1, 'reg_lambda': 1},\n",
       "  {'reg_alpha': 1, 'reg_lambda': 2},\n",
       "  {'reg_alpha': 1, 'reg_lambda': 3},\n",
       "  {'reg_alpha': 2, 'reg_lambda': 0.05},\n",
       "  {'reg_alpha': 2, 'reg_lambda': 0.1},\n",
       "  {'reg_alpha': 2, 'reg_lambda': 1},\n",
       "  {'reg_alpha': 2, 'reg_lambda': 2},\n",
       "  {'reg_alpha': 2, 'reg_lambda': 3},\n",
       "  {'reg_alpha': 3, 'reg_lambda': 0.05},\n",
       "  {'reg_alpha': 3, 'reg_lambda': 0.1},\n",
       "  {'reg_alpha': 3, 'reg_lambda': 1},\n",
       "  {'reg_alpha': 3, 'reg_lambda': 2},\n",
       "  {'reg_alpha': 3, 'reg_lambda': 3}],\n",
       " 'split0_test_score': array([-0.1989929 , -0.20164464, -0.20016273, -0.1971958 , -0.19947658,\n",
       "        -0.2011071 , -0.19970904, -0.19803134, -0.19787138, -0.19769926,\n",
       "        -0.20116355, -0.19639532, -0.19744016, -0.19603708, -0.19784217,\n",
       "        -0.19913514, -0.19884798, -0.19765905, -0.19788478, -0.19661899,\n",
       "        -0.1991068 , -0.19718311, -0.19868302, -0.1969316 , -0.19575489]),\n",
       " 'split1_test_score': array([-0.19583137, -0.19679304, -0.19557472, -0.19669934, -0.197663  ,\n",
       "        -0.19677577, -0.19733645, -0.19555586, -0.19687547, -0.19585386,\n",
       "        -0.19473265, -0.19804912, -0.19711679, -0.19586476, -0.19553477,\n",
       "        -0.19608264, -0.19605842, -0.1955852 , -0.19555962, -0.19728551,\n",
       "        -0.19544092, -0.1944222 , -0.1965393 , -0.19519072, -0.19610407]),\n",
       " 'split2_test_score': array([-0.20537838, -0.20360133, -0.20385359, -0.20370655, -0.20289067,\n",
       "        -0.20328009, -0.20338122, -0.20363736, -0.20257806, -0.20383713,\n",
       "        -0.20353289, -0.20233596, -0.20341179, -0.20118755, -0.20234268,\n",
       "        -0.20187896, -0.20220452, -0.20271667, -0.20525315, -0.20129991,\n",
       "        -0.20261655, -0.20223632, -0.20503028, -0.20334887, -0.20220312]),\n",
       " 'split3_test_score': array([-0.19667793, -0.19723059, -0.19694249, -0.19561607, -0.1946229 ,\n",
       "        -0.19579854, -0.19801932, -0.1947051 , -0.1953699 , -0.19397199,\n",
       "        -0.19572539, -0.19617084, -0.19490501, -0.19430269, -0.19537778,\n",
       "        -0.19693094, -0.19608805, -0.19355284, -0.19370204, -0.19618948,\n",
       "        -0.19369723, -0.19432061, -0.1939749 , -0.19415908, -0.19504601]),\n",
       " 'split4_test_score': array([-0.19732073, -0.19624536, -0.19749146, -0.19684408, -0.19617007,\n",
       "        -0.19873169, -0.1980961 , -0.19738558, -0.19709795, -0.19449834,\n",
       "        -0.19727231, -0.19829593, -0.19648587, -0.19435716, -0.19507154,\n",
       "        -0.19686891, -0.19570952, -0.19471085, -0.19426762, -0.19230696,\n",
       "        -0.19604194, -0.19599665, -0.19494319, -0.19440312, -0.19363943]),\n",
       " 'mean_test_score': array([-0.19884027, -0.19910305, -0.19880503, -0.19801235, -0.19816468,\n",
       "        -0.19913869, -0.19930843, -0.19786305, -0.19795855, -0.19717213,\n",
       "        -0.19848542, -0.19824939, -0.19787191, -0.19634984, -0.1972338 ,\n",
       "        -0.19817934, -0.19778172, -0.19684494, -0.19733345, -0.19674017,\n",
       "        -0.19738073, -0.19683179, -0.19783416, -0.19680668, -0.19654948]),\n",
       " 'std_test_score': array([ 0.00342949,  0.00295644,  0.00293121,  0.00289554,  0.00285761,\n",
       "         0.00275431,  0.00218027,  0.00312709,  0.00244792,  0.00357286,\n",
       "         0.0033413 ,  0.0022136 ,  0.00290412,  0.00252577,  0.00273776,\n",
       "         0.00211055,  0.00248313,  0.00322856,  0.00421323,  0.00286562,\n",
       "         0.00314693,  0.00290314,  0.00393526,  0.00341212,  0.00295029]),\n",
       " 'rank_test_score': array([22, 23, 21, 16, 17, 24, 25, 13, 15,  7, 20, 19, 14,  1,  8, 18, 11,\n",
       "         6,  9,  3, 10,  5, 12,  4,  2], dtype=int32),\n",
       " 'split0_train_score': array([-0.16897204, -0.17005176, -0.16943079, -0.17094963, -0.17339574,\n",
       "        -0.16820458, -0.16939219, -0.17320726, -0.17135923, -0.17344417,\n",
       "        -0.17081386, -0.17024285, -0.1737292 , -0.17407433, -0.17407047,\n",
       "        -0.17193767, -0.17289571, -0.17542124, -0.17289829, -0.17666185,\n",
       "        -0.17411896, -0.17458106, -0.17570449, -0.17755121, -0.17625121]),\n",
       " 'split1_train_score': array([-0.16806651, -0.16877882, -0.17224572, -0.17038182, -0.17116318,\n",
       "        -0.16876319, -0.16626392, -0.17051651, -0.17020932, -0.17160803,\n",
       "        -0.17033936, -0.17051159, -0.1714564 , -0.1728197 , -0.17273344,\n",
       "        -0.17417135, -0.17419533, -0.17438267, -0.17329065, -0.17397677,\n",
       "        -0.17427228, -0.17458389, -0.17535422, -0.17514019, -0.17664669]),\n",
       " 'split2_train_score': array([-0.16585933, -0.16653537, -0.16870477, -0.16912734, -0.17037832,\n",
       "        -0.16654587, -0.16596401, -0.16843169, -0.16727751, -0.1692533 ,\n",
       "        -0.16904238, -0.1681191 , -0.16906159, -0.171411  , -0.17260264,\n",
       "        -0.16995598, -0.17016023, -0.17194741, -0.1740013 , -0.17454037,\n",
       "        -0.17289789, -0.17291461, -0.17499044, -0.1738591 , -0.17274014]),\n",
       " 'split3_train_score': array([-0.16807734, -0.1690634 , -0.17016573, -0.17107036, -0.17194895,\n",
       "        -0.16848864, -0.16659499, -0.17104654, -0.17112624, -0.17309107,\n",
       "        -0.16965991, -0.16989044, -0.1722213 , -0.17419357, -0.17400755,\n",
       "        -0.17220452, -0.17318989, -0.17433416, -0.17411448, -0.1751469 ,\n",
       "        -0.1753789 , -0.17538184, -0.17530772, -0.17565436, -0.17773888]),\n",
       " 'split4_train_score': array([-0.16688129, -0.1672245 , -0.16890295, -0.1719256 , -0.17378429,\n",
       "        -0.16797807, -0.16894952, -0.16976457, -0.17180612, -0.17296741,\n",
       "        -0.17026568, -0.16988097, -0.17158931, -0.17280485, -0.17341527,\n",
       "        -0.17300864, -0.17296633, -0.17268022, -0.17479471, -0.17344683,\n",
       "        -0.17460264, -0.17460175, -0.17490581, -0.17597516, -0.17685931]),\n",
       " 'mean_train_score': array([-0.1675713 , -0.16833077, -0.16988999, -0.17069095, -0.1721341 ,\n",
       "        -0.16799607, -0.16743293, -0.17059331, -0.17035569, -0.1720728 ,\n",
       "        -0.17002424, -0.16972899, -0.17161156, -0.17306069, -0.17336587,\n",
       "        -0.17225563, -0.1726815 , -0.17375314, -0.17381988, -0.17475454,\n",
       "        -0.17425413, -0.17441263, -0.17525253, -0.175636  , -0.17604725]),\n",
       " 'std_train_score': array([ 0.00108354,  0.00127645,  0.00128182,  0.00092473,  0.00129419,\n",
       "         0.00077175,  0.00143981,  0.00157502,  0.00162488,  0.00154165,\n",
       "         0.00061284,  0.00083874,  0.00150885,  0.00101547,  0.00061533,\n",
       "         0.00138774,  0.00134417,  0.00125922,  0.00066324,  0.0011093 ,\n",
       "         0.00080555,  0.00080956,  0.00028515,  0.00119888,  0.00172389])}"
      ]
     },
     "execution_count": 322,
     "metadata": {},
     "output_type": "execute_result"
    }
   ],
   "source": [
    "grid_obj5.cv_results_"
   ]
  },
  {
   "cell_type": "markdown",
   "metadata": {},
   "source": [
    "#### 7.2.7  手动调节XGBoost参数"
   ]
  },
  {
   "cell_type": "code",
   "execution_count": 323,
   "metadata": {
    "scrolled": true
   },
   "outputs": [
    {
     "name": "stdout",
     "output_type": "stream",
     "text": [
      "[16:47:06] src/tree/updater_prune.cc:74: tree pruning end, 1 roots, 582 extra nodes, 0 pruned nodes, max_depth=10\n",
      "[0]\ttrain-logloss:0.677829\tvalid-logloss:0.678058\n",
      "Multiple eval metrics have been passed: 'valid-logloss' will be used for early stopping.\n",
      "\n",
      "Will train until valid-logloss hasn't improved in 50 rounds.\n",
      "[16:47:06] src/tree/updater_prune.cc:74: tree pruning end, 1 roots, 560 extra nodes, 0 pruned nodes, max_depth=10\n",
      "[16:47:07] src/tree/updater_prune.cc:74: tree pruning end, 1 roots, 550 extra nodes, 0 pruned nodes, max_depth=10\n",
      "[16:47:08] src/tree/updater_prune.cc:74: tree pruning end, 1 roots, 582 extra nodes, 0 pruned nodes, max_depth=10\n",
      "[16:47:08] src/tree/updater_prune.cc:74: tree pruning end, 1 roots, 528 extra nodes, 0 pruned nodes, max_depth=10\n",
      "[16:47:09] src/tree/updater_prune.cc:74: tree pruning end, 1 roots, 546 extra nodes, 0 pruned nodes, max_depth=10\n",
      "[16:47:10] src/tree/updater_prune.cc:74: tree pruning end, 1 roots, 552 extra nodes, 0 pruned nodes, max_depth=10\n",
      "[16:47:10] src/tree/updater_prune.cc:74: tree pruning end, 1 roots, 580 extra nodes, 0 pruned nodes, max_depth=10\n",
      "[16:47:11] src/tree/updater_prune.cc:74: tree pruning end, 1 roots, 642 extra nodes, 0 pruned nodes, max_depth=10\n",
      "[16:47:12] src/tree/updater_prune.cc:74: tree pruning end, 1 roots, 576 extra nodes, 0 pruned nodes, max_depth=10\n",
      "[16:47:12] src/tree/updater_prune.cc:74: tree pruning end, 1 roots, 550 extra nodes, 0 pruned nodes, max_depth=10\n",
      "[10]\ttrain-logloss:0.552614\tvalid-logloss:0.554805\n",
      "[16:47:13] src/tree/updater_prune.cc:74: tree pruning end, 1 roots, 558 extra nodes, 0 pruned nodes, max_depth=10\n",
      "[16:47:14] src/tree/updater_prune.cc:74: tree pruning end, 1 roots, 580 extra nodes, 0 pruned nodes, max_depth=10\n",
      "[16:47:14] src/tree/updater_prune.cc:74: tree pruning end, 1 roots, 636 extra nodes, 0 pruned nodes, max_depth=10\n",
      "[16:47:15] src/tree/updater_prune.cc:74: tree pruning end, 1 roots, 554 extra nodes, 0 pruned nodes, max_depth=10\n",
      "[16:47:15] src/tree/updater_prune.cc:74: tree pruning end, 1 roots, 578 extra nodes, 0 pruned nodes, max_depth=10\n",
      "[16:47:16] src/tree/updater_prune.cc:74: tree pruning end, 1 roots, 600 extra nodes, 0 pruned nodes, max_depth=10\n",
      "[16:47:17] src/tree/updater_prune.cc:74: tree pruning end, 1 roots, 588 extra nodes, 0 pruned nodes, max_depth=10\n",
      "[16:47:17] src/tree/updater_prune.cc:74: tree pruning end, 1 roots, 588 extra nodes, 0 pruned nodes, max_depth=10\n",
      "[16:47:18] src/tree/updater_prune.cc:74: tree pruning end, 1 roots, 588 extra nodes, 0 pruned nodes, max_depth=10\n",
      "[16:47:19] src/tree/updater_prune.cc:74: tree pruning end, 1 roots, 594 extra nodes, 0 pruned nodes, max_depth=10\n",
      "[20]\ttrain-logloss:0.463488\tvalid-logloss:0.467641\n",
      "[16:47:19] src/tree/updater_prune.cc:74: tree pruning end, 1 roots, 602 extra nodes, 0 pruned nodes, max_depth=10\n",
      "[16:47:20] src/tree/updater_prune.cc:74: tree pruning end, 1 roots, 574 extra nodes, 0 pruned nodes, max_depth=10\n",
      "[16:47:20] src/tree/updater_prune.cc:74: tree pruning end, 1 roots, 598 extra nodes, 0 pruned nodes, max_depth=10\n",
      "[16:47:21] src/tree/updater_prune.cc:74: tree pruning end, 1 roots, 624 extra nodes, 0 pruned nodes, max_depth=10\n",
      "[16:47:22] src/tree/updater_prune.cc:74: tree pruning end, 1 roots, 598 extra nodes, 0 pruned nodes, max_depth=10\n",
      "[16:47:22] src/tree/updater_prune.cc:74: tree pruning end, 1 roots, 604 extra nodes, 0 pruned nodes, max_depth=10\n",
      "[16:47:23] src/tree/updater_prune.cc:74: tree pruning end, 1 roots, 574 extra nodes, 0 pruned nodes, max_depth=10\n",
      "[16:47:24] src/tree/updater_prune.cc:74: tree pruning end, 1 roots, 570 extra nodes, 0 pruned nodes, max_depth=10\n",
      "[16:47:24] src/tree/updater_prune.cc:74: tree pruning end, 1 roots, 634 extra nodes, 0 pruned nodes, max_depth=10\n",
      "[16:47:25] src/tree/updater_prune.cc:74: tree pruning end, 1 roots, 584 extra nodes, 0 pruned nodes, max_depth=10\n",
      "[30]\ttrain-logloss:0.397677\tvalid-logloss:0.403705\n",
      "[16:47:25] src/tree/updater_prune.cc:74: tree pruning end, 1 roots, 586 extra nodes, 0 pruned nodes, max_depth=10\n",
      "[16:47:26] src/tree/updater_prune.cc:74: tree pruning end, 1 roots, 634 extra nodes, 0 pruned nodes, max_depth=10\n",
      "[16:47:26] src/tree/updater_prune.cc:74: tree pruning end, 1 roots, 602 extra nodes, 0 pruned nodes, max_depth=10\n",
      "[16:47:27] src/tree/updater_prune.cc:74: tree pruning end, 1 roots, 624 extra nodes, 0 pruned nodes, max_depth=10\n",
      "[16:47:28] src/tree/updater_prune.cc:74: tree pruning end, 1 roots, 594 extra nodes, 0 pruned nodes, max_depth=10\n",
      "[16:47:28] src/tree/updater_prune.cc:74: tree pruning end, 1 roots, 610 extra nodes, 0 pruned nodes, max_depth=10\n",
      "[16:47:29] src/tree/updater_prune.cc:74: tree pruning end, 1 roots, 652 extra nodes, 0 pruned nodes, max_depth=10\n",
      "[16:47:30] src/tree/updater_prune.cc:74: tree pruning end, 1 roots, 624 extra nodes, 0 pruned nodes, max_depth=10\n",
      "[16:47:30] src/tree/updater_prune.cc:74: tree pruning end, 1 roots, 664 extra nodes, 0 pruned nodes, max_depth=10\n",
      "[16:47:31] src/tree/updater_prune.cc:74: tree pruning end, 1 roots, 622 extra nodes, 0 pruned nodes, max_depth=10\n",
      "[40]\ttrain-logloss:0.347837\tvalid-logloss:0.355669\n",
      "[16:47:31] src/tree/updater_prune.cc:74: tree pruning end, 1 roots, 666 extra nodes, 0 pruned nodes, max_depth=10\n",
      "[16:47:32] src/tree/updater_prune.cc:74: tree pruning end, 1 roots, 612 extra nodes, 0 pruned nodes, max_depth=10\n",
      "[16:47:33] src/tree/updater_prune.cc:74: tree pruning end, 1 roots, 646 extra nodes, 0 pruned nodes, max_depth=10\n",
      "[16:47:33] src/tree/updater_prune.cc:74: tree pruning end, 1 roots, 668 extra nodes, 0 pruned nodes, max_depth=10\n",
      "[16:47:34] src/tree/updater_prune.cc:74: tree pruning end, 1 roots, 644 extra nodes, 0 pruned nodes, max_depth=10\n",
      "[16:47:35] src/tree/updater_prune.cc:74: tree pruning end, 1 roots, 644 extra nodes, 0 pruned nodes, max_depth=10\n",
      "[16:47:35] src/tree/updater_prune.cc:74: tree pruning end, 1 roots, 644 extra nodes, 0 pruned nodes, max_depth=10\n",
      "[16:47:36] src/tree/updater_prune.cc:74: tree pruning end, 1 roots, 684 extra nodes, 0 pruned nodes, max_depth=10\n",
      "[16:47:36] src/tree/updater_prune.cc:74: tree pruning end, 1 roots, 654 extra nodes, 0 pruned nodes, max_depth=10\n",
      "[16:47:37] src/tree/updater_prune.cc:74: tree pruning end, 1 roots, 656 extra nodes, 0 pruned nodes, max_depth=10\n",
      "[50]\ttrain-logloss:0.308946\tvalid-logloss:0.318868\n",
      "[16:47:38] src/tree/updater_prune.cc:74: tree pruning end, 1 roots, 672 extra nodes, 0 pruned nodes, max_depth=10\n",
      "[16:47:38] src/tree/updater_prune.cc:74: tree pruning end, 1 roots, 646 extra nodes, 0 pruned nodes, max_depth=10\n",
      "[16:47:39] src/tree/updater_prune.cc:74: tree pruning end, 1 roots, 690 extra nodes, 0 pruned nodes, max_depth=10\n",
      "[16:47:39] src/tree/updater_prune.cc:74: tree pruning end, 1 roots, 642 extra nodes, 0 pruned nodes, max_depth=10\n",
      "[16:47:40] src/tree/updater_prune.cc:74: tree pruning end, 1 roots, 676 extra nodes, 0 pruned nodes, max_depth=10\n",
      "[16:47:41] src/tree/updater_prune.cc:74: tree pruning end, 1 roots, 686 extra nodes, 0 pruned nodes, max_depth=10\n",
      "[16:47:41] src/tree/updater_prune.cc:74: tree pruning end, 1 roots, 658 extra nodes, 0 pruned nodes, max_depth=10\n",
      "[16:47:42] src/tree/updater_prune.cc:74: tree pruning end, 1 roots, 658 extra nodes, 0 pruned nodes, max_depth=10\n",
      "[16:47:42] src/tree/updater_prune.cc:74: tree pruning end, 1 roots, 664 extra nodes, 0 pruned nodes, max_depth=10\n",
      "[16:47:43] src/tree/updater_prune.cc:74: tree pruning end, 1 roots, 684 extra nodes, 0 pruned nodes, max_depth=10\n",
      "[60]\ttrain-logloss:0.278575\tvalid-logloss:0.290577\n",
      "[16:47:44] src/tree/updater_prune.cc:74: tree pruning end, 1 roots, 652 extra nodes, 0 pruned nodes, max_depth=10\n",
      "[16:47:44] src/tree/updater_prune.cc:74: tree pruning end, 1 roots, 648 extra nodes, 0 pruned nodes, max_depth=10\n",
      "[16:47:45] src/tree/updater_prune.cc:74: tree pruning end, 1 roots, 674 extra nodes, 0 pruned nodes, max_depth=10\n",
      "[16:47:46] src/tree/updater_prune.cc:74: tree pruning end, 1 roots, 694 extra nodes, 0 pruned nodes, max_depth=10\n",
      "[16:47:46] src/tree/updater_prune.cc:74: tree pruning end, 1 roots, 666 extra nodes, 0 pruned nodes, max_depth=10\n",
      "[16:47:47] src/tree/updater_prune.cc:74: tree pruning end, 1 roots, 696 extra nodes, 0 pruned nodes, max_depth=10\n",
      "[16:47:47] src/tree/updater_prune.cc:74: tree pruning end, 1 roots, 698 extra nodes, 0 pruned nodes, max_depth=10\n"
     ]
    },
    {
     "name": "stdout",
     "output_type": "stream",
     "text": [
      "[16:47:48] src/tree/updater_prune.cc:74: tree pruning end, 1 roots, 742 extra nodes, 0 pruned nodes, max_depth=10\n",
      "[16:47:49] src/tree/updater_prune.cc:74: tree pruning end, 1 roots, 792 extra nodes, 0 pruned nodes, max_depth=10\n",
      "[16:47:49] src/tree/updater_prune.cc:74: tree pruning end, 1 roots, 674 extra nodes, 0 pruned nodes, max_depth=10\n",
      "[70]\ttrain-logloss:0.254341\tvalid-logloss:0.268446\n",
      "[16:47:50] src/tree/updater_prune.cc:74: tree pruning end, 1 roots, 728 extra nodes, 0 pruned nodes, max_depth=10\n",
      "[16:47:51] src/tree/updater_prune.cc:74: tree pruning end, 1 roots, 738 extra nodes, 0 pruned nodes, max_depth=10\n",
      "[16:47:51] src/tree/updater_prune.cc:74: tree pruning end, 1 roots, 694 extra nodes, 0 pruned nodes, max_depth=10\n",
      "[16:47:52] src/tree/updater_prune.cc:74: tree pruning end, 1 roots, 736 extra nodes, 0 pruned nodes, max_depth=10\n",
      "[16:47:52] src/tree/updater_prune.cc:74: tree pruning end, 1 roots, 692 extra nodes, 0 pruned nodes, max_depth=10\n",
      "[16:47:53] src/tree/updater_prune.cc:74: tree pruning end, 1 roots, 710 extra nodes, 0 pruned nodes, max_depth=10\n",
      "[16:47:54] src/tree/updater_prune.cc:74: tree pruning end, 1 roots, 696 extra nodes, 0 pruned nodes, max_depth=10\n",
      "[16:47:54] src/tree/updater_prune.cc:74: tree pruning end, 1 roots, 672 extra nodes, 0 pruned nodes, max_depth=10\n",
      "[16:47:55] src/tree/updater_prune.cc:74: tree pruning end, 1 roots, 718 extra nodes, 0 pruned nodes, max_depth=10\n",
      "[16:47:55] src/tree/updater_prune.cc:74: tree pruning end, 1 roots, 666 extra nodes, 0 pruned nodes, max_depth=10\n",
      "[80]\ttrain-logloss:0.234737\tvalid-logloss:0.251084\n",
      "[16:47:56] src/tree/updater_prune.cc:74: tree pruning end, 1 roots, 730 extra nodes, 0 pruned nodes, max_depth=10\n",
      "[16:47:57] src/tree/updater_prune.cc:74: tree pruning end, 1 roots, 706 extra nodes, 0 pruned nodes, max_depth=10\n",
      "[16:47:57] src/tree/updater_prune.cc:74: tree pruning end, 1 roots, 724 extra nodes, 0 pruned nodes, max_depth=10\n",
      "[16:47:58] src/tree/updater_prune.cc:74: tree pruning end, 1 roots, 562 extra nodes, 0 pruned nodes, max_depth=10\n",
      "[16:47:59] src/tree/updater_prune.cc:74: tree pruning end, 1 roots, 566 extra nodes, 0 pruned nodes, max_depth=10\n",
      "[16:47:59] src/tree/updater_prune.cc:74: tree pruning end, 1 roots, 570 extra nodes, 0 pruned nodes, max_depth=10\n",
      "[16:48:00] src/tree/updater_prune.cc:74: tree pruning end, 1 roots, 572 extra nodes, 0 pruned nodes, max_depth=10\n",
      "[16:48:00] src/tree/updater_prune.cc:74: tree pruning end, 1 roots, 536 extra nodes, 0 pruned nodes, max_depth=10\n",
      "[16:48:01] src/tree/updater_prune.cc:74: tree pruning end, 1 roots, 534 extra nodes, 0 pruned nodes, max_depth=10\n",
      "[16:48:01] src/tree/updater_prune.cc:74: tree pruning end, 1 roots, 520 extra nodes, 0 pruned nodes, max_depth=10\n",
      "[90]\ttrain-logloss:0.219415\tvalid-logloss:0.237548\n",
      "[16:48:02] src/tree/updater_prune.cc:74: tree pruning end, 1 roots, 566 extra nodes, 0 pruned nodes, max_depth=10\n",
      "[16:48:03] src/tree/updater_prune.cc:74: tree pruning end, 1 roots, 532 extra nodes, 0 pruned nodes, max_depth=10\n",
      "[16:48:03] src/tree/updater_prune.cc:74: tree pruning end, 1 roots, 590 extra nodes, 0 pruned nodes, max_depth=10\n",
      "[16:48:04] src/tree/updater_prune.cc:74: tree pruning end, 1 roots, 560 extra nodes, 0 pruned nodes, max_depth=10\n",
      "[16:48:04] src/tree/updater_prune.cc:74: tree pruning end, 1 roots, 552 extra nodes, 0 pruned nodes, max_depth=10\n",
      "[16:48:05] src/tree/updater_prune.cc:74: tree pruning end, 1 roots, 560 extra nodes, 0 pruned nodes, max_depth=10\n",
      "[16:48:06] src/tree/updater_prune.cc:74: tree pruning end, 1 roots, 566 extra nodes, 0 pruned nodes, max_depth=10\n",
      "[16:48:06] src/tree/updater_prune.cc:74: tree pruning end, 1 roots, 600 extra nodes, 0 pruned nodes, max_depth=10\n",
      "[16:48:07] src/tree/updater_prune.cc:74: tree pruning end, 1 roots, 538 extra nodes, 0 pruned nodes, max_depth=10\n",
      "[16:48:07] src/tree/updater_prune.cc:74: tree pruning end, 1 roots, 580 extra nodes, 0 pruned nodes, max_depth=10\n",
      "[100]\ttrain-logloss:0.207119\tvalid-logloss:0.226766\n",
      "[16:48:08] src/tree/updater_prune.cc:74: tree pruning end, 1 roots, 576 extra nodes, 0 pruned nodes, max_depth=10\n",
      "[16:48:09] src/tree/updater_prune.cc:74: tree pruning end, 1 roots, 558 extra nodes, 0 pruned nodes, max_depth=10\n",
      "[16:48:09] src/tree/updater_prune.cc:74: tree pruning end, 1 roots, 548 extra nodes, 0 pruned nodes, max_depth=10\n",
      "[16:48:10] src/tree/updater_prune.cc:74: tree pruning end, 1 roots, 584 extra nodes, 0 pruned nodes, max_depth=10\n",
      "[16:48:10] src/tree/updater_prune.cc:74: tree pruning end, 1 roots, 558 extra nodes, 0 pruned nodes, max_depth=10\n",
      "[16:48:11] src/tree/updater_prune.cc:74: tree pruning end, 1 roots, 594 extra nodes, 0 pruned nodes, max_depth=10\n",
      "[16:48:12] src/tree/updater_prune.cc:74: tree pruning end, 1 roots, 548 extra nodes, 0 pruned nodes, max_depth=10\n",
      "[16:48:12] src/tree/updater_prune.cc:74: tree pruning end, 1 roots, 604 extra nodes, 0 pruned nodes, max_depth=10\n",
      "[16:48:13] src/tree/updater_prune.cc:74: tree pruning end, 1 roots, 556 extra nodes, 0 pruned nodes, max_depth=10\n",
      "[16:48:13] src/tree/updater_prune.cc:74: tree pruning end, 1 roots, 540 extra nodes, 0 pruned nodes, max_depth=10\n",
      "[110]\ttrain-logloss:0.196936\tvalid-logloss:0.218078\n",
      "[16:48:14] src/tree/updater_prune.cc:74: tree pruning end, 1 roots, 626 extra nodes, 0 pruned nodes, max_depth=10\n",
      "[16:48:15] src/tree/updater_prune.cc:74: tree pruning end, 1 roots, 564 extra nodes, 0 pruned nodes, max_depth=10\n",
      "[16:48:15] src/tree/updater_prune.cc:74: tree pruning end, 1 roots, 578 extra nodes, 0 pruned nodes, max_depth=10\n",
      "[16:48:16] src/tree/updater_prune.cc:74: tree pruning end, 1 roots, 500 extra nodes, 0 pruned nodes, max_depth=10\n",
      "[16:48:16] src/tree/updater_prune.cc:74: tree pruning end, 1 roots, 548 extra nodes, 0 pruned nodes, max_depth=10\n",
      "[16:48:17] src/tree/updater_prune.cc:74: tree pruning end, 1 roots, 492 extra nodes, 0 pruned nodes, max_depth=10\n",
      "[16:48:18] src/tree/updater_prune.cc:74: tree pruning end, 1 roots, 602 extra nodes, 0 pruned nodes, max_depth=10\n",
      "[16:48:18] src/tree/updater_prune.cc:74: tree pruning end, 1 roots, 500 extra nodes, 0 pruned nodes, max_depth=10\n",
      "[16:48:19] src/tree/updater_prune.cc:74: tree pruning end, 1 roots, 608 extra nodes, 0 pruned nodes, max_depth=10\n",
      "[16:48:19] src/tree/updater_prune.cc:74: tree pruning end, 1 roots, 488 extra nodes, 0 pruned nodes, max_depth=10\n",
      "[120]\ttrain-logloss:0.188629\tvalid-logloss:0.211223\n",
      "[16:48:20] src/tree/updater_prune.cc:74: tree pruning end, 1 roots, 500 extra nodes, 0 pruned nodes, max_depth=10\n",
      "[16:48:21] src/tree/updater_prune.cc:74: tree pruning end, 1 roots, 610 extra nodes, 0 pruned nodes, max_depth=10\n",
      "[16:48:21] src/tree/updater_prune.cc:74: tree pruning end, 1 roots, 498 extra nodes, 0 pruned nodes, max_depth=10\n",
      "[16:48:22] src/tree/updater_prune.cc:74: tree pruning end, 1 roots, 560 extra nodes, 0 pruned nodes, max_depth=10\n",
      "[16:48:22] src/tree/updater_prune.cc:74: tree pruning end, 1 roots, 512 extra nodes, 0 pruned nodes, max_depth=10\n",
      "[16:48:23] src/tree/updater_prune.cc:74: tree pruning end, 1 roots, 480 extra nodes, 0 pruned nodes, max_depth=10\n",
      "[16:48:24] src/tree/updater_prune.cc:74: tree pruning end, 1 roots, 634 extra nodes, 0 pruned nodes, max_depth=10\n",
      "[16:48:24] src/tree/updater_prune.cc:74: tree pruning end, 1 roots, 510 extra nodes, 0 pruned nodes, max_depth=10\n",
      "[16:48:25] src/tree/updater_prune.cc:74: tree pruning end, 1 roots, 602 extra nodes, 0 pruned nodes, max_depth=10\n",
      "[16:48:25] src/tree/updater_prune.cc:74: tree pruning end, 1 roots, 418 extra nodes, 0 pruned nodes, max_depth=10\n",
      "[130]\ttrain-logloss:0.181789\tvalid-logloss:0.205681\n",
      "[16:48:26] src/tree/updater_prune.cc:74: tree pruning end, 1 roots, 496 extra nodes, 0 pruned nodes, max_depth=10\n",
      "[16:48:27] src/tree/updater_prune.cc:74: tree pruning end, 1 roots, 454 extra nodes, 0 pruned nodes, max_depth=10\n",
      "[16:48:27] src/tree/updater_prune.cc:74: tree pruning end, 1 roots, 432 extra nodes, 0 pruned nodes, max_depth=10\n",
      "[16:48:28] src/tree/updater_prune.cc:74: tree pruning end, 1 roots, 614 extra nodes, 0 pruned nodes, max_depth=10\n",
      "[16:48:29] src/tree/updater_prune.cc:74: tree pruning end, 1 roots, 488 extra nodes, 0 pruned nodes, max_depth=10\n",
      "[16:48:29] src/tree/updater_prune.cc:74: tree pruning end, 1 roots, 540 extra nodes, 0 pruned nodes, max_depth=10\n"
     ]
    },
    {
     "name": "stdout",
     "output_type": "stream",
     "text": [
      "[16:48:30] src/tree/updater_prune.cc:74: tree pruning end, 1 roots, 526 extra nodes, 0 pruned nodes, max_depth=10\n",
      "[16:48:30] src/tree/updater_prune.cc:74: tree pruning end, 1 roots, 606 extra nodes, 0 pruned nodes, max_depth=10\n",
      "[16:48:31] src/tree/updater_prune.cc:74: tree pruning end, 1 roots, 488 extra nodes, 0 pruned nodes, max_depth=10\n",
      "[16:48:32] src/tree/updater_prune.cc:74: tree pruning end, 1 roots, 470 extra nodes, 0 pruned nodes, max_depth=10\n",
      "[140]\ttrain-logloss:0.176122\tvalid-logloss:0.201271\n",
      "[16:48:32] src/tree/updater_prune.cc:74: tree pruning end, 1 roots, 478 extra nodes, 0 pruned nodes, max_depth=10\n",
      "[16:48:33] src/tree/updater_prune.cc:74: tree pruning end, 1 roots, 562 extra nodes, 0 pruned nodes, max_depth=10\n",
      "[16:48:33] src/tree/updater_prune.cc:74: tree pruning end, 1 roots, 438 extra nodes, 0 pruned nodes, max_depth=10\n",
      "[16:48:34] src/tree/updater_prune.cc:74: tree pruning end, 1 roots, 456 extra nodes, 0 pruned nodes, max_depth=10\n",
      "[16:48:35] src/tree/updater_prune.cc:74: tree pruning end, 1 roots, 470 extra nodes, 0 pruned nodes, max_depth=10\n",
      "[16:48:35] src/tree/updater_prune.cc:74: tree pruning end, 1 roots, 420 extra nodes, 0 pruned nodes, max_depth=10\n",
      "[16:48:36] src/tree/updater_prune.cc:74: tree pruning end, 1 roots, 452 extra nodes, 0 pruned nodes, max_depth=10\n",
      "[16:48:36] src/tree/updater_prune.cc:74: tree pruning end, 1 roots, 504 extra nodes, 0 pruned nodes, max_depth=10\n",
      "[16:48:37] src/tree/updater_prune.cc:74: tree pruning end, 1 roots, 460 extra nodes, 0 pruned nodes, max_depth=10\n",
      "[16:48:38] src/tree/updater_prune.cc:74: tree pruning end, 1 roots, 448 extra nodes, 0 pruned nodes, max_depth=10\n",
      "[150]\ttrain-logloss:0.171391\tvalid-logloss:0.197713\n",
      "[16:48:38] src/tree/updater_prune.cc:74: tree pruning end, 1 roots, 450 extra nodes, 0 pruned nodes, max_depth=10\n",
      "[16:48:39] src/tree/updater_prune.cc:74: tree pruning end, 1 roots, 452 extra nodes, 0 pruned nodes, max_depth=10\n",
      "[16:48:39] src/tree/updater_prune.cc:74: tree pruning end, 1 roots, 490 extra nodes, 0 pruned nodes, max_depth=10\n",
      "[16:48:40] src/tree/updater_prune.cc:74: tree pruning end, 1 roots, 456 extra nodes, 0 pruned nodes, max_depth=10\n",
      "[16:48:41] src/tree/updater_prune.cc:74: tree pruning end, 1 roots, 426 extra nodes, 0 pruned nodes, max_depth=10\n",
      "[16:48:41] src/tree/updater_prune.cc:74: tree pruning end, 1 roots, 482 extra nodes, 0 pruned nodes, max_depth=10\n",
      "[16:48:42] src/tree/updater_prune.cc:74: tree pruning end, 1 roots, 430 extra nodes, 0 pruned nodes, max_depth=10\n",
      "[16:48:42] src/tree/updater_prune.cc:74: tree pruning end, 1 roots, 464 extra nodes, 0 pruned nodes, max_depth=10\n",
      "[16:48:43] src/tree/updater_prune.cc:74: tree pruning end, 1 roots, 428 extra nodes, 0 pruned nodes, max_depth=10\n",
      "[16:48:44] src/tree/updater_prune.cc:74: tree pruning end, 1 roots, 424 extra nodes, 0 pruned nodes, max_depth=10\n",
      "[160]\ttrain-logloss:0.167301\tvalid-logloss:0.194804\n",
      "[16:48:44] src/tree/updater_prune.cc:74: tree pruning end, 1 roots, 430 extra nodes, 0 pruned nodes, max_depth=10\n",
      "[16:48:45] src/tree/updater_prune.cc:74: tree pruning end, 1 roots, 420 extra nodes, 0 pruned nodes, max_depth=10\n",
      "[16:48:45] src/tree/updater_prune.cc:74: tree pruning end, 1 roots, 400 extra nodes, 0 pruned nodes, max_depth=10\n",
      "[16:48:46] src/tree/updater_prune.cc:74: tree pruning end, 1 roots, 444 extra nodes, 0 pruned nodes, max_depth=10\n",
      "[16:48:47] src/tree/updater_prune.cc:74: tree pruning end, 1 roots, 424 extra nodes, 0 pruned nodes, max_depth=10\n",
      "[16:48:47] src/tree/updater_prune.cc:74: tree pruning end, 1 roots, 408 extra nodes, 0 pruned nodes, max_depth=10\n",
      "[16:48:48] src/tree/updater_prune.cc:74: tree pruning end, 1 roots, 468 extra nodes, 0 pruned nodes, max_depth=10\n",
      "[16:48:48] src/tree/updater_prune.cc:74: tree pruning end, 1 roots, 326 extra nodes, 0 pruned nodes, max_depth=10\n",
      "[16:48:49] src/tree/updater_prune.cc:74: tree pruning end, 1 roots, 446 extra nodes, 0 pruned nodes, max_depth=10\n",
      "[16:48:50] src/tree/updater_prune.cc:74: tree pruning end, 1 roots, 444 extra nodes, 0 pruned nodes, max_depth=10\n",
      "[170]\ttrain-logloss:0.163813\tvalid-logloss:0.192387\n",
      "[16:48:50] src/tree/updater_prune.cc:74: tree pruning end, 1 roots, 342 extra nodes, 0 pruned nodes, max_depth=10\n",
      "[16:48:51] src/tree/updater_prune.cc:74: tree pruning end, 1 roots, 378 extra nodes, 0 pruned nodes, max_depth=10\n",
      "[16:48:51] src/tree/updater_prune.cc:74: tree pruning end, 1 roots, 408 extra nodes, 0 pruned nodes, max_depth=10\n",
      "[16:48:52] src/tree/updater_prune.cc:74: tree pruning end, 1 roots, 436 extra nodes, 0 pruned nodes, max_depth=10\n",
      "[16:48:53] src/tree/updater_prune.cc:74: tree pruning end, 1 roots, 392 extra nodes, 0 pruned nodes, max_depth=10\n",
      "[16:48:53] src/tree/updater_prune.cc:74: tree pruning end, 1 roots, 446 extra nodes, 0 pruned nodes, max_depth=10\n",
      "[16:48:54] src/tree/updater_prune.cc:74: tree pruning end, 1 roots, 354 extra nodes, 0 pruned nodes, max_depth=10\n",
      "[16:48:54] src/tree/updater_prune.cc:74: tree pruning end, 1 roots, 420 extra nodes, 0 pruned nodes, max_depth=10\n",
      "[16:48:55] src/tree/updater_prune.cc:74: tree pruning end, 1 roots, 360 extra nodes, 0 pruned nodes, max_depth=10\n",
      "[16:48:55] src/tree/updater_prune.cc:74: tree pruning end, 1 roots, 406 extra nodes, 0 pruned nodes, max_depth=10\n",
      "[180]\ttrain-logloss:0.160837\tvalid-logloss:0.190382\n",
      "[16:48:56] src/tree/updater_prune.cc:74: tree pruning end, 1 roots, 388 extra nodes, 0 pruned nodes, max_depth=10\n",
      "[16:48:57] src/tree/updater_prune.cc:74: tree pruning end, 1 roots, 384 extra nodes, 0 pruned nodes, max_depth=10\n",
      "[16:48:57] src/tree/updater_prune.cc:74: tree pruning end, 1 roots, 324 extra nodes, 0 pruned nodes, max_depth=10\n",
      "[16:48:58] src/tree/updater_prune.cc:74: tree pruning end, 1 roots, 456 extra nodes, 0 pruned nodes, max_depth=10\n",
      "[16:48:58] src/tree/updater_prune.cc:74: tree pruning end, 1 roots, 394 extra nodes, 0 pruned nodes, max_depth=10\n",
      "[16:48:59] src/tree/updater_prune.cc:74: tree pruning end, 1 roots, 356 extra nodes, 0 pruned nodes, max_depth=10\n",
      "[16:49:00] src/tree/updater_prune.cc:74: tree pruning end, 1 roots, 374 extra nodes, 0 pruned nodes, max_depth=10\n",
      "[16:49:00] src/tree/updater_prune.cc:74: tree pruning end, 1 roots, 352 extra nodes, 0 pruned nodes, max_depth=10\n",
      "[16:49:01] src/tree/updater_prune.cc:74: tree pruning end, 1 roots, 358 extra nodes, 0 pruned nodes, max_depth=10\n",
      "[16:49:01] src/tree/updater_prune.cc:74: tree pruning end, 1 roots, 372 extra nodes, 0 pruned nodes, max_depth=10\n",
      "[190]\ttrain-logloss:0.158198\tvalid-logloss:0.188648\n",
      "[16:49:02] src/tree/updater_prune.cc:74: tree pruning end, 1 roots, 376 extra nodes, 0 pruned nodes, max_depth=10\n",
      "[16:49:02] src/tree/updater_prune.cc:74: tree pruning end, 1 roots, 376 extra nodes, 0 pruned nodes, max_depth=10\n",
      "[16:49:03] src/tree/updater_prune.cc:74: tree pruning end, 1 roots, 342 extra nodes, 0 pruned nodes, max_depth=10\n",
      "[16:49:04] src/tree/updater_prune.cc:74: tree pruning end, 1 roots, 316 extra nodes, 0 pruned nodes, max_depth=10\n",
      "[16:49:04] src/tree/updater_prune.cc:74: tree pruning end, 1 roots, 350 extra nodes, 0 pruned nodes, max_depth=10\n",
      "[16:49:05] src/tree/updater_prune.cc:74: tree pruning end, 1 roots, 318 extra nodes, 0 pruned nodes, max_depth=10\n",
      "[16:49:05] src/tree/updater_prune.cc:74: tree pruning end, 1 roots, 346 extra nodes, 0 pruned nodes, max_depth=10\n",
      "[16:49:06] src/tree/updater_prune.cc:74: tree pruning end, 1 roots, 336 extra nodes, 0 pruned nodes, max_depth=10\n",
      "[16:49:06] src/tree/updater_prune.cc:74: tree pruning end, 1 roots, 296 extra nodes, 0 pruned nodes, max_depth=10\n",
      "[16:49:07] src/tree/updater_prune.cc:74: tree pruning end, 1 roots, 342 extra nodes, 0 pruned nodes, max_depth=10\n",
      "[200]\ttrain-logloss:0.155932\tvalid-logloss:0.187291\n",
      "[16:49:08] src/tree/updater_prune.cc:74: tree pruning end, 1 roots, 382 extra nodes, 0 pruned nodes, max_depth=10\n",
      "[16:49:08] src/tree/updater_prune.cc:74: tree pruning end, 1 roots, 288 extra nodes, 0 pruned nodes, max_depth=10\n",
      "[16:49:09] src/tree/updater_prune.cc:74: tree pruning end, 1 roots, 330 extra nodes, 0 pruned nodes, max_depth=10\n",
      "[16:49:09] src/tree/updater_prune.cc:74: tree pruning end, 1 roots, 302 extra nodes, 0 pruned nodes, max_depth=10\n",
      "[16:49:10] src/tree/updater_prune.cc:74: tree pruning end, 1 roots, 312 extra nodes, 0 pruned nodes, max_depth=10\n"
     ]
    },
    {
     "name": "stdout",
     "output_type": "stream",
     "text": [
      "[16:49:10] src/tree/updater_prune.cc:74: tree pruning end, 1 roots, 270 extra nodes, 0 pruned nodes, max_depth=10\n",
      "[16:49:11] src/tree/updater_prune.cc:74: tree pruning end, 1 roots, 322 extra nodes, 0 pruned nodes, max_depth=10\n",
      "[16:49:12] src/tree/updater_prune.cc:74: tree pruning end, 1 roots, 398 extra nodes, 0 pruned nodes, max_depth=10\n",
      "[16:49:12] src/tree/updater_prune.cc:74: tree pruning end, 1 roots, 300 extra nodes, 0 pruned nodes, max_depth=10\n",
      "[16:49:13] src/tree/updater_prune.cc:74: tree pruning end, 1 roots, 308 extra nodes, 0 pruned nodes, max_depth=10\n",
      "[210]\ttrain-logloss:0.15391\tvalid-logloss:0.186129\n",
      "[16:49:13] src/tree/updater_prune.cc:74: tree pruning end, 1 roots, 302 extra nodes, 0 pruned nodes, max_depth=10\n",
      "[16:49:14] src/tree/updater_prune.cc:74: tree pruning end, 1 roots, 418 extra nodes, 0 pruned nodes, max_depth=10\n",
      "[16:49:14] src/tree/updater_prune.cc:74: tree pruning end, 1 roots, 286 extra nodes, 0 pruned nodes, max_depth=10\n",
      "[16:49:15] src/tree/updater_prune.cc:74: tree pruning end, 1 roots, 390 extra nodes, 0 pruned nodes, max_depth=10\n",
      "[16:49:16] src/tree/updater_prune.cc:74: tree pruning end, 1 roots, 282 extra nodes, 0 pruned nodes, max_depth=10\n",
      "[16:49:16] src/tree/updater_prune.cc:74: tree pruning end, 1 roots, 256 extra nodes, 0 pruned nodes, max_depth=10\n",
      "[16:49:17] src/tree/updater_prune.cc:74: tree pruning end, 1 roots, 254 extra nodes, 0 pruned nodes, max_depth=10\n",
      "[16:49:17] src/tree/updater_prune.cc:74: tree pruning end, 1 roots, 324 extra nodes, 0 pruned nodes, max_depth=10\n",
      "[16:49:18] src/tree/updater_prune.cc:74: tree pruning end, 1 roots, 270 extra nodes, 0 pruned nodes, max_depth=10\n",
      "[16:49:18] src/tree/updater_prune.cc:74: tree pruning end, 1 roots, 222 extra nodes, 0 pruned nodes, max_depth=10\n",
      "[220]\ttrain-logloss:0.152107\tvalid-logloss:0.185146\n",
      "[16:49:19] src/tree/updater_prune.cc:74: tree pruning end, 1 roots, 314 extra nodes, 0 pruned nodes, max_depth=10\n",
      "[16:49:19] src/tree/updater_prune.cc:74: tree pruning end, 1 roots, 264 extra nodes, 0 pruned nodes, max_depth=10\n",
      "[16:49:20] src/tree/updater_prune.cc:74: tree pruning end, 1 roots, 198 extra nodes, 0 pruned nodes, max_depth=10\n",
      "[16:49:21] src/tree/updater_prune.cc:74: tree pruning end, 1 roots, 300 extra nodes, 0 pruned nodes, max_depth=10\n",
      "[16:49:21] src/tree/updater_prune.cc:74: tree pruning end, 1 roots, 296 extra nodes, 0 pruned nodes, max_depth=10\n",
      "[16:49:22] src/tree/updater_prune.cc:74: tree pruning end, 1 roots, 218 extra nodes, 0 pruned nodes, max_depth=10\n",
      "[16:49:22] src/tree/updater_prune.cc:74: tree pruning end, 1 roots, 242 extra nodes, 0 pruned nodes, max_depth=10\n",
      "[16:49:23] src/tree/updater_prune.cc:74: tree pruning end, 1 roots, 262 extra nodes, 0 pruned nodes, max_depth=10\n",
      "[16:49:23] src/tree/updater_prune.cc:74: tree pruning end, 1 roots, 194 extra nodes, 0 pruned nodes, max_depth=10\n",
      "[16:49:24] src/tree/updater_prune.cc:74: tree pruning end, 1 roots, 270 extra nodes, 0 pruned nodes, max_depth=10\n",
      "[230]\ttrain-logloss:0.150578\tvalid-logloss:0.184285\n",
      "[16:49:24] src/tree/updater_prune.cc:74: tree pruning end, 1 roots, 286 extra nodes, 0 pruned nodes, max_depth=10\n",
      "[16:49:25] src/tree/updater_prune.cc:74: tree pruning end, 1 roots, 326 extra nodes, 0 pruned nodes, max_depth=10\n",
      "[16:49:26] src/tree/updater_prune.cc:74: tree pruning end, 1 roots, 200 extra nodes, 0 pruned nodes, max_depth=10\n",
      "[16:49:26] src/tree/updater_prune.cc:74: tree pruning end, 1 roots, 280 extra nodes, 0 pruned nodes, max_depth=10\n",
      "[16:49:27] src/tree/updater_prune.cc:74: tree pruning end, 1 roots, 236 extra nodes, 0 pruned nodes, max_depth=10\n",
      "[16:49:27] src/tree/updater_prune.cc:74: tree pruning end, 1 roots, 198 extra nodes, 0 pruned nodes, max_depth=10\n",
      "[16:49:28] src/tree/updater_prune.cc:74: tree pruning end, 1 roots, 220 extra nodes, 0 pruned nodes, max_depth=10\n",
      "[16:49:28] src/tree/updater_prune.cc:74: tree pruning end, 1 roots, 276 extra nodes, 0 pruned nodes, max_depth=10\n",
      "[16:49:29] src/tree/updater_prune.cc:74: tree pruning end, 1 roots, 272 extra nodes, 0 pruned nodes, max_depth=10\n",
      "[16:49:29] src/tree/updater_prune.cc:74: tree pruning end, 1 roots, 194 extra nodes, 0 pruned nodes, max_depth=10\n",
      "[240]\ttrain-logloss:0.149277\tvalid-logloss:0.18358\n",
      "[16:49:30] src/tree/updater_prune.cc:74: tree pruning end, 1 roots, 206 extra nodes, 0 pruned nodes, max_depth=10\n",
      "[16:49:31] src/tree/updater_prune.cc:74: tree pruning end, 1 roots, 318 extra nodes, 0 pruned nodes, max_depth=10\n",
      "[16:49:31] src/tree/updater_prune.cc:74: tree pruning end, 1 roots, 254 extra nodes, 0 pruned nodes, max_depth=10\n",
      "[16:49:32] src/tree/updater_prune.cc:74: tree pruning end, 1 roots, 230 extra nodes, 0 pruned nodes, max_depth=10\n",
      "[16:49:32] src/tree/updater_prune.cc:74: tree pruning end, 1 roots, 194 extra nodes, 0 pruned nodes, max_depth=10\n",
      "[16:49:33] src/tree/updater_prune.cc:74: tree pruning end, 1 roots, 284 extra nodes, 0 pruned nodes, max_depth=10\n",
      "[16:49:33] src/tree/updater_prune.cc:74: tree pruning end, 1 roots, 220 extra nodes, 0 pruned nodes, max_depth=10\n",
      "[16:49:34] src/tree/updater_prune.cc:74: tree pruning end, 1 roots, 280 extra nodes, 0 pruned nodes, max_depth=10\n",
      "[16:49:34] src/tree/updater_prune.cc:74: tree pruning end, 1 roots, 224 extra nodes, 0 pruned nodes, max_depth=10\n",
      "[16:49:35] src/tree/updater_prune.cc:74: tree pruning end, 1 roots, 266 extra nodes, 0 pruned nodes, max_depth=10\n",
      "[250]\ttrain-logloss:0.148011\tvalid-logloss:0.182951\n",
      "[16:49:36] src/tree/updater_prune.cc:74: tree pruning end, 1 roots, 266 extra nodes, 0 pruned nodes, max_depth=10\n",
      "[16:49:36] src/tree/updater_prune.cc:74: tree pruning end, 1 roots, 232 extra nodes, 0 pruned nodes, max_depth=10\n",
      "[16:49:37] src/tree/updater_prune.cc:74: tree pruning end, 1 roots, 216 extra nodes, 0 pruned nodes, max_depth=10\n",
      "[16:49:37] src/tree/updater_prune.cc:74: tree pruning end, 1 roots, 198 extra nodes, 0 pruned nodes, max_depth=10\n",
      "[16:49:38] src/tree/updater_prune.cc:74: tree pruning end, 1 roots, 254 extra nodes, 0 pruned nodes, max_depth=10\n",
      "[16:49:38] src/tree/updater_prune.cc:74: tree pruning end, 1 roots, 348 extra nodes, 0 pruned nodes, max_depth=10\n",
      "[16:49:39] src/tree/updater_prune.cc:74: tree pruning end, 1 roots, 244 extra nodes, 0 pruned nodes, max_depth=10\n",
      "[16:49:39] src/tree/updater_prune.cc:74: tree pruning end, 1 roots, 278 extra nodes, 0 pruned nodes, max_depth=10\n",
      "[16:49:40] src/tree/updater_prune.cc:74: tree pruning end, 1 roots, 318 extra nodes, 0 pruned nodes, max_depth=10\n",
      "[16:49:41] src/tree/updater_prune.cc:74: tree pruning end, 1 roots, 264 extra nodes, 0 pruned nodes, max_depth=10\n",
      "[260]\ttrain-logloss:0.146706\tvalid-logloss:0.182452\n",
      "[16:49:41] src/tree/updater_prune.cc:74: tree pruning end, 1 roots, 276 extra nodes, 0 pruned nodes, max_depth=10\n",
      "[16:49:42] src/tree/updater_prune.cc:74: tree pruning end, 1 roots, 312 extra nodes, 0 pruned nodes, max_depth=10\n",
      "[16:49:42] src/tree/updater_prune.cc:74: tree pruning end, 1 roots, 320 extra nodes, 0 pruned nodes, max_depth=10\n",
      "[16:49:43] src/tree/updater_prune.cc:74: tree pruning end, 1 roots, 304 extra nodes, 0 pruned nodes, max_depth=10\n",
      "[16:49:43] src/tree/updater_prune.cc:74: tree pruning end, 1 roots, 268 extra nodes, 0 pruned nodes, max_depth=10\n",
      "[16:49:44] src/tree/updater_prune.cc:74: tree pruning end, 1 roots, 320 extra nodes, 0 pruned nodes, max_depth=10\n",
      "[16:49:44] src/tree/updater_prune.cc:74: tree pruning end, 1 roots, 268 extra nodes, 0 pruned nodes, max_depth=10\n",
      "[16:49:45] src/tree/updater_prune.cc:74: tree pruning end, 1 roots, 330 extra nodes, 0 pruned nodes, max_depth=10\n",
      "[16:49:46] src/tree/updater_prune.cc:74: tree pruning end, 1 roots, 216 extra nodes, 0 pruned nodes, max_depth=10\n",
      "[16:49:46] src/tree/updater_prune.cc:74: tree pruning end, 1 roots, 282 extra nodes, 0 pruned nodes, max_depth=10\n",
      "[270]\ttrain-logloss:0.145341\tvalid-logloss:0.182022\n",
      "[16:49:47] src/tree/updater_prune.cc:74: tree pruning end, 1 roots, 360 extra nodes, 0 pruned nodes, max_depth=10\n",
      "[16:49:47] src/tree/updater_prune.cc:74: tree pruning end, 1 roots, 212 extra nodes, 0 pruned nodes, max_depth=10\n",
      "[16:49:48] src/tree/updater_prune.cc:74: tree pruning end, 1 roots, 314 extra nodes, 0 pruned nodes, max_depth=10\n",
      "[16:49:48] src/tree/updater_prune.cc:74: tree pruning end, 1 roots, 326 extra nodes, 0 pruned nodes, max_depth=10\n"
     ]
    },
    {
     "name": "stdout",
     "output_type": "stream",
     "text": [
      "[16:49:49] src/tree/updater_prune.cc:74: tree pruning end, 1 roots, 278 extra nodes, 0 pruned nodes, max_depth=10\n",
      "[16:49:49] src/tree/updater_prune.cc:74: tree pruning end, 1 roots, 202 extra nodes, 0 pruned nodes, max_depth=10\n",
      "[16:49:50] src/tree/updater_prune.cc:74: tree pruning end, 1 roots, 324 extra nodes, 0 pruned nodes, max_depth=10\n",
      "[16:49:51] src/tree/updater_prune.cc:74: tree pruning end, 1 roots, 202 extra nodes, 0 pruned nodes, max_depth=10\n",
      "[16:49:51] src/tree/updater_prune.cc:74: tree pruning end, 1 roots, 216 extra nodes, 0 pruned nodes, max_depth=10\n",
      "[16:49:52] src/tree/updater_prune.cc:74: tree pruning end, 1 roots, 232 extra nodes, 0 pruned nodes, max_depth=10\n",
      "[280]\ttrain-logloss:0.144172\tvalid-logloss:0.181628\n",
      "[16:49:52] src/tree/updater_prune.cc:74: tree pruning end, 1 roots, 396 extra nodes, 0 pruned nodes, max_depth=10\n",
      "[16:49:53] src/tree/updater_prune.cc:74: tree pruning end, 1 roots, 234 extra nodes, 0 pruned nodes, max_depth=10\n",
      "[16:49:53] src/tree/updater_prune.cc:74: tree pruning end, 1 roots, 322 extra nodes, 0 pruned nodes, max_depth=10\n",
      "[16:49:54] src/tree/updater_prune.cc:74: tree pruning end, 1 roots, 246 extra nodes, 0 pruned nodes, max_depth=10\n",
      "[16:49:54] src/tree/updater_prune.cc:74: tree pruning end, 1 roots, 214 extra nodes, 0 pruned nodes, max_depth=10\n",
      "[16:49:55] src/tree/updater_prune.cc:74: tree pruning end, 1 roots, 210 extra nodes, 0 pruned nodes, max_depth=10\n",
      "[16:49:56] src/tree/updater_prune.cc:74: tree pruning end, 1 roots, 246 extra nodes, 0 pruned nodes, max_depth=10\n",
      "[16:49:56] src/tree/updater_prune.cc:74: tree pruning end, 1 roots, 214 extra nodes, 0 pruned nodes, max_depth=10\n",
      "[16:49:57] src/tree/updater_prune.cc:74: tree pruning end, 1 roots, 308 extra nodes, 0 pruned nodes, max_depth=10\n",
      "[16:49:57] src/tree/updater_prune.cc:74: tree pruning end, 1 roots, 330 extra nodes, 0 pruned nodes, max_depth=10\n",
      "[290]\ttrain-logloss:0.142995\tvalid-logloss:0.181284\n",
      "[16:49:58] src/tree/updater_prune.cc:74: tree pruning end, 1 roots, 246 extra nodes, 0 pruned nodes, max_depth=10\n",
      "[16:49:58] src/tree/updater_prune.cc:74: tree pruning end, 1 roots, 206 extra nodes, 0 pruned nodes, max_depth=10\n",
      "[16:49:59] src/tree/updater_prune.cc:74: tree pruning end, 1 roots, 268 extra nodes, 0 pruned nodes, max_depth=10\n",
      "[16:49:59] src/tree/updater_prune.cc:74: tree pruning end, 1 roots, 218 extra nodes, 0 pruned nodes, max_depth=10\n",
      "[16:50:00] src/tree/updater_prune.cc:74: tree pruning end, 1 roots, 300 extra nodes, 0 pruned nodes, max_depth=10\n",
      "[16:50:01] src/tree/updater_prune.cc:74: tree pruning end, 1 roots, 218 extra nodes, 0 pruned nodes, max_depth=10\n",
      "[16:50:01] src/tree/updater_prune.cc:74: tree pruning end, 1 roots, 316 extra nodes, 0 pruned nodes, max_depth=10\n",
      "[16:50:02] src/tree/updater_prune.cc:74: tree pruning end, 1 roots, 268 extra nodes, 0 pruned nodes, max_depth=10\n",
      "[16:50:02] src/tree/updater_prune.cc:74: tree pruning end, 1 roots, 196 extra nodes, 0 pruned nodes, max_depth=10\n",
      "[16:50:03] src/tree/updater_prune.cc:74: tree pruning end, 1 roots, 278 extra nodes, 0 pruned nodes, max_depth=10\n",
      "[300]\ttrain-logloss:0.14196\tvalid-logloss:0.180931\n",
      "[16:50:03] src/tree/updater_prune.cc:74: tree pruning end, 1 roots, 302 extra nodes, 0 pruned nodes, max_depth=10\n",
      "[16:50:04] src/tree/updater_prune.cc:74: tree pruning end, 1 roots, 222 extra nodes, 0 pruned nodes, max_depth=10\n",
      "[16:50:05] src/tree/updater_prune.cc:74: tree pruning end, 1 roots, 412 extra nodes, 0 pruned nodes, max_depth=10\n",
      "[16:50:05] src/tree/updater_prune.cc:74: tree pruning end, 1 roots, 204 extra nodes, 0 pruned nodes, max_depth=10\n",
      "[16:50:06] src/tree/updater_prune.cc:74: tree pruning end, 1 roots, 202 extra nodes, 0 pruned nodes, max_depth=10\n",
      "[16:50:06] src/tree/updater_prune.cc:74: tree pruning end, 1 roots, 394 extra nodes, 0 pruned nodes, max_depth=10\n",
      "[16:50:07] src/tree/updater_prune.cc:74: tree pruning end, 1 roots, 360 extra nodes, 0 pruned nodes, max_depth=10\n",
      "[16:50:07] src/tree/updater_prune.cc:74: tree pruning end, 1 roots, 166 extra nodes, 0 pruned nodes, max_depth=10\n",
      "[16:50:08] src/tree/updater_prune.cc:74: tree pruning end, 1 roots, 226 extra nodes, 0 pruned nodes, max_depth=10\n",
      "[16:50:08] src/tree/updater_prune.cc:74: tree pruning end, 1 roots, 274 extra nodes, 0 pruned nodes, max_depth=10\n",
      "[310]\ttrain-logloss:0.140746\tvalid-logloss:0.180595\n",
      "[16:50:09] src/tree/updater_prune.cc:74: tree pruning end, 1 roots, 274 extra nodes, 0 pruned nodes, max_depth=10\n",
      "[16:50:09] src/tree/updater_prune.cc:74: tree pruning end, 1 roots, 162 extra nodes, 0 pruned nodes, max_depth=10\n",
      "[16:50:10] src/tree/updater_prune.cc:74: tree pruning end, 1 roots, 272 extra nodes, 0 pruned nodes, max_depth=10\n",
      "[16:50:11] src/tree/updater_prune.cc:74: tree pruning end, 1 roots, 240 extra nodes, 0 pruned nodes, max_depth=10\n",
      "[16:50:11] src/tree/updater_prune.cc:74: tree pruning end, 1 roots, 298 extra nodes, 0 pruned nodes, max_depth=10\n",
      "[16:50:12] src/tree/updater_prune.cc:74: tree pruning end, 1 roots, 214 extra nodes, 0 pruned nodes, max_depth=10\n",
      "[16:50:12] src/tree/updater_prune.cc:74: tree pruning end, 1 roots, 176 extra nodes, 0 pruned nodes, max_depth=10\n",
      "[16:50:13] src/tree/updater_prune.cc:74: tree pruning end, 1 roots, 238 extra nodes, 0 pruned nodes, max_depth=10\n",
      "[16:50:13] src/tree/updater_prune.cc:74: tree pruning end, 1 roots, 246 extra nodes, 0 pruned nodes, max_depth=10\n",
      "[16:50:14] src/tree/updater_prune.cc:74: tree pruning end, 1 roots, 324 extra nodes, 0 pruned nodes, max_depth=10\n",
      "[320]\ttrain-logloss:0.139801\tvalid-logloss:0.180386\n",
      "[16:50:14] src/tree/updater_prune.cc:74: tree pruning end, 1 roots, 158 extra nodes, 0 pruned nodes, max_depth=10\n",
      "[16:50:15] src/tree/updater_prune.cc:74: tree pruning end, 1 roots, 198 extra nodes, 0 pruned nodes, max_depth=10\n",
      "[16:50:15] src/tree/updater_prune.cc:74: tree pruning end, 1 roots, 216 extra nodes, 0 pruned nodes, max_depth=10\n",
      "[16:50:16] src/tree/updater_prune.cc:74: tree pruning end, 1 roots, 178 extra nodes, 0 pruned nodes, max_depth=10\n",
      "[16:50:17] src/tree/updater_prune.cc:74: tree pruning end, 1 roots, 256 extra nodes, 0 pruned nodes, max_depth=10\n",
      "[16:50:17] src/tree/updater_prune.cc:74: tree pruning end, 1 roots, 260 extra nodes, 0 pruned nodes, max_depth=10\n",
      "[16:50:18] src/tree/updater_prune.cc:74: tree pruning end, 1 roots, 244 extra nodes, 0 pruned nodes, max_depth=10\n",
      "[16:50:18] src/tree/updater_prune.cc:74: tree pruning end, 1 roots, 258 extra nodes, 0 pruned nodes, max_depth=10\n",
      "[16:50:19] src/tree/updater_prune.cc:74: tree pruning end, 1 roots, 192 extra nodes, 0 pruned nodes, max_depth=10\n",
      "[16:50:20] src/tree/updater_prune.cc:74: tree pruning end, 1 roots, 456 extra nodes, 0 pruned nodes, max_depth=10\n",
      "[330]\ttrain-logloss:0.138873\tvalid-logloss:0.180152\n",
      "[16:50:20] src/tree/updater_prune.cc:74: tree pruning end, 1 roots, 200 extra nodes, 0 pruned nodes, max_depth=10\n",
      "[16:50:21] src/tree/updater_prune.cc:74: tree pruning end, 1 roots, 190 extra nodes, 0 pruned nodes, max_depth=10\n",
      "[16:50:21] src/tree/updater_prune.cc:74: tree pruning end, 1 roots, 166 extra nodes, 0 pruned nodes, max_depth=10\n",
      "[16:50:22] src/tree/updater_prune.cc:74: tree pruning end, 1 roots, 346 extra nodes, 0 pruned nodes, max_depth=10\n",
      "[16:50:22] src/tree/updater_prune.cc:74: tree pruning end, 1 roots, 178 extra nodes, 0 pruned nodes, max_depth=10\n",
      "[16:50:23] src/tree/updater_prune.cc:74: tree pruning end, 1 roots, 192 extra nodes, 0 pruned nodes, max_depth=10\n",
      "[16:50:23] src/tree/updater_prune.cc:74: tree pruning end, 1 roots, 196 extra nodes, 0 pruned nodes, max_depth=10\n",
      "[16:50:24] src/tree/updater_prune.cc:74: tree pruning end, 1 roots, 242 extra nodes, 0 pruned nodes, max_depth=10\n",
      "[16:50:24] src/tree/updater_prune.cc:74: tree pruning end, 1 roots, 262 extra nodes, 0 pruned nodes, max_depth=10\n",
      "[16:50:25] src/tree/updater_prune.cc:74: tree pruning end, 1 roots, 438 extra nodes, 0 pruned nodes, max_depth=10\n",
      "[340]\ttrain-logloss:0.137883\tvalid-logloss:0.179915\n",
      "[16:50:26] src/tree/updater_prune.cc:74: tree pruning end, 1 roots, 346 extra nodes, 0 pruned nodes, max_depth=10\n",
      "[16:50:26] src/tree/updater_prune.cc:74: tree pruning end, 1 roots, 224 extra nodes, 0 pruned nodes, max_depth=10\n",
      "[16:50:27] src/tree/updater_prune.cc:74: tree pruning end, 1 roots, 202 extra nodes, 0 pruned nodes, max_depth=10\n"
     ]
    },
    {
     "name": "stdout",
     "output_type": "stream",
     "text": [
      "[16:50:27] src/tree/updater_prune.cc:74: tree pruning end, 1 roots, 432 extra nodes, 0 pruned nodes, max_depth=10\n",
      "[16:50:28] src/tree/updater_prune.cc:74: tree pruning end, 1 roots, 242 extra nodes, 0 pruned nodes, max_depth=10\n",
      "[16:50:28] src/tree/updater_prune.cc:74: tree pruning end, 1 roots, 218 extra nodes, 0 pruned nodes, max_depth=10\n",
      "[16:50:29] src/tree/updater_prune.cc:74: tree pruning end, 1 roots, 196 extra nodes, 0 pruned nodes, max_depth=10\n",
      "[16:50:29] src/tree/updater_prune.cc:74: tree pruning end, 1 roots, 240 extra nodes, 0 pruned nodes, max_depth=10\n",
      "[16:50:30] src/tree/updater_prune.cc:74: tree pruning end, 1 roots, 368 extra nodes, 0 pruned nodes, max_depth=10\n",
      "[16:50:30] src/tree/updater_prune.cc:74: tree pruning end, 1 roots, 212 extra nodes, 0 pruned nodes, max_depth=10\n",
      "[350]\ttrain-logloss:0.136804\tvalid-logloss:0.179735\n",
      "[16:50:31] src/tree/updater_prune.cc:74: tree pruning end, 1 roots, 238 extra nodes, 0 pruned nodes, max_depth=10\n",
      "[16:50:32] src/tree/updater_prune.cc:74: tree pruning end, 1 roots, 200 extra nodes, 0 pruned nodes, max_depth=10\n",
      "[16:50:32] src/tree/updater_prune.cc:74: tree pruning end, 1 roots, 162 extra nodes, 0 pruned nodes, max_depth=10\n",
      "[16:50:33] src/tree/updater_prune.cc:74: tree pruning end, 1 roots, 458 extra nodes, 0 pruned nodes, max_depth=10\n",
      "[16:50:33] src/tree/updater_prune.cc:74: tree pruning end, 1 roots, 376 extra nodes, 0 pruned nodes, max_depth=10\n",
      "[16:50:34] src/tree/updater_prune.cc:74: tree pruning end, 1 roots, 314 extra nodes, 0 pruned nodes, max_depth=10\n",
      "[16:50:34] src/tree/updater_prune.cc:74: tree pruning end, 1 roots, 246 extra nodes, 0 pruned nodes, max_depth=10\n",
      "[16:50:35] src/tree/updater_prune.cc:74: tree pruning end, 1 roots, 334 extra nodes, 0 pruned nodes, max_depth=10\n",
      "[16:50:35] src/tree/updater_prune.cc:74: tree pruning end, 1 roots, 200 extra nodes, 0 pruned nodes, max_depth=10\n",
      "[16:50:36] src/tree/updater_prune.cc:74: tree pruning end, 1 roots, 280 extra nodes, 0 pruned nodes, max_depth=10\n",
      "[360]\ttrain-logloss:0.135662\tvalid-logloss:0.179602\n",
      "[16:50:37] src/tree/updater_prune.cc:74: tree pruning end, 1 roots, 194 extra nodes, 0 pruned nodes, max_depth=10\n",
      "[16:50:37] src/tree/updater_prune.cc:74: tree pruning end, 1 roots, 410 extra nodes, 0 pruned nodes, max_depth=10\n",
      "[16:50:38] src/tree/updater_prune.cc:74: tree pruning end, 1 roots, 252 extra nodes, 0 pruned nodes, max_depth=10\n",
      "[16:50:38] src/tree/updater_prune.cc:74: tree pruning end, 1 roots, 302 extra nodes, 0 pruned nodes, max_depth=10\n",
      "[16:50:39] src/tree/updater_prune.cc:74: tree pruning end, 1 roots, 266 extra nodes, 0 pruned nodes, max_depth=10\n",
      "[16:50:39] src/tree/updater_prune.cc:74: tree pruning end, 1 roots, 232 extra nodes, 0 pruned nodes, max_depth=10\n",
      "[16:50:40] src/tree/updater_prune.cc:74: tree pruning end, 1 roots, 260 extra nodes, 0 pruned nodes, max_depth=10\n",
      "[16:50:40] src/tree/updater_prune.cc:74: tree pruning end, 1 roots, 308 extra nodes, 0 pruned nodes, max_depth=10\n",
      "[16:50:41] src/tree/updater_prune.cc:74: tree pruning end, 1 roots, 182 extra nodes, 0 pruned nodes, max_depth=10\n",
      "[16:50:41] src/tree/updater_prune.cc:74: tree pruning end, 1 roots, 270 extra nodes, 0 pruned nodes, max_depth=10\n",
      "[370]\ttrain-logloss:0.134684\tvalid-logloss:0.179525\n",
      "[16:50:42] src/tree/updater_prune.cc:74: tree pruning end, 1 roots, 192 extra nodes, 0 pruned nodes, max_depth=10\n",
      "[16:50:43] src/tree/updater_prune.cc:74: tree pruning end, 1 roots, 292 extra nodes, 0 pruned nodes, max_depth=10\n",
      "[16:50:43] src/tree/updater_prune.cc:74: tree pruning end, 1 roots, 228 extra nodes, 0 pruned nodes, max_depth=10\n",
      "[16:50:44] src/tree/updater_prune.cc:74: tree pruning end, 1 roots, 178 extra nodes, 0 pruned nodes, max_depth=10\n",
      "[16:50:44] src/tree/updater_prune.cc:74: tree pruning end, 1 roots, 182 extra nodes, 0 pruned nodes, max_depth=10\n",
      "[16:50:45] src/tree/updater_prune.cc:74: tree pruning end, 1 roots, 218 extra nodes, 0 pruned nodes, max_depth=10\n",
      "[16:50:45] src/tree/updater_prune.cc:74: tree pruning end, 1 roots, 284 extra nodes, 0 pruned nodes, max_depth=10\n",
      "[16:50:46] src/tree/updater_prune.cc:74: tree pruning end, 1 roots, 282 extra nodes, 0 pruned nodes, max_depth=10\n",
      "[16:50:46] src/tree/updater_prune.cc:74: tree pruning end, 1 roots, 114 extra nodes, 0 pruned nodes, max_depth=10\n",
      "[16:50:47] src/tree/updater_prune.cc:74: tree pruning end, 1 roots, 142 extra nodes, 0 pruned nodes, max_depth=10\n",
      "[380]\ttrain-logloss:0.133927\tvalid-logloss:0.179397\n",
      "[16:50:47] src/tree/updater_prune.cc:74: tree pruning end, 1 roots, 116 extra nodes, 0 pruned nodes, max_depth=10\n",
      "[16:50:48] src/tree/updater_prune.cc:74: tree pruning end, 1 roots, 258 extra nodes, 0 pruned nodes, max_depth=10\n",
      "[16:50:49] src/tree/updater_prune.cc:74: tree pruning end, 1 roots, 260 extra nodes, 0 pruned nodes, max_depth=10\n",
      "[16:50:49] src/tree/updater_prune.cc:74: tree pruning end, 1 roots, 182 extra nodes, 0 pruned nodes, max_depth=10\n",
      "[16:50:50] src/tree/updater_prune.cc:74: tree pruning end, 1 roots, 218 extra nodes, 0 pruned nodes, max_depth=10\n",
      "[16:50:50] src/tree/updater_prune.cc:74: tree pruning end, 1 roots, 244 extra nodes, 0 pruned nodes, max_depth=10\n",
      "[16:50:51] src/tree/updater_prune.cc:74: tree pruning end, 1 roots, 258 extra nodes, 0 pruned nodes, max_depth=10\n",
      "[16:50:51] src/tree/updater_prune.cc:74: tree pruning end, 1 roots, 440 extra nodes, 0 pruned nodes, max_depth=10\n",
      "[16:50:52] src/tree/updater_prune.cc:74: tree pruning end, 1 roots, 124 extra nodes, 0 pruned nodes, max_depth=10\n",
      "[16:50:52] src/tree/updater_prune.cc:74: tree pruning end, 1 roots, 200 extra nodes, 0 pruned nodes, max_depth=10\n",
      "[390]\ttrain-logloss:0.133195\tvalid-logloss:0.179308\n",
      "[16:50:53] src/tree/updater_prune.cc:74: tree pruning end, 1 roots, 240 extra nodes, 0 pruned nodes, max_depth=10\n",
      "[16:50:54] src/tree/updater_prune.cc:74: tree pruning end, 1 roots, 436 extra nodes, 0 pruned nodes, max_depth=10\n",
      "[16:50:54] src/tree/updater_prune.cc:74: tree pruning end, 1 roots, 182 extra nodes, 0 pruned nodes, max_depth=10\n",
      "[16:50:55] src/tree/updater_prune.cc:74: tree pruning end, 1 roots, 264 extra nodes, 0 pruned nodes, max_depth=10\n",
      "[16:50:55] src/tree/updater_prune.cc:74: tree pruning end, 1 roots, 346 extra nodes, 0 pruned nodes, max_depth=10\n",
      "[16:50:56] src/tree/updater_prune.cc:74: tree pruning end, 1 roots, 424 extra nodes, 0 pruned nodes, max_depth=10\n",
      "[16:50:56] src/tree/updater_prune.cc:74: tree pruning end, 1 roots, 286 extra nodes, 0 pruned nodes, max_depth=10\n",
      "[16:50:57] src/tree/updater_prune.cc:74: tree pruning end, 1 roots, 276 extra nodes, 0 pruned nodes, max_depth=10\n",
      "[16:50:57] src/tree/updater_prune.cc:74: tree pruning end, 1 roots, 256 extra nodes, 0 pruned nodes, max_depth=10\n",
      "[399]\ttrain-logloss:0.132176\tvalid-logloss:0.179186\n"
     ]
    }
   ],
   "source": [
    "import xgboost as xgb\n",
    "params = {}\n",
    "params = {'max_depth':10, 'eta':0.02, 'objective':'binary:logistic' }\n",
    "params['eval_metric'] = 'logloss'\n",
    "d_train = xgb.DMatrix(x_train, label=y_train)\n",
    "d_valid = xgb.DMatrix(x_valid, label=y_valid)\n",
    "watchlist = [(d_train, 'train'), (d_valid, 'valid')]\n",
    "bst = xgb.train(params, d_train, 400, watchlist, early_stopping_rounds=50, verbose_eval=10)\n",
    "d_valid = xgb.DMatrix(x_valid) # 调参"
   ]
  },
  {
   "cell_type": "code",
   "execution_count": 324,
   "metadata": {},
   "outputs": [
    {
     "name": "stdout",
     "output_type": "stream",
     "text": [
      "Xgb accuracy: 0.929\n"
     ]
    }
   ],
   "source": [
    "xgb_preds = (bst.predict(d_valid) >= 0.5).astype(int)\n",
    "xgb_accuracy = np.sum(xgb_preds == y_valid) / len(y_valid)\n",
    "print(\"Xgb accuracy: %0.3f\" % xgb_accuracy)"
   ]
  },
  {
   "cell_type": "code",
   "execution_count": 325,
   "metadata": {},
   "outputs": [
    {
     "name": "stdout",
     "output_type": "stream",
     "text": [
      "0.179185508139\n"
     ]
    }
   ],
   "source": [
    "# 计算logloss\n",
    "from sklearn.metrics import log_loss\n",
    "ans = bst.predict(d_valid)\n",
    "score = log_loss(y_valid, ans)\n",
    "print (score)"
   ]
  },
  {
   "cell_type": "code",
   "execution_count": 351,
   "metadata": {},
   "outputs": [
    {
     "data": {
      "text/plain": [
       "<matplotlib.axes._subplots.AxesSubplot at 0x1a88df8748>"
      ]
     },
     "execution_count": 351,
     "metadata": {},
     "output_type": "execute_result"
    },
    {
     "data": {
      "image/png": "[encoded data removed]",
      "text/plain": [
       "<Figure size 864x288 with 1 Axes>"
      ]
     },
     "metadata": {},
     "output_type": "display_data"
    }
   ],
   "source": [
    "xgb.plot_importance(bst)"
   ]
  },
  {
   "cell_type": "code",
   "execution_count": 360,
   "metadata": {},
   "outputs": [
    {
     "data": {
      "text/plain": [
       "<matplotlib.axes._subplots.AxesSubplot at 0x1b23332358>"
      ]
     },
     "execution_count": 360,
     "metadata": {},
     "output_type": "execute_result"
    },
    {
     "data": {
      "image/png": "[encoded data removed]",
      "text/plain": [
       "<Figure size 864x288 with 1 Axes>"
      ]
     },
     "metadata": {},
     "output_type": "display_data"
    }
   ],
   "source": [
    "from graphviz import Digraph\n",
    "xgb.plot_tree(bst, num_trees=2)"
   ]
  },
  {
   "cell_type": "code",
   "execution_count": 358,
   "metadata": {},
   "outputs": [
    {
     "data": {
      "image/svg+xml": [
       "<?xml version=\"1.0\" encoding=\"UTF-8\" standalone=\"no\"?>\n",
       "<!DOCTYPE svg PUBLIC \"-//W3C//DTD SVG 1.1//EN\"\n",
       " \"http://www.w3.org/Graphics/SVG/1.1/DTD/svg11.dtd\">\n",
       "<!-- Generated by graphviz version 2.40.1 (20161225.0304)\n",
       " -->\n",
       "<!-- Title: %3 Pages: 1 -->\n",
       "<svg width=\"2084pt\" height=\"1094pt\"\n",
       " viewBox=\"0.00 0.00 2084.21 1094.26\" xmlns=\"http://www.w3.org/2000/svg\" xmlns:xlink=\"http://www.w3.org/1999/xlink\">\n",
       "<g id=\"graph0\" class=\"graph\" transform=\"scale(1 1) rotate(0) translate(4 1090.262)\">\n",
       "<title>%3</title>\n",
       "<polygon fill=\"#ffffff\" stroke=\"transparent\" points=\"-4,4 -4,-1090.262 2080.2061,-1090.262 2080.2061,4 -4,4\"/>\n",
       "<!-- 0 -->\n",
       "<g id=\"node1\" class=\"node\">\n",
       "<title>0</title>\n",
       "<ellipse fill=\"none\" stroke=\"#000000\" cx=\"812.0186\" cy=\"-1026.9677\" rx=\"59.0893\" ry=\"59.0893\"/>\n",
       "<text text-anchor=\"middle\" x=\"812.0186\" y=\"-1022.7677\" font-family=\"Times,serif\" font-size=\"14.00\" fill=\"#000000\">clique_size&lt;3</text>\n",
       "</g>\n",
       "<!-- 1 -->\n",
       "<g id=\"node2\" class=\"node\">\n",
       "<title>1</title>\n",
       "<ellipse fill=\"none\" stroke=\"#000000\" cx=\"621.0186\" cy=\"-795.7279\" rx=\"105.9541\" ry=\"105.9541\"/>\n",
       "<text text-anchor=\"middle\" x=\"621.0186\" y=\"-791.5279\" font-family=\"Times,serif\" font-size=\"14.00\" fill=\"#000000\">word_match&lt;0.327956975</text>\n",
       "</g>\n",
       "<!-- 0&#45;&gt;1 -->\n",
       "<g id=\"edge1\" class=\"edge\">\n",
       "<title>0&#45;&gt;1</title>\n",
       "<path fill=\"none\" stroke=\"#0000ff\" d=\"M774.0547,-981.0057C751.4941,-953.6919 722.1035,-918.1093 695.1166,-885.4369\"/>\n",
       "<polygon fill=\"#0000ff\" stroke=\"#0000ff\" points=\"697.7441,-883.122 688.6772,-877.6409 692.3471,-887.5798 697.7441,-883.122\"/>\n",
       "<text text-anchor=\"middle\" x=\"779.6323\" y=\"-938.4735\" font-family=\"Times,serif\" font-size=\"14.00\" fill=\"#000000\">yes, missing</text>\n",
       "</g>\n",
       "<!-- 2 -->\n",
       "<g id=\"node3\" class=\"node\">\n",
       "<title>2</title>\n",
       "<ellipse fill=\"none\" stroke=\"#000000\" cx=\"1209.0186\" cy=\"-795.7279\" rx=\"121.8912\" ry=\"121.8912\"/>\n",
       "<text text-anchor=\"middle\" x=\"1209.0186\" y=\"-791.5279\" font-family=\"Times,serif\" font-size=\"14.00\" fill=\"#000000\">q1_q2_wm_ratio&lt;0.267720908</text>\n",
       "</g>\n",
       "<!-- 0&#45;&gt;2 -->\n",
       "<g id=\"edge2\" class=\"edge\">\n",
       "<title>0&#45;&gt;2</title>\n",
       "<path fill=\"none\" stroke=\"#ff0000\" d=\"M863.5124,-996.9742C921.794,-963.027 1018.5418,-906.6745 1094.8581,-862.2227\"/>\n",
       "<polygon fill=\"#ff0000\" stroke=\"#ff0000\" points=\"1096.7078,-865.1958 1103.5873,-857.1383 1093.1846,-859.1471 1096.7078,-865.1958\"/>\n",
       "<text text-anchor=\"middle\" x=\"971.0186\" y=\"-938.4735\" font-family=\"Times,serif\" font-size=\"14.00\" fill=\"#000000\">no</text>\n",
       "</g>\n",
       "<!-- 3 -->\n",
       "<g id=\"node4\" class=\"node\">\n",
       "<title>3</title>\n",
       "<ellipse fill=\"none\" stroke=\"#000000\" cx=\"270.0186\" cy=\"-501.8367\" rx=\"101.1105\" ry=\"101.1105\"/>\n",
       "<text text-anchor=\"middle\" x=\"270.0186\" y=\"-497.6367\" font-family=\"Times,serif\" font-size=\"14.00\" fill=\"#000000\">word_match&lt;0.27149877</text>\n",
       "</g>\n",
       "<!-- 1&#45;&gt;3 -->\n",
       "<g id=\"edge3\" class=\"edge\">\n",
       "<title>1&#45;&gt;3</title>\n",
       "<path fill=\"none\" stroke=\"#0000ff\" d=\"M539.6099,-727.5647C484.4852,-681.4089 411.7767,-620.5304 355.761,-573.6286\"/>\n",
       "<polygon fill=\"#0000ff\" stroke=\"#0000ff\" points=\"357.8855,-570.8426 347.9713,-567.1063 353.3916,-576.2097 357.8855,-570.8426\"/>\n",
       "<text text-anchor=\"middle\" x=\"480.6323\" y=\"-644.5823\" font-family=\"Times,serif\" font-size=\"14.00\" fill=\"#000000\">yes, missing</text>\n",
       "</g>\n",
       "<!-- 4 -->\n",
       "<g id=\"node5\" class=\"node\">\n",
       "<title>4</title>\n",
       "<ellipse fill=\"none\" stroke=\"#000000\" cx=\"621.0186\" cy=\"-501.8367\" rx=\"105.9541\" ry=\"105.9541\"/>\n",
       "<text text-anchor=\"middle\" x=\"621.0186\" y=\"-497.6367\" font-family=\"Times,serif\" font-size=\"14.00\" fill=\"#000000\">word_match&lt;0.925824165</text>\n",
       "</g>\n",
       "<!-- 1&#45;&gt;4 -->\n",
       "<g id=\"edge4\" class=\"edge\">\n",
       "<title>1&#45;&gt;4</title>\n",
       "<path fill=\"none\" stroke=\"#ff0000\" d=\"M621.0186,-689.6264C621.0186,-666.3203 621.0186,-641.5251 621.0186,-617.8518\"/>\n",
       "<polygon fill=\"#ff0000\" stroke=\"#ff0000\" points=\"624.5187,-617.7824 621.0186,-607.7824 617.5187,-617.7825 624.5187,-617.7824\"/>\n",
       "<text text-anchor=\"middle\" x=\"628.0186\" y=\"-644.5823\" font-family=\"Times,serif\" font-size=\"14.00\" fill=\"#000000\">no</text>\n",
       "</g>\n",
       "<!-- 5 -->\n",
       "<g id=\"node16\" class=\"node\">\n",
       "<title>5</title>\n",
       "<ellipse fill=\"none\" stroke=\"#000000\" cx=\"1209.0186\" cy=\"-501.8367\" rx=\"121.8912\" ry=\"121.8912\"/>\n",
       "<text text-anchor=\"middle\" x=\"1209.0186\" y=\"-497.6367\" font-family=\"Times,serif\" font-size=\"14.00\" fill=\"#000000\">q1_q2_wm_ratio&lt;0.144608021</text>\n",
       "</g>\n",
       "<!-- 2&#45;&gt;5 -->\n",
       "<g id=\"edge15\" class=\"edge\">\n",
       "<title>2&#45;&gt;5</title>\n",
       "<path fill=\"none\" stroke=\"#0000ff\" d=\"M1209.0186,-673.6448C1209.0186,-660.5748 1209.0186,-647.2345 1209.0186,-634.0539\"/>\n",
       "<polygon fill=\"#0000ff\" stroke=\"#0000ff\" points=\"1212.5187,-634.0128 1209.0186,-624.0128 1205.5187,-634.0129 1212.5187,-634.0128\"/>\n",
       "<text text-anchor=\"middle\" x=\"1243.6323\" y=\"-644.5823\" font-family=\"Times,serif\" font-size=\"14.00\" fill=\"#000000\">yes, missing</text>\n",
       "</g>\n",
       "<!-- 6 -->\n",
       "<g id=\"node17\" class=\"node\">\n",
       "<title>6</title>\n",
       "<ellipse fill=\"none\" stroke=\"#000000\" cx=\"1635.0186\" cy=\"-501.8367\" rx=\"59.0893\" ry=\"59.0893\"/>\n",
       "<text text-anchor=\"middle\" x=\"1635.0186\" y=\"-497.6367\" font-family=\"Times,serif\" font-size=\"14.00\" fill=\"#000000\">clique_size&lt;4</text>\n",
       "</g>\n",
       "<!-- 2&#45;&gt;6 -->\n",
       "<g id=\"edge16\" class=\"edge\">\n",
       "<title>2&#45;&gt;6</title>\n",
       "<path fill=\"none\" stroke=\"#ff0000\" d=\"M1309.4352,-726.4519C1392.9422,-668.8417 1508.8479,-588.88 1577.4762,-541.5344\"/>\n",
       "<polygon fill=\"#ff0000\" stroke=\"#ff0000\" points=\"1579.7724,-544.2024 1586.0162,-535.6428 1575.7974,-538.4405 1579.7724,-544.2024\"/>\n",
       "<text text-anchor=\"middle\" x=\"1429.0186\" y=\"-644.5823\" font-family=\"Times,serif\" font-size=\"14.00\" fill=\"#000000\">no</text>\n",
       "</g>\n",
       "<!-- 7 -->\n",
       "<g id=\"node6\" class=\"node\">\n",
       "<title>7</title>\n",
       "<polygon fill=\"none\" stroke=\"#000000\" points=\"130.0557,-225.9456 -.0186,-225.9456 -.0186,-189.9456 130.0557,-189.9456 130.0557,-225.9456\"/>\n",
       "<text text-anchor=\"middle\" x=\"65.0186\" y=\"-203.7456\" font-family=\"Times,serif\" font-size=\"14.00\" fill=\"#000000\">leaf=&#45;0.0383281335</text>\n",
       "</g>\n",
       "<!-- 3&#45;&gt;7 -->\n",
       "<g id=\"edge5\" class=\"edge\">\n",
       "<title>3&#45;&gt;7</title>\n",
       "<path fill=\"none\" stroke=\"#0000ff\" d=\"M206.582,-422.2191C184.5204,-393.592 160.0484,-360.7467 139.0186,-329.8912 117.3763,-298.1369 94.7818,-260.0729 80.3413,-235.0158\"/>\n",
       "<polygon fill=\"#0000ff\" stroke=\"#0000ff\" points=\"83.2345,-233.025 75.2251,-226.0896 77.1613,-236.506 83.2345,-233.025\"/>\n",
       "<text text-anchor=\"middle\" x=\"194.6323\" y=\"-350.6912\" font-family=\"Times,serif\" font-size=\"14.00\" fill=\"#000000\">yes, missing</text>\n",
       "</g>\n",
       "<!-- 8 -->\n",
       "<g id=\"node7\" class=\"node\">\n",
       "<title>8</title>\n",
       "<ellipse fill=\"none\" stroke=\"#000000\" cx=\"270.0186\" cy=\"-207.9456\" rx=\"121.8912\" ry=\"121.8912\"/>\n",
       "<text text-anchor=\"middle\" x=\"270.0186\" y=\"-203.7456\" font-family=\"Times,serif\" font-size=\"14.00\" fill=\"#000000\">q1_q2_wm_ratio&lt;0.503729343</text>\n",
       "</g>\n",
       "<!-- 3&#45;&gt;8 -->\n",
       "<g id=\"edge6\" class=\"edge\">\n",
       "<title>3&#45;&gt;8</title>\n",
       "<path fill=\"none\" stroke=\"#ff0000\" d=\"M270.0186,-400.2845C270.0186,-380.9105 270.0186,-360.3691 270.0186,-340.2006\"/>\n",
       "<polygon fill=\"#ff0000\" stroke=\"#ff0000\" points=\"273.5187,-340.0175 270.0186,-330.0175 266.5187,-340.0175 273.5187,-340.0175\"/>\n",
       "<text text-anchor=\"middle\" x=\"277.0186\" y=\"-350.6912\" font-family=\"Times,serif\" font-size=\"14.00\" fill=\"#000000\">no</text>\n",
       "</g>\n",
       "<!-- 9 -->\n",
       "<g id=\"node10\" class=\"node\">\n",
       "<title>9</title>\n",
       "<ellipse fill=\"none\" stroke=\"#000000\" cx=\"556.0186\" cy=\"-207.9456\" rx=\"47.0359\" ry=\"47.0359\"/>\n",
       "<text text-anchor=\"middle\" x=\"556.0186\" y=\"-203.7456\" font-family=\"Times,serif\" font-size=\"14.00\" fill=\"#000000\">q1_freq&lt;2</text>\n",
       "</g>\n",
       "<!-- 4&#45;&gt;9 -->\n",
       "<g id=\"edge9\" class=\"edge\">\n",
       "<title>4&#45;&gt;9</title>\n",
       "<path fill=\"none\" stroke=\"#0000ff\" d=\"M598.102,-398.2217C588.1034,-353.0141 576.7758,-301.7975 568.3936,-263.898\"/>\n",
       "<polygon fill=\"#0000ff\" stroke=\"#0000ff\" points=\"571.797,-263.0787 566.22,-254.0706 564.9622,-264.5905 571.797,-263.0787\"/>\n",
       "<text text-anchor=\"middle\" x=\"623.6323\" y=\"-350.6912\" font-family=\"Times,serif\" font-size=\"14.00\" fill=\"#000000\">yes, missing</text>\n",
       "</g>\n",
       "<!-- 10 -->\n",
       "<g id=\"node11\" class=\"node\">\n",
       "<title>10</title>\n",
       "<ellipse fill=\"none\" stroke=\"#000000\" cx=\"723.0186\" cy=\"-207.9456\" rx=\"101.5765\" ry=\"101.5765\"/>\n",
       "<text text-anchor=\"middle\" x=\"723.0186\" y=\"-203.7456\" font-family=\"Times,serif\" font-size=\"14.00\" fill=\"#000000\">fuzz_token_sort_ratio&lt;86</text>\n",
       "</g>\n",
       "<!-- 4&#45;&gt;10 -->\n",
       "<g id=\"edge10\" class=\"edge\">\n",
       "<title>4&#45;&gt;10</title>\n",
       "<path fill=\"none\" stroke=\"#ff0000\" d=\"M655.6934,-401.9285C665.5522,-373.5226 676.3208,-342.4951 686.2967,-313.7518\"/>\n",
       "<polygon fill=\"#ff0000\" stroke=\"#ff0000\" points=\"689.6746,-314.6935 689.647,-304.0987 683.0616,-312.3983 689.6746,-314.6935\"/>\n",
       "<text text-anchor=\"middle\" x=\"679.0186\" y=\"-350.6912\" font-family=\"Times,serif\" font-size=\"14.00\" fill=\"#000000\">no</text>\n",
       "</g>\n",
       "<!-- 15 -->\n",
       "<g id=\"node8\" class=\"node\">\n",
       "<title>15</title>\n",
       "<polygon fill=\"none\" stroke=\"#000000\" points=\"187.0557,-36 56.9814,-36 56.9814,0 187.0557,0 187.0557,-36\"/>\n",
       "<text text-anchor=\"middle\" x=\"122.0186\" y=\"-13.8\" font-family=\"Times,serif\" font-size=\"14.00\" fill=\"#000000\">leaf=&#45;0.0367898606</text>\n",
       "</g>\n",
       "<!-- 8&#45;&gt;15 -->\n",
       "<g id=\"edge7\" class=\"edge\">\n",
       "<title>8&#45;&gt;15</title>\n",
       "<path fill=\"none\" stroke=\"#0000ff\" d=\"M194.9346,-111.5816C175.6265,-86.8012 156.4167,-62.1472 142.5649,-44.3695\"/>\n",
       "<polygon fill=\"#0000ff\" stroke=\"#0000ff\" points=\"145.1255,-41.9612 136.2183,-36.2242 139.6037,-46.2636 145.1255,-41.9612\"/>\n",
       "<text text-anchor=\"middle\" x=\"192.6323\" y=\"-56.8\" font-family=\"Times,serif\" font-size=\"14.00\" fill=\"#000000\">yes, missing</text>\n",
       "</g>\n",
       "<!-- 16 -->\n",
       "<g id=\"node9\" class=\"node\">\n",
       "<title>16</title>\n",
       "<polygon fill=\"none\" stroke=\"#000000\" points=\"335.0557,-36 204.9814,-36 204.9814,0 335.0557,0 335.0557,-36\"/>\n",
       "<text text-anchor=\"middle\" x=\"270.0186\" y=\"-13.8\" font-family=\"Times,serif\" font-size=\"14.00\" fill=\"#000000\">leaf=&#45;0.0183589254</text>\n",
       "</g>\n",
       "<!-- 8&#45;&gt;16 -->\n",
       "<g id=\"edge8\" class=\"edge\">\n",
       "<title>8&#45;&gt;16</title>\n",
       "<path fill=\"none\" stroke=\"#ff0000\" d=\"M270.0186,-85.7703C270.0186,-71.187 270.0186,-57.5382 270.0186,-46.366\"/>\n",
       "<polygon fill=\"#ff0000\" stroke=\"#ff0000\" points=\"273.5187,-46.0764 270.0186,-36.0764 266.5187,-46.0764 273.5187,-46.0764\"/>\n",
       "<text text-anchor=\"middle\" x=\"277.0186\" y=\"-56.8\" font-family=\"Times,serif\" font-size=\"14.00\" fill=\"#000000\">no</text>\n",
       "</g>\n",
       "<!-- 17 -->\n",
       "<g id=\"node12\" class=\"node\">\n",
       "<title>17</title>\n",
       "<polygon fill=\"none\" stroke=\"#000000\" points=\"483.0557,-36 352.9814,-36 352.9814,0 483.0557,0 483.0557,-36\"/>\n",
       "<text text-anchor=\"middle\" x=\"418.0186\" y=\"-13.8\" font-family=\"Times,serif\" font-size=\"14.00\" fill=\"#000000\">leaf=&#45;0.0234701745</text>\n",
       "</g>\n",
       "<!-- 9&#45;&gt;17 -->\n",
       "<g id=\"edge11\" class=\"edge\">\n",
       "<title>9&#45;&gt;17</title>\n",
       "<path fill=\"none\" stroke=\"#0000ff\" d=\"M528.0922,-169.5073C501.053,-132.2901 460.7831,-76.8619 437.1839,-44.3795\"/>\n",
       "<polygon fill=\"#0000ff\" stroke=\"#0000ff\" points=\"439.9873,-42.2835 431.278,-36.2505 434.3242,-46.398 439.9873,-42.2835\"/>\n",
       "<text text-anchor=\"middle\" x=\"486.6323\" y=\"-56.8\" font-family=\"Times,serif\" font-size=\"14.00\" fill=\"#000000\">yes, missing</text>\n",
       "</g>\n",
       "<!-- 18 -->\n",
       "<g id=\"node13\" class=\"node\">\n",
       "<title>18</title>\n",
       "<polygon fill=\"none\" stroke=\"#000000\" points=\"631.0557,-36 500.9814,-36 500.9814,0 631.0557,0 631.0557,-36\"/>\n",
       "<text text-anchor=\"middle\" x=\"566.0186\" y=\"-13.8\" font-family=\"Times,serif\" font-size=\"14.00\" fill=\"#000000\">leaf=&#45;0.0314688906</text>\n",
       "</g>\n",
       "<!-- 9&#45;&gt;18 -->\n",
       "<g id=\"edge12\" class=\"edge\">\n",
       "<title>9&#45;&gt;18</title>\n",
       "<path fill=\"none\" stroke=\"#ff0000\" d=\"M558.5162,-160.5043C560.4019,-124.6856 562.9275,-76.7137 564.5138,-46.5819\"/>\n",
       "<polygon fill=\"#ff0000\" stroke=\"#ff0000\" points=\"568.0222,-46.5137 565.0528,-36.3435 561.0318,-46.1456 568.0222,-46.5137\"/>\n",
       "<text text-anchor=\"middle\" x=\"572.0186\" y=\"-56.8\" font-family=\"Times,serif\" font-size=\"14.00\" fill=\"#000000\">no</text>\n",
       "</g>\n",
       "<!-- 19 -->\n",
       "<g id=\"node14\" class=\"node\">\n",
       "<title>19</title>\n",
       "<polygon fill=\"none\" stroke=\"#000000\" points=\"779.0557,-36 648.9814,-36 648.9814,0 779.0557,0 779.0557,-36\"/>\n",
       "<text text-anchor=\"middle\" x=\"714.0186\" y=\"-13.8\" font-family=\"Times,serif\" font-size=\"14.00\" fill=\"#000000\">leaf=&#45;0.0150641585</text>\n",
       "</g>\n",
       "<!-- 10&#45;&gt;19 -->\n",
       "<g id=\"edge13\" class=\"edge\">\n",
       "<title>10&#45;&gt;19</title>\n",
       "<path fill=\"none\" stroke=\"#0000ff\" d=\"M718.2024,-106.2999C717.1633,-84.3699 716.1468,-62.9167 715.376,-46.6485\"/>\n",
       "<polygon fill=\"#0000ff\" stroke=\"#0000ff\" points=\"718.8538,-46.0951 714.8843,-36.272 711.8616,-46.4265 718.8538,-46.0951\"/>\n",
       "<text text-anchor=\"middle\" x=\"751.6323\" y=\"-56.8\" font-family=\"Times,serif\" font-size=\"14.00\" fill=\"#000000\">yes, missing</text>\n",
       "</g>\n",
       "<!-- 20 -->\n",
       "<g id=\"node15\" class=\"node\">\n",
       "<title>20</title>\n",
       "<polygon fill=\"none\" stroke=\"#000000\" points=\"921.3687,-36 796.6685,-36 796.6685,0 921.3687,0 921.3687,-36\"/>\n",
       "<text text-anchor=\"middle\" x=\"859.0186\" y=\"-13.8\" font-family=\"Times,serif\" font-size=\"14.00\" fill=\"#000000\">leaf=0.0111504504</text>\n",
       "</g>\n",
       "<!-- 10&#45;&gt;20 -->\n",
       "<g id=\"edge14\" class=\"edge\">\n",
       "<title>10&#45;&gt;20</title>\n",
       "<path fill=\"none\" stroke=\"#ff0000\" d=\"M782.2745,-125.1852C803.0686,-96.1429 824.972,-65.5514 840.0318,-44.5181\"/>\n",
       "<polygon fill=\"#ff0000\" stroke=\"#ff0000\" points=\"843.0679,-46.2897 846.0438,-36.1214 837.3764,-42.2146 843.0679,-46.2897\"/>\n",
       "<text text-anchor=\"middle\" x=\"840.0186\" y=\"-56.8\" font-family=\"Times,serif\" font-size=\"14.00\" fill=\"#000000\">no</text>\n",
       "</g>\n",
       "<!-- 11 -->\n",
       "<g id=\"node18\" class=\"node\">\n",
       "<title>11</title>\n",
       "<ellipse fill=\"none\" stroke=\"#000000\" cx=\"1126.0186\" cy=\"-207.9456\" rx=\"93.3923\" ry=\"93.3923\"/>\n",
       "<text text-anchor=\"middle\" x=\"1126.0186\" y=\"-203.7456\" font-family=\"Times,serif\" font-size=\"14.00\" fill=\"#000000\">q2_pr&lt;1.08513314e&#45;06</text>\n",
       "</g>\n",
       "<!-- 5&#45;&gt;11 -->\n",
       "<g id=\"edge17\" class=\"edge\">\n",
       "<title>5&#45;&gt;11</title>\n",
       "<path fill=\"none\" stroke=\"#0000ff\" d=\"M1175.8569,-384.4161C1168.6817,-359.0097 1161.1596,-332.3751 1154.1972,-307.722\"/>\n",
       "<polygon fill=\"#0000ff\" stroke=\"#0000ff\" points=\"1157.5424,-306.6889 1151.4562,-298.0166 1150.8059,-308.5915 1157.5424,-306.6889\"/>\n",
       "<text text-anchor=\"middle\" x=\"1202.6323\" y=\"-350.6912\" font-family=\"Times,serif\" font-size=\"14.00\" fill=\"#000000\">yes, missing</text>\n",
       "</g>\n",
       "<!-- 12 -->\n",
       "<g id=\"node19\" class=\"node\">\n",
       "<title>12</title>\n",
       "<ellipse fill=\"none\" stroke=\"#000000\" cx=\"1317.0186\" cy=\"-207.9456\" rx=\"79.4193\" ry=\"79.4193\"/>\n",
       "<text text-anchor=\"middle\" x=\"1317.0186\" y=\"-203.7456\" font-family=\"Times,serif\" font-size=\"14.00\" fill=\"#000000\">wmd&lt;0.910990179</text>\n",
       "</g>\n",
       "<!-- 5&#45;&gt;12 -->\n",
       "<g id=\"edge18\" class=\"edge\">\n",
       "<title>5&#45;&gt;12</title>\n",
       "<path fill=\"none\" stroke=\"#ff0000\" d=\"M1251.0834,-387.3692C1262.7342,-355.665 1275.1652,-321.8376 1286.0571,-292.1983\"/>\n",
       "<polygon fill=\"#ff0000\" stroke=\"#ff0000\" points=\"1289.3723,-293.3239 1289.5364,-282.7303 1282.8019,-290.9094 1289.3723,-293.3239\"/>\n",
       "<text text-anchor=\"middle\" x=\"1270.0186\" y=\"-350.6912\" font-family=\"Times,serif\" font-size=\"14.00\" fill=\"#000000\">no</text>\n",
       "</g>\n",
       "<!-- 13 -->\n",
       "<g id=\"node24\" class=\"node\">\n",
       "<title>13</title>\n",
       "<ellipse fill=\"none\" stroke=\"#000000\" cx=\"1635.0186\" cy=\"-207.9456\" rx=\"80.6997\" ry=\"80.6997\"/>\n",
       "<text text-anchor=\"middle\" x=\"1635.0186\" y=\"-203.7456\" font-family=\"Times,serif\" font-size=\"14.00\" fill=\"#000000\">common_words&lt;11</text>\n",
       "</g>\n",
       "<!-- 6&#45;&gt;13 -->\n",
       "<g id=\"edge23\" class=\"edge\">\n",
       "<title>6&#45;&gt;13</title>\n",
       "<path fill=\"none\" stroke=\"#0000ff\" d=\"M1635.0186,-442.3635C1635.0186,-401.1888 1635.0186,-345.6079 1635.0186,-298.9009\"/>\n",
       "<polygon fill=\"#0000ff\" stroke=\"#0000ff\" points=\"1638.5187,-298.772 1635.0186,-288.7721 1631.5187,-298.7721 1638.5187,-298.772\"/>\n",
       "<text text-anchor=\"middle\" x=\"1669.6323\" y=\"-350.6912\" font-family=\"Times,serif\" font-size=\"14.00\" fill=\"#000000\">yes, missing</text>\n",
       "</g>\n",
       "<!-- 14 -->\n",
       "<g id=\"node25\" class=\"node\">\n",
       "<title>14</title>\n",
       "<ellipse fill=\"none\" stroke=\"#000000\" cx=\"1877.0186\" cy=\"-207.9456\" rx=\"80.8473\" ry=\"80.8473\"/>\n",
       "<text text-anchor=\"middle\" x=\"1877.0186\" y=\"-203.7456\" font-family=\"Times,serif\" font-size=\"14.00\" fill=\"#000000\">common_words&lt;13</text>\n",
       "</g>\n",
       "<!-- 6&#45;&gt;14 -->\n",
       "<g id=\"edge24\" class=\"edge\">\n",
       "<title>6&#45;&gt;14</title>\n",
       "<path fill=\"none\" stroke=\"#ff0000\" d=\"M1672.8311,-455.9162C1711.9824,-408.3699 1773.6545,-333.4736 1818.9838,-278.4245\"/>\n",
       "<polygon fill=\"#ff0000\" stroke=\"#ff0000\" points=\"1821.8937,-280.3967 1825.5485,-270.4521 1816.49,-275.947 1821.8937,-280.3967\"/>\n",
       "<text text-anchor=\"middle\" x=\"1763.0186\" y=\"-350.6912\" font-family=\"Times,serif\" font-size=\"14.00\" fill=\"#000000\">no</text>\n",
       "</g>\n",
       "<!-- 21 -->\n",
       "<g id=\"node20\" class=\"node\">\n",
       "<title>21</title>\n",
       "<polygon fill=\"none\" stroke=\"#000000\" points=\"1064.8941,-36 939.143,-36 939.143,0 1064.8941,0 1064.8941,-36\"/>\n",
       "<text text-anchor=\"middle\" x=\"1002.0186\" y=\"-13.8\" font-family=\"Times,serif\" font-size=\"14.00\" fill=\"#000000\">leaf=0.0050465269</text>\n",
       "</g>\n",
       "<!-- 11&#45;&gt;21 -->\n",
       "<g id=\"edge19\" class=\"edge\">\n",
       "<title>11&#45;&gt;21</title>\n",
       "<path fill=\"none\" stroke=\"#0000ff\" d=\"M1074.8671,-129.5908C1055.1658,-99.412 1033.9562,-66.9226 1019.5323,-44.8279\"/>\n",
       "<polygon fill=\"#0000ff\" stroke=\"#0000ff\" points=\"1022.3758,-42.7809 1013.9786,-36.3206 1016.5143,-46.6075 1022.3758,-42.7809\"/>\n",
       "<text text-anchor=\"middle\" x=\"1066.6323\" y=\"-56.8\" font-family=\"Times,serif\" font-size=\"14.00\" fill=\"#000000\">yes, missing</text>\n",
       "</g>\n",
       "<!-- 22 -->\n",
       "<g id=\"node21\" class=\"node\">\n",
       "<title>22</title>\n",
       "<polygon fill=\"none\" stroke=\"#000000\" points=\"1213.0557,-36 1082.9814,-36 1082.9814,0 1213.0557,0 1213.0557,-36\"/>\n",
       "<text text-anchor=\"middle\" x=\"1148.0186\" y=\"-13.8\" font-family=\"Times,serif\" font-size=\"14.00\" fill=\"#000000\">leaf=&#45;0.0303406492</text>\n",
       "</g>\n",
       "<!-- 11&#45;&gt;22 -->\n",
       "<g id=\"edge20\" class=\"edge\">\n",
       "<title>11&#45;&gt;22</title>\n",
       "<path fill=\"none\" stroke=\"#ff0000\" d=\"M1136.793,-114.9204C1139.6871,-89.9332 1142.602,-64.7663 1144.7359,-46.3418\"/>\n",
       "<polygon fill=\"#ff0000\" stroke=\"#ff0000\" points=\"1148.2222,-46.6616 1145.8961,-36.3253 1141.2687,-45.8562 1148.2222,-46.6616\"/>\n",
       "<text text-anchor=\"middle\" x=\"1151.0186\" y=\"-56.8\" font-family=\"Times,serif\" font-size=\"14.00\" fill=\"#000000\">no</text>\n",
       "</g>\n",
       "<!-- 23 -->\n",
       "<g id=\"node22\" class=\"node\">\n",
       "<title>23</title>\n",
       "<polygon fill=\"none\" stroke=\"#000000\" points=\"1361.0557,-36 1230.9814,-36 1230.9814,0 1361.0557,0 1361.0557,-36\"/>\n",
       "<text text-anchor=\"middle\" x=\"1296.0186\" y=\"-13.8\" font-family=\"Times,serif\" font-size=\"14.00\" fill=\"#000000\">leaf=&#45;0.0261405576</text>\n",
       "</g>\n",
       "<!-- 12&#45;&gt;23 -->\n",
       "<g id=\"edge21\" class=\"edge\">\n",
       "<title>12&#45;&gt;23</title>\n",
       "<path fill=\"none\" stroke=\"#0000ff\" d=\"M1308.2951,-129.0417C1305.056,-99.7437 1301.5845,-68.3444 1299.1625,-46.437\"/>\n",
       "<polygon fill=\"#0000ff\" stroke=\"#0000ff\" points=\"1302.6087,-45.7568 1298.0309,-36.202 1295.6511,-46.5261 1302.6087,-45.7568\"/>\n",
       "<text text-anchor=\"middle\" x=\"1336.6323\" y=\"-56.8\" font-family=\"Times,serif\" font-size=\"14.00\" fill=\"#000000\">yes, missing</text>\n",
       "</g>\n",
       "<!-- 24 -->\n",
       "<g id=\"node23\" class=\"node\">\n",
       "<title>24</title>\n",
       "<polygon fill=\"none\" stroke=\"#000000\" points=\"1504.8941,-36 1379.143,-36 1379.143,0 1504.8941,0 1504.8941,-36\"/>\n",
       "<text text-anchor=\"middle\" x=\"1442.0186\" y=\"-13.8\" font-family=\"Times,serif\" font-size=\"14.00\" fill=\"#000000\">leaf=0.0053631966</text>\n",
       "</g>\n",
       "<!-- 12&#45;&gt;24 -->\n",
       "<g id=\"edge22\" class=\"edge\">\n",
       "<title>12&#45;&gt;24</title>\n",
       "<path fill=\"none\" stroke=\"#ff0000\" d=\"M1360.7375,-141.5118C1382.6835,-108.1635 1408.0352,-69.6399 1424.511,-44.6038\"/>\n",
       "<polygon fill=\"#ff0000\" stroke=\"#ff0000\" points=\"1427.5832,-46.3023 1430.1567,-36.0248 1421.7357,-42.4542 1427.5832,-46.3023\"/>\n",
       "<text text-anchor=\"middle\" x=\"1426.0186\" y=\"-56.8\" font-family=\"Times,serif\" font-size=\"14.00\" fill=\"#000000\">no</text>\n",
       "</g>\n",
       "<!-- 25 -->\n",
       "<g id=\"node26\" class=\"node\">\n",
       "<title>25</title>\n",
       "<polygon fill=\"none\" stroke=\"#000000\" points=\"1647.8941,-36 1522.143,-36 1522.143,0 1647.8941,0 1647.8941,-36\"/>\n",
       "<text text-anchor=\"middle\" x=\"1585.0186\" y=\"-13.8\" font-family=\"Times,serif\" font-size=\"14.00\" fill=\"#000000\">leaf=0.0203285497</text>\n",
       "</g>\n",
       "<!-- 13&#45;&gt;25 -->\n",
       "<g id=\"edge25\" class=\"edge\">\n",
       "<title>13&#45;&gt;25</title>\n",
       "<path fill=\"none\" stroke=\"#0000ff\" d=\"M1614.4652,-129.8652C1606.6524,-100.185 1598.2409,-68.2305 1592.4166,-46.1046\"/>\n",
       "<polygon fill=\"#0000ff\" stroke=\"#0000ff\" points=\"1595.7872,-45.1595 1589.8568,-36.38 1589.0178,-46.9415 1595.7872,-45.1595\"/>\n",
       "<text text-anchor=\"middle\" x=\"1632.6323\" y=\"-56.8\" font-family=\"Times,serif\" font-size=\"14.00\" fill=\"#000000\">yes, missing</text>\n",
       "</g>\n",
       "<!-- 26 -->\n",
       "<g id=\"node27\" class=\"node\">\n",
       "<title>26</title>\n",
       "<polygon fill=\"none\" stroke=\"#000000\" points=\"1796.0557,-36 1665.9814,-36 1665.9814,0 1796.0557,0 1796.0557,-36\"/>\n",
       "<text text-anchor=\"middle\" x=\"1731.0186\" y=\"-13.8\" font-family=\"Times,serif\" font-size=\"14.00\" fill=\"#000000\">leaf=&#45;0.0175269637</text>\n",
       "</g>\n",
       "<!-- 13&#45;&gt;26 -->\n",
       "<g id=\"edge26\" class=\"edge\">\n",
       "<title>13&#45;&gt;26</title>\n",
       "<path fill=\"none\" stroke=\"#ff0000\" d=\"M1671.4489,-135.8645C1687.4859,-104.1336 1705.3552,-68.7776 1717.3005,-45.1426\"/>\n",
       "<polygon fill=\"#ff0000\" stroke=\"#ff0000\" points=\"1720.4932,-46.5848 1721.8802,-36.0811 1714.2458,-43.4272 1720.4932,-46.5848\"/>\n",
       "<text text-anchor=\"middle\" x=\"1720.0186\" y=\"-56.8\" font-family=\"Times,serif\" font-size=\"14.00\" fill=\"#000000\">no</text>\n",
       "</g>\n",
       "<!-- 27 -->\n",
       "<g id=\"node28\" class=\"node\">\n",
       "<title>27</title>\n",
       "<polygon fill=\"none\" stroke=\"#000000\" points=\"1939.8941,-36 1814.143,-36 1814.143,0 1939.8941,0 1939.8941,-36\"/>\n",
       "<text text-anchor=\"middle\" x=\"1877.0186\" y=\"-13.8\" font-family=\"Times,serif\" font-size=\"14.00\" fill=\"#000000\">leaf=0.0377655663</text>\n",
       "</g>\n",
       "<!-- 14&#45;&gt;27 -->\n",
       "<g id=\"edge27\" class=\"edge\">\n",
       "<title>14&#45;&gt;27</title>\n",
       "<path fill=\"none\" stroke=\"#0000ff\" d=\"M1877.0186,-126.8406C1877.0186,-98.1614 1877.0186,-67.758 1877.0186,-46.3962\"/>\n",
       "<polygon fill=\"#0000ff\" stroke=\"#0000ff\" points=\"1880.5187,-46.1066 1877.0186,-36.1066 1873.5187,-46.1066 1880.5187,-46.1066\"/>\n",
       "<text text-anchor=\"middle\" x=\"1911.6323\" y=\"-56.8\" font-family=\"Times,serif\" font-size=\"14.00\" fill=\"#000000\">yes, missing</text>\n",
       "</g>\n",
       "<!-- 28 -->\n",
       "<g id=\"node29\" class=\"node\">\n",
       "<title>28</title>\n",
       "<polygon fill=\"none\" stroke=\"#000000\" points=\"2076.3942,-36 1957.643,-36 1957.643,0 2076.3942,0 2076.3942,-36\"/>\n",
       "<text text-anchor=\"middle\" x=\"2017.0186\" y=\"-13.8\" font-family=\"Times,serif\" font-size=\"14.00\" fill=\"#000000\">leaf=0.021372797</text>\n",
       "</g>\n",
       "<!-- 14&#45;&gt;28 -->\n",
       "<g id=\"edge28\" class=\"edge\">\n",
       "<title>14&#45;&gt;28</title>\n",
       "<path fill=\"none\" stroke=\"#ff0000\" d=\"M1925.1986,-142.5771C1949.9624,-108.9788 1978.7742,-69.8881 1997.4236,-44.5856\"/>\n",
       "<polygon fill=\"#ff0000\" stroke=\"#ff0000\" points=\"2000.4572,-46.3688 2003.5729,-36.2424 1994.8224,-42.2156 2000.4572,-46.3688\"/>\n",
       "<text text-anchor=\"middle\" x=\"1997.0186\" y=\"-56.8\" font-family=\"Times,serif\" font-size=\"14.00\" fill=\"#000000\">no</text>\n",
       "</g>\n",
       "</g>\n",
       "</svg>\n"
      ],
      "text/plain": [
       "<graphviz.dot.Digraph at 0x1b22fabac8>"
      ]
     },
     "execution_count": 358,
     "metadata": {},
     "output_type": "execute_result"
    }
   ],
   "source": [
    "from graphviz import Digraph\n",
    "xgb.to_graphviz(bst, num_trees=2)"
   ]
  },
  {
   "cell_type": "code",
   "execution_count": 371,
   "metadata": {},
   "outputs": [
    {
     "data": {
      "text/plain": [
       "'./round-table.gv.pdf'"
      ]
     },
     "execution_count": 371,
     "metadata": {},
     "output_type": "execute_result"
    }
   ],
   "source": [
    "graph = xgb.to_graphviz(bst, num_trees=2)\n",
    "\n",
    "graph.render('./round-table.gv', view=True)"
   ]
  },
  {
   "cell_type": "code",
   "execution_count": null,
   "metadata": {},
   "outputs": [],
   "source": []
  }
 ],
 "metadata": {
  "kernelspec": {
   "display_name": "Python 3",
   "language": "python",
   "name": "python3"
  },
  "language_info": {
   "codemirror_mode": {
    "name": "ipython",
    "version": 3
   },
   "file_extension": ".py",
   "mimetype": "text/x-python",
   "name": "python",
   "nbconvert_exporter": "python",
   "pygments_lexer": "ipython3",
   "version": "3.6.5"
  }
 },
 "nbformat": 4,
 "nbformat_minor": 2
}
